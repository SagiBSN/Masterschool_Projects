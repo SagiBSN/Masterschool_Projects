{
 "cells": [
  {
   "cell_type": "markdown",
   "metadata": {},
   "source": [
    "# SQL Final project"
   ]
  },
  {
   "cell_type": "markdown",
   "metadata": {},
   "source": [
    "# Description"
   ]
  },
  {
   "cell_type": "markdown",
   "metadata": {},
   "source": [
    "**A startup looking to develop a new online books platform, and want to conclude which publishers, authors and books are more popular by analyzing a database of one of the services competing in this market.**"
   ]
  },
  {
   "cell_type": "code",
   "execution_count": 1,
   "metadata": {},
   "outputs": [],
   "source": [
    "import pandas as pd\n",
    "import numpy as np\n",
    "import matplotlib as mpl\n",
    "\n",
    "from sqlalchemy import create_engine"
   ]
  },
  {
   "cell_type": "code",
   "execution_count": 2,
   "metadata": {},
   "outputs": [],
   "source": [
    "db_config = {'user': 'practicum_student',         # username\n",
    "             'pwd': 's65BlTKV3faNIGhmvJVzOqhs', # password\n",
    "             'host': 'rc1b-wcoijxj3yxfsf3fs.mdb.yandexcloud.net',\n",
    "             'port': 6432,              # connection port\n",
    "             'db': 'data-analyst-final-project-db'}          # the name of the database\n",
    "\n",
    "connection_string = 'postgresql://{}:{}@{}:{}/{}'.format(db_config['user'],\n",
    "                                                                     db_config['pwd'],\n",
    "                                                                       db_config['host'],\n",
    "                                                                       db_config['port'],\n",
    "                                                                       db_config['db'])\n",
    "\n",
    "engine = create_engine(connection_string, connect_args={'sslmode':'require'})"
   ]
  },
  {
   "cell_type": "code",
   "execution_count": 3,
   "metadata": {},
   "outputs": [],
   "source": [
    "def column_change(df, placed_column, replaced_column):\n",
    "    temp = df[replaced_column].copy()\n",
    "    df[replaced_column] = df[placed_column]\n",
    "    df[placed_column] = temp\n",
    "    df.rename(columns = {placed_column:'temp'}, inplace = True)\n",
    "    df.rename(columns = {replaced_column:placed_column}, inplace = True)\n",
    "    df.rename(columns = {'temp':replaced_column}, inplace = True)"
   ]
  },
  {
   "cell_type": "code",
   "execution_count": 4,
   "metadata": {},
   "outputs": [],
   "source": [
    "def cell_change(df, column, placed_cell, replaced_cell):\n",
    "    temp = df.loc[placed_cell, column]\n",
    "    df.loc[placed_cell, column] = df.loc[replaced_cell, column] \n",
    "    df.loc[replaced_cell, column] = temp"
   ]
  },
  {
   "cell_type": "code",
   "execution_count": 5,
   "metadata": {},
   "outputs": [],
   "source": [
    "pd.set_option('display.max_colwidth', 0)"
   ]
  },
  {
   "cell_type": "code",
   "execution_count": 6,
   "metadata": {},
   "outputs": [],
   "source": [
    "dfs = {'books', 'authors', 'publishers', 'ratings', 'reviews'}"
   ]
  },
  {
   "cell_type": "code",
   "execution_count": 7,
   "metadata": {
    "scrolled": false
   },
   "outputs": [
    {
     "data": {
      "text/html": [
       "<style  type=\"text/css\" >\n",
       "#T_f444e_row0_col0,#T_f444e_row0_col1,#T_f444e_row0_col2,#T_f444e_row1_col0,#T_f444e_row1_col3,#T_f444e_row2_col0,#T_f444e_row2_col4{\n",
       "            color:  red;\n",
       "        }#T_f444e_row0_col3,#T_f444e_row0_col4,#T_f444e_row1_col1,#T_f444e_row1_col2,#T_f444e_row1_col4,#T_f444e_row2_col1,#T_f444e_row2_col2,#T_f444e_row2_col3,#T_f444e_row3_col0,#T_f444e_row3_col1,#T_f444e_row3_col2,#T_f444e_row3_col3,#T_f444e_row3_col4,#T_f444e_row4_col0,#T_f444e_row4_col1,#T_f444e_row4_col2,#T_f444e_row4_col3,#T_f444e_row4_col4,#T_f444e_row5_col0,#T_f444e_row5_col1,#T_f444e_row5_col2,#T_f444e_row5_col3,#T_f444e_row5_col4{\n",
       "            color:  black;\n",
       "        }</style><table id=\"T_f444e_\" ><thead>    <tr>        <th class=\"blank level0\" ></th>        <th class=\"col_heading level0 col0\" >books</th>        <th class=\"col_heading level0 col1\" >ratings</th>        <th class=\"col_heading level0 col2\" >reviews</th>        <th class=\"col_heading level0 col3\" >authors</th>        <th class=\"col_heading level0 col4\" >publishers</th>    </tr></thead><tbody>\n",
       "                <tr>\n",
       "                        <th id=\"T_f444e_level0_row0\" class=\"row_heading level0 row0\" >0</th>\n",
       "                        <td id=\"T_f444e_row0_col0\" class=\"data row0 col0\" >book_id</td>\n",
       "                        <td id=\"T_f444e_row0_col1\" class=\"data row0 col1\" >book_id</td>\n",
       "                        <td id=\"T_f444e_row0_col2\" class=\"data row0 col2\" >book_id</td>\n",
       "                        <td id=\"T_f444e_row0_col3\" class=\"data row0 col3\" >author</td>\n",
       "                        <td id=\"T_f444e_row0_col4\" class=\"data row0 col4\" >nan</td>\n",
       "            </tr>\n",
       "            <tr>\n",
       "                        <th id=\"T_f444e_level0_row1\" class=\"row_heading level0 row1\" >1</th>\n",
       "                        <td id=\"T_f444e_row1_col0\" class=\"data row1 col0\" >author_id</td>\n",
       "                        <td id=\"T_f444e_row1_col1\" class=\"data row1 col1\" >rating_id</td>\n",
       "                        <td id=\"T_f444e_row1_col2\" class=\"data row1 col2\" >review_id</td>\n",
       "                        <td id=\"T_f444e_row1_col3\" class=\"data row1 col3\" >author_id</td>\n",
       "                        <td id=\"T_f444e_row1_col4\" class=\"data row1 col4\" >publisher</td>\n",
       "            </tr>\n",
       "            <tr>\n",
       "                        <th id=\"T_f444e_level0_row2\" class=\"row_heading level0 row2\" >5</th>\n",
       "                        <td id=\"T_f444e_row2_col0\" class=\"data row2 col0\" >publisher_id</td>\n",
       "                        <td id=\"T_f444e_row2_col1\" class=\"data row2 col1\" >nan</td>\n",
       "                        <td id=\"T_f444e_row2_col2\" class=\"data row2 col2\" >nan</td>\n",
       "                        <td id=\"T_f444e_row2_col3\" class=\"data row2 col3\" >nan</td>\n",
       "                        <td id=\"T_f444e_row2_col4\" class=\"data row2 col4\" >publisher_id</td>\n",
       "            </tr>\n",
       "            <tr>\n",
       "                        <th id=\"T_f444e_level0_row3\" class=\"row_heading level0 row3\" >2</th>\n",
       "                        <td id=\"T_f444e_row3_col0\" class=\"data row3 col0\" >title</td>\n",
       "                        <td id=\"T_f444e_row3_col1\" class=\"data row3 col1\" >username</td>\n",
       "                        <td id=\"T_f444e_row3_col2\" class=\"data row3 col2\" >username</td>\n",
       "                        <td id=\"T_f444e_row3_col3\" class=\"data row3 col3\" >nan</td>\n",
       "                        <td id=\"T_f444e_row3_col4\" class=\"data row3 col4\" >nan</td>\n",
       "            </tr>\n",
       "            <tr>\n",
       "                        <th id=\"T_f444e_level0_row4\" class=\"row_heading level0 row4\" >3</th>\n",
       "                        <td id=\"T_f444e_row4_col0\" class=\"data row4 col0\" >num_pages</td>\n",
       "                        <td id=\"T_f444e_row4_col1\" class=\"data row4 col1\" >rating</td>\n",
       "                        <td id=\"T_f444e_row4_col2\" class=\"data row4 col2\" >text</td>\n",
       "                        <td id=\"T_f444e_row4_col3\" class=\"data row4 col3\" >nan</td>\n",
       "                        <td id=\"T_f444e_row4_col4\" class=\"data row4 col4\" >nan</td>\n",
       "            </tr>\n",
       "            <tr>\n",
       "                        <th id=\"T_f444e_level0_row5\" class=\"row_heading level0 row5\" >4</th>\n",
       "                        <td id=\"T_f444e_row5_col0\" class=\"data row5 col0\" >publication_date</td>\n",
       "                        <td id=\"T_f444e_row5_col1\" class=\"data row5 col1\" >nan</td>\n",
       "                        <td id=\"T_f444e_row5_col2\" class=\"data row5 col2\" >nan</td>\n",
       "                        <td id=\"T_f444e_row5_col3\" class=\"data row5 col3\" >nan</td>\n",
       "                        <td id=\"T_f444e_row5_col4\" class=\"data row5 col4\" >nan</td>\n",
       "            </tr>\n",
       "    </tbody></table>"
      ],
      "text/plain": [
       "<pandas.io.formats.style.Styler at 0x7fb25d4d87f0>"
      ]
     },
     "execution_count": 7,
     "metadata": {},
     "output_type": "execute_result"
    }
   ],
   "source": [
    "diagram = pd.DataFrame()\n",
    "for df in sorted(dfs):\n",
    "    query = ''' SELECT *\n",
    "                FROM {}\n",
    "                LIMIT 5\n",
    "            '''.format(df)\n",
    "    query = pd.io.sql.read_sql(query, con = engine)\n",
    "    \n",
    "    columns = pd.DataFrame(data = query.columns)\n",
    "    columns.rename(columns = {0:df}, inplace = True)\n",
    "    diagram = pd.concat([diagram, columns], axis = 1)\n",
    "\n",
    "column_change(diagram, 'books', 'authors')\n",
    "column_change(diagram, 'ratings', 'authors')\n",
    "column_change(diagram, 'reviews', 'publishers')\n",
    "cell_change(diagram, 'ratings', 1, 0)\n",
    "cell_change(diagram, 'reviews', 1, 0)\n",
    "cell_change(diagram, 'authors', 0, 1)\n",
    "cell_change(diagram, 'publishers', 0, 5)\n",
    "diagram = diagram.reindex([0,1,5,2,3,4])\n",
    "\n",
    "diagram.style.applymap(lambda x: \"color: red\" \n",
    "                       if (x == 'book_id')\n",
    "                       or (x == 'author_id')\n",
    "                       or (x == 'author_id')\n",
    "                       or (x == 'publisher_id')\n",
    "                       else \"color: black\")"
   ]
  },
  {
   "cell_type": "code",
   "execution_count": 8,
   "metadata": {},
   "outputs": [
    {
     "data": {
      "text/html": [
       "<div>\n",
       "<style scoped>\n",
       "    .dataframe tbody tr th:only-of-type {\n",
       "        vertical-align: middle;\n",
       "    }\n",
       "\n",
       "    .dataframe tbody tr th {\n",
       "        vertical-align: top;\n",
       "    }\n",
       "\n",
       "    .dataframe thead th {\n",
       "        text-align: right;\n",
       "    }\n",
       "</style>\n",
       "<table border=\"1\" class=\"dataframe\">\n",
       "  <thead>\n",
       "    <tr style=\"text-align: right;\">\n",
       "      <th></th>\n",
       "      <th>review_id</th>\n",
       "      <th>book_id</th>\n",
       "      <th>username</th>\n",
       "      <th>text</th>\n",
       "    </tr>\n",
       "  </thead>\n",
       "  <tbody>\n",
       "    <tr>\n",
       "      <th>0</th>\n",
       "      <td>1</td>\n",
       "      <td>1</td>\n",
       "      <td>brandtandrea</td>\n",
       "      <td>Mention society tell send professor analysis. Over provide race technology continue these.</td>\n",
       "    </tr>\n",
       "    <tr>\n",
       "      <th>1</th>\n",
       "      <td>2</td>\n",
       "      <td>1</td>\n",
       "      <td>ryanfranco</td>\n",
       "      <td>Foot glass pretty audience hit themselves. Among admit investment argue security.</td>\n",
       "    </tr>\n",
       "    <tr>\n",
       "      <th>2</th>\n",
       "      <td>3</td>\n",
       "      <td>2</td>\n",
       "      <td>lorichen</td>\n",
       "      <td>Listen treat keep worry. Miss husband tax but person sport treatment industry. Kitchen decision deep the. Social party body the.</td>\n",
       "    </tr>\n",
       "    <tr>\n",
       "      <th>3</th>\n",
       "      <td>4</td>\n",
       "      <td>3</td>\n",
       "      <td>johnsonamanda</td>\n",
       "      <td>Finally month interesting blue could nature cultural bit. Prepare beat finish grow that smile teach. Dream me play near.</td>\n",
       "    </tr>\n",
       "    <tr>\n",
       "      <th>4</th>\n",
       "      <td>5</td>\n",
       "      <td>3</td>\n",
       "      <td>scotttamara</td>\n",
       "      <td>Nation purpose heavy give wait song will. List dinner another whole positive radio fast. Music staff many green.</td>\n",
       "    </tr>\n",
       "  </tbody>\n",
       "</table>\n",
       "</div>"
      ],
      "text/plain": [
       "   review_id  book_id       username  \\\n",
       "0  1          1        brandtandrea    \n",
       "1  2          1        ryanfranco      \n",
       "2  3          2        lorichen        \n",
       "3  4          3        johnsonamanda   \n",
       "4  5          3        scotttamara     \n",
       "\n",
       "                                                                                                                               text  \n",
       "0  Mention society tell send professor analysis. Over provide race technology continue these.                                        \n",
       "1  Foot glass pretty audience hit themselves. Among admit investment argue security.                                                 \n",
       "2  Listen treat keep worry. Miss husband tax but person sport treatment industry. Kitchen decision deep the. Social party body the.  \n",
       "3  Finally month interesting blue could nature cultural bit. Prepare beat finish grow that smile teach. Dream me play near.          \n",
       "4  Nation purpose heavy give wait song will. List dinner another whole positive radio fast. Music staff many green.                  "
      ]
     },
     "metadata": {},
     "output_type": "display_data"
    },
    {
     "data": {
      "text/html": [
       "<div>\n",
       "<style scoped>\n",
       "    .dataframe tbody tr th:only-of-type {\n",
       "        vertical-align: middle;\n",
       "    }\n",
       "\n",
       "    .dataframe tbody tr th {\n",
       "        vertical-align: top;\n",
       "    }\n",
       "\n",
       "    .dataframe thead th {\n",
       "        text-align: right;\n",
       "    }\n",
       "</style>\n",
       "<table border=\"1\" class=\"dataframe\">\n",
       "  <thead>\n",
       "    <tr style=\"text-align: right;\">\n",
       "      <th></th>\n",
       "      <th>book_id</th>\n",
       "      <th>author_id</th>\n",
       "      <th>title</th>\n",
       "      <th>num_pages</th>\n",
       "      <th>publication_date</th>\n",
       "      <th>publisher_id</th>\n",
       "    </tr>\n",
       "  </thead>\n",
       "  <tbody>\n",
       "    <tr>\n",
       "      <th>0</th>\n",
       "      <td>1</td>\n",
       "      <td>546</td>\n",
       "      <td>'Salem's Lot</td>\n",
       "      <td>594</td>\n",
       "      <td>2005-11-01</td>\n",
       "      <td>93</td>\n",
       "    </tr>\n",
       "    <tr>\n",
       "      <th>1</th>\n",
       "      <td>2</td>\n",
       "      <td>465</td>\n",
       "      <td>1 000 Places to See Before You Die</td>\n",
       "      <td>992</td>\n",
       "      <td>2003-05-22</td>\n",
       "      <td>336</td>\n",
       "    </tr>\n",
       "    <tr>\n",
       "      <th>2</th>\n",
       "      <td>3</td>\n",
       "      <td>407</td>\n",
       "      <td>13 Little Blue Envelopes (Little Blue Envelope  #1)</td>\n",
       "      <td>322</td>\n",
       "      <td>2010-12-21</td>\n",
       "      <td>135</td>\n",
       "    </tr>\n",
       "    <tr>\n",
       "      <th>3</th>\n",
       "      <td>4</td>\n",
       "      <td>82</td>\n",
       "      <td>1491: New Revelations of the Americas Before Columbus</td>\n",
       "      <td>541</td>\n",
       "      <td>2006-10-10</td>\n",
       "      <td>309</td>\n",
       "    </tr>\n",
       "    <tr>\n",
       "      <th>4</th>\n",
       "      <td>5</td>\n",
       "      <td>125</td>\n",
       "      <td>1776</td>\n",
       "      <td>386</td>\n",
       "      <td>2006-07-04</td>\n",
       "      <td>268</td>\n",
       "    </tr>\n",
       "  </tbody>\n",
       "</table>\n",
       "</div>"
      ],
      "text/plain": [
       "   book_id  author_id                                                  title  \\\n",
       "0  1        546        'Salem's Lot                                            \n",
       "1  2        465        1 000 Places to See Before You Die                      \n",
       "2  3        407        13 Little Blue Envelopes (Little Blue Envelope  #1)     \n",
       "3  4        82         1491: New Revelations of the Americas Before Columbus   \n",
       "4  5        125        1776                                                    \n",
       "\n",
       "   num_pages publication_date  publisher_id  \n",
       "0  594        2005-11-01       93            \n",
       "1  992        2003-05-22       336           \n",
       "2  322        2010-12-21       135           \n",
       "3  541        2006-10-10       309           \n",
       "4  386        2006-07-04       268           "
      ]
     },
     "metadata": {},
     "output_type": "display_data"
    },
    {
     "data": {
      "text/html": [
       "<div>\n",
       "<style scoped>\n",
       "    .dataframe tbody tr th:only-of-type {\n",
       "        vertical-align: middle;\n",
       "    }\n",
       "\n",
       "    .dataframe tbody tr th {\n",
       "        vertical-align: top;\n",
       "    }\n",
       "\n",
       "    .dataframe thead th {\n",
       "        text-align: right;\n",
       "    }\n",
       "</style>\n",
       "<table border=\"1\" class=\"dataframe\">\n",
       "  <thead>\n",
       "    <tr style=\"text-align: right;\">\n",
       "      <th></th>\n",
       "      <th>rating_id</th>\n",
       "      <th>book_id</th>\n",
       "      <th>username</th>\n",
       "      <th>rating</th>\n",
       "    </tr>\n",
       "  </thead>\n",
       "  <tbody>\n",
       "    <tr>\n",
       "      <th>0</th>\n",
       "      <td>1</td>\n",
       "      <td>1</td>\n",
       "      <td>ryanfranco</td>\n",
       "      <td>4</td>\n",
       "    </tr>\n",
       "    <tr>\n",
       "      <th>1</th>\n",
       "      <td>2</td>\n",
       "      <td>1</td>\n",
       "      <td>grantpatricia</td>\n",
       "      <td>2</td>\n",
       "    </tr>\n",
       "    <tr>\n",
       "      <th>2</th>\n",
       "      <td>3</td>\n",
       "      <td>1</td>\n",
       "      <td>brandtandrea</td>\n",
       "      <td>5</td>\n",
       "    </tr>\n",
       "    <tr>\n",
       "      <th>3</th>\n",
       "      <td>4</td>\n",
       "      <td>2</td>\n",
       "      <td>lorichen</td>\n",
       "      <td>3</td>\n",
       "    </tr>\n",
       "    <tr>\n",
       "      <th>4</th>\n",
       "      <td>5</td>\n",
       "      <td>2</td>\n",
       "      <td>mariokeller</td>\n",
       "      <td>2</td>\n",
       "    </tr>\n",
       "  </tbody>\n",
       "</table>\n",
       "</div>"
      ],
      "text/plain": [
       "   rating_id  book_id       username  rating\n",
       "0  1          1        ryanfranco     4     \n",
       "1  2          1        grantpatricia  2     \n",
       "2  3          1        brandtandrea   5     \n",
       "3  4          2        lorichen       3     \n",
       "4  5          2        mariokeller    2     "
      ]
     },
     "metadata": {},
     "output_type": "display_data"
    },
    {
     "data": {
      "text/html": [
       "<div>\n",
       "<style scoped>\n",
       "    .dataframe tbody tr th:only-of-type {\n",
       "        vertical-align: middle;\n",
       "    }\n",
       "\n",
       "    .dataframe tbody tr th {\n",
       "        vertical-align: top;\n",
       "    }\n",
       "\n",
       "    .dataframe thead th {\n",
       "        text-align: right;\n",
       "    }\n",
       "</style>\n",
       "<table border=\"1\" class=\"dataframe\">\n",
       "  <thead>\n",
       "    <tr style=\"text-align: right;\">\n",
       "      <th></th>\n",
       "      <th>publisher_id</th>\n",
       "      <th>publisher</th>\n",
       "    </tr>\n",
       "  </thead>\n",
       "  <tbody>\n",
       "    <tr>\n",
       "      <th>0</th>\n",
       "      <td>1</td>\n",
       "      <td>Ace</td>\n",
       "    </tr>\n",
       "    <tr>\n",
       "      <th>1</th>\n",
       "      <td>2</td>\n",
       "      <td>Ace Book</td>\n",
       "    </tr>\n",
       "    <tr>\n",
       "      <th>2</th>\n",
       "      <td>3</td>\n",
       "      <td>Ace Books</td>\n",
       "    </tr>\n",
       "    <tr>\n",
       "      <th>3</th>\n",
       "      <td>4</td>\n",
       "      <td>Ace Hardcover</td>\n",
       "    </tr>\n",
       "    <tr>\n",
       "      <th>4</th>\n",
       "      <td>5</td>\n",
       "      <td>Addison Wesley Publishing Company</td>\n",
       "    </tr>\n",
       "  </tbody>\n",
       "</table>\n",
       "</div>"
      ],
      "text/plain": [
       "   publisher_id                          publisher\n",
       "0  1             Ace                              \n",
       "1  2             Ace Book                         \n",
       "2  3             Ace Books                        \n",
       "3  4             Ace Hardcover                    \n",
       "4  5             Addison Wesley Publishing Company"
      ]
     },
     "metadata": {},
     "output_type": "display_data"
    },
    {
     "data": {
      "text/html": [
       "<div>\n",
       "<style scoped>\n",
       "    .dataframe tbody tr th:only-of-type {\n",
       "        vertical-align: middle;\n",
       "    }\n",
       "\n",
       "    .dataframe tbody tr th {\n",
       "        vertical-align: top;\n",
       "    }\n",
       "\n",
       "    .dataframe thead th {\n",
       "        text-align: right;\n",
       "    }\n",
       "</style>\n",
       "<table border=\"1\" class=\"dataframe\">\n",
       "  <thead>\n",
       "    <tr style=\"text-align: right;\">\n",
       "      <th></th>\n",
       "      <th>author_id</th>\n",
       "      <th>author</th>\n",
       "    </tr>\n",
       "  </thead>\n",
       "  <tbody>\n",
       "    <tr>\n",
       "      <th>0</th>\n",
       "      <td>1</td>\n",
       "      <td>A.S. Byatt</td>\n",
       "    </tr>\n",
       "    <tr>\n",
       "      <th>1</th>\n",
       "      <td>2</td>\n",
       "      <td>Aesop/Laura Harris/Laura Gibbs</td>\n",
       "    </tr>\n",
       "    <tr>\n",
       "      <th>2</th>\n",
       "      <td>3</td>\n",
       "      <td>Agatha Christie</td>\n",
       "    </tr>\n",
       "    <tr>\n",
       "      <th>3</th>\n",
       "      <td>4</td>\n",
       "      <td>Alan Brennert</td>\n",
       "    </tr>\n",
       "    <tr>\n",
       "      <th>4</th>\n",
       "      <td>5</td>\n",
       "      <td>Alan Moore/David   Lloyd</td>\n",
       "    </tr>\n",
       "  </tbody>\n",
       "</table>\n",
       "</div>"
      ],
      "text/plain": [
       "   author_id                          author\n",
       "0  1          A.S. Byatt                    \n",
       "1  2          Aesop/Laura Harris/Laura Gibbs\n",
       "2  3          Agatha Christie               \n",
       "3  4          Alan Brennert                 \n",
       "4  5          Alan Moore/David   Lloyd      "
      ]
     },
     "metadata": {},
     "output_type": "display_data"
    }
   ],
   "source": [
    "for df in dfs:\n",
    "    query = ''' SELECT *\n",
    "                FROM {}\n",
    "                LIMIT 5\n",
    "            '''.format(df)\n",
    "    query = pd.io.sql.read_sql(query, con = engine)\n",
    "    display(query)"
   ]
  },
  {
   "cell_type": "markdown",
   "metadata": {},
   "source": [
    "**We have 4 dfs that connected to each other on the columns \"book_id\", \"author_id\", \"publisher_id\".**"
   ]
  },
  {
   "cell_type": "markdown",
   "metadata": {},
   "source": [
    "# Task 1 - Find the number of books released after January 1, 2000"
   ]
  },
  {
   "cell_type": "code",
   "execution_count": 9,
   "metadata": {},
   "outputs": [
    {
     "data": {
      "text/html": [
       "<div>\n",
       "<style scoped>\n",
       "    .dataframe tbody tr th:only-of-type {\n",
       "        vertical-align: middle;\n",
       "    }\n",
       "\n",
       "    .dataframe tbody tr th {\n",
       "        vertical-align: top;\n",
       "    }\n",
       "\n",
       "    .dataframe thead th {\n",
       "        text-align: right;\n",
       "    }\n",
       "</style>\n",
       "<table border=\"1\" class=\"dataframe\">\n",
       "  <thead>\n",
       "    <tr style=\"text-align: right;\">\n",
       "      <th></th>\n",
       "      <th>number_of_books_after_2000</th>\n",
       "      <th>number_of_books_before_2000</th>\n",
       "    </tr>\n",
       "  </thead>\n",
       "  <tbody>\n",
       "    <tr>\n",
       "      <th>0</th>\n",
       "      <td>821</td>\n",
       "      <td>179</td>\n",
       "    </tr>\n",
       "  </tbody>\n",
       "</table>\n",
       "</div>"
      ],
      "text/plain": [
       "   number_of_books_after_2000  number_of_books_before_2000\n",
       "0  821                         179                        "
      ]
     },
     "execution_count": 9,
     "metadata": {},
     "output_type": "execute_result"
    }
   ],
   "source": [
    "task_1 = ''' \n",
    "            WITH before_2000 AS (SELECT COUNT(book_id) as number_of_books_before_2000\n",
    "                                 FROM books\n",
    "                                 WHERE DATE_TRUNC('day', CAST(publication_date AS timestamp)) < '2000-01-01' ),\n",
    "                 after_2000_01_01 AS (SELECT COUNT(book_id) as number_of_books_after_2000\n",
    "                                      FROM books\n",
    "                                      WHERE DATE_TRUNC('day', CAST(publication_date AS timestamp)) >= '2000-01-01' )             \n",
    "            SELECT *\n",
    "            FROM after_2000_01_01, before_2000\n",
    "         '''\n",
    "task_1 = pd.io.sql.read_sql(task_1, con = engine)\n",
    "task_1"
   ]
  },
  {
   "cell_type": "markdown",
   "metadata": {},
   "source": [
    "**There are 821 books published after January 1, 2000 and only 179 books published before the year 2000. Looks like modern book or modern publishes are more popular and we should focus on them.**"
   ]
  },
  {
   "cell_type": "markdown",
   "metadata": {},
   "source": [
    "# Task 2 - Find the number of user reviews and the average rating for each book."
   ]
  },
  {
   "cell_type": "code",
   "execution_count": 14,
   "metadata": {},
   "outputs": [
    {
     "data": {
      "text/html": [
       "<div>\n",
       "<style scoped>\n",
       "    .dataframe tbody tr th:only-of-type {\n",
       "        vertical-align: middle;\n",
       "    }\n",
       "\n",
       "    .dataframe tbody tr th {\n",
       "        vertical-align: top;\n",
       "    }\n",
       "\n",
       "    .dataframe thead th {\n",
       "        text-align: right;\n",
       "    }\n",
       "</style>\n",
       "<table border=\"1\" class=\"dataframe\">\n",
       "  <thead>\n",
       "    <tr style=\"text-align: right;\">\n",
       "      <th></th>\n",
       "      <th>book_id</th>\n",
       "      <th>title</th>\n",
       "      <th>num_of_reviews</th>\n",
       "      <th>avg_rating</th>\n",
       "    </tr>\n",
       "  </thead>\n",
       "  <tbody>\n",
       "    <tr>\n",
       "      <th>0</th>\n",
       "      <td>948</td>\n",
       "      <td>Twilight (Twilight  #1)</td>\n",
       "      <td>7</td>\n",
       "      <td>3.662500</td>\n",
       "    </tr>\n",
       "    <tr>\n",
       "      <th>1</th>\n",
       "      <td>302</td>\n",
       "      <td>Harry Potter and the Prisoner of Azkaban (Harry Potter  #3)</td>\n",
       "      <td>6</td>\n",
       "      <td>4.414634</td>\n",
       "    </tr>\n",
       "    <tr>\n",
       "      <th>2</th>\n",
       "      <td>299</td>\n",
       "      <td>Harry Potter and the Chamber of Secrets (Harry Potter  #2)</td>\n",
       "      <td>6</td>\n",
       "      <td>4.287500</td>\n",
       "    </tr>\n",
       "    <tr>\n",
       "      <th>3</th>\n",
       "      <td>656</td>\n",
       "      <td>The Book Thief</td>\n",
       "      <td>6</td>\n",
       "      <td>4.264151</td>\n",
       "    </tr>\n",
       "    <tr>\n",
       "      <th>4</th>\n",
       "      <td>734</td>\n",
       "      <td>The Glass Castle</td>\n",
       "      <td>6</td>\n",
       "      <td>4.206897</td>\n",
       "    </tr>\n",
       "    <tr>\n",
       "      <th>5</th>\n",
       "      <td>497</td>\n",
       "      <td>Outlander (Outlander  #1)</td>\n",
       "      <td>6</td>\n",
       "      <td>4.125000</td>\n",
       "    </tr>\n",
       "    <tr>\n",
       "      <th>6</th>\n",
       "      <td>750</td>\n",
       "      <td>The Hobbit  or There and Back Again</td>\n",
       "      <td>6</td>\n",
       "      <td>4.125000</td>\n",
       "    </tr>\n",
       "    <tr>\n",
       "      <th>7</th>\n",
       "      <td>695</td>\n",
       "      <td>The Curious Incident of the Dog in the Night-Time</td>\n",
       "      <td>6</td>\n",
       "      <td>4.081081</td>\n",
       "    </tr>\n",
       "    <tr>\n",
       "      <th>8</th>\n",
       "      <td>779</td>\n",
       "      <td>The Lightning Thief (Percy Jackson and the Olympians  #1)</td>\n",
       "      <td>6</td>\n",
       "      <td>4.080645</td>\n",
       "    </tr>\n",
       "    <tr>\n",
       "      <th>9</th>\n",
       "      <td>963</td>\n",
       "      <td>Water for Elephants</td>\n",
       "      <td>6</td>\n",
       "      <td>3.977273</td>\n",
       "    </tr>\n",
       "  </tbody>\n",
       "</table>\n",
       "</div>"
      ],
      "text/plain": [
       "   book_id                                                        title  \\\n",
       "0  948      Twilight (Twilight  #1)                                       \n",
       "1  302      Harry Potter and the Prisoner of Azkaban (Harry Potter  #3)   \n",
       "2  299      Harry Potter and the Chamber of Secrets (Harry Potter  #2)    \n",
       "3  656      The Book Thief                                                \n",
       "4  734      The Glass Castle                                              \n",
       "5  497      Outlander (Outlander  #1)                                     \n",
       "6  750      The Hobbit  or There and Back Again                           \n",
       "7  695      The Curious Incident of the Dog in the Night-Time             \n",
       "8  779      The Lightning Thief (Percy Jackson and the Olympians  #1)     \n",
       "9  963      Water for Elephants                                           \n",
       "\n",
       "   num_of_reviews  avg_rating  \n",
       "0  7               3.662500    \n",
       "1  6               4.414634    \n",
       "2  6               4.287500    \n",
       "3  6               4.264151    \n",
       "4  6               4.206897    \n",
       "5  6               4.125000    \n",
       "6  6               4.125000    \n",
       "7  6               4.081081    \n",
       "8  6               4.080645    \n",
       "9  6               3.977273    "
      ]
     },
     "execution_count": 14,
     "metadata": {},
     "output_type": "execute_result"
    }
   ],
   "source": [
    "task_2 = '''\n",
    "            WITH num_of_reviews AS (SELECT book_id, COUNT(DISTINCT review_id) AS num_of_reviews\n",
    "                                    FROM reviews\n",
    "                                    GROUP BY book_id),\n",
    "                                    \n",
    "                  average_rating AS (SELECT book_id, AVG(rating) AS avg_rating\n",
    "                                     FROM ratings\n",
    "                                     GROUP BY book_id)\n",
    "            SELECT b.book_id, b.title, re.num_of_reviews, ra.avg_rating\n",
    "            FROM books AS b\n",
    "            JOIN num_of_reviews AS re ON b.book_id = re.book_id\n",
    "            JOIN average_rating AS ra ON b.book_id = ra.book_id\n",
    "            ORDER BY num_of_reviews DESC, avg_rating DESC\n",
    "            LIMIT 10\n",
    "         '''\n",
    "task_2 = pd.io.sql.read_sql(task_2, con = engine)\n",
    "task_2"
   ]
  },
  {
   "cell_type": "markdown",
   "metadata": {},
   "source": [
    "**We need to find balance between the average score of a book, representing its quality, and the number of reviews that indicates popularity.**"
   ]
  },
  {
   "cell_type": "markdown",
   "metadata": {},
   "source": [
    "# Task 3 - Identify the publisher that has released the greatest number of books with more than 50 pages (this will help you exclude brochures and similar publications from your analysis)"
   ]
  },
  {
   "cell_type": "code",
   "execution_count": 11,
   "metadata": {},
   "outputs": [
    {
     "data": {
      "text/html": [
       "<div>\n",
       "<style scoped>\n",
       "    .dataframe tbody tr th:only-of-type {\n",
       "        vertical-align: middle;\n",
       "    }\n",
       "\n",
       "    .dataframe tbody tr th {\n",
       "        vertical-align: top;\n",
       "    }\n",
       "\n",
       "    .dataframe thead th {\n",
       "        text-align: right;\n",
       "    }\n",
       "</style>\n",
       "<table border=\"1\" class=\"dataframe\">\n",
       "  <thead>\n",
       "    <tr style=\"text-align: right;\">\n",
       "      <th></th>\n",
       "      <th>publisher_id</th>\n",
       "      <th>publisher</th>\n",
       "      <th>num_of_books</th>\n",
       "    </tr>\n",
       "  </thead>\n",
       "  <tbody>\n",
       "    <tr>\n",
       "      <th>0</th>\n",
       "      <td>212</td>\n",
       "      <td>Penguin Books</td>\n",
       "      <td>42</td>\n",
       "    </tr>\n",
       "    <tr>\n",
       "      <th>1</th>\n",
       "      <td>309</td>\n",
       "      <td>Vintage</td>\n",
       "      <td>31</td>\n",
       "    </tr>\n",
       "    <tr>\n",
       "      <th>2</th>\n",
       "      <td>116</td>\n",
       "      <td>Grand Central Publishing</td>\n",
       "      <td>25</td>\n",
       "    </tr>\n",
       "    <tr>\n",
       "      <th>3</th>\n",
       "      <td>217</td>\n",
       "      <td>Penguin Classics</td>\n",
       "      <td>24</td>\n",
       "    </tr>\n",
       "    <tr>\n",
       "      <th>4</th>\n",
       "      <td>35</td>\n",
       "      <td>Bantam</td>\n",
       "      <td>19</td>\n",
       "    </tr>\n",
       "    <tr>\n",
       "      <th>5</th>\n",
       "      <td>33</td>\n",
       "      <td>Ballantine Books</td>\n",
       "      <td>19</td>\n",
       "    </tr>\n",
       "    <tr>\n",
       "      <th>6</th>\n",
       "      <td>45</td>\n",
       "      <td>Berkley</td>\n",
       "      <td>17</td>\n",
       "    </tr>\n",
       "    <tr>\n",
       "      <th>7</th>\n",
       "      <td>46</td>\n",
       "      <td>Berkley Books</td>\n",
       "      <td>14</td>\n",
       "    </tr>\n",
       "    <tr>\n",
       "      <th>8</th>\n",
       "      <td>284</td>\n",
       "      <td>St. Martin's Press</td>\n",
       "      <td>14</td>\n",
       "    </tr>\n",
       "    <tr>\n",
       "      <th>9</th>\n",
       "      <td>83</td>\n",
       "      <td>Delta</td>\n",
       "      <td>13</td>\n",
       "    </tr>\n",
       "  </tbody>\n",
       "</table>\n",
       "</div>"
      ],
      "text/plain": [
       "   publisher_id                 publisher  num_of_books\n",
       "0  212           Penguin Books             42          \n",
       "1  309           Vintage                   31          \n",
       "2  116           Grand Central Publishing  25          \n",
       "3  217           Penguin Classics          24          \n",
       "4  35            Bantam                    19          \n",
       "5  33            Ballantine Books          19          \n",
       "6  45            Berkley                   17          \n",
       "7  46            Berkley Books             14          \n",
       "8  284           St. Martin's Press        14          \n",
       "9  83            Delta                     13          "
      ]
     },
     "execution_count": 11,
     "metadata": {},
     "output_type": "execute_result"
    }
   ],
   "source": [
    "task_3 = '''\n",
    "            SELECT b.publisher_id, p.publisher, COUNT(b.book_id) AS num_of_books \n",
    "            FROM books AS b\n",
    "            JOIN publishers AS p ON b.publisher_id = p.publisher_id\n",
    "            WHERE b.num_pages > 50\n",
    "            GROUP BY b.publisher_id, p.publisher\n",
    "            ORDER BY num_of_books DESC\n",
    "            LIMIT 10\n",
    "         '''\n",
    "task_3 = pd.io.sql.read_sql(task_3, con = engine)\n",
    "task_3"
   ]
  },
  {
   "cell_type": "markdown",
   "metadata": {},
   "source": [
    "**Working with publishers that have higher number of books can help us have more variety on our platform.**"
   ]
  },
  {
   "cell_type": "markdown",
   "metadata": {},
   "source": [
    "# Task 4 - Identify the author with the highest average book rating: look only at books with at least 50 ratings"
   ]
  },
  {
   "cell_type": "code",
   "execution_count": 12,
   "metadata": {},
   "outputs": [
    {
     "data": {
      "text/html": [
       "<div>\n",
       "<style scoped>\n",
       "    .dataframe tbody tr th:only-of-type {\n",
       "        vertical-align: middle;\n",
       "    }\n",
       "\n",
       "    .dataframe tbody tr th {\n",
       "        vertical-align: top;\n",
       "    }\n",
       "\n",
       "    .dataframe thead th {\n",
       "        text-align: right;\n",
       "    }\n",
       "</style>\n",
       "<table border=\"1\" class=\"dataframe\">\n",
       "  <thead>\n",
       "    <tr style=\"text-align: right;\">\n",
       "      <th></th>\n",
       "      <th>author_id</th>\n",
       "      <th>author</th>\n",
       "      <th>avg_book_rating</th>\n",
       "    </tr>\n",
       "  </thead>\n",
       "  <tbody>\n",
       "    <tr>\n",
       "      <th>0</th>\n",
       "      <td>236</td>\n",
       "      <td>J.K. Rowling/Mary GrandPré</td>\n",
       "      <td>4.283844</td>\n",
       "    </tr>\n",
       "    <tr>\n",
       "      <th>1</th>\n",
       "      <td>402</td>\n",
       "      <td>Markus Zusak/Cao Xuân Việt Khương</td>\n",
       "      <td>4.264151</td>\n",
       "    </tr>\n",
       "    <tr>\n",
       "      <th>2</th>\n",
       "      <td>240</td>\n",
       "      <td>J.R.R. Tolkien</td>\n",
       "      <td>4.258446</td>\n",
       "    </tr>\n",
       "    <tr>\n",
       "      <th>3</th>\n",
       "      <td>376</td>\n",
       "      <td>Louisa May Alcott</td>\n",
       "      <td>4.192308</td>\n",
       "    </tr>\n",
       "    <tr>\n",
       "      <th>4</th>\n",
       "      <td>498</td>\n",
       "      <td>Rick Riordan</td>\n",
       "      <td>4.080645</td>\n",
       "    </tr>\n",
       "    <tr>\n",
       "      <th>5</th>\n",
       "      <td>621</td>\n",
       "      <td>William Golding</td>\n",
       "      <td>3.901408</td>\n",
       "    </tr>\n",
       "    <tr>\n",
       "      <th>6</th>\n",
       "      <td>235</td>\n",
       "      <td>J.D. Salinger</td>\n",
       "      <td>3.825581</td>\n",
       "    </tr>\n",
       "    <tr>\n",
       "      <th>7</th>\n",
       "      <td>469</td>\n",
       "      <td>Paulo Coelho/Alan R. Clarke/Özdemir İnce</td>\n",
       "      <td>3.789474</td>\n",
       "    </tr>\n",
       "    <tr>\n",
       "      <th>8</th>\n",
       "      <td>630</td>\n",
       "      <td>William Shakespeare/Paul Werstine/Barbara A. Mowat</td>\n",
       "      <td>3.787879</td>\n",
       "    </tr>\n",
       "    <tr>\n",
       "      <th>9</th>\n",
       "      <td>106</td>\n",
       "      <td>Dan Brown</td>\n",
       "      <td>3.754540</td>\n",
       "    </tr>\n",
       "    <tr>\n",
       "      <th>10</th>\n",
       "      <td>372</td>\n",
       "      <td>Lois Lowry</td>\n",
       "      <td>3.750000</td>\n",
       "    </tr>\n",
       "    <tr>\n",
       "      <th>11</th>\n",
       "      <td>195</td>\n",
       "      <td>George Orwell/Boris Grabnar/Peter Škerl</td>\n",
       "      <td>3.729730</td>\n",
       "    </tr>\n",
       "    <tr>\n",
       "      <th>12</th>\n",
       "      <td>554</td>\n",
       "      <td>Stephenie Meyer</td>\n",
       "      <td>3.662500</td>\n",
       "    </tr>\n",
       "    <tr>\n",
       "      <th>13</th>\n",
       "      <td>311</td>\n",
       "      <td>John Steinbeck</td>\n",
       "      <td>3.622951</td>\n",
       "    </tr>\n",
       "  </tbody>\n",
       "</table>\n",
       "</div>"
      ],
      "text/plain": [
       "    author_id                                              author  \\\n",
       "0   236        J.K. Rowling/Mary GrandPré                           \n",
       "1   402        Markus Zusak/Cao Xuân Việt Khương                    \n",
       "2   240        J.R.R. Tolkien                                       \n",
       "3   376        Louisa May Alcott                                    \n",
       "4   498        Rick Riordan                                         \n",
       "5   621        William Golding                                      \n",
       "6   235        J.D. Salinger                                        \n",
       "7   469        Paulo Coelho/Alan R. Clarke/Özdemir İnce             \n",
       "8   630        William Shakespeare/Paul Werstine/Barbara A. Mowat   \n",
       "9   106        Dan Brown                                            \n",
       "10  372        Lois Lowry                                           \n",
       "11  195        George Orwell/Boris Grabnar/Peter Škerl              \n",
       "12  554        Stephenie Meyer                                      \n",
       "13  311        John Steinbeck                                       \n",
       "\n",
       "    avg_book_rating  \n",
       "0   4.283844         \n",
       "1   4.264151         \n",
       "2   4.258446         \n",
       "3   4.192308         \n",
       "4   4.080645         \n",
       "5   3.901408         \n",
       "6   3.825581         \n",
       "7   3.789474         \n",
       "8   3.787879         \n",
       "9   3.754540         \n",
       "10  3.750000         \n",
       "11  3.729730         \n",
       "12  3.662500         \n",
       "13  3.622951         "
      ]
     },
     "execution_count": 12,
     "metadata": {},
     "output_type": "execute_result"
    }
   ],
   "source": [
    "task_4 = '''\n",
    "            WITH over_50_ratings AS (SELECT book_id, AVG(rating) \n",
    "                                     FROM ratings\n",
    "                                     GROUP BY book_id\n",
    "                                     HAVING COUNT(rating_id) > 50)\n",
    "                                     \n",
    "            SELECT b.author_id, a.author, AVG(ra.avg) AS avg_book_rating\n",
    "            FROM books AS b\n",
    "            JOIN over_50_ratings AS ra ON b.book_id = ra.book_id\n",
    "            JOIN authors AS a ON a.author_id = b.author_id\n",
    "            GROUP BY b.author_id, a.author\n",
    "            ORDER BY avg_book_rating DESC\n",
    "         '''\n",
    "task_4 = pd.io.sql.read_sql(task_4, con = engine)\n",
    "task_4"
   ]
  },
  {
   "cell_type": "markdown",
   "metadata": {},
   "source": [
    "**We can try focusing on authors that we know are popular, having high score ratings on books that have been rated at least 50 times.**"
   ]
  },
  {
   "cell_type": "markdown",
   "metadata": {},
   "source": [
    "# Task 5 - Find the average number of text reviews among users who rated more than 50 books"
   ]
  },
  {
   "cell_type": "code",
   "execution_count": 13,
   "metadata": {},
   "outputs": [
    {
     "data": {
      "text/html": [
       "<div>\n",
       "<style scoped>\n",
       "    .dataframe tbody tr th:only-of-type {\n",
       "        vertical-align: middle;\n",
       "    }\n",
       "\n",
       "    .dataframe tbody tr th {\n",
       "        vertical-align: top;\n",
       "    }\n",
       "\n",
       "    .dataframe thead th {\n",
       "        text-align: right;\n",
       "    }\n",
       "</style>\n",
       "<table border=\"1\" class=\"dataframe\">\n",
       "  <thead>\n",
       "    <tr style=\"text-align: right;\">\n",
       "      <th></th>\n",
       "      <th>average_text_reviews</th>\n",
       "    </tr>\n",
       "  </thead>\n",
       "  <tbody>\n",
       "    <tr>\n",
       "      <th>0</th>\n",
       "      <td>24.333333</td>\n",
       "    </tr>\n",
       "  </tbody>\n",
       "</table>\n",
       "</div>"
      ],
      "text/plain": [
       "   average_text_reviews\n",
       "0  24.333333           "
      ]
     },
     "execution_count": 13,
     "metadata": {},
     "output_type": "execute_result"
    }
   ],
   "source": [
    "task_5 = ''' \n",
    "            WITH rated_over_50 AS (SELECT username\n",
    "                                   FROM ratings\n",
    "                                   GROUP BY username\n",
    "                                   HAVING COUNT(rating_id) > 50)\n",
    "            SELECT AVG(count) AS average_text_reviews\n",
    "            FROM (SELECT re.username, COUNT(re.review_id)\n",
    "                  FROM reviews AS re\n",
    "                  JOIN rated_over_50 AS ra ON ra.username = re.username\n",
    "                  GROUP BY re.username) AS count\n",
    "         '''\n",
    "task_5 = pd.io.sql.read_sql(task_5, con = engine)\n",
    "task_5"
   ]
  },
  {
   "cell_type": "markdown",
   "metadata": {},
   "source": [
    "**Users that rate books often write a text review that we can analyze more easly.**"
   ]
  },
  {
   "cell_type": "markdown",
   "metadata": {},
   "source": [
    "# Conclusion"
   ]
  },
  {
   "cell_type": "markdown",
   "metadata": {},
   "source": [
    "**After analyzing the data, we can contact the bigger publishers and in their collection, find newer published books with higher ratings and higher number of reviews, by authors that usually perform good in average rating.**"
   ]
  }
 ],
 "metadata": {
  "ExecuteTimeLog": [
   {
    "duration": 47,
    "start_time": "2022-05-01T11:23:22.465Z"
   },
   {
    "duration": 395,
    "start_time": "2022-05-01T11:23:32.295Z"
   },
   {
    "duration": 3,
    "start_time": "2022-05-01T11:23:33.232Z"
   },
   {
    "duration": 3,
    "start_time": "2022-05-01T11:23:34.214Z"
   },
   {
    "duration": 29,
    "start_time": "2022-05-01T11:23:34.765Z"
   },
   {
    "duration": 8911,
    "start_time": "2022-05-01T11:23:46.857Z"
   },
   {
    "duration": 4,
    "start_time": "2022-05-01T11:24:12.051Z"
   },
   {
    "duration": 2,
    "start_time": "2022-05-01T11:24:12.676Z"
   },
   {
    "duration": 528,
    "start_time": "2022-05-01T11:24:13.257Z"
   },
   {
    "duration": 75,
    "start_time": "2022-05-01T11:30:09.129Z"
   },
   {
    "duration": 84,
    "start_time": "2022-05-01T11:30:23.938Z"
   },
   {
    "duration": 74,
    "start_time": "2022-05-01T11:30:50.905Z"
   },
   {
    "duration": 82,
    "start_time": "2022-05-01T11:31:38.890Z"
   },
   {
    "duration": 73,
    "start_time": "2022-05-01T11:31:50.793Z"
   },
   {
    "duration": 8821,
    "start_time": "2022-05-01T11:40:51.166Z"
   },
   {
    "duration": 3,
    "start_time": "2022-05-01T11:40:59.989Z"
   },
   {
    "duration": 6,
    "start_time": "2022-05-01T11:40:59.994Z"
   },
   {
    "duration": 527,
    "start_time": "2022-05-01T11:41:00.002Z"
   },
   {
    "duration": 74,
    "start_time": "2022-05-01T11:41:00.532Z"
   },
   {
    "duration": 85,
    "start_time": "2022-05-01T11:41:00.608Z"
   },
   {
    "duration": 76,
    "start_time": "2022-05-01T11:41:00.695Z"
   },
   {
    "duration": 75,
    "start_time": "2022-05-01T11:41:00.773Z"
   },
   {
    "duration": 72,
    "start_time": "2022-05-01T11:41:00.851Z"
   },
   {
    "duration": 82,
    "start_time": "2022-05-01T11:46:02.002Z"
   },
   {
    "duration": 441,
    "start_time": "2022-05-01T11:46:13.431Z"
   },
   {
    "duration": 88,
    "start_time": "2022-05-01T11:46:26.169Z"
   },
   {
    "duration": 251,
    "start_time": "2022-05-01T11:58:01.921Z"
   },
   {
    "duration": 215,
    "start_time": "2022-05-01T11:58:23.292Z"
   },
   {
    "duration": 70,
    "start_time": "2022-05-01T11:59:10.361Z"
   },
   {
    "duration": 69,
    "start_time": "2022-05-01T11:59:41.857Z"
   },
   {
    "duration": 103,
    "start_time": "2022-05-01T11:59:59.175Z"
   },
   {
    "duration": 241,
    "start_time": "2022-05-01T12:00:07.716Z"
   },
   {
    "duration": 76,
    "start_time": "2022-05-01T12:00:27.809Z"
   },
   {
    "duration": 237,
    "start_time": "2022-05-01T12:01:06.900Z"
   },
   {
    "duration": 233,
    "start_time": "2022-05-01T12:01:14.690Z"
   },
   {
    "duration": 248,
    "start_time": "2022-05-01T12:01:34.028Z"
   },
   {
    "duration": 72,
    "start_time": "2022-05-01T12:01:41.579Z"
   },
   {
    "duration": 74,
    "start_time": "2022-05-01T12:02:36.105Z"
   },
   {
    "duration": 79,
    "start_time": "2022-05-01T12:02:57.402Z"
   },
   {
    "duration": 240,
    "start_time": "2022-05-01T12:03:10.939Z"
   },
   {
    "duration": 80,
    "start_time": "2022-05-01T12:03:23.987Z"
   },
   {
    "duration": 225,
    "start_time": "2022-05-01T12:03:48.675Z"
   },
   {
    "duration": 227,
    "start_time": "2022-05-01T12:04:10.395Z"
   },
   {
    "duration": 75,
    "start_time": "2022-05-01T12:04:56.019Z"
   },
   {
    "duration": 78,
    "start_time": "2022-05-01T12:05:47.221Z"
   },
   {
    "duration": 83,
    "start_time": "2022-05-01T12:06:02.638Z"
   },
   {
    "duration": 93,
    "start_time": "2022-05-01T12:06:26.083Z"
   },
   {
    "duration": 80,
    "start_time": "2022-05-01T12:07:26.739Z"
   },
   {
    "duration": 80,
    "start_time": "2022-05-01T12:07:31.539Z"
   },
   {
    "duration": 79,
    "start_time": "2022-05-01T12:07:43.763Z"
   },
   {
    "duration": 75,
    "start_time": "2022-05-01T12:12:03.440Z"
   },
   {
    "duration": 84,
    "start_time": "2022-05-01T12:12:43.803Z"
   },
   {
    "duration": 84,
    "start_time": "2022-05-01T12:12:50.923Z"
   },
   {
    "duration": 80,
    "start_time": "2022-05-01T12:13:04.235Z"
   },
   {
    "duration": 234,
    "start_time": "2022-05-01T12:23:01.616Z"
   },
   {
    "duration": 71,
    "start_time": "2022-05-01T12:23:17.168Z"
   },
   {
    "duration": 74,
    "start_time": "2022-05-01T12:23:30.861Z"
   },
   {
    "duration": 85,
    "start_time": "2022-05-01T12:25:28.943Z"
   },
   {
    "duration": 72,
    "start_time": "2022-05-01T12:27:05.918Z"
   },
   {
    "duration": 220,
    "start_time": "2022-05-01T12:30:45.414Z"
   },
   {
    "duration": 70,
    "start_time": "2022-05-01T12:30:57.029Z"
   },
   {
    "duration": 230,
    "start_time": "2022-05-01T12:31:12.214Z"
   },
   {
    "duration": 69,
    "start_time": "2022-05-01T12:31:40.609Z"
   },
   {
    "duration": 70,
    "start_time": "2022-05-01T12:33:02.983Z"
   },
   {
    "duration": 8750,
    "start_time": "2022-05-01T18:58:26.896Z"
   },
   {
    "duration": 3,
    "start_time": "2022-05-01T18:58:35.647Z"
   },
   {
    "duration": 4,
    "start_time": "2022-05-01T18:58:35.652Z"
   },
   {
    "duration": 486,
    "start_time": "2022-05-01T18:58:35.657Z"
   },
   {
    "duration": 68,
    "start_time": "2022-05-01T18:58:36.145Z"
   },
   {
    "duration": 78,
    "start_time": "2022-05-01T18:58:36.215Z"
   },
   {
    "duration": 69,
    "start_time": "2022-05-01T18:58:36.295Z"
   },
   {
    "duration": 71,
    "start_time": "2022-05-01T18:58:36.366Z"
   },
   {
    "duration": 67,
    "start_time": "2022-05-01T18:58:36.439Z"
   },
   {
    "duration": 97,
    "start_time": "2022-05-01T19:00:41.935Z"
   },
   {
    "duration": 100,
    "start_time": "2022-05-01T19:00:49.268Z"
   },
   {
    "duration": 77,
    "start_time": "2022-05-01T19:01:02.734Z"
   },
   {
    "duration": 688,
    "start_time": "2022-05-02T09:30:36.532Z"
   },
   {
    "duration": 7205,
    "start_time": "2022-05-02T09:30:37.222Z"
   },
   {
    "duration": 5,
    "start_time": "2022-05-02T09:30:44.430Z"
   },
   {
    "duration": 9,
    "start_time": "2022-05-02T09:30:44.438Z"
   },
   {
    "duration": 450,
    "start_time": "2022-05-02T09:30:44.450Z"
   },
   {
    "duration": 1252,
    "start_time": "2022-05-02T09:30:44.902Z"
   },
   {
    "duration": 74,
    "start_time": "2022-05-02T09:30:46.156Z"
   },
   {
    "duration": 64,
    "start_time": "2022-05-02T09:30:46.232Z"
   },
   {
    "duration": 68,
    "start_time": "2022-05-02T09:30:46.298Z"
   },
   {
    "duration": 62,
    "start_time": "2022-05-02T09:30:46.369Z"
   },
   {
    "duration": 113,
    "start_time": "2022-05-02T09:30:46.433Z"
   },
   {
    "duration": 9,
    "start_time": "2022-05-02T09:31:08.905Z"
   },
   {
    "duration": 283,
    "start_time": "2022-05-02T09:32:13.390Z"
   },
   {
    "duration": 279,
    "start_time": "2022-05-02T09:32:35.937Z"
   },
   {
    "duration": 62,
    "start_time": "2022-05-02T09:32:42.276Z"
   },
   {
    "duration": 308,
    "start_time": "2022-05-02T09:33:19.881Z"
   },
   {
    "duration": 295,
    "start_time": "2022-05-02T09:33:31.090Z"
   },
   {
    "duration": 3866,
    "start_time": "2022-05-02T09:34:45.078Z"
   },
   {
    "duration": 303,
    "start_time": "2022-05-02T09:35:07.196Z"
   },
   {
    "duration": 300,
    "start_time": "2022-05-02T09:35:12.443Z"
   },
   {
    "duration": 352,
    "start_time": "2022-05-02T09:35:23.196Z"
   },
   {
    "duration": 300,
    "start_time": "2022-05-02T09:35:28.607Z"
   },
   {
    "duration": 309,
    "start_time": "2022-05-02T09:35:36.914Z"
   },
   {
    "duration": 300,
    "start_time": "2022-05-02T09:36:16.162Z"
   },
   {
    "duration": 64,
    "start_time": "2022-05-02T09:36:27.202Z"
   },
   {
    "duration": 65,
    "start_time": "2022-05-02T09:36:33.901Z"
   },
   {
    "duration": 328,
    "start_time": "2022-05-02T09:37:16.178Z"
   },
   {
    "duration": 278,
    "start_time": "2022-05-02T09:37:39.367Z"
   },
   {
    "duration": 295,
    "start_time": "2022-05-02T09:37:52.793Z"
   },
   {
    "duration": 301,
    "start_time": "2022-05-02T09:38:15.067Z"
   },
   {
    "duration": 10,
    "start_time": "2022-05-02T09:39:11.200Z"
   },
   {
    "duration": 4,
    "start_time": "2022-05-02T09:39:14.418Z"
   },
   {
    "duration": 298,
    "start_time": "2022-05-02T09:39:15.081Z"
   },
   {
    "duration": 279,
    "start_time": "2022-05-02T09:39:27.119Z"
   },
   {
    "duration": 280,
    "start_time": "2022-05-02T09:39:38.567Z"
   },
   {
    "duration": 298,
    "start_time": "2022-05-02T09:39:42.904Z"
   },
   {
    "duration": 682,
    "start_time": "2022-05-02T09:40:36.908Z"
   },
   {
    "duration": 6538,
    "start_time": "2022-05-02T09:40:37.593Z"
   },
   {
    "duration": 4,
    "start_time": "2022-05-02T09:40:44.134Z"
   },
   {
    "duration": 11,
    "start_time": "2022-05-02T09:40:44.140Z"
   },
   {
    "duration": 445,
    "start_time": "2022-05-02T09:40:44.154Z"
   },
   {
    "duration": 167,
    "start_time": "2022-05-02T09:45:01.599Z"
   },
   {
    "duration": 326,
    "start_time": "2022-05-02T09:45:16.944Z"
   },
   {
    "duration": 323,
    "start_time": "2022-05-02T09:45:51.704Z"
   },
   {
    "duration": 301,
    "start_time": "2022-05-02T09:46:28.024Z"
   },
   {
    "duration": 10,
    "start_time": "2022-05-02T09:48:12.224Z"
   },
   {
    "duration": 15,
    "start_time": "2022-05-02T09:48:15.332Z"
   },
   {
    "duration": 325,
    "start_time": "2022-05-02T09:48:36.902Z"
   },
   {
    "duration": 293,
    "start_time": "2022-05-02T09:49:24.452Z"
   },
   {
    "duration": 300,
    "start_time": "2022-05-02T09:50:39.525Z"
   },
   {
    "duration": 292,
    "start_time": "2022-05-02T09:50:44.860Z"
   },
   {
    "duration": 299,
    "start_time": "2022-05-02T09:51:09.182Z"
   },
   {
    "duration": 282,
    "start_time": "2022-05-02T09:51:16.982Z"
   },
   {
    "duration": 282,
    "start_time": "2022-05-02T09:51:32.375Z"
   },
   {
    "duration": 278,
    "start_time": "2022-05-02T09:51:36.230Z"
   },
   {
    "duration": 288,
    "start_time": "2022-05-02T09:51:42.993Z"
   },
   {
    "duration": 10,
    "start_time": "2022-05-02T09:53:16.166Z"
   },
   {
    "duration": 6,
    "start_time": "2022-05-02T09:53:22.743Z"
   },
   {
    "duration": 11,
    "start_time": "2022-05-02T09:53:42.759Z"
   },
   {
    "duration": 9,
    "start_time": "2022-05-02T09:53:48.406Z"
   },
   {
    "duration": 13,
    "start_time": "2022-05-02T09:54:15.024Z"
   },
   {
    "duration": 13,
    "start_time": "2022-05-02T09:54:40.270Z"
   },
   {
    "duration": 184,
    "start_time": "2022-05-02T09:55:07.344Z"
   },
   {
    "duration": 313,
    "start_time": "2022-05-02T09:55:22.089Z"
   },
   {
    "duration": 11,
    "start_time": "2022-05-02T09:55:32.311Z"
   },
   {
    "duration": 4,
    "start_time": "2022-05-02T09:56:02.703Z"
   },
   {
    "duration": 242,
    "start_time": "2022-05-02T09:56:05.751Z"
   },
   {
    "duration": 12,
    "start_time": "2022-05-02T09:56:07.569Z"
   },
   {
    "duration": 13,
    "start_time": "2022-05-02T09:56:14.608Z"
   },
   {
    "duration": 8,
    "start_time": "2022-05-02T09:56:20.294Z"
   },
   {
    "duration": 11,
    "start_time": "2022-05-02T09:56:25.896Z"
   },
   {
    "duration": 236,
    "start_time": "2022-05-02T09:57:00.718Z"
   },
   {
    "duration": 5,
    "start_time": "2022-05-02T09:57:08.245Z"
   },
   {
    "duration": 292,
    "start_time": "2022-05-02T09:57:08.832Z"
   },
   {
    "duration": 297,
    "start_time": "2022-05-02T09:57:16.385Z"
   },
   {
    "duration": 905,
    "start_time": "2022-05-02T09:57:25.072Z"
   },
   {
    "duration": 5518,
    "start_time": "2022-05-02T09:57:25.980Z"
   },
   {
    "duration": 5,
    "start_time": "2022-05-02T09:57:31.501Z"
   },
   {
    "duration": 27,
    "start_time": "2022-05-02T09:57:31.509Z"
   },
   {
    "duration": 460,
    "start_time": "2022-05-02T09:57:31.540Z"
   },
   {
    "duration": 307,
    "start_time": "2022-05-02T09:57:32.002Z"
   },
   {
    "duration": 322,
    "start_time": "2022-05-02T09:59:47.172Z"
   },
   {
    "duration": 168,
    "start_time": "2022-05-02T10:01:23.421Z"
   },
   {
    "duration": 74,
    "start_time": "2022-05-02T10:01:30.374Z"
   },
   {
    "duration": 139,
    "start_time": "2022-05-02T10:02:01.453Z"
   },
   {
    "duration": 318,
    "start_time": "2022-05-02T10:02:24.358Z"
   },
   {
    "duration": 299,
    "start_time": "2022-05-02T10:02:36.027Z"
   },
   {
    "duration": 13,
    "start_time": "2022-05-02T10:07:49.808Z"
   },
   {
    "duration": 11,
    "start_time": "2022-05-02T10:08:35.924Z"
   },
   {
    "duration": 729,
    "start_time": "2022-05-02T10:09:53.870Z"
   },
   {
    "duration": 45,
    "start_time": "2022-05-02T10:11:07.638Z"
   },
   {
    "duration": 29,
    "start_time": "2022-05-02T10:12:17.609Z"
   },
   {
    "duration": 15,
    "start_time": "2022-05-02T10:16:19.896Z"
   },
   {
    "duration": 899,
    "start_time": "2022-05-02T10:19:10.659Z"
   },
   {
    "duration": 7329,
    "start_time": "2022-05-02T10:19:12.087Z"
   },
   {
    "duration": 6,
    "start_time": "2022-05-02T10:19:19.420Z"
   },
   {
    "duration": 7,
    "start_time": "2022-05-02T10:19:19.429Z"
   },
   {
    "duration": 10,
    "start_time": "2022-05-02T10:19:19.439Z"
   },
   {
    "duration": 7,
    "start_time": "2022-05-02T10:19:19.451Z"
   },
   {
    "duration": 461,
    "start_time": "2022-05-02T10:19:19.460Z"
   },
   {
    "duration": 18,
    "start_time": "2022-05-02T10:20:16.213Z"
   },
   {
    "duration": 775,
    "start_time": "2022-05-02T10:21:09.451Z"
   },
   {
    "duration": 6122,
    "start_time": "2022-05-02T10:21:10.229Z"
   },
   {
    "duration": 6,
    "start_time": "2022-05-02T10:21:16.353Z"
   },
   {
    "duration": 8,
    "start_time": "2022-05-02T10:21:16.361Z"
   },
   {
    "duration": 7,
    "start_time": "2022-05-02T10:21:16.371Z"
   },
   {
    "duration": 7,
    "start_time": "2022-05-02T10:21:16.380Z"
   },
   {
    "duration": 480,
    "start_time": "2022-05-02T10:21:16.389Z"
   },
   {
    "duration": 328,
    "start_time": "2022-05-02T10:21:18.176Z"
   },
   {
    "duration": 102,
    "start_time": "2022-05-02T10:21:43.820Z"
   },
   {
    "duration": 15,
    "start_time": "2022-05-02T10:21:49.594Z"
   },
   {
    "duration": 15,
    "start_time": "2022-05-02T10:22:31.737Z"
   },
   {
    "duration": 807,
    "start_time": "2022-05-02T10:23:11.492Z"
   },
   {
    "duration": 6299,
    "start_time": "2022-05-02T10:23:12.302Z"
   },
   {
    "duration": 6,
    "start_time": "2022-05-02T10:23:18.604Z"
   },
   {
    "duration": 9,
    "start_time": "2022-05-02T10:23:18.614Z"
   },
   {
    "duration": 10,
    "start_time": "2022-05-02T10:23:18.625Z"
   },
   {
    "duration": 9,
    "start_time": "2022-05-02T10:23:18.638Z"
   },
   {
    "duration": 432,
    "start_time": "2022-05-02T10:23:18.650Z"
   },
   {
    "duration": 18,
    "start_time": "2022-05-02T10:23:19.084Z"
   },
   {
    "duration": 687,
    "start_time": "2022-05-02T10:23:49.818Z"
   },
   {
    "duration": 6484,
    "start_time": "2022-05-02T10:23:50.508Z"
   },
   {
    "duration": 5,
    "start_time": "2022-05-02T10:23:56.995Z"
   },
   {
    "duration": 7,
    "start_time": "2022-05-02T10:23:57.004Z"
   },
   {
    "duration": 13,
    "start_time": "2022-05-02T10:23:57.014Z"
   },
   {
    "duration": 11,
    "start_time": "2022-05-02T10:23:57.030Z"
   },
   {
    "duration": 436,
    "start_time": "2022-05-02T10:23:57.043Z"
   },
   {
    "duration": 296,
    "start_time": "2022-05-02T10:25:27.508Z"
   },
   {
    "duration": 19,
    "start_time": "2022-05-02T10:26:43.760Z"
   },
   {
    "duration": 19,
    "start_time": "2022-05-02T10:28:52.790Z"
   },
   {
    "duration": 13,
    "start_time": "2022-05-02T10:29:42.236Z"
   },
   {
    "duration": 778,
    "start_time": "2022-05-02T10:30:00.369Z"
   },
   {
    "duration": 8748,
    "start_time": "2022-05-02T10:30:01.150Z"
   },
   {
    "duration": 7,
    "start_time": "2022-05-02T10:30:09.900Z"
   },
   {
    "duration": 8,
    "start_time": "2022-05-02T10:30:09.909Z"
   },
   {
    "duration": 10,
    "start_time": "2022-05-02T10:30:09.920Z"
   },
   {
    "duration": 11,
    "start_time": "2022-05-02T10:30:09.933Z"
   },
   {
    "duration": 432,
    "start_time": "2022-05-02T10:30:09.946Z"
   },
   {
    "duration": 15,
    "start_time": "2022-05-02T10:30:10.380Z"
   },
   {
    "duration": 18,
    "start_time": "2022-05-02T10:30:10.397Z"
   },
   {
    "duration": 107,
    "start_time": "2022-05-02T10:31:39.492Z"
   },
   {
    "duration": 95,
    "start_time": "2022-05-02T10:32:40.685Z"
   },
   {
    "duration": 11,
    "start_time": "2022-05-02T10:32:46.229Z"
   },
   {
    "duration": 10,
    "start_time": "2022-05-02T10:32:58.895Z"
   },
   {
    "duration": 265,
    "start_time": "2022-05-02T10:33:21.841Z"
   },
   {
    "duration": 51,
    "start_time": "2022-05-02T10:34:07.680Z"
   },
   {
    "duration": 16,
    "start_time": "2022-05-02T10:34:48.681Z"
   },
   {
    "duration": 54,
    "start_time": "2022-05-02T10:34:57.249Z"
   },
   {
    "duration": 15,
    "start_time": "2022-05-02T10:36:00.648Z"
   },
   {
    "duration": 43,
    "start_time": "2022-05-02T10:36:29.598Z"
   },
   {
    "duration": 424,
    "start_time": "2022-05-02T10:36:38.802Z"
   },
   {
    "duration": 18,
    "start_time": "2022-05-02T10:36:54.786Z"
   },
   {
    "duration": 16,
    "start_time": "2022-05-02T10:37:02.504Z"
   },
   {
    "duration": 18,
    "start_time": "2022-05-02T10:37:32.263Z"
   },
   {
    "duration": 102,
    "start_time": "2022-05-02T10:37:56.256Z"
   },
   {
    "duration": 22,
    "start_time": "2022-05-02T10:38:20.648Z"
   },
   {
    "duration": 18,
    "start_time": "2022-05-02T10:38:48.048Z"
   },
   {
    "duration": 18,
    "start_time": "2022-05-02T10:38:59.376Z"
   },
   {
    "duration": 19,
    "start_time": "2022-05-02T10:39:03.720Z"
   },
   {
    "duration": 16,
    "start_time": "2022-05-02T10:39:14.424Z"
   },
   {
    "duration": 18,
    "start_time": "2022-05-02T10:39:43.323Z"
   },
   {
    "duration": 17,
    "start_time": "2022-05-02T10:39:59.106Z"
   },
   {
    "duration": 102,
    "start_time": "2022-05-02T10:42:24.819Z"
   },
   {
    "duration": 5,
    "start_time": "2022-05-02T10:42:44.726Z"
   },
   {
    "duration": 15,
    "start_time": "2022-05-02T10:43:29.279Z"
   },
   {
    "duration": 761,
    "start_time": "2022-05-02T10:45:13.547Z"
   },
   {
    "duration": 6268,
    "start_time": "2022-05-02T10:45:14.311Z"
   },
   {
    "duration": 5,
    "start_time": "2022-05-02T10:45:20.582Z"
   },
   {
    "duration": 12,
    "start_time": "2022-05-02T10:45:20.590Z"
   },
   {
    "duration": 8,
    "start_time": "2022-05-02T10:45:20.604Z"
   },
   {
    "duration": 9,
    "start_time": "2022-05-02T10:45:20.615Z"
   },
   {
    "duration": 8,
    "start_time": "2022-05-02T10:45:20.626Z"
   },
   {
    "duration": 476,
    "start_time": "2022-05-02T10:45:20.636Z"
   },
   {
    "duration": 15,
    "start_time": "2022-05-02T10:45:21.114Z"
   },
   {
    "duration": 267,
    "start_time": "2022-05-02T10:45:21.132Z"
   },
   {
    "duration": 19,
    "start_time": "2022-05-02T10:45:34.698Z"
   },
   {
    "duration": 16,
    "start_time": "2022-05-02T10:47:28.888Z"
   },
   {
    "duration": 116,
    "start_time": "2022-05-02T10:47:48.242Z"
   },
   {
    "duration": 14,
    "start_time": "2022-05-02T10:48:02.426Z"
   },
   {
    "duration": 23,
    "start_time": "2022-05-02T10:48:06.795Z"
   },
   {
    "duration": 18,
    "start_time": "2022-05-02T10:48:21.643Z"
   },
   {
    "duration": 866,
    "start_time": "2022-05-02T10:49:04.744Z"
   },
   {
    "duration": 6197,
    "start_time": "2022-05-02T10:49:05.614Z"
   },
   {
    "duration": 8,
    "start_time": "2022-05-02T10:49:11.814Z"
   },
   {
    "duration": 16,
    "start_time": "2022-05-02T10:49:11.829Z"
   },
   {
    "duration": 18,
    "start_time": "2022-05-02T10:49:11.849Z"
   },
   {
    "duration": 16,
    "start_time": "2022-05-02T10:49:11.871Z"
   },
   {
    "duration": 13,
    "start_time": "2022-05-02T10:49:11.890Z"
   },
   {
    "duration": 505,
    "start_time": "2022-05-02T10:49:11.906Z"
   },
   {
    "duration": 20,
    "start_time": "2022-05-02T10:49:12.414Z"
   },
   {
    "duration": 17,
    "start_time": "2022-05-02T10:49:14.279Z"
   },
   {
    "duration": 5,
    "start_time": "2022-05-02T10:49:19.400Z"
   },
   {
    "duration": 5,
    "start_time": "2022-05-02T10:49:30.793Z"
   },
   {
    "duration": 13,
    "start_time": "2022-05-02T10:49:42.848Z"
   },
   {
    "duration": 8,
    "start_time": "2022-05-02T10:50:39.524Z"
   },
   {
    "duration": 9,
    "start_time": "2022-05-02T10:50:52.930Z"
   },
   {
    "duration": 2083,
    "start_time": "2022-05-02T10:50:59.991Z"
   },
   {
    "duration": 9,
    "start_time": "2022-05-02T10:51:22.404Z"
   },
   {
    "duration": 6,
    "start_time": "2022-05-02T10:51:31.410Z"
   },
   {
    "duration": 8,
    "start_time": "2022-05-02T10:51:34.506Z"
   },
   {
    "duration": 108,
    "start_time": "2022-05-02T10:51:50.635Z"
   },
   {
    "duration": 4,
    "start_time": "2022-05-02T10:52:13.979Z"
   },
   {
    "duration": 8,
    "start_time": "2022-05-02T10:52:17.666Z"
   },
   {
    "duration": 15,
    "start_time": "2022-05-02T10:53:28.657Z"
   },
   {
    "duration": 13,
    "start_time": "2022-05-02T10:54:09.712Z"
   },
   {
    "duration": 320,
    "start_time": "2022-05-02T10:54:13.859Z"
   },
   {
    "duration": 15,
    "start_time": "2022-05-02T10:54:15.909Z"
   },
   {
    "duration": 13,
    "start_time": "2022-05-02T10:54:19.040Z"
   },
   {
    "duration": 15,
    "start_time": "2022-05-02T10:54:24.342Z"
   },
   {
    "duration": 314,
    "start_time": "2022-05-02T10:54:47.403Z"
   },
   {
    "duration": 15,
    "start_time": "2022-05-02T10:54:49.891Z"
   },
   {
    "duration": 345,
    "start_time": "2022-05-02T10:54:50.762Z"
   },
   {
    "duration": 324,
    "start_time": "2022-05-02T10:54:54.933Z"
   },
   {
    "duration": 15,
    "start_time": "2022-05-02T10:54:57.727Z"
   },
   {
    "duration": 15,
    "start_time": "2022-05-02T10:55:11.876Z"
   },
   {
    "duration": 5,
    "start_time": "2022-05-02T10:55:20.992Z"
   },
   {
    "duration": 20,
    "start_time": "2022-05-02T10:55:32.390Z"
   },
   {
    "duration": 743,
    "start_time": "2022-05-02T10:56:25.369Z"
   },
   {
    "duration": 7359,
    "start_time": "2022-05-02T10:56:26.117Z"
   },
   {
    "duration": 6,
    "start_time": "2022-05-02T10:56:33.478Z"
   },
   {
    "duration": 7,
    "start_time": "2022-05-02T10:56:33.488Z"
   },
   {
    "duration": 7,
    "start_time": "2022-05-02T10:56:33.497Z"
   },
   {
    "duration": 9,
    "start_time": "2022-05-02T10:56:33.507Z"
   },
   {
    "duration": 20,
    "start_time": "2022-05-02T10:56:33.518Z"
   },
   {
    "duration": 722,
    "start_time": "2022-05-02T10:56:33.541Z"
   },
   {
    "duration": 75,
    "start_time": "2022-05-02T11:18:28.908Z"
   },
   {
    "duration": 455,
    "start_time": "2022-05-02T11:20:08.635Z"
   },
   {
    "duration": 1478,
    "start_time": "2022-05-02T11:20:23.673Z"
   },
   {
    "duration": 4152,
    "start_time": "2022-05-02T11:20:34.210Z"
   },
   {
    "duration": 133,
    "start_time": "2022-05-02T11:20:51.324Z"
   },
   {
    "duration": 134,
    "start_time": "2022-05-02T11:20:57.421Z"
   },
   {
    "duration": 322,
    "start_time": "2022-05-02T11:22:13.411Z"
   },
   {
    "duration": 74,
    "start_time": "2022-05-02T11:22:23.028Z"
   },
   {
    "duration": 97,
    "start_time": "2022-05-02T11:22:59.243Z"
   },
   {
    "duration": 72,
    "start_time": "2022-05-02T11:23:03.683Z"
   },
   {
    "duration": 109,
    "start_time": "2022-05-02T11:24:25.346Z"
   },
   {
    "duration": 180,
    "start_time": "2022-05-02T11:24:43.567Z"
   },
   {
    "duration": 2544,
    "start_time": "2022-05-02T11:25:16.858Z"
   },
   {
    "duration": 1131,
    "start_time": "2022-05-02T11:25:27.164Z"
   },
   {
    "duration": 116,
    "start_time": "2022-05-02T11:26:15.092Z"
   },
   {
    "duration": 2821,
    "start_time": "2022-05-02T11:26:37.955Z"
   },
   {
    "duration": 66,
    "start_time": "2022-05-02T11:27:43.838Z"
   },
   {
    "duration": 103,
    "start_time": "2022-05-02T11:28:14.967Z"
   },
   {
    "duration": 90,
    "start_time": "2022-05-02T11:28:16.113Z"
   },
   {
    "duration": 81,
    "start_time": "2022-05-02T11:28:44.053Z"
   },
   {
    "duration": 99,
    "start_time": "2022-05-02T11:28:44.581Z"
   },
   {
    "duration": 184,
    "start_time": "2022-05-02T11:32:24.924Z"
   },
   {
    "duration": 1041,
    "start_time": "2022-05-02T11:32:37.221Z"
   },
   {
    "duration": 100,
    "start_time": "2022-05-02T11:33:41.438Z"
   },
   {
    "duration": 87,
    "start_time": "2022-05-02T11:34:12.506Z"
   },
   {
    "duration": 197,
    "start_time": "2022-05-02T11:34:14.811Z"
   },
   {
    "duration": 184,
    "start_time": "2022-05-02T11:34:54.230Z"
   },
   {
    "duration": 99,
    "start_time": "2022-05-02T11:34:59.735Z"
   },
   {
    "duration": 211,
    "start_time": "2022-05-02T11:35:22.129Z"
   },
   {
    "duration": 232,
    "start_time": "2022-05-02T11:35:36.627Z"
   },
   {
    "duration": 201,
    "start_time": "2022-05-02T11:36:11.903Z"
   },
   {
    "duration": 133,
    "start_time": "2022-05-02T11:36:23.035Z"
   },
   {
    "duration": 79,
    "start_time": "2022-05-02T11:36:33.891Z"
   },
   {
    "duration": 110,
    "start_time": "2022-05-02T11:36:37.625Z"
   },
   {
    "duration": 104,
    "start_time": "2022-05-02T11:37:05.377Z"
   },
   {
    "duration": 207,
    "start_time": "2022-05-02T11:37:40.077Z"
   },
   {
    "duration": 98,
    "start_time": "2022-05-02T11:37:46.149Z"
   },
   {
    "duration": 75,
    "start_time": "2022-05-02T11:37:55.109Z"
   },
   {
    "duration": 194,
    "start_time": "2022-05-02T11:56:00.903Z"
   },
   {
    "duration": 65,
    "start_time": "2022-05-02T11:56:27.473Z"
   },
   {
    "duration": 65,
    "start_time": "2022-05-02T11:56:39.335Z"
   },
   {
    "duration": 875,
    "start_time": "2022-05-02T11:56:54.158Z"
   },
   {
    "duration": 6742,
    "start_time": "2022-05-02T11:56:55.036Z"
   },
   {
    "duration": 6,
    "start_time": "2022-05-02T11:57:01.781Z"
   },
   {
    "duration": 25,
    "start_time": "2022-05-02T11:57:01.792Z"
   },
   {
    "duration": 18,
    "start_time": "2022-05-02T11:57:01.820Z"
   },
   {
    "duration": 14,
    "start_time": "2022-05-02T11:57:01.841Z"
   },
   {
    "duration": 798,
    "start_time": "2022-05-02T11:57:01.858Z"
   },
   {
    "duration": 336,
    "start_time": "2022-05-02T11:57:02.659Z"
   },
   {
    "duration": 94,
    "start_time": "2022-05-02T11:57:02.997Z"
   },
   {
    "duration": 82,
    "start_time": "2022-05-02T11:57:03.096Z"
   },
   {
    "duration": 77,
    "start_time": "2022-05-02T11:57:03.181Z"
   },
   {
    "duration": 84,
    "start_time": "2022-05-02T11:57:03.261Z"
   },
   {
    "duration": 76,
    "start_time": "2022-05-02T11:57:03.348Z"
   },
   {
    "duration": 1027,
    "start_time": "2022-05-02T17:05:08.230Z"
   },
   {
    "duration": 8006,
    "start_time": "2022-05-02T17:05:09.259Z"
   },
   {
    "duration": 4,
    "start_time": "2022-05-02T17:05:17.266Z"
   },
   {
    "duration": 5,
    "start_time": "2022-05-02T17:05:17.272Z"
   },
   {
    "duration": 6,
    "start_time": "2022-05-02T17:05:17.278Z"
   },
   {
    "duration": 5,
    "start_time": "2022-05-02T17:05:17.285Z"
   },
   {
    "duration": 860,
    "start_time": "2022-05-02T17:05:17.292Z"
   },
   {
    "duration": 341,
    "start_time": "2022-05-02T17:05:18.153Z"
   },
   {
    "duration": 72,
    "start_time": "2022-05-02T17:05:18.496Z"
   },
   {
    "duration": 101,
    "start_time": "2022-05-02T17:05:18.571Z"
   },
   {
    "duration": 70,
    "start_time": "2022-05-02T17:05:18.673Z"
   },
   {
    "duration": 72,
    "start_time": "2022-05-02T17:05:18.745Z"
   },
   {
    "duration": 69,
    "start_time": "2022-05-02T17:05:18.819Z"
   },
   {
    "duration": 78,
    "start_time": "2022-05-02T17:10:00.284Z"
   }
  ],
  "kernelspec": {
   "display_name": "Python 3",
   "language": "python",
   "name": "python3"
  },
  "language_info": {
   "codemirror_mode": {
    "name": "ipython",
    "version": 3
   },
   "file_extension": ".py",
   "mimetype": "text/x-python",
   "name": "python",
   "nbconvert_exporter": "python",
   "pygments_lexer": "ipython3",
   "version": "3.8.8"
  },
  "toc": {
   "base_numbering": 1,
   "nav_menu": {},
   "number_sections": true,
   "sideBar": true,
   "skip_h1_title": true,
   "title_cell": "Table of Contents",
   "title_sidebar": "Contents",
   "toc_cell": false,
   "toc_position": {},
   "toc_section_display": true,
   "toc_window_display": false
  }
 },
 "nbformat": 4,
 "nbformat_minor": 2
}
