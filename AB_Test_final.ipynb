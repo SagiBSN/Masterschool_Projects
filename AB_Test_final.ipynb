{
 "cells": [
  {
   "cell_type": "markdown",
   "metadata": {},
   "source": [
    "# A/B Testing Project\n"
   ]
  },
  {
   "cell_type": "markdown",
   "metadata": {},
   "source": [
    "# Description"
   ]
  },
  {
   "cell_type": "markdown",
   "metadata": {},
   "source": [
    "**An international online store looking to boost their conversion rate on each stage of the funnel. In order to achive that goal, the store came up with an idea for a new improved recommendation system, and expected at least 10% rise in each stage of the funnel. <br>\n",
    "In order to examine the affect of the change, they have performed an A/B test, dividing the users into two groups. A - control group that see the old design, and B - group that have encountered the changes.**"
   ]
  },
  {
   "cell_type": "markdown",
   "metadata": {},
   "source": [
    "## Read the data files and study the general information. "
   ]
  },
  {
   "cell_type": "code",
   "execution_count": 70,
   "metadata": {},
   "outputs": [],
   "source": [
    "import pandas as pd\n",
    "import matplotlib.pyplot as plt\n",
    "from scipy import stats as st\n",
    "import numpy as np\n",
    "import math as mth"
   ]
  },
  {
   "cell_type": "code",
   "execution_count": 71,
   "metadata": {},
   "outputs": [],
   "source": [
    "marketing_events = pd.read_csv('/datasets/ab_project_marketing_events_us.csv',\n",
    "                            parse_dates = ['start_dt', 'finish_dt'])\n",
    "users = pd.read_csv('/datasets/final_ab_new_users_upd_us.csv',\n",
    "                            parse_dates = ['first_date'])\n",
    "user_events = pd.read_csv('/datasets/final_ab_events_upd_us.csv',\n",
    "                            parse_dates = ['event_dt'])\n",
    "participants = pd.read_csv('/datasets/final_ab_participants_upd_us.csv')"
   ]
  },
  {
   "cell_type": "code",
   "execution_count": 77,
   "metadata": {},
   "outputs": [
    {
     "data": {
      "text/html": [
       "<div>\n",
       "<style scoped>\n",
       "    .dataframe tbody tr th:only-of-type {\n",
       "        vertical-align: middle;\n",
       "    }\n",
       "\n",
       "    .dataframe tbody tr th {\n",
       "        vertical-align: top;\n",
       "    }\n",
       "\n",
       "    .dataframe thead th {\n",
       "        text-align: right;\n",
       "    }\n",
       "</style>\n",
       "<table border=\"1\" class=\"dataframe\">\n",
       "  <thead>\n",
       "    <tr style=\"text-align: right;\">\n",
       "      <th></th>\n",
       "      <th>user_id</th>\n",
       "      <th>event_dt</th>\n",
       "      <th>details</th>\n",
       "    </tr>\n",
       "  </thead>\n",
       "  <tbody>\n",
       "    <tr>\n",
       "      <th>0</th>\n",
       "      <td>E1BDDCE0DAFA2679</td>\n",
       "      <td>2020-12-07 20:22:03</td>\n",
       "      <td>99.99</td>\n",
       "    </tr>\n",
       "    <tr>\n",
       "      <th>1</th>\n",
       "      <td>7B6452F081F49504</td>\n",
       "      <td>2020-12-07 09:22:53</td>\n",
       "      <td>9.99</td>\n",
       "    </tr>\n",
       "    <tr>\n",
       "      <th>2</th>\n",
       "      <td>9CD9F34546DF254C</td>\n",
       "      <td>2020-12-07 12:59:29</td>\n",
       "      <td>4.99</td>\n",
       "    </tr>\n",
       "    <tr>\n",
       "      <th>3</th>\n",
       "      <td>96F27A054B191457</td>\n",
       "      <td>2020-12-07 04:02:40</td>\n",
       "      <td>4.99</td>\n",
       "    </tr>\n",
       "    <tr>\n",
       "      <th>4</th>\n",
       "      <td>1FD7660FDF94CA1F</td>\n",
       "      <td>2020-12-07 10:15:09</td>\n",
       "      <td>4.99</td>\n",
       "    </tr>\n",
       "    <tr>\n",
       "      <th>...</th>\n",
       "      <td>...</td>\n",
       "      <td>...</td>\n",
       "      <td>...</td>\n",
       "    </tr>\n",
       "    <tr>\n",
       "      <th>60309</th>\n",
       "      <td>1455450835F72F5E</td>\n",
       "      <td>2020-12-30 09:27:10</td>\n",
       "      <td>4.99</td>\n",
       "    </tr>\n",
       "    <tr>\n",
       "      <th>60310</th>\n",
       "      <td>339C4C55021A83C6</td>\n",
       "      <td>2020-12-30 12:55:08</td>\n",
       "      <td>9.99</td>\n",
       "    </tr>\n",
       "    <tr>\n",
       "      <th>60311</th>\n",
       "      <td>D1553B56FFA8974B</td>\n",
       "      <td>2020-12-30 03:15:35</td>\n",
       "      <td>4.99</td>\n",
       "    </tr>\n",
       "    <tr>\n",
       "      <th>60312</th>\n",
       "      <td>245E85F65C358E08</td>\n",
       "      <td>2020-12-30 19:35:55</td>\n",
       "      <td>9.99</td>\n",
       "    </tr>\n",
       "    <tr>\n",
       "      <th>60313</th>\n",
       "      <td>F80C9BDDEA02E53C</td>\n",
       "      <td>2020-12-30 09:53:39</td>\n",
       "      <td>4.99</td>\n",
       "    </tr>\n",
       "  </tbody>\n",
       "</table>\n",
       "<p>60314 rows × 3 columns</p>\n",
       "</div>"
      ],
      "text/plain": [
       "                user_id            event_dt  details\n",
       "0      E1BDDCE0DAFA2679 2020-12-07 20:22:03    99.99\n",
       "1      7B6452F081F49504 2020-12-07 09:22:53     9.99\n",
       "2      9CD9F34546DF254C 2020-12-07 12:59:29     4.99\n",
       "3      96F27A054B191457 2020-12-07 04:02:40     4.99\n",
       "4      1FD7660FDF94CA1F 2020-12-07 10:15:09     4.99\n",
       "...                 ...                 ...      ...\n",
       "60309  1455450835F72F5E 2020-12-30 09:27:10     4.99\n",
       "60310  339C4C55021A83C6 2020-12-30 12:55:08     9.99\n",
       "60311  D1553B56FFA8974B 2020-12-30 03:15:35     4.99\n",
       "60312  245E85F65C358E08 2020-12-30 19:35:55     9.99\n",
       "60313  F80C9BDDEA02E53C 2020-12-30 09:53:39     4.99\n",
       "\n",
       "[60314 rows x 3 columns]"
      ]
     },
     "execution_count": 77,
     "metadata": {},
     "output_type": "execute_result"
    }
   ],
   "source": [
    "df = user_events[user_events['event_name'] == 'purchase']\n",
    "df = df.drop(['event_name'], axis = 1)\n",
    "df"
   ]
  },
  {
   "cell_type": "code",
   "execution_count": 72,
   "metadata": {},
   "outputs": [],
   "source": [
    "def column_change(df, placed_column, replaced_column):\n",
    "    temp = df[replaced_column].copy()\n",
    "    df[replaced_column] = df[placed_column]\n",
    "    df[placed_column] = temp\n",
    "    df.rename(columns = {placed_column:'temp'}, inplace = True)\n",
    "    df.rename(columns = {replaced_column:placed_column}, inplace = True)\n",
    "    df.rename(columns = {'temp':replaced_column}, inplace = True)"
   ]
  },
  {
   "cell_type": "code",
   "execution_count": 15,
   "metadata": {},
   "outputs": [
    {
     "name": "stdout",
     "output_type": "stream",
     "text": [
      "<class 'pandas.core.frame.DataFrame'>\n",
      "RangeIndex: 14 entries, 0 to 13\n",
      "Data columns (total 4 columns):\n",
      " #   Column     Non-Null Count  Dtype         \n",
      "---  ------     --------------  -----         \n",
      " 0   name       14 non-null     object        \n",
      " 1   regions    14 non-null     object        \n",
      " 2   start_dt   14 non-null     datetime64[ns]\n",
      " 3   finish_dt  14 non-null     datetime64[ns]\n",
      "dtypes: datetime64[ns](2), object(2)\n",
      "memory usage: 576.0+ bytes\n",
      "\n",
      "Number of duplicated values:  0\n",
      "Number of missing values: \n",
      "name         0\n",
      "regions      0\n",
      "start_dt     0\n",
      "finish_dt    0\n",
      "dtype: int64\n"
     ]
    }
   ],
   "source": [
    "marketing_events.info()\n",
    "print('')\n",
    "print('Number of duplicated values: ',marketing_events.duplicated().sum())\n",
    "print('Number of missing values: ')\n",
    "print(marketing_events.isna().sum())"
   ]
  },
  {
   "cell_type": "code",
   "execution_count": 16,
   "metadata": {},
   "outputs": [
    {
     "name": "stdout",
     "output_type": "stream",
     "text": [
      "<class 'pandas.core.frame.DataFrame'>\n",
      "RangeIndex: 58703 entries, 0 to 58702\n",
      "Data columns (total 4 columns):\n",
      " #   Column      Non-Null Count  Dtype         \n",
      "---  ------      --------------  -----         \n",
      " 0   user_id     58703 non-null  object        \n",
      " 1   first_date  58703 non-null  datetime64[ns]\n",
      " 2   region      58703 non-null  object        \n",
      " 3   device      58703 non-null  object        \n",
      "dtypes: datetime64[ns](1), object(3)\n",
      "memory usage: 1.8+ MB\n",
      "\n",
      "Number of duplicated values:  0\n",
      "Number of missing values: \n",
      "user_id       0\n",
      "first_date    0\n",
      "region        0\n",
      "device        0\n",
      "dtype: int64\n"
     ]
    }
   ],
   "source": [
    "users.info()\n",
    "print('')\n",
    "print('Number of duplicated values: ',users.duplicated().sum())\n",
    "print('Number of missing values: ')\n",
    "print(users.isna().sum())"
   ]
  },
  {
   "cell_type": "code",
   "execution_count": 17,
   "metadata": {},
   "outputs": [
    {
     "name": "stdout",
     "output_type": "stream",
     "text": [
      "<class 'pandas.core.frame.DataFrame'>\n",
      "RangeIndex: 423761 entries, 0 to 423760\n",
      "Data columns (total 4 columns):\n",
      " #   Column      Non-Null Count   Dtype         \n",
      "---  ------      --------------   -----         \n",
      " 0   user_id     423761 non-null  object        \n",
      " 1   event_dt    423761 non-null  datetime64[ns]\n",
      " 2   event_name  423761 non-null  object        \n",
      " 3   details     60314 non-null   float64       \n",
      "dtypes: datetime64[ns](1), float64(1), object(2)\n",
      "memory usage: 12.9+ MB\n",
      "\n",
      "Number of duplicated values:  0\n",
      "Number of missing values: \n",
      "user_id            0\n",
      "event_dt           0\n",
      "event_name         0\n",
      "details       363447\n",
      "dtype: int64\n"
     ]
    }
   ],
   "source": [
    "user_events.info()\n",
    "print('')\n",
    "print('Number of duplicated values: ',user_events.duplicated().sum())\n",
    "print('Number of missing values: ')\n",
    "print(user_events.isna().sum())"
   ]
  },
  {
   "cell_type": "code",
   "execution_count": 18,
   "metadata": {},
   "outputs": [
    {
     "name": "stdout",
     "output_type": "stream",
     "text": [
      "<class 'pandas.core.frame.DataFrame'>\n",
      "RangeIndex: 14525 entries, 0 to 14524\n",
      "Data columns (total 3 columns):\n",
      " #   Column   Non-Null Count  Dtype \n",
      "---  ------   --------------  ----- \n",
      " 0   user_id  14525 non-null  object\n",
      " 1   group    14525 non-null  object\n",
      " 2   ab_test  14525 non-null  object\n",
      "dtypes: object(3)\n",
      "memory usage: 340.6+ KB\n",
      "\n",
      "Number of duplicated values:  0\n",
      "Number of missing values: \n",
      "user_id    0\n",
      "group      0\n",
      "ab_test    0\n",
      "dtype: int64\n"
     ]
    }
   ],
   "source": [
    "participants.info()\n",
    "print('')\n",
    "print('Number of duplicated values: ',participants.duplicated().sum())\n",
    "print('Number of missing values: ')\n",
    "print(participants.isna().sum())"
   ]
  },
  {
   "cell_type": "markdown",
   "metadata": {},
   "source": [
    "**Read the csv file with date columns as datetime type.<br>\n",
    "We have missing values at the details column, for events that didn't make revenue directly (product page, product cart and login). <br>\n",
    "We don't have any duplicated rows in any df.**"
   ]
  },
  {
   "cell_type": "markdown",
   "metadata": {},
   "source": [
    "## Preprocess the data"
   ]
  },
  {
   "cell_type": "markdown",
   "metadata": {},
   "source": [
    "**In the preprocess stage, I was trying to gather the expected of test participants - around 6000.\n",
    "In the participants df, we only have around 3600 user IDs specifically gathered for the \"recommender_system_test\". In order to gather enough participants to our A/B test, I had to also use data on users dedicated to the \"interface_eu_test\". assuming in both tests the participants in each group A/B have seen the exact interface in the defined period of time.**"
   ]
  },
  {
   "cell_type": "code",
   "execution_count": 19,
   "metadata": {},
   "outputs": [],
   "source": [
    "good_users = participants.merge(users, on = 'user_id').query('(first_date >= \"2020-12-07\") & (first_date <= \"2020-12-21\") & region == \"EU\"')\n",
    "\n",
    "good_users_funnel = user_events.pivot_table(index = 'user_id', columns = 'event_name', values = 'event_dt', aggfunc = 'min').reset_index()\n",
    "\n",
    "good_users_funnel = good_users_funnel.merge(good_users, on = 'user_id')\n",
    "\n",
    "good_users_funnel.dropna(subset = ['login'], inplace = True)"
   ]
  },
  {
   "cell_type": "markdown",
   "metadata": {},
   "source": [
    "**Merging the participants and users dfs on user_id, while making sure all the users are from EU region and made their first sign up after the launch and before the end date.<br>\n",
    "Then creating the funnel df for each user and merging again on user_id, so we have only user_ids that are fit to our conditions.<br>\n",
    "Dropping rows with null values in the 'login' column.**"
   ]
  },
  {
   "cell_type": "markdown",
   "metadata": {},
   "source": [
    "**Ended up with around 13,000 users, but there were problems with the data. In a lot of cases the time of an event didn't match with the time of the following event, events that apparently happend before the next stage in the funnel. <br>\n",
    "For example a funnel of product_cart -> product_page -> purchase, with product page that comes only after the product cart, Or purchases that were made without visiting the product page or putting the product in the cart (product page and cart are NaT values).\n",
    "I can't tell why these problems occured and I will ask the data engineers, but for now all I can do is making sure the funnel makes sence.**\n",
    "\n",
    "**I will assume the first example was technical mistake, so I will drop the H:M:S part of the date and only deal with the days, while making sure the events occured according to the funnel.**"
   ]
  },
  {
   "cell_type": "code",
   "execution_count": null,
   "metadata": {},
   "outputs": [],
   "source": [
    "new_df[group + '_' + stages[i] + '_sum_' + 'cumulative'] = new_df[group + '_' + df].cumsum(axis = 0)       "
   ]
  },
  {
   "cell_type": "code",
   "execution_count": 9,
   "metadata": {},
   "outputs": [],
   "source": [
    "good_users_funnel['login'] = good_users_funnel['login'].dt.date\n",
    "good_users_funnel['product_page'] = good_users_funnel['product_page'].dt.date\n",
    "good_users_funnel['product_cart'] = good_users_funnel['product_cart'].dt.date\n",
    "good_users_funnel['purchase'] = good_users_funnel['purchase'].dt.date\n",
    "\n",
    "good_users_funnel['login'] = pd.to_datetime(good_users_funnel['login'])\n",
    "good_users_funnel['product_page'] = pd.to_datetime(good_users_funnel['product_page'])\n",
    "good_users_funnel['product_cart'] = pd.to_datetime(good_users_funnel['product_cart'])\n",
    "good_users_funnel['purchase'] = pd.to_datetime(good_users_funnel['purchase'])"
   ]
  },
  {
   "cell_type": "code",
   "execution_count": 10,
   "metadata": {},
   "outputs": [],
   "source": [
    "login_only = good_users_funnel[(good_users_funnel['login'].notna()) &\n",
    "                              (good_users_funnel['product_page'].isna()) &\n",
    "                              (good_users_funnel['product_cart'].isna()) &\n",
    "                              (good_users_funnel['purchase'].isna())]\n",
    "\n",
    "login_page = good_users_funnel[(good_users_funnel['login'].notna()) &\n",
    "                              (good_users_funnel['product_page'].notna()) &\n",
    "                              (good_users_funnel['product_cart'].isna()) &\n",
    "                              (good_users_funnel['purchase'].isna()) &\n",
    "                              (good_users_funnel['login'] <= good_users_funnel['product_page'])]\n",
    "\n",
    "login_page_cart = good_users_funnel[(good_users_funnel['login'].notna()) &\n",
    "                                   (good_users_funnel['product_page'].notna()) &\n",
    "                                   (good_users_funnel['product_cart'].notna()) &\n",
    "                                   (good_users_funnel['purchase'].isna()) &\n",
    "                                   (good_users_funnel['login'] <= good_users_funnel['product_page']) &\n",
    "                                   (good_users_funnel['product_page'] <= good_users_funnel['product_cart'])]\n",
    "\n",
    "login_page_cart_purchase = good_users_funnel[(good_users_funnel['login'].notna()) &\n",
    "                                            (good_users_funnel['product_page'].notna()) &\n",
    "                                            (good_users_funnel['product_cart'].notna()) &\n",
    "                                            (good_users_funnel['purchase'].notna()) &\n",
    "                                            (good_users_funnel['login'] <= good_users_funnel['product_page']) &\n",
    "                                            (good_users_funnel['product_page'] <= good_users_funnel['product_cart']) &\n",
    "                                            (good_users_funnel['product_cart'] <= good_users_funnel['purchase'])]"
   ]
  },
  {
   "cell_type": "markdown",
   "metadata": {},
   "source": [
    "**Made sure the event's dates makes sence and there are no events with null values that have actual events after them.**"
   ]
  },
  {
   "cell_type": "code",
   "execution_count": 11,
   "metadata": {},
   "outputs": [],
   "source": [
    "good_funnel = login_only.append(login_page).append(login_page_cart).append(login_page_cart_purchase).reset_index(drop = True)\n",
    "column_change(good_funnel, 'product_cart', 'product_page')\n",
    "\n",
    "good_funnel.drop(['ab_test', 'first_date', 'region'], axis = 1, inplace = True)"
   ]
  },
  {
   "cell_type": "markdown",
   "metadata": {},
   "source": [
    "**Ended up with 4 dfs, each represents different final stage in the funnel:<br>**\n",
    "**1) for participants that only logged in** <br>\n",
    "**2) login -> product_page<br>**\n",
    "**3) login -> product_page -> product_cart<br>**\n",
    "**4) login -> product_page -> product_cart -> purchase<br>**"
   ]
  },
  {
   "cell_type": "code",
   "execution_count": 12,
   "metadata": {},
   "outputs": [],
   "source": [
    "purchases = pd.DataFrame(data = user_events[user_events['event_name'] == 'purchase'])\n",
    "purchases['event_dt'] = purchases['event_dt'].dt.date\n",
    "purchases['event_dt'] = pd.to_datetime(purchases['event_dt'])"
   ]
  },
  {
   "cell_type": "code",
   "execution_count": 13,
   "metadata": {},
   "outputs": [],
   "source": [
    "good_funnel = pd.merge(good_funnel, purchases,  how='left', left_on=['user_id','purchase'], right_on = ['user_id','event_dt']).drop(['event_dt', 'event_name'], axis = 1)\n",
    "\n",
    "good_funnel = good_funnel.sort_values(by = 'product_page', ascending = True).reset_index(drop = True)"
   ]
  },
  {
   "cell_type": "markdown",
   "metadata": {},
   "source": [
    "**Added the details colums so I will know the revenue for each user that ended up purchasing.**"
   ]
  },
  {
   "cell_type": "code",
   "execution_count": 14,
   "metadata": {},
   "outputs": [],
   "source": [
    "all_duplicates = good_funnel[good_funnel['user_id'].duplicated(keep = False) == True]"
   ]
  },
  {
   "cell_type": "code",
   "execution_count": 15,
   "metadata": {},
   "outputs": [],
   "source": [
    "a_b_check = pd.DataFrame(data = all_duplicates.groupby('user_id')['group'].value_counts())"
   ]
  },
  {
   "cell_type": "code",
   "execution_count": 16,
   "metadata": {},
   "outputs": [
    {
     "data": {
      "text/html": [
       "<div>\n",
       "<style scoped>\n",
       "    .dataframe tbody tr th:only-of-type {\n",
       "        vertical-align: middle;\n",
       "    }\n",
       "\n",
       "    .dataframe tbody tr th {\n",
       "        vertical-align: top;\n",
       "    }\n",
       "\n",
       "    .dataframe thead th {\n",
       "        text-align: right;\n",
       "    }\n",
       "</style>\n",
       "<table border=\"1\" class=\"dataframe\">\n",
       "  <thead>\n",
       "    <tr style=\"text-align: right;\">\n",
       "      <th></th>\n",
       "      <th></th>\n",
       "      <th>group</th>\n",
       "    </tr>\n",
       "    <tr>\n",
       "      <th>user_id</th>\n",
       "      <th>group</th>\n",
       "      <th></th>\n",
       "    </tr>\n",
       "  </thead>\n",
       "  <tbody>\n",
       "    <tr>\n",
       "      <th>001064FEAAB631A1</th>\n",
       "      <th>B</th>\n",
       "      <td>2</td>\n",
       "    </tr>\n",
       "    <tr>\n",
       "      <th>00341D8401F0F665</th>\n",
       "      <th>A</th>\n",
       "      <td>2</td>\n",
       "    </tr>\n",
       "    <tr>\n",
       "      <th rowspan=\"2\" valign=\"top\">0082295A41A867B5</th>\n",
       "      <th>A</th>\n",
       "      <td>1</td>\n",
       "    </tr>\n",
       "    <tr>\n",
       "      <th>B</th>\n",
       "      <td>1</td>\n",
       "    </tr>\n",
       "    <tr>\n",
       "      <th>00E68F103C66C1F7</th>\n",
       "      <th>A</th>\n",
       "      <td>1</td>\n",
       "    </tr>\n",
       "  </tbody>\n",
       "</table>\n",
       "</div>"
      ],
      "text/plain": [
       "                        group\n",
       "user_id          group       \n",
       "001064FEAAB631A1 B          2\n",
       "00341D8401F0F665 A          2\n",
       "0082295A41A867B5 A          1\n",
       "                 B          1\n",
       "00E68F103C66C1F7 A          1"
      ]
     },
     "execution_count": 16,
     "metadata": {},
     "output_type": "execute_result"
    }
   ],
   "source": [
    "a_b_check.head()"
   ]
  },
  {
   "cell_type": "markdown",
   "metadata": {},
   "source": [
    "**While looking for duplicated users, found some users who are in both A and B groups.<br>\n",
    "These kind of users need to be dropped completely since we don't know in which group they were.<br>\n",
    "For users that had duplicates only in one group, we can just use drop_duplicates.**"
   ]
  },
  {
   "cell_type": "code",
   "execution_count": 17,
   "metadata": {},
   "outputs": [],
   "source": [
    "double_users = a_b_check[a_b_check['group'] < 2]"
   ]
  },
  {
   "cell_type": "code",
   "execution_count": 18,
   "metadata": {},
   "outputs": [],
   "source": [
    "double_users = double_users.index.get_level_values('user_id')"
   ]
  },
  {
   "cell_type": "code",
   "execution_count": 19,
   "metadata": {},
   "outputs": [],
   "source": [
    "good_funnel = good_funnel[~good_funnel['user_id'].isin(double_users)].reset_index()"
   ]
  },
  {
   "cell_type": "code",
   "execution_count": 20,
   "metadata": {},
   "outputs": [
    {
     "data": {
      "text/plain": [
       "283"
      ]
     },
     "execution_count": 20,
     "metadata": {},
     "output_type": "execute_result"
    }
   ],
   "source": [
    "good_funnel['user_id'].duplicated().sum()"
   ]
  },
  {
   "cell_type": "code",
   "execution_count": 21,
   "metadata": {},
   "outputs": [],
   "source": [
    "good_funnel.drop_duplicates(subset = 'user_id', inplace = True)"
   ]
  },
  {
   "cell_type": "code",
   "execution_count": 22,
   "metadata": {},
   "outputs": [],
   "source": [
    "a_group = good_funnel[good_funnel['group'] == 'A']\n",
    "b_group = good_funnel[good_funnel['group'] == 'B']"
   ]
  },
  {
   "cell_type": "markdown",
   "metadata": {},
   "source": [
    "**Eventually, I ended up with around 8000 participants, let's divide them by group and see if we can take two samples with total of around 6000 participants.**"
   ]
  },
  {
   "cell_type": "code",
   "execution_count": 23,
   "metadata": {},
   "outputs": [
    {
     "name": "stdout",
     "output_type": "stream",
     "text": [
      "Number of A group participants:  4453\n",
      "Number of B group participants:  3445\n"
     ]
    }
   ],
   "source": [
    "print('Number of A group participants: ',len(a_group))\n",
    "print('Number of B group participants: ',len(b_group))"
   ]
  },
  {
   "cell_type": "markdown",
   "metadata": {},
   "source": [
    "**We can create two samples with 2500 participants in each group with total of 5000 participants.**"
   ]
  },
  {
   "cell_type": "code",
   "execution_count": 24,
   "metadata": {},
   "outputs": [],
   "source": [
    "a_sample = a_group.sample(n = 3000, random_state = 0).reset_index(drop = True)\n",
    "b_sample = b_group.sample(n = 3000, random_state = 0).reset_index(drop = True)"
   ]
  },
  {
   "cell_type": "markdown",
   "metadata": {},
   "source": [
    "**After filtering the users and creating 2 groups we can start carrying exploratory data analysis.**"
   ]
  },
  {
   "cell_type": "markdown",
   "metadata": {},
   "source": [
    "## EDA"
   ]
  },
  {
   "cell_type": "markdown",
   "metadata": {},
   "source": [
    "**I want to study the cumulative values of each step according to date. I will create two dfs, one for each group, and use them to compare the cumulative values in each day.**"
   ]
  },
  {
   "cell_type": "code",
   "execution_count": 25,
   "metadata": {},
   "outputs": [],
   "source": [
    "def cumulative(sample, group):\n",
    "    cumulative_df = pd.DataFrame(data = a_sample['login'].unique())\n",
    "    cumulative_df = cumulative_df.rename({0: 'date'}, axis = 1).sort_values(by = 'date').reset_index(drop = True)\n",
    "    \n",
    "    stages = ['login', 'product_page', 'product_cart', 'purchase', 'purchase']\n",
    "    dfs = ['login_count', 'page_count', 'cart_count', 'purchase_count', 'purchase_sum']\n",
    "    i = 0\n",
    "    \n",
    "    for df in dfs:\n",
    "        if  df != 'purchase_sum':\n",
    "            new_df = sample.groupby(stages[i])['device'].count().reset_index()\n",
    "            new_df = new_df.rename({stages[i]: 'date', 'device': group + '_' + df}, axis = 1)\n",
    "            new_df[group + '_' + stages[i] + '_' + 'cumulative'] = new_df[group + '_' + df].cumsum(axis = 0)\n",
    "            \n",
    "        else: \n",
    "            new_df = sample.groupby(stages[i])['details'].sum().reset_index()\n",
    "            new_df = new_df.rename({stages[i]: 'date', 'details': group + '_' + df}, axis = 1)\n",
    "            new_df[group + '_' + stages[i] + '_sum_' + 'cumulative'] = new_df[group + '_' + df].cumsum(axis = 0)\n",
    "            \n",
    "        cumulative_df = cumulative_df.merge(new_df, on = 'date')\n",
    "        i = i + 1\n",
    "    \n",
    "    cumulative_df[group + '_avg_purchase_size'] = cumulative_df[group + '_purchase_sum'] / cumulative_df[group + '_purchase_count']\n",
    "    cumulative_df[group + '_login_page_conversion'] = (cumulative_df[group + '_page_count'] / cumulative_df[group + '_login_count']) * 100\n",
    "    cumulative_df[group + '_page_cart_conversion'] = (cumulative_df[group + '_cart_count'] / cumulative_df[group + '_page_count']) * 100\n",
    "    cumulative_df[group + '_cart_purchase_conversion'] = (cumulative_df[group + '_purchase_count'] / cumulative_df[group + '_cart_count']) * 100\n",
    "    cumulative_df[group + '_daily_events'] = cumulative_df[group + '_login_count'] + cumulative_df[group + '_page_count'] + cumulative_df[group + '_cart_count'] + cumulative_df[group + '_purchase_count']\n",
    "    cumulative_df[group + '_daily_events_per_user'] = cumulative_df[group + '_daily_events'] / cumulative_df[group + '_login_count']\n",
    "    return cumulative_df"
   ]
  },
  {
   "cell_type": "code",
   "execution_count": 26,
   "metadata": {},
   "outputs": [],
   "source": [
    "def cumulative(sample, group):\n",
    "    cumulative_df = pd.DataFrame(data = a_sample['login'].unique())\n",
    "    cumulative_df = cumulative_df.rename({0: 'date'}, axis = 1).sort_values(by = 'date').reset_index(drop = True)\n",
    "    \n",
    "    stages = ['login', 'product_page', 'product_cart', 'purchase', 'purchase']\n",
    "    dfs = ['login_count', 'page_count', 'cart_count', 'purchase_count', 'purchase_sum']\n",
    "    i = 0\n",
    "    \n",
    "    for df in dfs:\n",
    "        if  df != 'purchase_sum':\n",
    "            new_df = sample.groupby(stages[i])['device'].count().reset_index()\n",
    "            new_df = new_df.rename({stages[i]: 'date', 'device': group + '_' + df}, axis = 1)\n",
    "            new_df[group + '_' + stages[i] + '_' + 'cumulative'] = new_df[group + '_' + df].cumsum(axis = 0)\n",
    "            \n",
    "        else: \n",
    "            new_df = sample.groupby(stages[i])['details'].sum().reset_index()\n",
    "            new_df = new_df.rename({stages[i]: 'date', 'details': group + '_' + df}, axis = 1)\n",
    "            new_df[group + '_' + stages[i] + '_sum_' + 'cumulative'] = new_df[group + '_' + df].cumsum(axis = 0)\n",
    "            \n",
    "        cumulative_df = cumulative_df.merge(new_df, on = 'date')\n",
    "        i = i + 1\n",
    "    \n",
    "    cumulative_df[group + '_avg_purchase_size'] = cumulative_df[group + '_purchase_sum'] / cumulative_df[group + '_purchase_count']\n",
    "    cumulative_df[group + '_login_page_conversion'] = (cumulative_df[group + '_product_page_cumulative'] / cumulative_df[group + '_login_cumulative']) * 100\n",
    "    cumulative_df[group + '_page_cart_conversion'] = (cumulative_df[group + '_product_cart_cumulative'] / cumulative_df[group + '_product_page_cumulative']) * 100\n",
    "    cumulative_df[group + '_cart_purchase_conversion'] = (cumulative_df[group + '_purchase_cumulative'] / cumulative_df[group + '_product_cart_cumulative']) * 100\n",
    "    cumulative_df[group + '_daily_events'] = cumulative_df[group + '_login_count'] + cumulative_df[group + '_page_count'] + cumulative_df[group + '_cart_count'] + cumulative_df[group + '_purchase_count']\n",
    "    cumulative_df[group + '_cumulative_daily_events'] = cumulative_df[group + '_daily_events'].cumsum(axis = 0)\n",
    "    cumulative_df[group + '_daily_events_per_user'] = cumulative_df[group + '_daily_events'] / cumulative_df[group + '_login_count']\n",
    "    cumulative_df[group + '_cumulative_daily_events_per_user'] = cumulative_df[group + '_daily_events_per_user'].cumsum(axis = 0)\n",
    "\n",
    "    return cumulative_df"
   ]
  },
  {
   "cell_type": "code",
   "execution_count": 27,
   "metadata": {},
   "outputs": [],
   "source": [
    "a_cumulative = cumulative(a_sample, 'a')\n",
    "b_cumulative = cumulative(b_sample, 'b')"
   ]
  },
  {
   "cell_type": "code",
   "execution_count": 28,
   "metadata": {},
   "outputs": [],
   "source": [
    "def plot(title, xlabel, ylabel, i):\n",
    "    \n",
    "    plots = ['login_page_conversion', 'page_cart_conversion',\n",
    "         'cart_purchase_conversion', 'cumulative_daily_events_per_user',\n",
    "         'cumulative_daily_events', 'purchase_sum_cumulative', 'avg_purchase_size']\n",
    "    \n",
    "    ax = a_cumulative.plot(x = 'date', y = 'a_' + plots[i], figsize=(17,9), label = 'group A')\n",
    "    b_cumulative.plot(x = 'date', y = 'b_' + plots[i], figsize=(17,9), ax = ax, label = 'group B')\n",
    "    plt.title(title, fontsize = 15)\n",
    "    plt.xlabel(xlabel, fontsize=18)\n",
    "    plt.ylabel(ylabel, fontsize=16)\n",
    "    plt.legend(prop={'size': 15})\n",
    "    plt.grid()"
   ]
  },
  {
   "cell_type": "code",
   "execution_count": 29,
   "metadata": {},
   "outputs": [
    {
     "data": {
      "image/png": "[encoded data removed]",
      "text/plain": [
       "<Figure size 1224x648 with 1 Axes>"
      ]
     },
     "metadata": {
      "needs_background": "light"
     },
     "output_type": "display_data"
    }
   ],
   "source": [
    "plot('Cumulative conversion % - login to product page by group', 'Day of month', 'Conversion %', 0)"
   ]
  },
  {
   "cell_type": "code",
   "execution_count": 30,
   "metadata": {},
   "outputs": [
    {
     "data": {
      "image/png": "[encoded data removed]",
      "text/plain": [
       "<Figure size 1224x648 with 1 Axes>"
      ]
     },
     "metadata": {
      "needs_background": "light"
     },
     "output_type": "display_data"
    }
   ],
   "source": [
    "plot('Cumulative conversion % - product to cart page by group', 'Day of month', 'Conversion %', 1)"
   ]
  },
  {
   "cell_type": "code",
   "execution_count": 31,
   "metadata": {},
   "outputs": [
    {
     "data": {
      "image/png": "[encoded data removed]",
      "text/plain": [
       "<Figure size 1224x648 with 1 Axes>"
      ]
     },
     "metadata": {
      "needs_background": "light"
     },
     "output_type": "display_data"
    }
   ],
   "source": [
    "plot('Cumulative conversion % - cart page to purchase by group', 'Day of month', 'Conversion %', 2)"
   ]
  },
  {
   "cell_type": "code",
   "execution_count": 32,
   "metadata": {},
   "outputs": [
    {
     "data": {
      "image/png": "[encoded data removed]",
      "text/plain": [
       "<Figure size 1224x648 with 1 Axes>"
      ]
     },
     "metadata": {
      "needs_background": "light"
     },
     "output_type": "display_data"
    }
   ],
   "source": [
    "plot('Cumulative daily events per user by group', 'Day of month', 'Daily events per user', 3)"
   ]
  },
  {
   "cell_type": "code",
   "execution_count": 33,
   "metadata": {},
   "outputs": [
    {
     "data": {
      "image/png": "[encoded data removed]",
      "text/plain": [
       "<Figure size 1224x648 with 1 Axes>"
      ]
     },
     "metadata": {
      "needs_background": "light"
     },
     "output_type": "display_data"
    }
   ],
   "source": [
    "plot('Cumulative daily events by group', 'Day of month', 'Daily events', 4)"
   ]
  },
  {
   "cell_type": "code",
   "execution_count": 34,
   "metadata": {},
   "outputs": [
    {
     "data": {
      "image/png": "[encoded data removed]",
      "text/plain": [
       "<Figure size 1224x648 with 1 Axes>"
      ]
     },
     "metadata": {
      "needs_background": "light"
     },
     "output_type": "display_data"
    }
   ],
   "source": [
    "plot('Cumulative revenue by group', 'Day of month', 'Cumulative revenue', 5)"
   ]
  },
  {
   "cell_type": "code",
   "execution_count": 35,
   "metadata": {},
   "outputs": [
    {
     "data": {
      "image/png": "[encoded data removed]",
      "text/plain": [
       "<Figure size 1224x648 with 1 Axes>"
      ]
     },
     "metadata": {
      "needs_background": "light"
     },
     "output_type": "display_data"
    }
   ],
   "source": [
    "plot('Avg purchase size by group', 'Day of month', 'Purchase size', 6)"
   ]
  },
  {
   "cell_type": "markdown",
   "metadata": {},
   "source": [
    "**We don't have definite advantage for any of the groups. Group A might have slight advantage in the conversion of the first stage, but the adavantage is not significant and we can't say one of the groups performed better than the other. Looks like the change in recommendation system didn't affect much.**"
   ]
  },
  {
   "cell_type": "code",
   "execution_count": 36,
   "metadata": {},
   "outputs": [
    {
     "data": {
      "image/png": "[encoded data removed]",
      "text/plain": [
       "<Figure size 1224x648 with 1 Axes>"
      ]
     },
     "metadata": {
      "needs_background": "light"
     },
     "output_type": "display_data"
    }
   ],
   "source": [
    "# the reviewer's cell:\n",
    "tmp_a = a_cumulative.copy()\n",
    "tmp_b = b_cumulative.copy()\n",
    "\n",
    "tmp_a['a_login_purchase_cumm_conversion'] =  tmp_a['a_purchase_cumulative']/tmp_a['a_login_cumulative']\n",
    "tmp_b['b_login_purchase_cumm_conversion'] =  tmp_b['b_purchase_cumulative']/tmp_b['b_login_cumulative']\n",
    "\n",
    "ax = tmp_a.plot(x = 'date', y = 'a_login_purchase_cumm_conversion', figsize=(17,9), label = 'group A')\n",
    "tmp_b.plot(x = 'date', y = 'b_login_purchase_cumm_conversion', figsize=(17,9), ax = ax, label = 'group B')\n",
    "\n",
    "plt.title('login_purchase_cumm_conversion', fontsize = 15)\n",
    "plt.xlabel('Date', fontsize=18)\n",
    "plt.ylabel('Conversion', fontsize=16)\n",
    "plt.legend(prop={'size': 15})\n",
    "plt.grid()"
   ]
  },
  {
   "cell_type": "markdown",
   "metadata": {},
   "source": [
    "**Let's look at the relative difference in conversion % and see if we can conclude something from it.**"
   ]
  },
  {
   "cell_type": "code",
   "execution_count": 37,
   "metadata": {},
   "outputs": [],
   "source": [
    "merged_cum_conversions = a_cumulative[['date','a_login_page_conversion',\n",
    "                                       'a_page_cart_conversion',\n",
    "                                       'a_cart_purchase_conversion']].merge(b_cumulative[['date',\n",
    "                                                                                          'b_login_page_conversion',\n",
    "                                                                                          'b_page_cart_conversion',\n",
    "                                                                                          'b_cart_purchase_conversion']],\n",
    "                                                                                           left_on='date', right_on='date', how='left')\n",
    "\n",
    "merged_cum_conversions['login_page_relative'] = (merged_cum_conversions['b_login_page_conversion'] / merged_cum_conversions['a_login_page_conversion'] - 1)\n",
    "merged_cum_conversions['page_cart_relative'] = (merged_cum_conversions['b_page_cart_conversion'] / merged_cum_conversions['a_page_cart_conversion'] - 1)\n",
    "merged_cum_conversions['cart_purchase_relative'] = (merged_cum_conversions['b_cart_purchase_conversion'] / merged_cum_conversions['a_cart_purchase_conversion'] - 1)"
   ]
  },
  {
   "cell_type": "code",
   "execution_count": 38,
   "metadata": {},
   "outputs": [
    {
     "data": {
      "image/png": "[encoded data removed]",
      "text/plain": [
       "<Figure size 1224x648 with 1 Axes>"
      ]
     },
     "metadata": {
      "needs_background": "light"
     },
     "output_type": "display_data"
    }
   ],
   "source": [
    "merged_cum_conversions.plot(x = 'date', y = 'login_page_relative', figsize=(17,9), grid = True, label = 'Relative difference')\n",
    "plt.axhline(y=0, color='black', linestyle='--')\n",
    "plt.axhline(y=0.1, color='grey', linestyle='--')\n",
    "plt.title('Relative difference in coversion %, login to product page', fontsize = 15)\n",
    "plt.xlabel('Day of month', fontsize=18)\n",
    "plt.ylabel('Relative difference %', fontsize=16)\n",
    "plt.show()"
   ]
  },
  {
   "cell_type": "code",
   "execution_count": 39,
   "metadata": {
    "scrolled": false
   },
   "outputs": [
    {
     "data": {
      "image/png": "[encoded data removed]",
      "text/plain": [
       "<Figure size 1224x648 with 1 Axes>"
      ]
     },
     "metadata": {
      "needs_background": "light"
     },
     "output_type": "display_data"
    }
   ],
   "source": [
    "merged_cum_conversions.plot(x = 'date', y = 'page_cart_relative', figsize=(17,9), grid = True, label = 'Relative difference')\n",
    "plt.axhline(y=0, color='black', linestyle='--')\n",
    "plt.axhline(y=0.1, color='grey', linestyle='--')\n",
    "plt.title('Relative difference in coversion %, product page to product in cart', fontsize = 15)\n",
    "plt.xlabel('Day of month', fontsize=18)\n",
    "plt.ylabel('Relative difference %', fontsize=16)\n",
    "plt.show()"
   ]
  },
  {
   "cell_type": "code",
   "execution_count": 40,
   "metadata": {
    "scrolled": false
   },
   "outputs": [
    {
     "data": {
      "image/png": "[encoded data removed]",
      "text/plain": [
       "<Figure size 1224x648 with 1 Axes>"
      ]
     },
     "metadata": {
      "needs_background": "light"
     },
     "output_type": "display_data"
    }
   ],
   "source": [
    "merged_cum_conversions.plot(x = 'date', y = 'cart_purchase_relative', figsize=(17,9), grid = True, label = 'Relative difference')\n",
    "plt.axhline(y=0, color='black', linestyle='--')\n",
    "plt.axhline(y=0.1, color='grey', linestyle='--')\n",
    "plt.title('Relative difference in coversion %, product in cart to purchase', fontsize = 15)\n",
    "plt.xlabel('Day of month', fontsize=18)\n",
    "plt.ylabel('Relative difference %', fontsize=16)\n",
    "plt.show()"
   ]
  },
  {
   "cell_type": "markdown",
   "metadata": {},
   "source": [
    "**In the relative difference in conversion, In the first stage group A has an adventage. In the other two, there's an adventage for group B only at the begining of the test. Later the difference stablize very close to zero.**"
   ]
  },
  {
   "cell_type": "markdown",
   "metadata": {},
   "source": [
    "## A/B test"
   ]
  },
  {
   "cell_type": "markdown",
   "metadata": {},
   "source": [
    "**In order to make sure the proportions of the two samples are equal, I will perform Z-test,  statistical test to determine whether two population means are different when the variances are known and the sample size is large.**"
   ]
  },
  {
   "cell_type": "markdown",
   "metadata": {},
   "source": [
    "### Testing proportions"
   ]
  },
  {
   "cell_type": "code",
   "execution_count": 41,
   "metadata": {},
   "outputs": [],
   "source": [
    "def z_test(a_success, b_success, a_trials, b_trials):\n",
    "    alpha = .05 # significance level\n",
    "    \n",
    "    successes = np.array([a_success, b_success])\n",
    "    trials = np.array([a_trials, b_trials])\n",
    "\n",
    "    # success proportion in the first group:\n",
    "    p1 = successes[0]/trials[0]\n",
    "\n",
    "    # success proportion in the second group:\n",
    "    p2 = successes[1]/trials[1]\n",
    "\n",
    "    # success proportion in the combined dataset:\n",
    "    p_combined = (successes[0] + successes[1]) / (trials[0] + trials[1])\n",
    "\n",
    "    # the difference between the datasets' proportions\n",
    "    difference = p1 - p2 \n",
    "\n",
    "    # calculating the statistic in standard deviations of the standard normal distribution\n",
    "    z_value = difference / mth.sqrt(p_combined * (1 - p_combined) * (1/trials[0] + 1/trials[1]))\n",
    "\n",
    "    # setting up the standard normal distribution (mean 0, standard deviation 1)\n",
    "    distr = st.norm(0, 1) \n",
    "\n",
    "    p_value = (1 - distr.cdf(abs(z_value))) * 2\n",
    "\n",
    "    print('p-value: ', p_value)\n",
    "\n",
    "    if (p_value < alpha):\n",
    "        print(\"Rejecting the null hypothesis: there is a significant difference between the proportions\")\n",
    "    else:\n",
    "        print(\"Failed to reject the null hypothesis: there is no reason to consider the proportions different\") "
   ]
  },
  {
   "cell_type": "markdown",
   "metadata": {},
   "source": [
    "**Created a function in order to perform the z-test for each stage in the funnel.**"
   ]
  },
  {
   "cell_type": "markdown",
   "metadata": {},
   "source": [
    "**H0: There is no statistically significant difference in proportion between the groups.**\n",
    "\n",
    "**H1: There is a statistically significant difference in proportion between the groups.**"
   ]
  },
  {
   "cell_type": "markdown",
   "metadata": {},
   "source": [
    "#### Login -> Product page"
   ]
  },
  {
   "cell_type": "code",
   "execution_count": 42,
   "metadata": {},
   "outputs": [
    {
     "name": "stdout",
     "output_type": "stream",
     "text": [
      "p-value:  0.04592153486974904\n",
      "Rejecting the null hypothesis: there is a significant difference between the proportions\n"
     ]
    }
   ],
   "source": [
    "z_test(a_cumulative.loc[14, 'a_product_page_cumulative'],\n",
    "       b_cumulative.loc[14, 'b_product_page_cumulative'],\n",
    "       a_cumulative.loc[14, 'a_login_cumulative'],\n",
    "       b_cumulative.loc[14, 'b_login_cumulative'])"
   ]
  },
  {
   "cell_type": "markdown",
   "metadata": {},
   "source": [
    "#### Product page -> Product in cart"
   ]
  },
  {
   "cell_type": "code",
   "execution_count": 43,
   "metadata": {},
   "outputs": [
    {
     "name": "stdout",
     "output_type": "stream",
     "text": [
      "p-value:  0.4105213665414782\n",
      "Failed to reject the null hypothesis: there is no reason to consider the proportions different\n"
     ]
    }
   ],
   "source": [
    "z_test(a_cumulative.loc[14, 'a_product_cart_cumulative'],\n",
    "       b_cumulative.loc[14, 'b_product_cart_cumulative'],\n",
    "       a_cumulative.loc[14, 'a_product_page_cumulative'],\n",
    "       b_cumulative.loc[14, 'b_product_page_cumulative'])"
   ]
  },
  {
   "cell_type": "markdown",
   "metadata": {},
   "source": [
    "#### Product in cart -> Purchase"
   ]
  },
  {
   "cell_type": "code",
   "execution_count": 44,
   "metadata": {},
   "outputs": [
    {
     "name": "stdout",
     "output_type": "stream",
     "text": [
      "p-value:  0.5789567753802287\n",
      "Failed to reject the null hypothesis: there is no reason to consider the proportions different\n"
     ]
    }
   ],
   "source": [
    "z_test(a_cumulative.loc[14, 'a_purchase_cumulative'],\n",
    "       b_cumulative.loc[14, 'b_purchase_cumulative'],\n",
    "       a_cumulative.loc[14, 'a_product_cart_cumulative'],\n",
    "       b_cumulative.loc[14, 'b_product_cart_cumulative'])"
   ]
  },
  {
   "cell_type": "markdown",
   "metadata": {},
   "source": [
    "**We couldn't reject the null hypothesis in any of the stages, which means the samples were divided in good proportions and the graphs above aren't biased**"
   ]
  },
  {
   "cell_type": "markdown",
   "metadata": {},
   "source": [
    "## Conclusion"
   ]
  },
  {
   "cell_type": "markdown",
   "metadata": {},
   "source": [
    "**In order to increase number of users in each stage of our funnel, we have created some changes in the platform's recommendation system and launched an A/B to test the changes.**\n",
    "\n",
    "**After receiving data regard various types of users, we have filtered the data, making sure we have 6000 participants that fall under the requierments for ouer test, users from EU region that were using the platform in specific dates**\n",
    "\n",
    "**In the test, we have compared the daily conversion % for each stage, number of total daily events and number of daily events by user, cumulative revenue and average purchase size.**\n",
    "\n",
    "**We couldn't find any definite advantage for any of the groups.**\n",
    "\n",
    "**After that, made sure the proportions of the two samples have no significant difference, in order to make sure the samples were divided correctly, and found there are no significant differences in proportion in any of the stages, which means the samples are good and the test was performed correctly.**\n",
    "\n",
    "**Note that because the tests were performed in dates close to christmas and new years eve, the resaults are only relevant to this time of the year and might be different in dates that aren't close to any major holiday.**\n",
    "\n",
    "**In conclusion, we couldn't find advantage for the changes. We can't reccomend implemention of the changes for all users, but we suggest trying the test at a different time of the year**"
   ]
  }
 ],
 "metadata": {
  "ExecuteTimeLog": [
   {
    "duration": 464,
    "start_time": "2022-04-09T13:24:54.587Z"
   },
   {
    "duration": 61,
    "start_time": "2022-04-09T13:25:27.010Z"
   },
   {
    "duration": 25,
    "start_time": "2022-04-09T13:25:29.043Z"
   },
   {
    "duration": 24,
    "start_time": "2022-04-09T13:25:52.260Z"
   },
   {
    "duration": 4561,
    "start_time": "2022-04-09T13:27:27.154Z"
   },
   {
    "duration": 15,
    "start_time": "2022-04-09T13:27:31.717Z"
   },
   {
    "duration": 15,
    "start_time": "2022-04-09T13:27:43.817Z"
   },
   {
    "duration": 15,
    "start_time": "2022-04-09T13:27:51.465Z"
   },
   {
    "duration": 16,
    "start_time": "2022-04-09T13:28:04.049Z"
   },
   {
    "duration": 17,
    "start_time": "2022-04-09T13:28:20.289Z"
   },
   {
    "duration": 79,
    "start_time": "2022-04-09T13:28:38.873Z"
   },
   {
    "duration": 18,
    "start_time": "2022-04-09T13:28:43.114Z"
   },
   {
    "duration": 10,
    "start_time": "2022-04-09T13:28:52.571Z"
   },
   {
    "duration": 11,
    "start_time": "2022-04-09T13:28:58.826Z"
   },
   {
    "duration": 704,
    "start_time": "2022-04-09T14:14:20.257Z"
   },
   {
    "duration": 14,
    "start_time": "2022-04-09T14:18:53.189Z"
   },
   {
    "duration": 721,
    "start_time": "2022-04-09T14:18:54.944Z"
   },
   {
    "duration": 92,
    "start_time": "2022-04-09T14:20:11.093Z"
   },
   {
    "duration": 22,
    "start_time": "2022-04-09T14:20:13.857Z"
   },
   {
    "duration": 14,
    "start_time": "2022-04-09T14:20:42.222Z"
   },
   {
    "duration": 49,
    "start_time": "2022-04-09T14:22:50.777Z"
   },
   {
    "duration": 10,
    "start_time": "2022-04-09T14:22:54.962Z"
   },
   {
    "duration": 52,
    "start_time": "2022-04-09T14:22:58.321Z"
   },
   {
    "duration": 47,
    "start_time": "2022-04-09T14:23:26.409Z"
   },
   {
    "duration": 50,
    "start_time": "2022-04-09T14:23:32.545Z"
   },
   {
    "duration": 787,
    "start_time": "2022-04-09T14:24:16.809Z"
   },
   {
    "duration": 56,
    "start_time": "2022-04-09T14:24:22.848Z"
   },
   {
    "duration": 48,
    "start_time": "2022-04-09T14:24:29.433Z"
   },
   {
    "duration": 51,
    "start_time": "2022-04-09T14:26:15.289Z"
   },
   {
    "duration": 53,
    "start_time": "2022-04-09T14:26:18.666Z"
   },
   {
    "duration": 52,
    "start_time": "2022-04-09T14:26:25.397Z"
   },
   {
    "duration": 51,
    "start_time": "2022-04-09T14:26:28.121Z"
   },
   {
    "duration": 58,
    "start_time": "2022-04-09T14:26:32.964Z"
   },
   {
    "duration": 55,
    "start_time": "2022-04-09T14:26:37.048Z"
   },
   {
    "duration": 51,
    "start_time": "2022-04-09T14:26:46.450Z"
   },
   {
    "duration": 49,
    "start_time": "2022-04-09T14:26:53.802Z"
   },
   {
    "duration": 50,
    "start_time": "2022-04-09T14:26:56.580Z"
   },
   {
    "duration": 51,
    "start_time": "2022-04-09T14:26:59.201Z"
   },
   {
    "duration": 52,
    "start_time": "2022-04-09T14:27:01.242Z"
   },
   {
    "duration": 55,
    "start_time": "2022-04-09T14:27:03.883Z"
   },
   {
    "duration": 12,
    "start_time": "2022-04-09T14:27:41.924Z"
   },
   {
    "duration": 45,
    "start_time": "2022-04-09T14:28:09.024Z"
   },
   {
    "duration": 17,
    "start_time": "2022-04-09T14:28:15.118Z"
   },
   {
    "duration": 22,
    "start_time": "2022-04-09T14:31:23.510Z"
   },
   {
    "duration": 9,
    "start_time": "2022-04-09T14:34:11.324Z"
   },
   {
    "duration": 7,
    "start_time": "2022-04-09T14:34:14.713Z"
   },
   {
    "duration": 9,
    "start_time": "2022-04-09T14:34:39.364Z"
   },
   {
    "duration": 10,
    "start_time": "2022-04-09T14:34:39.496Z"
   },
   {
    "duration": 29,
    "start_time": "2022-04-09T14:34:45.666Z"
   },
   {
    "duration": 21,
    "start_time": "2022-04-09T14:34:45.860Z"
   },
   {
    "duration": 1105,
    "start_time": "2022-04-09T14:35:15.981Z"
   },
   {
    "duration": 8,
    "start_time": "2022-04-09T14:35:37.071Z"
   },
   {
    "duration": 9,
    "start_time": "2022-04-09T14:35:37.202Z"
   },
   {
    "duration": 30,
    "start_time": "2022-04-09T14:35:42.011Z"
   },
   {
    "duration": 20,
    "start_time": "2022-04-09T14:35:48.091Z"
   },
   {
    "duration": 13,
    "start_time": "2022-04-09T14:36:42.268Z"
   },
   {
    "duration": 14,
    "start_time": "2022-04-09T14:36:45.703Z"
   },
   {
    "duration": 22,
    "start_time": "2022-04-09T14:36:55.169Z"
   },
   {
    "duration": 21,
    "start_time": "2022-04-09T14:36:59.668Z"
   },
   {
    "duration": 29,
    "start_time": "2022-04-09T14:38:45.924Z"
   },
   {
    "duration": 23,
    "start_time": "2022-04-09T14:39:12.088Z"
   },
   {
    "duration": 23,
    "start_time": "2022-04-09T14:39:25.188Z"
   },
   {
    "duration": 22,
    "start_time": "2022-04-09T15:21:39.164Z"
   },
   {
    "duration": 18,
    "start_time": "2022-04-09T15:22:10.642Z"
   },
   {
    "duration": 488,
    "start_time": "2022-04-09T15:33:47.443Z"
   },
   {
    "duration": 740,
    "start_time": "2022-04-09T15:33:48.500Z"
   },
   {
    "duration": 638,
    "start_time": "2022-04-11T10:14:25.717Z"
   },
   {
    "duration": 619,
    "start_time": "2022-04-11T10:14:26.357Z"
   },
   {
    "duration": 4,
    "start_time": "2022-04-11T10:14:26.977Z"
   },
   {
    "duration": 21,
    "start_time": "2022-04-11T10:14:26.982Z"
   },
   {
    "duration": 52,
    "start_time": "2022-04-11T10:14:27.005Z"
   },
   {
    "duration": 419,
    "start_time": "2022-04-11T10:14:27.059Z"
   },
   {
    "duration": 32,
    "start_time": "2022-04-11T10:14:27.481Z"
   },
   {
    "duration": 624,
    "start_time": "2022-04-11T10:14:27.516Z"
   },
   {
    "duration": 62,
    "start_time": "2022-04-11T10:14:28.142Z"
   },
   {
    "duration": 23,
    "start_time": "2022-04-11T10:14:28.206Z"
   },
   {
    "duration": 19,
    "start_time": "2022-04-11T10:14:28.231Z"
   },
   {
    "duration": 108,
    "start_time": "2022-04-11T10:14:28.253Z"
   },
   {
    "duration": 16,
    "start_time": "2022-04-11T10:14:28.364Z"
   },
   {
    "duration": 24,
    "start_time": "2022-04-11T10:14:28.384Z"
   },
   {
    "duration": 25,
    "start_time": "2022-04-11T10:14:28.410Z"
   },
   {
    "duration": 550,
    "start_time": "2022-04-11T10:14:28.437Z"
   },
   {
    "duration": 409,
    "start_time": "2022-04-11T10:14:28.990Z"
   },
   {
    "duration": 395,
    "start_time": "2022-04-11T10:14:29.402Z"
   },
   {
    "duration": 443,
    "start_time": "2022-04-11T10:14:29.800Z"
   },
   {
    "duration": 23,
    "start_time": "2022-04-11T10:28:11.148Z"
   },
   {
    "duration": 4,
    "start_time": "2022-04-11T10:31:09.957Z"
   },
   {
    "duration": 15,
    "start_time": "2022-04-11T10:31:16.573Z"
   },
   {
    "duration": 6,
    "start_time": "2022-04-11T10:32:26.197Z"
   },
   {
    "duration": 106,
    "start_time": "2022-04-11T10:32:28.398Z"
   },
   {
    "duration": 23,
    "start_time": "2022-04-11T10:32:33.876Z"
   },
   {
    "duration": 8,
    "start_time": "2022-04-11T10:32:48.387Z"
   },
   {
    "duration": 23,
    "start_time": "2022-04-11T10:32:51.997Z"
   },
   {
    "duration": 5,
    "start_time": "2022-04-11T10:32:58.504Z"
   },
   {
    "duration": 13,
    "start_time": "2022-04-11T10:32:59.361Z"
   },
   {
    "duration": 27,
    "start_time": "2022-04-11T10:34:25.916Z"
   },
   {
    "duration": 24,
    "start_time": "2022-04-11T10:34:26.809Z"
   },
   {
    "duration": 249,
    "start_time": "2022-04-11T10:34:29.459Z"
   },
   {
    "duration": 357,
    "start_time": "2022-04-11T10:34:32.324Z"
   },
   {
    "duration": 264,
    "start_time": "2022-04-11T10:34:33.117Z"
   },
   {
    "duration": 230,
    "start_time": "2022-04-11T10:34:34.024Z"
   },
   {
    "duration": 15,
    "start_time": "2022-04-11T10:35:23.186Z"
   },
   {
    "duration": 9,
    "start_time": "2022-04-11T10:35:36.841Z"
   },
   {
    "duration": 6,
    "start_time": "2022-04-11T10:35:37.414Z"
   },
   {
    "duration": 18,
    "start_time": "2022-04-11T10:35:40.437Z"
   },
   {
    "duration": 10,
    "start_time": "2022-04-11T10:35:44.717Z"
   },
   {
    "duration": 15,
    "start_time": "2022-04-11T10:36:01.637Z"
   },
   {
    "duration": 9,
    "start_time": "2022-04-11T10:36:12.792Z"
   },
   {
    "duration": 9,
    "start_time": "2022-04-11T10:36:47.564Z"
   },
   {
    "duration": 644,
    "start_time": "2022-04-11T10:37:07.741Z"
   },
   {
    "duration": 678,
    "start_time": "2022-04-11T10:37:08.387Z"
   },
   {
    "duration": 4,
    "start_time": "2022-04-11T10:37:09.067Z"
   },
   {
    "duration": 19,
    "start_time": "2022-04-11T10:37:09.073Z"
   },
   {
    "duration": 52,
    "start_time": "2022-04-11T10:37:09.094Z"
   },
   {
    "duration": 290,
    "start_time": "2022-04-11T10:37:09.147Z"
   },
   {
    "duration": 22,
    "start_time": "2022-04-11T10:37:09.439Z"
   },
   {
    "duration": 432,
    "start_time": "2022-04-11T10:37:12.483Z"
   },
   {
    "duration": 33,
    "start_time": "2022-04-11T10:37:18.133Z"
   },
   {
    "duration": 19,
    "start_time": "2022-04-11T10:37:29.577Z"
   },
   {
    "duration": 17,
    "start_time": "2022-04-11T10:37:57.539Z"
   },
   {
    "duration": 21,
    "start_time": "2022-04-11T10:38:01.499Z"
   },
   {
    "duration": 15,
    "start_time": "2022-04-11T10:38:44.262Z"
   },
   {
    "duration": 15,
    "start_time": "2022-04-11T10:38:48.847Z"
   },
   {
    "duration": 63,
    "start_time": "2022-04-11T10:39:40.508Z"
   },
   {
    "duration": 14,
    "start_time": "2022-04-11T10:39:43.618Z"
   },
   {
    "duration": 63,
    "start_time": "2022-04-11T10:40:08.128Z"
   },
   {
    "duration": 65,
    "start_time": "2022-04-11T10:40:11.718Z"
   },
   {
    "duration": 15,
    "start_time": "2022-04-11T10:40:40.532Z"
   },
   {
    "duration": 61,
    "start_time": "2022-04-11T10:40:41.171Z"
   },
   {
    "duration": 1957,
    "start_time": "2022-04-11T10:40:52.227Z"
   },
   {
    "duration": 64,
    "start_time": "2022-04-11T10:41:05.356Z"
   },
   {
    "duration": 684,
    "start_time": "2022-04-11T10:41:13.300Z"
   },
   {
    "duration": 659,
    "start_time": "2022-04-11T10:41:13.986Z"
   },
   {
    "duration": 4,
    "start_time": "2022-04-11T10:41:14.646Z"
   },
   {
    "duration": 16,
    "start_time": "2022-04-11T10:41:14.653Z"
   },
   {
    "duration": 51,
    "start_time": "2022-04-11T10:41:14.678Z"
   },
   {
    "duration": 285,
    "start_time": "2022-04-11T10:41:14.731Z"
   },
   {
    "duration": 21,
    "start_time": "2022-04-11T10:41:15.018Z"
   },
   {
    "duration": 424,
    "start_time": "2022-04-11T10:41:15.041Z"
   },
   {
    "duration": 35,
    "start_time": "2022-04-11T10:41:15.466Z"
   },
   {
    "duration": 15,
    "start_time": "2022-04-11T10:41:15.503Z"
   },
   {
    "duration": 13,
    "start_time": "2022-04-11T10:41:15.520Z"
   },
   {
    "duration": 88,
    "start_time": "2022-04-11T10:41:15.535Z"
   },
   {
    "duration": 9,
    "start_time": "2022-04-11T10:41:32.046Z"
   },
   {
    "duration": 641,
    "start_time": "2022-04-11T10:41:45.942Z"
   },
   {
    "duration": 649,
    "start_time": "2022-04-11T10:41:46.585Z"
   },
   {
    "duration": 4,
    "start_time": "2022-04-11T10:41:47.236Z"
   },
   {
    "duration": 25,
    "start_time": "2022-04-11T10:41:47.242Z"
   },
   {
    "duration": 85,
    "start_time": "2022-04-11T10:41:47.270Z"
   },
   {
    "duration": 448,
    "start_time": "2022-04-11T10:41:47.357Z"
   },
   {
    "duration": 30,
    "start_time": "2022-04-11T10:41:47.807Z"
   },
   {
    "duration": 663,
    "start_time": "2022-04-11T10:41:47.840Z"
   },
   {
    "duration": 47,
    "start_time": "2022-04-11T10:41:48.505Z"
   },
   {
    "duration": 40,
    "start_time": "2022-04-11T10:41:48.555Z"
   },
   {
    "duration": 20,
    "start_time": "2022-04-11T10:41:55.091Z"
   },
   {
    "duration": 22,
    "start_time": "2022-04-11T10:42:01.158Z"
   },
   {
    "duration": 40,
    "start_time": "2022-04-11T10:42:15.106Z"
   },
   {
    "duration": 896,
    "start_time": "2022-04-11T10:49:33.311Z"
   },
   {
    "duration": 989,
    "start_time": "2022-04-11T10:49:34.209Z"
   },
   {
    "duration": 5,
    "start_time": "2022-04-11T10:49:35.201Z"
   },
   {
    "duration": 20,
    "start_time": "2022-04-11T10:49:35.209Z"
   },
   {
    "duration": 74,
    "start_time": "2022-04-11T10:49:35.232Z"
   },
   {
    "duration": 309,
    "start_time": "2022-04-11T10:49:35.308Z"
   },
   {
    "duration": 24,
    "start_time": "2022-04-11T10:49:35.618Z"
   },
   {
    "duration": 500,
    "start_time": "2022-04-11T10:49:35.644Z"
   },
   {
    "duration": 36,
    "start_time": "2022-04-11T10:49:36.147Z"
   },
   {
    "duration": 47,
    "start_time": "2022-04-11T10:49:36.187Z"
   },
   {
    "duration": 21,
    "start_time": "2022-04-11T10:49:36.236Z"
   },
   {
    "duration": 57,
    "start_time": "2022-04-11T10:49:36.259Z"
   },
   {
    "duration": 15,
    "start_time": "2022-04-11T10:49:36.318Z"
   },
   {
    "duration": 90,
    "start_time": "2022-04-11T10:49:36.335Z"
   },
   {
    "duration": 7,
    "start_time": "2022-04-11T10:49:36.427Z"
   },
   {
    "duration": 533,
    "start_time": "2022-04-11T10:49:36.435Z"
   },
   {
    "duration": 0,
    "start_time": "2022-04-11T10:49:36.970Z"
   },
   {
    "duration": 0,
    "start_time": "2022-04-11T10:49:36.972Z"
   },
   {
    "duration": 0,
    "start_time": "2022-04-11T10:49:36.973Z"
   },
   {
    "duration": 0,
    "start_time": "2022-04-11T10:49:36.975Z"
   },
   {
    "duration": 0,
    "start_time": "2022-04-11T10:49:36.977Z"
   },
   {
    "duration": 0,
    "start_time": "2022-04-11T10:49:36.978Z"
   },
   {
    "duration": 0,
    "start_time": "2022-04-11T10:49:36.980Z"
   },
   {
    "duration": 728,
    "start_time": "2022-04-11T10:50:08.389Z"
   },
   {
    "duration": 1025,
    "start_time": "2022-04-11T10:50:09.119Z"
   },
   {
    "duration": 4,
    "start_time": "2022-04-11T10:50:10.147Z"
   },
   {
    "duration": 25,
    "start_time": "2022-04-11T10:50:10.153Z"
   },
   {
    "duration": 60,
    "start_time": "2022-04-11T10:50:10.180Z"
   },
   {
    "duration": 397,
    "start_time": "2022-04-11T10:50:10.243Z"
   },
   {
    "duration": 45,
    "start_time": "2022-04-11T10:50:10.642Z"
   },
   {
    "duration": 684,
    "start_time": "2022-04-11T10:50:10.689Z"
   },
   {
    "duration": 46,
    "start_time": "2022-04-11T10:50:11.380Z"
   },
   {
    "duration": 20,
    "start_time": "2022-04-11T10:50:11.429Z"
   },
   {
    "duration": 41,
    "start_time": "2022-04-11T10:50:11.450Z"
   },
   {
    "duration": 43,
    "start_time": "2022-04-11T10:50:11.493Z"
   },
   {
    "duration": 21,
    "start_time": "2022-04-11T10:50:11.538Z"
   },
   {
    "duration": 110,
    "start_time": "2022-04-11T10:50:11.578Z"
   },
   {
    "duration": 8,
    "start_time": "2022-04-11T10:50:11.690Z"
   },
   {
    "duration": 7,
    "start_time": "2022-04-11T10:50:11.700Z"
   },
   {
    "duration": 18,
    "start_time": "2022-04-11T10:50:11.709Z"
   },
   {
    "duration": 21,
    "start_time": "2022-04-11T10:50:11.729Z"
   },
   {
    "duration": 47,
    "start_time": "2022-04-11T10:50:11.752Z"
   },
   {
    "duration": 550,
    "start_time": "2022-04-11T10:50:11.801Z"
   },
   {
    "duration": 433,
    "start_time": "2022-04-11T10:50:12.353Z"
   },
   {
    "duration": 389,
    "start_time": "2022-04-11T10:50:12.789Z"
   },
   {
    "duration": 314,
    "start_time": "2022-04-11T10:50:13.181Z"
   },
   {
    "duration": 729,
    "start_time": "2022-04-11T11:00:26.748Z"
   },
   {
    "duration": 694,
    "start_time": "2022-04-11T11:00:27.479Z"
   },
   {
    "duration": 4,
    "start_time": "2022-04-11T11:00:28.175Z"
   },
   {
    "duration": 17,
    "start_time": "2022-04-11T11:00:28.182Z"
   },
   {
    "duration": 60,
    "start_time": "2022-04-11T11:00:28.201Z"
   },
   {
    "duration": 476,
    "start_time": "2022-04-11T11:00:28.262Z"
   },
   {
    "duration": 26,
    "start_time": "2022-04-11T11:00:28.740Z"
   },
   {
    "duration": 448,
    "start_time": "2022-04-11T11:00:28.779Z"
   },
   {
    "duration": 35,
    "start_time": "2022-04-11T11:00:29.229Z"
   },
   {
    "duration": 18,
    "start_time": "2022-04-11T11:00:29.280Z"
   },
   {
    "duration": 16,
    "start_time": "2022-04-11T11:00:29.300Z"
   },
   {
    "duration": 76,
    "start_time": "2022-04-11T11:00:29.318Z"
   },
   {
    "duration": 71,
    "start_time": "2022-04-11T11:00:29.395Z"
   },
   {
    "duration": 15,
    "start_time": "2022-04-11T11:00:29.468Z"
   },
   {
    "duration": 8,
    "start_time": "2022-04-11T11:00:29.485Z"
   },
   {
    "duration": 16,
    "start_time": "2022-04-11T11:00:29.495Z"
   },
   {
    "duration": 19,
    "start_time": "2022-04-11T11:00:29.513Z"
   },
   {
    "duration": 51,
    "start_time": "2022-04-11T11:00:29.534Z"
   },
   {
    "duration": 360,
    "start_time": "2022-04-11T11:00:29.587Z"
   },
   {
    "duration": 439,
    "start_time": "2022-04-11T11:00:29.950Z"
   },
   {
    "duration": 428,
    "start_time": "2022-04-11T11:00:30.392Z"
   },
   {
    "duration": 473,
    "start_time": "2022-04-11T11:00:30.823Z"
   },
   {
    "duration": 19,
    "start_time": "2022-04-11T11:00:44.663Z"
   },
   {
    "duration": 91,
    "start_time": "2022-04-11T11:00:55.246Z"
   },
   {
    "duration": 798,
    "start_time": "2022-04-11T11:01:04.808Z"
   },
   {
    "duration": 689,
    "start_time": "2022-04-11T11:01:05.609Z"
   },
   {
    "duration": 5,
    "start_time": "2022-04-11T11:01:06.301Z"
   },
   {
    "duration": 18,
    "start_time": "2022-04-11T11:01:06.308Z"
   },
   {
    "duration": 64,
    "start_time": "2022-04-11T11:01:06.327Z"
   },
   {
    "duration": 338,
    "start_time": "2022-04-11T11:01:06.393Z"
   },
   {
    "duration": 29,
    "start_time": "2022-04-11T11:01:06.733Z"
   },
   {
    "duration": 473,
    "start_time": "2022-04-11T11:01:06.764Z"
   },
   {
    "duration": 44,
    "start_time": "2022-04-11T11:01:07.238Z"
   },
   {
    "duration": 31,
    "start_time": "2022-04-11T11:01:07.285Z"
   },
   {
    "duration": 22,
    "start_time": "2022-04-11T11:01:07.319Z"
   },
   {
    "duration": 85,
    "start_time": "2022-04-11T11:01:07.344Z"
   },
   {
    "duration": 52,
    "start_time": "2022-04-11T11:01:07.431Z"
   },
   {
    "duration": 7,
    "start_time": "2022-04-11T11:01:07.484Z"
   },
   {
    "duration": 9,
    "start_time": "2022-04-11T11:01:07.493Z"
   },
   {
    "duration": 18,
    "start_time": "2022-04-11T11:01:07.504Z"
   },
   {
    "duration": 22,
    "start_time": "2022-04-11T11:01:07.524Z"
   },
   {
    "duration": 47,
    "start_time": "2022-04-11T11:01:07.548Z"
   },
   {
    "duration": 358,
    "start_time": "2022-04-11T11:01:07.597Z"
   },
   {
    "duration": 275,
    "start_time": "2022-04-11T11:01:07.957Z"
   },
   {
    "duration": 259,
    "start_time": "2022-04-11T11:01:08.234Z"
   },
   {
    "duration": 335,
    "start_time": "2022-04-11T11:01:08.496Z"
   },
   {
    "duration": 914,
    "start_time": "2022-04-11T11:11:02.135Z"
   },
   {
    "duration": 693,
    "start_time": "2022-04-11T11:11:03.051Z"
   },
   {
    "duration": 4,
    "start_time": "2022-04-11T11:11:03.746Z"
   },
   {
    "duration": 19,
    "start_time": "2022-04-11T11:11:03.752Z"
   },
   {
    "duration": 55,
    "start_time": "2022-04-11T11:11:03.779Z"
   },
   {
    "duration": 455,
    "start_time": "2022-04-11T11:11:03.836Z"
   },
   {
    "duration": 35,
    "start_time": "2022-04-11T11:11:04.293Z"
   },
   {
    "duration": 421,
    "start_time": "2022-04-11T11:11:04.329Z"
   },
   {
    "duration": 40,
    "start_time": "2022-04-11T11:11:04.752Z"
   },
   {
    "duration": 72,
    "start_time": "2022-04-11T11:11:14.930Z"
   },
   {
    "duration": 6,
    "start_time": "2022-04-11T11:11:44.216Z"
   },
   {
    "duration": 699,
    "start_time": "2022-04-11T11:12:14.224Z"
   },
   {
    "duration": 674,
    "start_time": "2022-04-11T11:12:14.925Z"
   },
   {
    "duration": 4,
    "start_time": "2022-04-11T11:12:15.601Z"
   },
   {
    "duration": 19,
    "start_time": "2022-04-11T11:12:15.607Z"
   },
   {
    "duration": 65,
    "start_time": "2022-04-11T11:12:15.627Z"
   },
   {
    "duration": 285,
    "start_time": "2022-04-11T11:12:15.693Z"
   },
   {
    "duration": 22,
    "start_time": "2022-04-11T11:12:15.980Z"
   },
   {
    "duration": 410,
    "start_time": "2022-04-11T11:12:16.004Z"
   },
   {
    "duration": 41,
    "start_time": "2022-04-11T11:12:16.415Z"
   },
   {
    "duration": 6,
    "start_time": "2022-04-11T11:12:52.903Z"
   },
   {
    "duration": 52,
    "start_time": "2022-04-11T11:12:55.746Z"
   },
   {
    "duration": 49,
    "start_time": "2022-04-11T11:12:58.463Z"
   },
   {
    "duration": 8,
    "start_time": "2022-04-11T11:13:04.195Z"
   },
   {
    "duration": 18,
    "start_time": "2022-04-11T11:13:10.540Z"
   },
   {
    "duration": 16,
    "start_time": "2022-04-11T11:13:14.690Z"
   },
   {
    "duration": 7,
    "start_time": "2022-04-11T11:13:29.227Z"
   },
   {
    "duration": 21,
    "start_time": "2022-04-11T11:13:29.844Z"
   },
   {
    "duration": 20,
    "start_time": "2022-04-11T11:13:30.860Z"
   },
   {
    "duration": 322,
    "start_time": "2022-04-11T11:13:31.807Z"
   },
   {
    "duration": 237,
    "start_time": "2022-04-11T11:13:32.544Z"
   },
   {
    "duration": 261,
    "start_time": "2022-04-11T11:13:32.787Z"
   },
   {
    "duration": 330,
    "start_time": "2022-04-11T11:13:33.051Z"
   },
   {
    "duration": 698,
    "start_time": "2022-04-11T11:16:04.164Z"
   },
   {
    "duration": 698,
    "start_time": "2022-04-11T11:16:04.864Z"
   },
   {
    "duration": 5,
    "start_time": "2022-04-11T11:16:05.565Z"
   },
   {
    "duration": 25,
    "start_time": "2022-04-11T11:16:05.573Z"
   },
   {
    "duration": 54,
    "start_time": "2022-04-11T11:16:05.600Z"
   },
   {
    "duration": 485,
    "start_time": "2022-04-11T11:16:05.657Z"
   },
   {
    "duration": 22,
    "start_time": "2022-04-11T11:16:06.144Z"
   },
   {
    "duration": 651,
    "start_time": "2022-04-11T11:16:06.179Z"
   },
   {
    "duration": 57,
    "start_time": "2022-04-11T11:16:06.833Z"
   },
   {
    "duration": 23,
    "start_time": "2022-04-11T11:16:06.894Z"
   },
   {
    "duration": 17,
    "start_time": "2022-04-11T11:16:06.919Z"
   },
   {
    "duration": 82,
    "start_time": "2022-04-11T11:16:06.937Z"
   },
   {
    "duration": 86,
    "start_time": "2022-04-11T11:16:07.021Z"
   },
   {
    "duration": 9,
    "start_time": "2022-04-11T11:16:07.109Z"
   },
   {
    "duration": 601,
    "start_time": "2022-04-11T11:16:07.120Z"
   },
   {
    "duration": 1,
    "start_time": "2022-04-11T11:16:07.722Z"
   },
   {
    "duration": 0,
    "start_time": "2022-04-11T11:16:07.724Z"
   },
   {
    "duration": 0,
    "start_time": "2022-04-11T11:16:07.725Z"
   },
   {
    "duration": 0,
    "start_time": "2022-04-11T11:16:07.726Z"
   },
   {
    "duration": 0,
    "start_time": "2022-04-11T11:16:07.727Z"
   },
   {
    "duration": 0,
    "start_time": "2022-04-11T11:16:07.728Z"
   },
   {
    "duration": 9,
    "start_time": "2022-04-11T11:16:21.069Z"
   },
   {
    "duration": 7,
    "start_time": "2022-04-11T11:16:21.081Z"
   },
   {
    "duration": 29,
    "start_time": "2022-04-11T11:16:21.091Z"
   },
   {
    "duration": 27,
    "start_time": "2022-04-11T11:16:21.123Z"
   },
   {
    "duration": 567,
    "start_time": "2022-04-11T11:16:21.152Z"
   },
   {
    "duration": 441,
    "start_time": "2022-04-11T11:16:21.721Z"
   },
   {
    "duration": 423,
    "start_time": "2022-04-11T11:16:22.164Z"
   },
   {
    "duration": 493,
    "start_time": "2022-04-11T11:16:22.589Z"
   },
   {
    "duration": 8,
    "start_time": "2022-04-11T11:20:49.324Z"
   },
   {
    "duration": 18,
    "start_time": "2022-04-11T11:23:14.616Z"
   },
   {
    "duration": 8,
    "start_time": "2022-04-11T11:23:19.717Z"
   },
   {
    "duration": 24,
    "start_time": "2022-04-11T11:24:09.570Z"
   },
   {
    "duration": 8,
    "start_time": "2022-04-11T11:24:11.661Z"
   },
   {
    "duration": 33,
    "start_time": "2022-04-11T11:24:54.755Z"
   },
   {
    "duration": 647,
    "start_time": "2022-04-11T11:25:16.419Z"
   },
   {
    "duration": 682,
    "start_time": "2022-04-11T11:25:17.069Z"
   },
   {
    "duration": 4,
    "start_time": "2022-04-11T11:25:17.753Z"
   },
   {
    "duration": 23,
    "start_time": "2022-04-11T11:25:17.759Z"
   },
   {
    "duration": 56,
    "start_time": "2022-04-11T11:25:17.785Z"
   },
   {
    "duration": 303,
    "start_time": "2022-04-11T11:25:17.843Z"
   },
   {
    "duration": 36,
    "start_time": "2022-04-11T11:25:18.148Z"
   },
   {
    "duration": 425,
    "start_time": "2022-04-11T11:25:18.186Z"
   },
   {
    "duration": 33,
    "start_time": "2022-04-11T11:25:18.613Z"
   },
   {
    "duration": 40,
    "start_time": "2022-04-11T11:25:18.648Z"
   },
   {
    "duration": 16,
    "start_time": "2022-04-11T11:25:18.690Z"
   },
   {
    "duration": 52,
    "start_time": "2022-04-11T11:25:18.708Z"
   },
   {
    "duration": 66,
    "start_time": "2022-04-11T11:25:18.762Z"
   },
   {
    "duration": 8,
    "start_time": "2022-04-11T11:25:18.830Z"
   },
   {
    "duration": 7,
    "start_time": "2022-04-11T11:25:18.840Z"
   },
   {
    "duration": 90,
    "start_time": "2022-04-11T11:25:21.492Z"
   },
   {
    "duration": 22,
    "start_time": "2022-04-11T11:25:47.595Z"
   },
   {
    "duration": 9,
    "start_time": "2022-04-11T11:25:49.245Z"
   },
   {
    "duration": 31,
    "start_time": "2022-04-11T11:27:32.002Z"
   },
   {
    "duration": 25,
    "start_time": "2022-04-11T11:27:50.350Z"
   },
   {
    "duration": 25,
    "start_time": "2022-04-11T11:27:50.767Z"
   },
   {
    "duration": 9,
    "start_time": "2022-04-11T11:27:55.432Z"
   },
   {
    "duration": 2239,
    "start_time": "2022-04-11T11:28:00.427Z"
   },
   {
    "duration": 0,
    "start_time": "2022-04-11T11:28:02.668Z"
   },
   {
    "duration": 0,
    "start_time": "2022-04-11T11:28:02.668Z"
   },
   {
    "duration": 0,
    "start_time": "2022-04-11T11:28:02.669Z"
   },
   {
    "duration": 8,
    "start_time": "2022-04-11T11:28:17.807Z"
   },
   {
    "duration": 23,
    "start_time": "2022-04-11T11:28:57.063Z"
   },
   {
    "duration": 22,
    "start_time": "2022-04-11T11:28:58.598Z"
   },
   {
    "duration": 7,
    "start_time": "2022-04-11T11:29:05.038Z"
   },
   {
    "duration": 314,
    "start_time": "2022-04-11T11:29:24.702Z"
   },
   {
    "duration": 248,
    "start_time": "2022-04-11T11:29:46.396Z"
   },
   {
    "duration": 246,
    "start_time": "2022-04-11T11:30:16.363Z"
   },
   {
    "duration": 9,
    "start_time": "2022-04-11T11:30:19.516Z"
   },
   {
    "duration": 310,
    "start_time": "2022-04-11T11:30:34.277Z"
   },
   {
    "duration": 6,
    "start_time": "2022-04-11T11:31:20.012Z"
   },
   {
    "duration": 7,
    "start_time": "2022-04-11T11:31:24.917Z"
   },
   {
    "duration": 11,
    "start_time": "2022-04-11T11:32:00.804Z"
   },
   {
    "duration": 10,
    "start_time": "2022-04-11T11:32:01.854Z"
   },
   {
    "duration": 18,
    "start_time": "2022-04-11T11:33:10.985Z"
   },
   {
    "duration": 244,
    "start_time": "2022-04-11T11:33:11.531Z"
   },
   {
    "duration": 248,
    "start_time": "2022-04-11T11:33:12.280Z"
   },
   {
    "duration": 276,
    "start_time": "2022-04-11T11:33:12.530Z"
   },
   {
    "duration": 251,
    "start_time": "2022-04-11T11:33:12.808Z"
   },
   {
    "duration": 10,
    "start_time": "2022-04-11T11:38:22.092Z"
   },
   {
    "duration": 6,
    "start_time": "2022-04-11T11:39:23.910Z"
   },
   {
    "duration": 280,
    "start_time": "2022-04-11T11:39:59.263Z"
   },
   {
    "duration": 251,
    "start_time": "2022-04-11T11:40:40.584Z"
   },
   {
    "duration": 663,
    "start_time": "2022-04-11T11:42:22.539Z"
   },
   {
    "duration": 640,
    "start_time": "2022-04-11T11:42:23.204Z"
   },
   {
    "duration": 3,
    "start_time": "2022-04-11T11:42:23.846Z"
   },
   {
    "duration": 17,
    "start_time": "2022-04-11T11:42:23.851Z"
   },
   {
    "duration": 53,
    "start_time": "2022-04-11T11:42:23.870Z"
   },
   {
    "duration": 275,
    "start_time": "2022-04-11T11:42:23.925Z"
   },
   {
    "duration": 20,
    "start_time": "2022-04-11T11:42:24.202Z"
   },
   {
    "duration": 394,
    "start_time": "2022-04-11T11:42:24.223Z"
   },
   {
    "duration": 30,
    "start_time": "2022-04-11T11:42:24.619Z"
   },
   {
    "duration": 32,
    "start_time": "2022-04-11T11:42:24.653Z"
   },
   {
    "duration": 14,
    "start_time": "2022-04-11T11:42:24.686Z"
   },
   {
    "duration": 51,
    "start_time": "2022-04-11T11:42:24.701Z"
   },
   {
    "duration": 59,
    "start_time": "2022-04-11T11:42:24.754Z"
   },
   {
    "duration": 6,
    "start_time": "2022-04-11T11:42:24.814Z"
   },
   {
    "duration": 5,
    "start_time": "2022-04-11T11:42:24.822Z"
   },
   {
    "duration": 22,
    "start_time": "2022-04-11T11:42:24.828Z"
   },
   {
    "duration": 46,
    "start_time": "2022-04-11T11:42:24.852Z"
   },
   {
    "duration": 19,
    "start_time": "2022-04-11T11:42:24.900Z"
   },
   {
    "duration": 6,
    "start_time": "2022-04-11T11:42:24.921Z"
   },
   {
    "duration": 283,
    "start_time": "2022-04-11T11:42:24.928Z"
   },
   {
    "duration": 255,
    "start_time": "2022-04-11T11:42:25.213Z"
   },
   {
    "duration": 247,
    "start_time": "2022-04-11T11:42:25.470Z"
   },
   {
    "duration": 313,
    "start_time": "2022-04-11T11:42:25.719Z"
   },
   {
    "duration": 274,
    "start_time": "2022-04-11T11:42:26.034Z"
   },
   {
    "duration": 686,
    "start_time": "2022-04-11T15:17:55.777Z"
   },
   {
    "duration": 695,
    "start_time": "2022-04-11T15:17:56.465Z"
   },
   {
    "duration": 4,
    "start_time": "2022-04-11T15:17:57.162Z"
   },
   {
    "duration": 19,
    "start_time": "2022-04-11T15:17:57.168Z"
   },
   {
    "duration": 54,
    "start_time": "2022-04-11T15:17:57.189Z"
   },
   {
    "duration": 294,
    "start_time": "2022-04-11T15:17:57.244Z"
   },
   {
    "duration": 39,
    "start_time": "2022-04-11T15:17:57.540Z"
   },
   {
    "duration": 400,
    "start_time": "2022-04-11T15:17:57.581Z"
   },
   {
    "duration": 32,
    "start_time": "2022-04-11T15:17:57.983Z"
   },
   {
    "duration": 15,
    "start_time": "2022-04-11T15:17:58.017Z"
   },
   {
    "duration": 13,
    "start_time": "2022-04-11T15:17:58.034Z"
   },
   {
    "duration": 77,
    "start_time": "2022-04-11T15:17:58.049Z"
   },
   {
    "duration": 57,
    "start_time": "2022-04-11T15:17:58.127Z"
   },
   {
    "duration": 6,
    "start_time": "2022-04-11T15:17:58.185Z"
   },
   {
    "duration": 7,
    "start_time": "2022-04-11T15:17:58.193Z"
   },
   {
    "duration": 21,
    "start_time": "2022-04-11T15:17:58.202Z"
   },
   {
    "duration": 22,
    "start_time": "2022-04-11T15:17:58.224Z"
   },
   {
    "duration": 46,
    "start_time": "2022-04-11T15:17:58.248Z"
   },
   {
    "duration": 5,
    "start_time": "2022-04-11T15:17:58.296Z"
   },
   {
    "duration": 303,
    "start_time": "2022-04-11T15:17:58.303Z"
   },
   {
    "duration": 274,
    "start_time": "2022-04-11T15:17:58.608Z"
   },
   {
    "duration": 265,
    "start_time": "2022-04-11T15:17:58.884Z"
   },
   {
    "duration": 319,
    "start_time": "2022-04-11T15:17:59.151Z"
   },
   {
    "duration": 283,
    "start_time": "2022-04-11T15:17:59.472Z"
   },
   {
    "duration": 11,
    "start_time": "2022-04-11T15:18:02.022Z"
   },
   {
    "duration": 11,
    "start_time": "2022-04-11T15:18:40.761Z"
   },
   {
    "duration": 625,
    "start_time": "2022-04-11T15:26:08.735Z"
   },
   {
    "duration": 657,
    "start_time": "2022-04-11T15:26:09.362Z"
   },
   {
    "duration": 4,
    "start_time": "2022-04-11T15:26:10.021Z"
   },
   {
    "duration": 17,
    "start_time": "2022-04-11T15:26:10.027Z"
   },
   {
    "duration": 68,
    "start_time": "2022-04-11T15:26:10.046Z"
   },
   {
    "duration": 293,
    "start_time": "2022-04-11T15:26:10.116Z"
   },
   {
    "duration": 21,
    "start_time": "2022-04-11T15:26:10.411Z"
   },
   {
    "duration": 410,
    "start_time": "2022-04-11T15:26:10.434Z"
   },
   {
    "duration": 37,
    "start_time": "2022-04-11T15:26:10.846Z"
   },
   {
    "duration": 15,
    "start_time": "2022-04-11T15:26:10.886Z"
   },
   {
    "duration": 13,
    "start_time": "2022-04-11T15:26:10.903Z"
   },
   {
    "duration": 77,
    "start_time": "2022-04-11T15:26:10.918Z"
   },
   {
    "duration": 42,
    "start_time": "2022-04-11T15:26:10.996Z"
   },
   {
    "duration": 7,
    "start_time": "2022-04-11T15:26:11.039Z"
   },
   {
    "duration": 7,
    "start_time": "2022-04-11T15:26:11.047Z"
   },
   {
    "duration": 37,
    "start_time": "2022-04-11T15:26:11.055Z"
   },
   {
    "duration": 16,
    "start_time": "2022-04-11T15:26:11.093Z"
   },
   {
    "duration": 18,
    "start_time": "2022-04-11T15:26:11.111Z"
   },
   {
    "duration": 5,
    "start_time": "2022-04-11T15:26:11.131Z"
   },
   {
    "duration": 288,
    "start_time": "2022-04-11T15:26:11.138Z"
   },
   {
    "duration": 271,
    "start_time": "2022-04-11T15:26:11.429Z"
   },
   {
    "duration": 260,
    "start_time": "2022-04-11T15:26:11.702Z"
   },
   {
    "duration": 278,
    "start_time": "2022-04-11T15:26:11.964Z"
   },
   {
    "duration": 339,
    "start_time": "2022-04-11T15:26:12.244Z"
   },
   {
    "duration": 14,
    "start_time": "2022-04-11T15:26:12.585Z"
   },
   {
    "duration": 14,
    "start_time": "2022-04-11T15:26:12.602Z"
   },
   {
    "duration": 25,
    "start_time": "2022-04-11T15:32:35.967Z"
   },
   {
    "duration": 22,
    "start_time": "2022-04-11T15:33:04.375Z"
   },
   {
    "duration": 7,
    "start_time": "2022-04-11T15:33:43.046Z"
   },
   {
    "duration": 14,
    "start_time": "2022-04-11T15:34:08.101Z"
   },
   {
    "duration": 857,
    "start_time": "2022-04-13T10:24:13.979Z"
   },
   {
    "duration": 629,
    "start_time": "2022-04-13T10:24:14.839Z"
   },
   {
    "duration": 4,
    "start_time": "2022-04-13T10:24:15.470Z"
   },
   {
    "duration": 95,
    "start_time": "2022-04-13T10:24:15.476Z"
   },
   {
    "duration": 160,
    "start_time": "2022-04-13T10:24:15.573Z"
   },
   {
    "duration": 253,
    "start_time": "2022-04-13T10:24:15.735Z"
   },
   {
    "duration": 33,
    "start_time": "2022-04-13T10:24:15.990Z"
   },
   {
    "duration": 16,
    "start_time": "2022-04-13T10:24:19.660Z"
   },
   {
    "duration": 46,
    "start_time": "2022-04-13T10:24:31.379Z"
   },
   {
    "duration": 41,
    "start_time": "2022-04-13T10:24:41.582Z"
   },
   {
    "duration": 99,
    "start_time": "2022-04-13T10:24:52.360Z"
   },
   {
    "duration": 152,
    "start_time": "2022-04-13T10:25:10.393Z"
   },
   {
    "duration": 34,
    "start_time": "2022-04-13T10:25:13.514Z"
   },
   {
    "duration": 10,
    "start_time": "2022-04-13T10:28:35.423Z"
   },
   {
    "duration": 11,
    "start_time": "2022-04-13T10:28:55.939Z"
   },
   {
    "duration": 9,
    "start_time": "2022-04-13T10:30:27.787Z"
   },
   {
    "duration": 12,
    "start_time": "2022-04-13T10:30:35.386Z"
   },
   {
    "duration": 345,
    "start_time": "2022-04-13T10:38:33.924Z"
   },
   {
    "duration": 18,
    "start_time": "2022-04-13T10:38:37.259Z"
   },
   {
    "duration": 789,
    "start_time": "2022-04-13T10:39:58.005Z"
   },
   {
    "duration": 686,
    "start_time": "2022-04-13T10:39:58.797Z"
   },
   {
    "duration": 4,
    "start_time": "2022-04-13T10:39:59.485Z"
   },
   {
    "duration": 18,
    "start_time": "2022-04-13T10:39:59.491Z"
   },
   {
    "duration": 57,
    "start_time": "2022-04-13T10:39:59.511Z"
   },
   {
    "duration": 285,
    "start_time": "2022-04-13T10:39:59.569Z"
   },
   {
    "duration": 28,
    "start_time": "2022-04-13T10:39:59.856Z"
   },
   {
    "duration": 423,
    "start_time": "2022-04-13T10:39:59.886Z"
   },
   {
    "duration": 28,
    "start_time": "2022-04-13T10:40:03.234Z"
   },
   {
    "duration": 68,
    "start_time": "2022-04-13T11:00:23.672Z"
   },
   {
    "duration": 730,
    "start_time": "2022-04-13T11:00:31.625Z"
   },
   {
    "duration": 635,
    "start_time": "2022-04-13T11:00:32.358Z"
   },
   {
    "duration": 3,
    "start_time": "2022-04-13T11:00:32.995Z"
   },
   {
    "duration": 25,
    "start_time": "2022-04-13T11:00:33.001Z"
   },
   {
    "duration": 58,
    "start_time": "2022-04-13T11:00:33.028Z"
   },
   {
    "duration": 271,
    "start_time": "2022-04-13T11:00:33.088Z"
   },
   {
    "duration": 21,
    "start_time": "2022-04-13T11:00:33.360Z"
   },
   {
    "duration": 357,
    "start_time": "2022-04-13T11:00:33.383Z"
   },
   {
    "duration": 32,
    "start_time": "2022-04-13T11:00:33.742Z"
   },
   {
    "duration": 63,
    "start_time": "2022-04-13T11:00:33.776Z"
   },
   {
    "duration": 12,
    "start_time": "2022-04-13T11:00:33.841Z"
   },
   {
    "duration": 56,
    "start_time": "2022-04-13T11:00:33.854Z"
   },
   {
    "duration": 43,
    "start_time": "2022-04-13T11:00:33.912Z"
   },
   {
    "duration": 5,
    "start_time": "2022-04-13T11:00:33.957Z"
   },
   {
    "duration": 4,
    "start_time": "2022-04-13T11:01:05.722Z"
   },
   {
    "duration": 675,
    "start_time": "2022-04-13T11:07:06.624Z"
   },
   {
    "duration": 605,
    "start_time": "2022-04-13T11:07:07.301Z"
   },
   {
    "duration": 5,
    "start_time": "2022-04-13T11:07:07.908Z"
   },
   {
    "duration": 28,
    "start_time": "2022-04-13T11:07:07.915Z"
   },
   {
    "duration": 71,
    "start_time": "2022-04-13T11:07:07.945Z"
   },
   {
    "duration": 243,
    "start_time": "2022-04-13T11:07:08.018Z"
   },
   {
    "duration": 19,
    "start_time": "2022-04-13T11:07:08.263Z"
   },
   {
    "duration": 363,
    "start_time": "2022-04-13T11:07:08.283Z"
   },
   {
    "duration": 32,
    "start_time": "2022-04-13T11:07:08.648Z"
   },
   {
    "duration": 14,
    "start_time": "2022-04-13T11:07:08.683Z"
   },
   {
    "duration": 13,
    "start_time": "2022-04-13T11:07:08.698Z"
   },
   {
    "duration": 65,
    "start_time": "2022-04-13T11:07:08.712Z"
   },
   {
    "duration": 38,
    "start_time": "2022-04-13T11:07:08.778Z"
   },
   {
    "duration": 5,
    "start_time": "2022-04-13T11:07:08.818Z"
   },
   {
    "duration": 4,
    "start_time": "2022-04-13T11:07:08.824Z"
   },
   {
    "duration": 26,
    "start_time": "2022-04-13T11:07:08.830Z"
   },
   {
    "duration": 16,
    "start_time": "2022-04-13T11:07:08.857Z"
   },
   {
    "duration": 14,
    "start_time": "2022-04-13T11:07:08.875Z"
   },
   {
    "duration": 17,
    "start_time": "2022-04-13T11:07:08.890Z"
   },
   {
    "duration": 4,
    "start_time": "2022-04-13T11:07:08.908Z"
   },
   {
    "duration": 9,
    "start_time": "2022-04-13T11:07:08.914Z"
   },
   {
    "duration": 30,
    "start_time": "2022-04-13T11:07:08.924Z"
   },
   {
    "duration": 246,
    "start_time": "2022-04-13T11:07:08.956Z"
   },
   {
    "duration": 242,
    "start_time": "2022-04-13T11:07:09.203Z"
   },
   {
    "duration": 224,
    "start_time": "2022-04-13T11:07:09.447Z"
   },
   {
    "duration": 242,
    "start_time": "2022-04-13T11:07:09.673Z"
   },
   {
    "duration": 334,
    "start_time": "2022-04-13T11:07:09.917Z"
   },
   {
    "duration": 15,
    "start_time": "2022-04-13T11:07:59.067Z"
   },
   {
    "duration": 8,
    "start_time": "2022-04-13T11:10:19.844Z"
   },
   {
    "duration": 241,
    "start_time": "2022-04-13T11:12:30.414Z"
   },
   {
    "duration": 230,
    "start_time": "2022-04-13T11:12:45.620Z"
   },
   {
    "duration": 690,
    "start_time": "2022-04-13T11:17:05.236Z"
   },
   {
    "duration": 613,
    "start_time": "2022-04-13T11:17:05.928Z"
   },
   {
    "duration": 3,
    "start_time": "2022-04-13T11:17:06.544Z"
   },
   {
    "duration": 25,
    "start_time": "2022-04-13T11:17:06.550Z"
   },
   {
    "duration": 53,
    "start_time": "2022-04-13T11:17:06.576Z"
   },
   {
    "duration": 276,
    "start_time": "2022-04-13T11:17:06.630Z"
   },
   {
    "duration": 20,
    "start_time": "2022-04-13T11:17:06.908Z"
   },
   {
    "duration": 362,
    "start_time": "2022-04-13T11:17:06.930Z"
   },
   {
    "duration": 30,
    "start_time": "2022-04-13T11:17:07.294Z"
   },
   {
    "duration": 27,
    "start_time": "2022-04-13T11:17:07.327Z"
   },
   {
    "duration": 24,
    "start_time": "2022-04-13T11:17:07.356Z"
   },
   {
    "duration": 54,
    "start_time": "2022-04-13T11:17:07.382Z"
   },
   {
    "duration": 46,
    "start_time": "2022-04-13T11:17:07.438Z"
   },
   {
    "duration": 6,
    "start_time": "2022-04-13T11:17:07.486Z"
   },
   {
    "duration": 6,
    "start_time": "2022-04-13T11:17:07.494Z"
   },
   {
    "duration": 8,
    "start_time": "2022-04-13T11:17:07.502Z"
   },
   {
    "duration": 18,
    "start_time": "2022-04-13T11:17:07.511Z"
   },
   {
    "duration": 38,
    "start_time": "2022-04-13T11:17:07.531Z"
   },
   {
    "duration": 19,
    "start_time": "2022-04-13T11:17:07.571Z"
   },
   {
    "duration": 4,
    "start_time": "2022-04-13T11:17:07.592Z"
   },
   {
    "duration": 6,
    "start_time": "2022-04-13T11:17:07.598Z"
   },
   {
    "duration": 6,
    "start_time": "2022-04-13T11:17:07.605Z"
   },
   {
    "duration": 43,
    "start_time": "2022-04-13T11:17:07.613Z"
   },
   {
    "duration": 8,
    "start_time": "2022-04-13T11:17:52.950Z"
   },
   {
    "duration": 13,
    "start_time": "2022-04-13T11:17:57.147Z"
   },
   {
    "duration": 9,
    "start_time": "2022-04-13T11:18:18.029Z"
   },
   {
    "duration": 8,
    "start_time": "2022-04-13T11:18:25.923Z"
   },
   {
    "duration": 9,
    "start_time": "2022-04-13T11:18:26.412Z"
   },
   {
    "duration": 4,
    "start_time": "2022-04-13T11:18:56.727Z"
   },
   {
    "duration": 10,
    "start_time": "2022-04-13T11:18:58.096Z"
   },
   {
    "duration": 332,
    "start_time": "2022-04-13T11:19:14.269Z"
   },
   {
    "duration": 14,
    "start_time": "2022-04-13T11:19:37.795Z"
   },
   {
    "duration": 261,
    "start_time": "2022-04-13T11:29:05.638Z"
   },
   {
    "duration": 697,
    "start_time": "2022-04-13T11:30:31.328Z"
   },
   {
    "duration": 645,
    "start_time": "2022-04-13T11:30:32.028Z"
   },
   {
    "duration": 4,
    "start_time": "2022-04-13T11:30:32.675Z"
   },
   {
    "duration": 37,
    "start_time": "2022-04-13T11:30:32.682Z"
   },
   {
    "duration": 71,
    "start_time": "2022-04-13T11:30:32.721Z"
   },
   {
    "duration": 264,
    "start_time": "2022-04-13T11:30:32.794Z"
   },
   {
    "duration": 22,
    "start_time": "2022-04-13T11:30:33.060Z"
   },
   {
    "duration": 360,
    "start_time": "2022-04-13T11:30:33.084Z"
   },
   {
    "duration": 33,
    "start_time": "2022-04-13T11:30:33.446Z"
   },
   {
    "duration": 15,
    "start_time": "2022-04-13T11:30:33.482Z"
   },
   {
    "duration": 15,
    "start_time": "2022-04-13T11:30:35.293Z"
   },
   {
    "duration": 50,
    "start_time": "2022-04-13T11:30:37.786Z"
   },
   {
    "duration": 41,
    "start_time": "2022-04-13T11:30:39.290Z"
   },
   {
    "duration": 7,
    "start_time": "2022-04-13T11:30:46.292Z"
   },
   {
    "duration": 4,
    "start_time": "2022-04-13T11:30:47.451Z"
   },
   {
    "duration": 6,
    "start_time": "2022-04-13T11:30:49.746Z"
   },
   {
    "duration": 16,
    "start_time": "2022-04-13T11:30:56.019Z"
   },
   {
    "duration": 2294,
    "start_time": "2022-04-13T11:32:53.826Z"
   },
   {
    "duration": 16,
    "start_time": "2022-04-13T11:33:21.038Z"
   },
   {
    "duration": 6,
    "start_time": "2022-04-13T11:33:59.623Z"
   },
   {
    "duration": 6,
    "start_time": "2022-04-13T11:34:01.910Z"
   },
   {
    "duration": 9,
    "start_time": "2022-04-13T11:34:05.879Z"
   },
   {
    "duration": 6,
    "start_time": "2022-04-13T11:34:12.261Z"
   },
   {
    "duration": 10,
    "start_time": "2022-04-13T11:34:15.350Z"
   },
   {
    "duration": 11,
    "start_time": "2022-04-13T11:34:34.963Z"
   },
   {
    "duration": 12,
    "start_time": "2022-04-13T11:34:55.298Z"
   },
   {
    "duration": 23,
    "start_time": "2022-04-13T11:35:08.075Z"
   },
   {
    "duration": 857,
    "start_time": "2022-04-13T11:35:55.700Z"
   },
   {
    "duration": 910,
    "start_time": "2022-04-13T11:35:56.560Z"
   },
   {
    "duration": 4,
    "start_time": "2022-04-13T11:35:57.472Z"
   },
   {
    "duration": 32,
    "start_time": "2022-04-13T11:35:57.479Z"
   },
   {
    "duration": 69,
    "start_time": "2022-04-13T11:35:57.512Z"
   },
   {
    "duration": 338,
    "start_time": "2022-04-13T11:35:57.584Z"
   },
   {
    "duration": 43,
    "start_time": "2022-04-13T11:35:57.925Z"
   },
   {
    "duration": 566,
    "start_time": "2022-04-13T11:35:57.970Z"
   },
   {
    "duration": 51,
    "start_time": "2022-04-13T11:35:58.539Z"
   },
   {
    "duration": 20,
    "start_time": "2022-04-13T11:35:58.595Z"
   },
   {
    "duration": 29,
    "start_time": "2022-04-13T11:35:58.617Z"
   },
   {
    "duration": 60,
    "start_time": "2022-04-13T11:35:58.648Z"
   },
   {
    "duration": 60,
    "start_time": "2022-04-13T11:35:58.710Z"
   },
   {
    "duration": 8,
    "start_time": "2022-04-13T11:35:58.772Z"
   },
   {
    "duration": 12,
    "start_time": "2022-04-13T11:35:58.782Z"
   },
   {
    "duration": 12,
    "start_time": "2022-04-13T11:35:58.796Z"
   },
   {
    "duration": 77,
    "start_time": "2022-04-13T11:36:00.948Z"
   },
   {
    "duration": 20,
    "start_time": "2022-04-13T11:36:44.708Z"
   },
   {
    "duration": 921,
    "start_time": "2022-04-13T11:37:00.358Z"
   },
   {
    "duration": 665,
    "start_time": "2022-04-13T11:37:01.281Z"
   },
   {
    "duration": 6,
    "start_time": "2022-04-13T11:37:01.948Z"
   },
   {
    "duration": 38,
    "start_time": "2022-04-13T11:37:01.957Z"
   },
   {
    "duration": 92,
    "start_time": "2022-04-13T11:37:01.997Z"
   },
   {
    "duration": 288,
    "start_time": "2022-04-13T11:37:02.091Z"
   },
   {
    "duration": 21,
    "start_time": "2022-04-13T11:37:02.381Z"
   },
   {
    "duration": 418,
    "start_time": "2022-04-13T11:37:02.404Z"
   },
   {
    "duration": 41,
    "start_time": "2022-04-13T11:37:02.824Z"
   },
   {
    "duration": 27,
    "start_time": "2022-04-13T11:37:02.868Z"
   },
   {
    "duration": 22,
    "start_time": "2022-04-13T11:37:02.897Z"
   },
   {
    "duration": 74,
    "start_time": "2022-04-13T11:37:02.921Z"
   },
   {
    "duration": 55,
    "start_time": "2022-04-13T11:37:02.997Z"
   },
   {
    "duration": 6,
    "start_time": "2022-04-13T11:37:03.054Z"
   },
   {
    "duration": 31,
    "start_time": "2022-04-13T11:37:03.061Z"
   },
   {
    "duration": 31,
    "start_time": "2022-04-13T11:37:03.094Z"
   },
   {
    "duration": 27,
    "start_time": "2022-04-13T11:37:03.127Z"
   },
   {
    "duration": 30,
    "start_time": "2022-04-13T11:37:03.157Z"
   },
   {
    "duration": 18,
    "start_time": "2022-04-13T11:37:18.878Z"
   },
   {
    "duration": 16,
    "start_time": "2022-04-13T11:37:45.224Z"
   },
   {
    "duration": 690,
    "start_time": "2022-04-13T11:38:58.487Z"
   },
   {
    "duration": 591,
    "start_time": "2022-04-13T11:38:59.178Z"
   },
   {
    "duration": 5,
    "start_time": "2022-04-13T11:38:59.771Z"
   },
   {
    "duration": 17,
    "start_time": "2022-04-13T11:38:59.777Z"
   },
   {
    "duration": 58,
    "start_time": "2022-04-13T11:38:59.796Z"
   },
   {
    "duration": 257,
    "start_time": "2022-04-13T11:38:59.856Z"
   },
   {
    "duration": 20,
    "start_time": "2022-04-13T11:39:00.115Z"
   },
   {
    "duration": 364,
    "start_time": "2022-04-13T11:39:00.136Z"
   },
   {
    "duration": 29,
    "start_time": "2022-04-13T11:39:00.502Z"
   },
   {
    "duration": 28,
    "start_time": "2022-04-13T11:39:00.534Z"
   },
   {
    "duration": 17,
    "start_time": "2022-04-13T11:39:00.564Z"
   },
   {
    "duration": 96,
    "start_time": "2022-04-13T11:39:00.583Z"
   },
   {
    "duration": 55,
    "start_time": "2022-04-13T11:39:00.681Z"
   },
   {
    "duration": 21,
    "start_time": "2022-04-13T11:39:00.738Z"
   },
   {
    "duration": 32,
    "start_time": "2022-04-13T11:39:00.760Z"
   },
   {
    "duration": 8,
    "start_time": "2022-04-13T11:39:00.794Z"
   },
   {
    "duration": 25,
    "start_time": "2022-04-13T11:39:00.804Z"
   },
   {
    "duration": 25,
    "start_time": "2022-04-13T11:39:00.831Z"
   },
   {
    "duration": 30,
    "start_time": "2022-04-13T11:39:00.858Z"
   },
   {
    "duration": 18,
    "start_time": "2022-04-13T11:39:02.656Z"
   },
   {
    "duration": 636,
    "start_time": "2022-04-13T11:39:49.704Z"
   },
   {
    "duration": 605,
    "start_time": "2022-04-13T11:39:50.342Z"
   },
   {
    "duration": 4,
    "start_time": "2022-04-13T11:39:50.949Z"
   },
   {
    "duration": 26,
    "start_time": "2022-04-13T11:39:50.955Z"
   },
   {
    "duration": 50,
    "start_time": "2022-04-13T11:39:50.983Z"
   },
   {
    "duration": 245,
    "start_time": "2022-04-13T11:39:51.035Z"
   },
   {
    "duration": 20,
    "start_time": "2022-04-13T11:39:51.282Z"
   },
   {
    "duration": 328,
    "start_time": "2022-04-13T11:39:51.304Z"
   },
   {
    "duration": 35,
    "start_time": "2022-04-13T11:39:51.634Z"
   },
   {
    "duration": 15,
    "start_time": "2022-04-13T11:39:51.672Z"
   },
   {
    "duration": 13,
    "start_time": "2022-04-13T11:39:51.689Z"
   },
   {
    "duration": 67,
    "start_time": "2022-04-13T11:39:51.704Z"
   },
   {
    "duration": 39,
    "start_time": "2022-04-13T11:39:51.772Z"
   },
   {
    "duration": 6,
    "start_time": "2022-04-13T11:39:51.812Z"
   },
   {
    "duration": 5,
    "start_time": "2022-04-13T11:39:51.820Z"
   },
   {
    "duration": 28,
    "start_time": "2022-04-13T11:39:51.827Z"
   },
   {
    "duration": 17,
    "start_time": "2022-04-13T11:39:51.856Z"
   },
   {
    "duration": 17,
    "start_time": "2022-04-13T11:39:51.875Z"
   },
   {
    "duration": 16,
    "start_time": "2022-04-13T11:39:51.894Z"
   },
   {
    "duration": 11,
    "start_time": "2022-04-13T11:39:51.911Z"
   },
   {
    "duration": 6,
    "start_time": "2022-04-13T11:40:05.207Z"
   },
   {
    "duration": 12,
    "start_time": "2022-04-13T11:40:52.659Z"
   },
   {
    "duration": 5,
    "start_time": "2022-04-13T11:40:54.367Z"
   },
   {
    "duration": 12,
    "start_time": "2022-04-13T11:40:54.942Z"
   },
   {
    "duration": 2350,
    "start_time": "2022-04-13T11:40:58.420Z"
   },
   {
    "duration": 5,
    "start_time": "2022-04-13T11:41:08.056Z"
   },
   {
    "duration": 5,
    "start_time": "2022-04-13T11:41:09.276Z"
   },
   {
    "duration": 12,
    "start_time": "2022-04-13T11:41:09.739Z"
   },
   {
    "duration": 288,
    "start_time": "2022-04-13T11:41:16.319Z"
   },
   {
    "duration": 8,
    "start_time": "2022-04-13T11:41:22.482Z"
   },
   {
    "duration": 5,
    "start_time": "2022-04-13T11:41:22.954Z"
   },
   {
    "duration": 9,
    "start_time": "2022-04-13T11:41:23.371Z"
   },
   {
    "duration": 343,
    "start_time": "2022-04-13T11:41:24.039Z"
   },
   {
    "duration": 223,
    "start_time": "2022-04-13T11:41:38.953Z"
   },
   {
    "duration": 235,
    "start_time": "2022-04-13T11:41:40.926Z"
   },
   {
    "duration": 298,
    "start_time": "2022-04-13T11:41:42.203Z"
   },
   {
    "duration": 228,
    "start_time": "2022-04-13T11:41:43.146Z"
   },
   {
    "duration": 245,
    "start_time": "2022-04-13T11:41:44.346Z"
   },
   {
    "duration": 8,
    "start_time": "2022-04-13T12:07:07.048Z"
   },
   {
    "duration": 445,
    "start_time": "2022-04-13T12:07:15.530Z"
   },
   {
    "duration": 429,
    "start_time": "2022-04-13T12:08:28.072Z"
   },
   {
    "duration": 384,
    "start_time": "2022-04-13T12:08:47.268Z"
   },
   {
    "duration": 272,
    "start_time": "2022-04-13T12:11:36.751Z"
   },
   {
    "duration": 239,
    "start_time": "2022-04-13T12:11:37.494Z"
   },
   {
    "duration": 16,
    "start_time": "2022-04-13T12:11:47.948Z"
   },
   {
    "duration": 5,
    "start_time": "2022-04-13T12:12:55.228Z"
   },
   {
    "duration": 237,
    "start_time": "2022-04-13T12:13:38.499Z"
   },
   {
    "duration": 17,
    "start_time": "2022-04-13T12:14:04.531Z"
   },
   {
    "duration": 15,
    "start_time": "2022-04-13T12:15:18.745Z"
   },
   {
    "duration": 15,
    "start_time": "2022-04-13T12:15:25.829Z"
   },
   {
    "duration": 14,
    "start_time": "2022-04-13T12:15:45.907Z"
   },
   {
    "duration": 23,
    "start_time": "2022-04-13T12:17:11.961Z"
   },
   {
    "duration": 186,
    "start_time": "2022-04-13T12:17:38.371Z"
   },
   {
    "duration": 18,
    "start_time": "2022-04-13T12:17:41.232Z"
   },
   {
    "duration": 33,
    "start_time": "2022-04-13T12:19:17.269Z"
   },
   {
    "duration": 30,
    "start_time": "2022-04-13T12:19:46.230Z"
   },
   {
    "duration": 16,
    "start_time": "2022-04-13T12:21:32.373Z"
   },
   {
    "duration": 23,
    "start_time": "2022-04-13T12:21:58.747Z"
   },
   {
    "duration": 31,
    "start_time": "2022-04-13T12:22:09.910Z"
   },
   {
    "duration": 16,
    "start_time": "2022-04-13T12:22:19.573Z"
   },
   {
    "duration": 53,
    "start_time": "2022-04-13T12:22:46.026Z"
   },
   {
    "duration": 833,
    "start_time": "2022-04-13T12:23:00.088Z"
   },
   {
    "duration": 944,
    "start_time": "2022-04-13T12:23:00.923Z"
   },
   {
    "duration": 5,
    "start_time": "2022-04-13T12:23:01.869Z"
   },
   {
    "duration": 46,
    "start_time": "2022-04-13T12:23:01.877Z"
   },
   {
    "duration": 111,
    "start_time": "2022-04-13T12:23:01.925Z"
   },
   {
    "duration": 421,
    "start_time": "2022-04-13T12:23:02.038Z"
   },
   {
    "duration": 32,
    "start_time": "2022-04-13T12:23:02.462Z"
   },
   {
    "duration": 544,
    "start_time": "2022-04-13T12:23:02.496Z"
   },
   {
    "duration": 53,
    "start_time": "2022-04-13T12:23:03.043Z"
   },
   {
    "duration": 24,
    "start_time": "2022-04-13T12:23:03.100Z"
   },
   {
    "duration": 39,
    "start_time": "2022-04-13T12:23:03.127Z"
   },
   {
    "duration": 91,
    "start_time": "2022-04-13T12:23:03.169Z"
   },
   {
    "duration": 63,
    "start_time": "2022-04-13T12:23:03.263Z"
   },
   {
    "duration": 29,
    "start_time": "2022-04-13T12:23:03.328Z"
   },
   {
    "duration": 4,
    "start_time": "2022-04-13T12:23:03.360Z"
   },
   {
    "duration": 105,
    "start_time": "2022-04-13T12:23:50.700Z"
   },
   {
    "duration": 3,
    "start_time": "2022-04-13T12:23:55.742Z"
   },
   {
    "duration": 941,
    "start_time": "2022-04-13T12:23:55.750Z"
   },
   {
    "duration": 5,
    "start_time": "2022-04-13T12:23:56.694Z"
   },
   {
    "duration": 37,
    "start_time": "2022-04-13T12:23:56.701Z"
   },
   {
    "duration": 94,
    "start_time": "2022-04-13T12:23:56.741Z"
   },
   {
    "duration": 389,
    "start_time": "2022-04-13T12:23:56.837Z"
   },
   {
    "duration": 44,
    "start_time": "2022-04-13T12:23:57.228Z"
   },
   {
    "duration": 538,
    "start_time": "2022-04-13T12:23:57.274Z"
   },
   {
    "duration": 52,
    "start_time": "2022-04-13T12:23:57.815Z"
   },
   {
    "duration": 25,
    "start_time": "2022-04-13T12:23:57.869Z"
   },
   {
    "duration": 20,
    "start_time": "2022-04-13T12:23:57.897Z"
   },
   {
    "duration": 104,
    "start_time": "2022-04-13T12:23:57.922Z"
   },
   {
    "duration": 64,
    "start_time": "2022-04-13T12:23:58.029Z"
   },
   {
    "duration": 9,
    "start_time": "2022-04-13T12:23:58.095Z"
   },
   {
    "duration": 7,
    "start_time": "2022-04-13T12:23:58.106Z"
   },
   {
    "duration": 10,
    "start_time": "2022-04-13T12:23:58.115Z"
   },
   {
    "duration": 45,
    "start_time": "2022-04-13T12:23:58.127Z"
   },
   {
    "duration": 18,
    "start_time": "2022-04-13T12:24:30.318Z"
   },
   {
    "duration": 27,
    "start_time": "2022-04-13T12:24:35.025Z"
   },
   {
    "duration": 19,
    "start_time": "2022-04-13T12:24:45.475Z"
   },
   {
    "duration": 12,
    "start_time": "2022-04-13T12:25:12.732Z"
   },
   {
    "duration": 11,
    "start_time": "2022-04-13T12:25:14.078Z"
   },
   {
    "duration": 10,
    "start_time": "2022-04-13T12:25:24.547Z"
   },
   {
    "duration": 9,
    "start_time": "2022-04-13T12:25:25.404Z"
   },
   {
    "duration": 9,
    "start_time": "2022-04-13T12:25:34.983Z"
   },
   {
    "duration": 11,
    "start_time": "2022-04-13T12:25:36.101Z"
   },
   {
    "duration": 12,
    "start_time": "2022-04-13T12:25:40.341Z"
   },
   {
    "duration": 11,
    "start_time": "2022-04-13T12:25:40.812Z"
   },
   {
    "duration": 12,
    "start_time": "2022-04-13T12:25:47.540Z"
   },
   {
    "duration": 8,
    "start_time": "2022-04-13T12:25:48.245Z"
   },
   {
    "duration": 7,
    "start_time": "2022-04-13T12:26:25.888Z"
   },
   {
    "duration": 17,
    "start_time": "2022-04-13T12:26:27.988Z"
   },
   {
    "duration": 21,
    "start_time": "2022-04-13T12:26:53.822Z"
   },
   {
    "duration": 16,
    "start_time": "2022-04-13T12:27:11.981Z"
   },
   {
    "duration": 8,
    "start_time": "2022-04-13T12:27:53.508Z"
   },
   {
    "duration": 17,
    "start_time": "2022-04-13T12:27:54.212Z"
   },
   {
    "duration": 24,
    "start_time": "2022-04-13T12:27:56.132Z"
   },
   {
    "duration": 13,
    "start_time": "2022-04-13T12:28:02.567Z"
   },
   {
    "duration": 26,
    "start_time": "2022-04-13T12:28:50.562Z"
   },
   {
    "duration": 22,
    "start_time": "2022-04-13T12:28:54.837Z"
   },
   {
    "duration": 14,
    "start_time": "2022-04-13T12:29:27.664Z"
   },
   {
    "duration": 6,
    "start_time": "2022-04-13T12:29:36.516Z"
   },
   {
    "duration": 12,
    "start_time": "2022-04-13T12:29:54.589Z"
   },
   {
    "duration": 13,
    "start_time": "2022-04-13T12:30:07.448Z"
   },
   {
    "duration": 20,
    "start_time": "2022-04-13T12:31:20.333Z"
   },
   {
    "duration": 6,
    "start_time": "2022-04-13T12:31:58.773Z"
   },
   {
    "duration": 9,
    "start_time": "2022-04-13T12:32:04.438Z"
   },
   {
    "duration": 16,
    "start_time": "2022-04-13T12:32:27.199Z"
   },
   {
    "duration": 17,
    "start_time": "2022-04-13T12:32:30.643Z"
   },
   {
    "duration": 17,
    "start_time": "2022-04-13T12:32:44.788Z"
   },
   {
    "duration": 16,
    "start_time": "2022-04-13T12:33:01.094Z"
   },
   {
    "duration": 676,
    "start_time": "2022-04-13T12:33:16.413Z"
   },
   {
    "duration": 938,
    "start_time": "2022-04-13T12:33:17.091Z"
   },
   {
    "duration": 5,
    "start_time": "2022-04-13T12:33:18.031Z"
   },
   {
    "duration": 21,
    "start_time": "2022-04-13T12:33:18.038Z"
   },
   {
    "duration": 55,
    "start_time": "2022-04-13T12:33:18.060Z"
   },
   {
    "duration": 271,
    "start_time": "2022-04-13T12:33:18.116Z"
   },
   {
    "duration": 21,
    "start_time": "2022-04-13T12:33:18.389Z"
   },
   {
    "duration": 397,
    "start_time": "2022-04-13T12:33:18.412Z"
   },
   {
    "duration": 29,
    "start_time": "2022-04-13T12:33:18.811Z"
   },
   {
    "duration": 24,
    "start_time": "2022-04-13T12:33:18.842Z"
   },
   {
    "duration": 16,
    "start_time": "2022-04-13T12:33:18.868Z"
   },
   {
    "duration": 100,
    "start_time": "2022-04-13T12:33:18.886Z"
   },
   {
    "duration": 29,
    "start_time": "2022-04-13T12:33:18.988Z"
   },
   {
    "duration": 6,
    "start_time": "2022-04-13T12:33:19.019Z"
   },
   {
    "duration": 10,
    "start_time": "2022-04-13T12:33:19.027Z"
   },
   {
    "duration": 23,
    "start_time": "2022-04-13T12:33:19.054Z"
   },
   {
    "duration": 6,
    "start_time": "2022-04-13T12:33:30.765Z"
   },
   {
    "duration": 3,
    "start_time": "2022-04-13T12:33:32.914Z"
   },
   {
    "duration": 6,
    "start_time": "2022-04-13T12:34:53.119Z"
   },
   {
    "duration": 27,
    "start_time": "2022-04-13T12:34:56.353Z"
   },
   {
    "duration": 6,
    "start_time": "2022-04-13T12:34:57.566Z"
   },
   {
    "duration": 18,
    "start_time": "2022-04-13T12:35:07.730Z"
   },
   {
    "duration": 82,
    "start_time": "2022-04-13T12:35:08.824Z"
   },
   {
    "duration": 37,
    "start_time": "2022-04-13T12:35:09.447Z"
   },
   {
    "duration": 8,
    "start_time": "2022-04-13T12:35:10.463Z"
   },
   {
    "duration": 676,
    "start_time": "2022-04-13T12:35:12.429Z"
   },
   {
    "duration": 15,
    "start_time": "2022-04-13T12:35:13.409Z"
   },
   {
    "duration": 7,
    "start_time": "2022-04-13T12:35:19.331Z"
   },
   {
    "duration": 15,
    "start_time": "2022-04-13T12:35:21.436Z"
   },
   {
    "duration": 6,
    "start_time": "2022-04-13T12:35:25.214Z"
   },
   {
    "duration": 4,
    "start_time": "2022-04-13T12:35:26.535Z"
   },
   {
    "duration": 16,
    "start_time": "2022-04-13T12:36:06.132Z"
   },
   {
    "duration": 15,
    "start_time": "2022-04-13T12:37:13.112Z"
   },
   {
    "duration": 51,
    "start_time": "2022-04-13T12:37:13.855Z"
   },
   {
    "duration": 29,
    "start_time": "2022-04-13T12:37:14.547Z"
   },
   {
    "duration": 5,
    "start_time": "2022-04-13T12:37:37.878Z"
   },
   {
    "duration": 16,
    "start_time": "2022-04-13T12:37:41.973Z"
   },
   {
    "duration": 17,
    "start_time": "2022-04-13T12:38:09.841Z"
   },
   {
    "duration": 5,
    "start_time": "2022-04-13T12:38:39.259Z"
   },
   {
    "duration": 13,
    "start_time": "2022-04-13T12:38:41.899Z"
   },
   {
    "duration": 23,
    "start_time": "2022-04-13T12:38:43.258Z"
   },
   {
    "duration": 17,
    "start_time": "2022-04-13T12:39:59.840Z"
   },
   {
    "duration": 692,
    "start_time": "2022-04-13T12:41:05.632Z"
   },
   {
    "duration": 877,
    "start_time": "2022-04-13T12:41:06.326Z"
   },
   {
    "duration": 4,
    "start_time": "2022-04-13T12:41:07.205Z"
   },
   {
    "duration": 21,
    "start_time": "2022-04-13T12:41:07.212Z"
   },
   {
    "duration": 87,
    "start_time": "2022-04-13T12:41:07.235Z"
   },
   {
    "duration": 401,
    "start_time": "2022-04-13T12:41:07.324Z"
   },
   {
    "duration": 37,
    "start_time": "2022-04-13T12:41:07.727Z"
   },
   {
    "duration": 497,
    "start_time": "2022-04-13T12:41:07.766Z"
   },
   {
    "duration": 42,
    "start_time": "2022-04-13T12:41:08.266Z"
   },
   {
    "duration": 22,
    "start_time": "2022-04-13T12:41:08.311Z"
   },
   {
    "duration": 31,
    "start_time": "2022-04-13T12:41:08.336Z"
   },
   {
    "duration": 103,
    "start_time": "2022-04-13T12:41:08.370Z"
   },
   {
    "duration": 35,
    "start_time": "2022-04-13T12:41:08.475Z"
   },
   {
    "duration": 8,
    "start_time": "2022-04-13T12:41:08.512Z"
   },
   {
    "duration": 9,
    "start_time": "2022-04-13T12:41:08.522Z"
   },
   {
    "duration": 22,
    "start_time": "2022-04-13T12:41:08.533Z"
   },
   {
    "duration": 4,
    "start_time": "2022-04-13T12:41:08.557Z"
   },
   {
    "duration": 6,
    "start_time": "2022-04-13T12:41:08.563Z"
   },
   {
    "duration": 21,
    "start_time": "2022-04-13T12:41:08.571Z"
   },
   {
    "duration": 20,
    "start_time": "2022-04-13T12:41:08.594Z"
   },
   {
    "duration": 49,
    "start_time": "2022-04-13T12:41:08.616Z"
   },
   {
    "duration": 6,
    "start_time": "2022-04-13T12:41:08.668Z"
   },
   {
    "duration": 9,
    "start_time": "2022-04-13T12:41:08.676Z"
   },
   {
    "duration": 9,
    "start_time": "2022-04-13T12:41:08.686Z"
   },
   {
    "duration": 302,
    "start_time": "2022-04-13T12:41:08.697Z"
   },
   {
    "duration": 234,
    "start_time": "2022-04-13T12:41:09.001Z"
   },
   {
    "duration": 256,
    "start_time": "2022-04-13T12:41:09.236Z"
   },
   {
    "duration": 5,
    "start_time": "2022-04-13T12:41:09.495Z"
   },
   {
    "duration": 248,
    "start_time": "2022-04-13T12:41:09.502Z"
   },
   {
    "duration": 409,
    "start_time": "2022-04-13T12:41:09.752Z"
   },
   {
    "duration": 372,
    "start_time": "2022-04-13T12:41:10.163Z"
   },
   {
    "duration": 349,
    "start_time": "2022-04-13T12:41:10.537Z"
   },
   {
    "duration": 366,
    "start_time": "2022-04-13T12:41:10.888Z"
   },
   {
    "duration": 8,
    "start_time": "2022-04-13T12:43:02.900Z"
   },
   {
    "duration": 6,
    "start_time": "2022-04-13T12:43:03.390Z"
   },
   {
    "duration": 4,
    "start_time": "2022-04-13T12:43:04.252Z"
   },
   {
    "duration": 7,
    "start_time": "2022-04-13T12:43:09.437Z"
   },
   {
    "duration": 17,
    "start_time": "2022-04-13T12:43:09.850Z"
   },
   {
    "duration": 21,
    "start_time": "2022-04-13T12:43:10.451Z"
   },
   {
    "duration": 25,
    "start_time": "2022-04-13T12:43:11.074Z"
   },
   {
    "duration": 6,
    "start_time": "2022-04-13T12:43:11.580Z"
   },
   {
    "duration": 7,
    "start_time": "2022-04-13T12:43:12.157Z"
   },
   {
    "duration": 5,
    "start_time": "2022-04-13T12:43:12.836Z"
   },
   {
    "duration": 250,
    "start_time": "2022-04-13T12:43:13.579Z"
   },
   {
    "duration": 239,
    "start_time": "2022-04-13T12:43:14.783Z"
   },
   {
    "duration": 338,
    "start_time": "2022-04-13T12:43:21.774Z"
   },
   {
    "duration": 2338,
    "start_time": "2022-04-13T13:06:05.434Z"
   },
   {
    "duration": 6,
    "start_time": "2022-04-13T13:06:10.395Z"
   },
   {
    "duration": 4,
    "start_time": "2022-04-13T13:06:10.974Z"
   },
   {
    "duration": 18,
    "start_time": "2022-04-13T13:06:24.498Z"
   },
   {
    "duration": 46,
    "start_time": "2022-04-13T13:07:47.977Z"
   },
   {
    "duration": 707,
    "start_time": "2022-04-13T13:07:51.434Z"
   },
   {
    "duration": 626,
    "start_time": "2022-04-13T13:07:52.143Z"
   },
   {
    "duration": 4,
    "start_time": "2022-04-13T13:07:52.771Z"
   },
   {
    "duration": 19,
    "start_time": "2022-04-13T13:07:52.777Z"
   },
   {
    "duration": 61,
    "start_time": "2022-04-13T13:07:52.798Z"
   },
   {
    "duration": 263,
    "start_time": "2022-04-13T13:07:52.860Z"
   },
   {
    "duration": 35,
    "start_time": "2022-04-13T13:07:53.125Z"
   },
   {
    "duration": 358,
    "start_time": "2022-04-13T13:07:53.161Z"
   },
   {
    "duration": 34,
    "start_time": "2022-04-13T13:07:53.520Z"
   },
   {
    "duration": 15,
    "start_time": "2022-04-13T13:07:53.557Z"
   },
   {
    "duration": 14,
    "start_time": "2022-04-13T13:07:53.574Z"
   },
   {
    "duration": 68,
    "start_time": "2022-04-13T13:07:53.589Z"
   },
   {
    "duration": 26,
    "start_time": "2022-04-13T13:07:53.659Z"
   },
   {
    "duration": 6,
    "start_time": "2022-04-13T13:07:53.686Z"
   },
   {
    "duration": 8,
    "start_time": "2022-04-13T13:07:53.694Z"
   },
   {
    "duration": 13,
    "start_time": "2022-04-13T13:07:53.703Z"
   },
   {
    "duration": 6,
    "start_time": "2022-04-13T13:07:53.718Z"
   },
   {
    "duration": 11,
    "start_time": "2022-04-13T13:07:53.725Z"
   },
   {
    "duration": 18,
    "start_time": "2022-04-13T13:07:53.754Z"
   },
   {
    "duration": 17,
    "start_time": "2022-04-13T13:07:53.774Z"
   },
   {
    "duration": 19,
    "start_time": "2022-04-13T13:07:53.793Z"
   },
   {
    "duration": 4,
    "start_time": "2022-04-13T13:07:53.814Z"
   },
   {
    "duration": 37,
    "start_time": "2022-04-13T13:07:53.820Z"
   },
   {
    "duration": 13,
    "start_time": "2022-04-13T13:07:53.859Z"
   },
   {
    "duration": 301,
    "start_time": "2022-04-13T13:07:53.874Z"
   },
   {
    "duration": 381,
    "start_time": "2022-04-13T13:07:54.178Z"
   },
   {
    "duration": 7,
    "start_time": "2022-04-13T13:07:54.561Z"
   },
   {
    "duration": 19,
    "start_time": "2022-04-13T13:07:54.572Z"
   },
   {
    "duration": 4,
    "start_time": "2022-04-13T13:08:50.313Z"
   },
   {
    "duration": 248,
    "start_time": "2022-04-13T13:10:37.126Z"
   },
   {
    "duration": 389,
    "start_time": "2022-04-13T13:10:45.005Z"
   },
   {
    "duration": 843,
    "start_time": "2022-04-14T09:28:11.892Z"
   },
   {
    "duration": 734,
    "start_time": "2022-04-14T09:28:12.738Z"
   },
   {
    "duration": 4,
    "start_time": "2022-04-14T09:28:13.474Z"
   },
   {
    "duration": 18,
    "start_time": "2022-04-14T09:28:13.480Z"
   },
   {
    "duration": 56,
    "start_time": "2022-04-14T09:28:13.500Z"
   },
   {
    "duration": 281,
    "start_time": "2022-04-14T09:28:13.558Z"
   },
   {
    "duration": 25,
    "start_time": "2022-04-14T09:28:13.841Z"
   },
   {
    "duration": 425,
    "start_time": "2022-04-14T09:28:13.868Z"
   },
   {
    "duration": 39,
    "start_time": "2022-04-14T09:28:14.295Z"
   },
   {
    "duration": 17,
    "start_time": "2022-04-14T09:28:14.337Z"
   },
   {
    "duration": 16,
    "start_time": "2022-04-14T09:28:14.356Z"
   },
   {
    "duration": 77,
    "start_time": "2022-04-14T09:28:14.374Z"
   },
   {
    "duration": 31,
    "start_time": "2022-04-14T09:28:14.453Z"
   },
   {
    "duration": 7,
    "start_time": "2022-04-14T09:28:14.486Z"
   },
   {
    "duration": 10,
    "start_time": "2022-04-14T09:28:14.495Z"
   },
   {
    "duration": 26,
    "start_time": "2022-04-14T09:28:14.507Z"
   },
   {
    "duration": 4,
    "start_time": "2022-04-14T09:28:14.535Z"
   },
   {
    "duration": 10,
    "start_time": "2022-04-14T09:28:14.540Z"
   },
   {
    "duration": 19,
    "start_time": "2022-04-14T09:28:14.552Z"
   },
   {
    "duration": 18,
    "start_time": "2022-04-14T09:28:14.572Z"
   },
   {
    "duration": 45,
    "start_time": "2022-04-14T09:28:14.592Z"
   },
   {
    "duration": 5,
    "start_time": "2022-04-14T09:28:14.639Z"
   },
   {
    "duration": 11,
    "start_time": "2022-04-14T09:28:14.645Z"
   },
   {
    "duration": 10,
    "start_time": "2022-04-14T09:28:14.658Z"
   },
   {
    "duration": 348,
    "start_time": "2022-04-14T09:28:14.670Z"
   },
   {
    "duration": 283,
    "start_time": "2022-04-14T09:28:15.020Z"
   },
   {
    "duration": 5,
    "start_time": "2022-04-14T09:28:15.305Z"
   },
   {
    "duration": 288,
    "start_time": "2022-04-14T09:28:15.313Z"
   },
   {
    "duration": 291,
    "start_time": "2022-04-14T09:28:15.603Z"
   },
   {
    "duration": 340,
    "start_time": "2022-04-14T09:28:15.896Z"
   },
   {
    "duration": 317,
    "start_time": "2022-04-14T09:28:16.238Z"
   },
   {
    "duration": 707,
    "start_time": "2022-04-14T09:29:37.952Z"
   },
   {
    "duration": 725,
    "start_time": "2022-04-14T09:29:38.662Z"
   },
   {
    "duration": 3,
    "start_time": "2022-04-14T09:29:39.389Z"
   },
   {
    "duration": 19,
    "start_time": "2022-04-14T09:29:39.395Z"
   },
   {
    "duration": 66,
    "start_time": "2022-04-14T09:29:39.416Z"
   },
   {
    "duration": 298,
    "start_time": "2022-04-14T09:29:39.484Z"
   },
   {
    "duration": 25,
    "start_time": "2022-04-14T09:29:39.784Z"
   },
   {
    "duration": 432,
    "start_time": "2022-04-14T09:29:39.810Z"
   },
   {
    "duration": 32,
    "start_time": "2022-04-14T09:29:40.244Z"
   },
   {
    "duration": 17,
    "start_time": "2022-04-14T09:29:40.278Z"
   },
   {
    "duration": 37,
    "start_time": "2022-04-14T09:29:40.297Z"
   },
   {
    "duration": 58,
    "start_time": "2022-04-14T09:29:40.335Z"
   },
   {
    "duration": 28,
    "start_time": "2022-04-14T09:29:42.086Z"
   },
   {
    "duration": 2753,
    "start_time": "2022-04-14T09:30:14.347Z"
   },
   {
    "duration": 5,
    "start_time": "2022-04-14T09:30:26.444Z"
   },
   {
    "duration": 22,
    "start_time": "2022-04-14T09:30:30.731Z"
   },
   {
    "duration": 12,
    "start_time": "2022-04-14T09:30:42.445Z"
   },
   {
    "duration": 6,
    "start_time": "2022-04-14T09:31:42.934Z"
   },
   {
    "duration": 13,
    "start_time": "2022-04-14T09:31:43.548Z"
   },
   {
    "duration": 17,
    "start_time": "2022-04-14T09:31:55.108Z"
   },
   {
    "duration": 19,
    "start_time": "2022-04-14T09:32:09.884Z"
   },
   {
    "duration": 18,
    "start_time": "2022-04-14T09:32:16.203Z"
   },
   {
    "duration": 18,
    "start_time": "2022-04-14T09:33:44.772Z"
   },
   {
    "duration": 12,
    "start_time": "2022-04-14T09:34:21.700Z"
   },
   {
    "duration": 5,
    "start_time": "2022-04-14T09:34:23.979Z"
   },
   {
    "duration": 10,
    "start_time": "2022-04-14T09:34:32.971Z"
   },
   {
    "duration": 13,
    "start_time": "2022-04-14T09:34:53.515Z"
   },
   {
    "duration": 17,
    "start_time": "2022-04-14T09:36:01.573Z"
   },
   {
    "duration": 8,
    "start_time": "2022-04-14T09:36:06.326Z"
   },
   {
    "duration": 11,
    "start_time": "2022-04-14T09:36:09.796Z"
   },
   {
    "duration": 8,
    "start_time": "2022-04-14T09:36:27.015Z"
   },
   {
    "duration": 12,
    "start_time": "2022-04-14T09:36:31.538Z"
   },
   {
    "duration": 12,
    "start_time": "2022-04-14T09:36:46.705Z"
   },
   {
    "duration": 11,
    "start_time": "2022-04-14T09:36:50.123Z"
   },
   {
    "duration": 7,
    "start_time": "2022-04-14T09:36:58.540Z"
   },
   {
    "duration": 12,
    "start_time": "2022-04-14T09:37:02.120Z"
   },
   {
    "duration": 12,
    "start_time": "2022-04-14T09:37:08.099Z"
   },
   {
    "duration": 9,
    "start_time": "2022-04-14T09:37:12.299Z"
   },
   {
    "duration": 12,
    "start_time": "2022-04-14T09:37:17.490Z"
   },
   {
    "duration": 13,
    "start_time": "2022-04-14T09:37:28.000Z"
   },
   {
    "duration": 6,
    "start_time": "2022-04-14T09:38:46.242Z"
   },
   {
    "duration": 6,
    "start_time": "2022-04-14T09:38:46.645Z"
   },
   {
    "duration": 4,
    "start_time": "2022-04-14T09:38:47.222Z"
   },
   {
    "duration": 4,
    "start_time": "2022-04-14T09:38:49.888Z"
   },
   {
    "duration": 12,
    "start_time": "2022-04-14T09:38:52.211Z"
   },
   {
    "duration": 11,
    "start_time": "2022-04-14T09:38:57.938Z"
   },
   {
    "duration": 13,
    "start_time": "2022-04-14T09:39:03.602Z"
   },
   {
    "duration": 7,
    "start_time": "2022-04-14T09:39:23.650Z"
   },
   {
    "duration": 5,
    "start_time": "2022-04-14T09:39:37.650Z"
   },
   {
    "duration": 6,
    "start_time": "2022-04-14T09:39:53.466Z"
   },
   {
    "duration": 12,
    "start_time": "2022-04-14T09:39:58.768Z"
   },
   {
    "duration": 11,
    "start_time": "2022-04-14T09:40:03.650Z"
   },
   {
    "duration": 12,
    "start_time": "2022-04-14T09:40:33.221Z"
   },
   {
    "duration": 13,
    "start_time": "2022-04-14T09:40:39.307Z"
   },
   {
    "duration": 15,
    "start_time": "2022-04-14T09:40:41.698Z"
   },
   {
    "duration": 11,
    "start_time": "2022-04-14T09:40:44.755Z"
   },
   {
    "duration": 15,
    "start_time": "2022-04-14T09:41:27.990Z"
   },
   {
    "duration": 13,
    "start_time": "2022-04-14T09:41:39.059Z"
   },
   {
    "duration": 13,
    "start_time": "2022-04-14T09:41:51.659Z"
   },
   {
    "duration": 13,
    "start_time": "2022-04-14T09:41:54.947Z"
   },
   {
    "duration": 13,
    "start_time": "2022-04-14T09:42:01.867Z"
   },
   {
    "duration": 14,
    "start_time": "2022-04-14T09:42:11.530Z"
   },
   {
    "duration": 13,
    "start_time": "2022-04-14T09:42:18.611Z"
   },
   {
    "duration": 9,
    "start_time": "2022-04-14T09:42:56.468Z"
   },
   {
    "duration": 6,
    "start_time": "2022-04-14T09:43:00.916Z"
   },
   {
    "duration": 8,
    "start_time": "2022-04-14T09:43:22.551Z"
   },
   {
    "duration": 5,
    "start_time": "2022-04-14T09:43:30.098Z"
   },
   {
    "duration": 5,
    "start_time": "2022-04-14T09:43:35.570Z"
   },
   {
    "duration": 6,
    "start_time": "2022-04-14T09:43:54.374Z"
   },
   {
    "duration": 4,
    "start_time": "2022-04-14T09:44:12.062Z"
   },
   {
    "duration": 6,
    "start_time": "2022-04-14T09:44:16.523Z"
   },
   {
    "duration": 10,
    "start_time": "2022-04-14T09:44:35.539Z"
   },
   {
    "duration": 8,
    "start_time": "2022-04-14T09:44:38.187Z"
   },
   {
    "duration": 8,
    "start_time": "2022-04-14T09:45:16.540Z"
   },
   {
    "duration": 13,
    "start_time": "2022-04-14T09:45:21.699Z"
   },
   {
    "duration": 7,
    "start_time": "2022-04-14T09:45:32.548Z"
   },
   {
    "duration": 13,
    "start_time": "2022-04-14T09:45:34.251Z"
   },
   {
    "duration": 5,
    "start_time": "2022-04-14T09:45:47.451Z"
   },
   {
    "duration": 4,
    "start_time": "2022-04-14T09:46:58.883Z"
   },
   {
    "duration": 5,
    "start_time": "2022-04-14T09:47:04.301Z"
   },
   {
    "duration": 8,
    "start_time": "2022-04-14T09:47:41.731Z"
   },
   {
    "duration": 8,
    "start_time": "2022-04-14T09:47:47.204Z"
   },
   {
    "duration": 8,
    "start_time": "2022-04-14T09:48:28.219Z"
   },
   {
    "duration": 10,
    "start_time": "2022-04-14T09:48:33.171Z"
   },
   {
    "duration": 11,
    "start_time": "2022-04-14T09:48:41.523Z"
   },
   {
    "duration": 193,
    "start_time": "2022-04-14T09:49:26.306Z"
   },
   {
    "duration": 9,
    "start_time": "2022-04-14T09:49:28.964Z"
   },
   {
    "duration": 12,
    "start_time": "2022-04-14T09:49:50.587Z"
   },
   {
    "duration": 5,
    "start_time": "2022-04-14T09:49:56.661Z"
   },
   {
    "duration": 4,
    "start_time": "2022-04-14T09:50:18.907Z"
   },
   {
    "duration": 9,
    "start_time": "2022-04-14T09:50:41.383Z"
   },
   {
    "duration": 5,
    "start_time": "2022-04-14T09:51:38.025Z"
   },
   {
    "duration": 7,
    "start_time": "2022-04-14T09:51:41.553Z"
   },
   {
    "duration": 11,
    "start_time": "2022-04-14T09:51:49.106Z"
   },
   {
    "duration": 2821,
    "start_time": "2022-04-14T09:53:17.714Z"
   },
   {
    "duration": 8,
    "start_time": "2022-04-14T09:53:29.825Z"
   },
   {
    "duration": 14,
    "start_time": "2022-04-14T09:53:37.657Z"
   },
   {
    "duration": 9,
    "start_time": "2022-04-14T09:53:43.346Z"
   },
   {
    "duration": 11,
    "start_time": "2022-04-14T09:53:49.505Z"
   },
   {
    "duration": 2728,
    "start_time": "2022-04-14T09:53:54.436Z"
   },
   {
    "duration": 3004,
    "start_time": "2022-04-14T09:54:06.932Z"
   },
   {
    "duration": 7,
    "start_time": "2022-04-14T09:54:13.481Z"
   },
   {
    "duration": 13,
    "start_time": "2022-04-14T09:54:24.369Z"
   },
   {
    "duration": 7,
    "start_time": "2022-04-14T09:54:37.349Z"
   },
   {
    "duration": 10,
    "start_time": "2022-04-14T09:55:33.671Z"
   },
   {
    "duration": 3,
    "start_time": "2022-04-14T09:55:42.086Z"
   },
   {
    "duration": 3,
    "start_time": "2022-04-14T09:55:50.335Z"
   },
   {
    "duration": 5,
    "start_time": "2022-04-14T09:55:50.894Z"
   },
   {
    "duration": 8,
    "start_time": "2022-04-14T09:55:57.988Z"
   },
   {
    "duration": 9,
    "start_time": "2022-04-14T09:56:06.120Z"
   },
   {
    "duration": 4,
    "start_time": "2022-04-14T09:56:12.580Z"
   },
   {
    "duration": 4,
    "start_time": "2022-04-14T09:56:13.140Z"
   },
   {
    "duration": 7,
    "start_time": "2022-04-14T09:56:18.506Z"
   },
   {
    "duration": 4,
    "start_time": "2022-04-14T09:56:36.702Z"
   },
   {
    "duration": 9,
    "start_time": "2022-04-14T09:56:39.811Z"
   },
   {
    "duration": 160,
    "start_time": "2022-04-14T09:57:03.939Z"
   },
   {
    "duration": 5,
    "start_time": "2022-04-14T09:57:19.627Z"
   },
   {
    "duration": 10,
    "start_time": "2022-04-14T09:57:20.537Z"
   },
   {
    "duration": 5,
    "start_time": "2022-04-14T09:57:26.885Z"
   },
   {
    "duration": 4,
    "start_time": "2022-04-14T09:57:27.500Z"
   },
   {
    "duration": 11,
    "start_time": "2022-04-14T09:57:27.995Z"
   },
   {
    "duration": 12,
    "start_time": "2022-04-14T09:57:45.366Z"
   },
   {
    "duration": 16,
    "start_time": "2022-04-14T09:58:10.212Z"
   },
   {
    "duration": 20,
    "start_time": "2022-04-14T10:00:24.933Z"
   },
   {
    "duration": 17,
    "start_time": "2022-04-14T10:00:36.085Z"
   },
   {
    "duration": 20,
    "start_time": "2022-04-14T10:01:09.637Z"
   },
   {
    "duration": 28,
    "start_time": "2022-04-14T10:01:22.957Z"
   },
   {
    "duration": 26,
    "start_time": "2022-04-14T10:01:23.481Z"
   },
   {
    "duration": 30,
    "start_time": "2022-04-14T10:01:27.941Z"
   },
   {
    "duration": 19,
    "start_time": "2022-04-14T10:01:28.628Z"
   },
   {
    "duration": 15,
    "start_time": "2022-04-14T10:01:35.279Z"
   },
   {
    "duration": 55,
    "start_time": "2022-04-14T10:01:36.256Z"
   },
   {
    "duration": 28,
    "start_time": "2022-04-14T10:01:36.910Z"
   },
   {
    "duration": 18,
    "start_time": "2022-04-14T10:01:37.437Z"
   },
   {
    "duration": 6,
    "start_time": "2022-04-14T10:01:47.837Z"
   },
   {
    "duration": 6,
    "start_time": "2022-04-14T10:01:48.966Z"
   },
   {
    "duration": 5,
    "start_time": "2022-04-14T10:01:50.362Z"
   },
   {
    "duration": 4,
    "start_time": "2022-04-14T10:01:53.811Z"
   },
   {
    "duration": 21,
    "start_time": "2022-04-14T10:01:59.634Z"
   },
   {
    "duration": 10,
    "start_time": "2022-04-14T10:02:34.039Z"
   },
   {
    "duration": 5,
    "start_time": "2022-04-14T10:02:47.023Z"
   },
   {
    "duration": 3,
    "start_time": "2022-04-14T10:02:47.767Z"
   },
   {
    "duration": 22,
    "start_time": "2022-04-14T10:02:49.406Z"
   },
   {
    "duration": 8,
    "start_time": "2022-04-14T10:03:52.876Z"
   },
   {
    "duration": 19,
    "start_time": "2022-04-14T10:06:49.423Z"
   },
   {
    "duration": 21,
    "start_time": "2022-04-14T10:06:55.909Z"
   },
   {
    "duration": 4,
    "start_time": "2022-04-14T10:07:45.933Z"
   },
   {
    "duration": 3,
    "start_time": "2022-04-14T10:07:48.469Z"
   },
   {
    "duration": 7,
    "start_time": "2022-04-14T10:07:54.262Z"
   },
   {
    "duration": 5,
    "start_time": "2022-04-14T10:07:56.390Z"
   },
   {
    "duration": 21,
    "start_time": "2022-04-14T10:08:22.808Z"
   },
   {
    "duration": 10,
    "start_time": "2022-04-14T10:08:27.552Z"
   },
   {
    "duration": 8,
    "start_time": "2022-04-14T10:08:36.704Z"
   },
   {
    "duration": 8,
    "start_time": "2022-04-14T10:08:38.476Z"
   },
   {
    "duration": 6,
    "start_time": "2022-04-14T10:08:45.981Z"
   },
   {
    "duration": 17,
    "start_time": "2022-04-14T10:08:54.693Z"
   },
   {
    "duration": 7,
    "start_time": "2022-04-14T10:09:16.965Z"
   },
   {
    "duration": 4,
    "start_time": "2022-04-14T10:09:19.313Z"
   },
   {
    "duration": 717,
    "start_time": "2022-04-14T10:09:34.374Z"
   },
   {
    "duration": 825,
    "start_time": "2022-04-14T10:09:35.093Z"
   },
   {
    "duration": 5,
    "start_time": "2022-04-14T10:09:35.920Z"
   },
   {
    "duration": 18,
    "start_time": "2022-04-14T10:09:35.928Z"
   },
   {
    "duration": 57,
    "start_time": "2022-04-14T10:09:35.948Z"
   },
   {
    "duration": 300,
    "start_time": "2022-04-14T10:09:36.007Z"
   },
   {
    "duration": 35,
    "start_time": "2022-04-14T10:09:36.309Z"
   },
   {
    "duration": 423,
    "start_time": "2022-04-14T10:09:36.346Z"
   },
   {
    "duration": 33,
    "start_time": "2022-04-14T10:09:36.771Z"
   },
   {
    "duration": 30,
    "start_time": "2022-04-14T10:09:36.807Z"
   },
   {
    "duration": 16,
    "start_time": "2022-04-14T10:09:36.839Z"
   },
   {
    "duration": 79,
    "start_time": "2022-04-14T10:09:36.858Z"
   },
   {
    "duration": 32,
    "start_time": "2022-04-14T10:09:36.939Z"
   },
   {
    "duration": 6,
    "start_time": "2022-04-14T10:09:36.973Z"
   },
   {
    "duration": 11,
    "start_time": "2022-04-14T10:09:36.982Z"
   },
   {
    "duration": 13,
    "start_time": "2022-04-14T10:09:36.995Z"
   },
   {
    "duration": 24,
    "start_time": "2022-04-14T10:09:37.011Z"
   },
   {
    "duration": 7,
    "start_time": "2022-04-14T10:09:37.037Z"
   },
   {
    "duration": 11,
    "start_time": "2022-04-14T10:09:37.046Z"
   },
   {
    "duration": 8,
    "start_time": "2022-04-14T10:09:37.059Z"
   },
   {
    "duration": 12,
    "start_time": "2022-04-14T10:09:37.069Z"
   },
   {
    "duration": 20,
    "start_time": "2022-04-14T10:09:37.083Z"
   },
   {
    "duration": 31,
    "start_time": "2022-04-14T10:09:37.105Z"
   },
   {
    "duration": 4,
    "start_time": "2022-04-14T10:09:37.138Z"
   },
   {
    "duration": 4,
    "start_time": "2022-04-14T10:09:54.467Z"
   },
   {
    "duration": 6,
    "start_time": "2022-04-14T10:10:03.863Z"
   },
   {
    "duration": 6,
    "start_time": "2022-04-14T10:10:09.083Z"
   },
   {
    "duration": 19,
    "start_time": "2022-04-14T10:10:09.091Z"
   },
   {
    "duration": 18,
    "start_time": "2022-04-14T10:10:09.111Z"
   },
   {
    "duration": 22,
    "start_time": "2022-04-14T10:10:09.131Z"
   },
   {
    "duration": 12,
    "start_time": "2022-04-14T10:10:09.155Z"
   },
   {
    "duration": 9,
    "start_time": "2022-04-14T10:10:09.169Z"
   },
   {
    "duration": 14,
    "start_time": "2022-04-14T10:10:09.180Z"
   },
   {
    "duration": 347,
    "start_time": "2022-04-14T10:10:09.195Z"
   },
   {
    "duration": 286,
    "start_time": "2022-04-14T10:10:09.544Z"
   },
   {
    "duration": 6,
    "start_time": "2022-04-14T10:10:09.835Z"
   },
   {
    "duration": 308,
    "start_time": "2022-04-14T10:10:09.843Z"
   },
   {
    "duration": 340,
    "start_time": "2022-04-14T10:10:10.153Z"
   },
   {
    "duration": 296,
    "start_time": "2022-04-14T10:10:10.496Z"
   },
   {
    "duration": 301,
    "start_time": "2022-04-14T10:10:10.793Z"
   },
   {
    "duration": 318,
    "start_time": "2022-04-14T10:24:42.169Z"
   },
   {
    "duration": 340,
    "start_time": "2022-04-14T10:24:51.072Z"
   },
   {
    "duration": 230,
    "start_time": "2022-04-14T10:25:24.339Z"
   },
   {
    "duration": 327,
    "start_time": "2022-04-14T10:25:29.021Z"
   },
   {
    "duration": 18,
    "start_time": "2022-04-14T10:25:53.544Z"
   },
   {
    "duration": 8,
    "start_time": "2022-04-14T10:27:13.946Z"
   },
   {
    "duration": 5,
    "start_time": "2022-04-14T10:27:15.253Z"
   },
   {
    "duration": 4,
    "start_time": "2022-04-14T10:27:18.922Z"
   },
   {
    "duration": 8,
    "start_time": "2022-04-14T10:27:24.297Z"
   },
   {
    "duration": 4,
    "start_time": "2022-04-14T10:27:45.043Z"
   },
   {
    "duration": 9,
    "start_time": "2022-04-14T10:27:49.409Z"
   },
   {
    "duration": 2717,
    "start_time": "2022-04-14T10:28:19.722Z"
   },
   {
    "duration": 12,
    "start_time": "2022-04-14T10:28:26.994Z"
   },
   {
    "duration": 5,
    "start_time": "2022-04-14T10:28:36.484Z"
   },
   {
    "duration": 338,
    "start_time": "2022-04-14T10:28:49.000Z"
   },
   {
    "duration": 252,
    "start_time": "2022-04-14T10:29:03.649Z"
   },
   {
    "duration": 287,
    "start_time": "2022-04-14T10:29:55.889Z"
   },
   {
    "duration": 398,
    "start_time": "2022-04-14T10:30:01.276Z"
   },
   {
    "duration": 348,
    "start_time": "2022-04-14T10:30:16.546Z"
   },
   {
    "duration": 303,
    "start_time": "2022-04-14T10:30:24.977Z"
   },
   {
    "duration": 15,
    "start_time": "2022-04-14T10:30:56.915Z"
   },
   {
    "duration": 304,
    "start_time": "2022-04-14T10:31:01.198Z"
   },
   {
    "duration": 270,
    "start_time": "2022-04-14T10:32:11.722Z"
   },
   {
    "duration": 768,
    "start_time": "2022-04-14T10:32:30.427Z"
   },
   {
    "duration": 732,
    "start_time": "2022-04-14T10:32:31.197Z"
   },
   {
    "duration": 4,
    "start_time": "2022-04-14T10:32:31.930Z"
   },
   {
    "duration": 31,
    "start_time": "2022-04-14T10:32:31.937Z"
   },
   {
    "duration": 74,
    "start_time": "2022-04-14T10:32:31.969Z"
   },
   {
    "duration": 289,
    "start_time": "2022-04-14T10:32:32.045Z"
   },
   {
    "duration": 23,
    "start_time": "2022-04-14T10:32:32.336Z"
   },
   {
    "duration": 414,
    "start_time": "2022-04-14T10:32:32.361Z"
   },
   {
    "duration": 34,
    "start_time": "2022-04-14T10:32:32.777Z"
   },
   {
    "duration": 32,
    "start_time": "2022-04-14T10:32:32.813Z"
   },
   {
    "duration": 18,
    "start_time": "2022-04-14T10:32:32.847Z"
   },
   {
    "duration": 66,
    "start_time": "2022-04-14T10:32:32.867Z"
   },
   {
    "duration": 29,
    "start_time": "2022-04-14T10:32:32.935Z"
   },
   {
    "duration": 6,
    "start_time": "2022-04-14T10:32:32.966Z"
   },
   {
    "duration": 9,
    "start_time": "2022-04-14T10:32:32.974Z"
   },
   {
    "duration": 16,
    "start_time": "2022-04-14T10:32:32.985Z"
   },
   {
    "duration": 5,
    "start_time": "2022-04-14T10:32:33.002Z"
   },
   {
    "duration": 6,
    "start_time": "2022-04-14T10:32:33.008Z"
   },
   {
    "duration": 16,
    "start_time": "2022-04-14T10:32:33.034Z"
   },
   {
    "duration": 9,
    "start_time": "2022-04-14T10:32:33.052Z"
   },
   {
    "duration": 9,
    "start_time": "2022-04-14T10:32:33.063Z"
   },
   {
    "duration": 10,
    "start_time": "2022-04-14T10:32:33.074Z"
   },
   {
    "duration": 12,
    "start_time": "2022-04-14T10:32:33.086Z"
   },
   {
    "duration": 10,
    "start_time": "2022-04-14T10:32:33.100Z"
   },
   {
    "duration": 33,
    "start_time": "2022-04-14T10:32:33.112Z"
   },
   {
    "duration": 20,
    "start_time": "2022-04-14T10:32:33.147Z"
   },
   {
    "duration": 21,
    "start_time": "2022-04-14T10:32:33.169Z"
   },
   {
    "duration": 5,
    "start_time": "2022-04-14T10:32:33.195Z"
   },
   {
    "duration": 39,
    "start_time": "2022-04-14T10:32:33.202Z"
   },
   {
    "duration": 12,
    "start_time": "2022-04-14T10:32:33.243Z"
   },
   {
    "duration": 9,
    "start_time": "2022-04-14T10:32:33.257Z"
   },
   {
    "duration": 342,
    "start_time": "2022-04-14T10:32:33.268Z"
   },
   {
    "duration": 273,
    "start_time": "2022-04-14T10:32:33.612Z"
   },
   {
    "duration": 5,
    "start_time": "2022-04-14T10:32:33.887Z"
   },
   {
    "duration": 282,
    "start_time": "2022-04-14T10:32:33.894Z"
   },
   {
    "duration": 338,
    "start_time": "2022-04-14T10:32:34.178Z"
   },
   {
    "duration": 283,
    "start_time": "2022-04-14T10:32:34.517Z"
   },
   {
    "duration": 300,
    "start_time": "2022-04-14T10:32:34.802Z"
   },
   {
    "duration": 745,
    "start_time": "2022-04-14T10:44:19.152Z"
   },
   {
    "duration": 716,
    "start_time": "2022-04-14T10:44:19.900Z"
   },
   {
    "duration": 5,
    "start_time": "2022-04-14T10:44:20.618Z"
   },
   {
    "duration": 20,
    "start_time": "2022-04-14T10:44:20.625Z"
   },
   {
    "duration": 53,
    "start_time": "2022-04-14T10:44:20.647Z"
   },
   {
    "duration": 282,
    "start_time": "2022-04-14T10:44:20.702Z"
   },
   {
    "duration": 24,
    "start_time": "2022-04-14T10:44:20.985Z"
   },
   {
    "duration": 390,
    "start_time": "2022-04-14T10:44:21.011Z"
   },
   {
    "duration": 36,
    "start_time": "2022-04-14T10:44:21.403Z"
   },
   {
    "duration": 17,
    "start_time": "2022-04-14T10:44:21.442Z"
   },
   {
    "duration": 15,
    "start_time": "2022-04-14T10:44:21.460Z"
   },
   {
    "duration": 76,
    "start_time": "2022-04-14T10:44:21.477Z"
   },
   {
    "duration": 29,
    "start_time": "2022-04-14T10:44:21.555Z"
   },
   {
    "duration": 6,
    "start_time": "2022-04-14T10:44:21.586Z"
   },
   {
    "duration": 9,
    "start_time": "2022-04-14T10:44:21.594Z"
   },
   {
    "duration": 30,
    "start_time": "2022-04-14T10:44:21.605Z"
   },
   {
    "duration": 4,
    "start_time": "2022-04-14T10:44:21.637Z"
   },
   {
    "duration": 7,
    "start_time": "2022-04-14T10:44:21.642Z"
   },
   {
    "duration": 8,
    "start_time": "2022-04-14T10:44:21.651Z"
   },
   {
    "duration": 8,
    "start_time": "2022-04-14T10:44:21.661Z"
   },
   {
    "duration": 10,
    "start_time": "2022-04-14T10:44:21.671Z"
   },
   {
    "duration": 6,
    "start_time": "2022-04-14T10:44:21.683Z"
   },
   {
    "duration": 7,
    "start_time": "2022-04-14T10:44:21.690Z"
   },
   {
    "duration": 36,
    "start_time": "2022-04-14T10:44:21.698Z"
   },
   {
    "duration": 19,
    "start_time": "2022-04-14T10:44:21.736Z"
   },
   {
    "duration": 20,
    "start_time": "2022-04-14T10:44:21.757Z"
   },
   {
    "duration": 21,
    "start_time": "2022-04-14T10:44:21.779Z"
   },
   {
    "duration": 7,
    "start_time": "2022-04-14T10:44:21.833Z"
   },
   {
    "duration": 11,
    "start_time": "2022-04-14T10:44:21.841Z"
   },
   {
    "duration": 11,
    "start_time": "2022-04-14T10:44:21.854Z"
   },
   {
    "duration": 2792,
    "start_time": "2022-04-14T10:44:21.866Z"
   },
   {
    "duration": 0,
    "start_time": "2022-04-14T10:44:24.660Z"
   },
   {
    "duration": 0,
    "start_time": "2022-04-14T10:44:24.662Z"
   },
   {
    "duration": 0,
    "start_time": "2022-04-14T10:44:24.664Z"
   },
   {
    "duration": 0,
    "start_time": "2022-04-14T10:44:24.665Z"
   },
   {
    "duration": 0,
    "start_time": "2022-04-14T10:44:24.666Z"
   },
   {
    "duration": 0,
    "start_time": "2022-04-14T10:44:24.668Z"
   },
   {
    "duration": 332,
    "start_time": "2022-04-14T10:44:30.450Z"
   },
   {
    "duration": 329,
    "start_time": "2022-04-14T10:44:34.933Z"
   },
   {
    "duration": 317,
    "start_time": "2022-04-14T10:44:35.264Z"
   },
   {
    "duration": 7,
    "start_time": "2022-04-14T10:44:35.584Z"
   },
   {
    "duration": 290,
    "start_time": "2022-04-14T10:44:35.592Z"
   },
   {
    "duration": 351,
    "start_time": "2022-04-14T10:44:35.884Z"
   },
   {
    "duration": 296,
    "start_time": "2022-04-14T10:44:36.237Z"
   },
   {
    "duration": 282,
    "start_time": "2022-04-14T10:44:36.535Z"
   },
   {
    "duration": 19,
    "start_time": "2022-04-14T10:45:48.659Z"
   },
   {
    "duration": 11,
    "start_time": "2022-04-14T10:47:10.580Z"
   },
   {
    "duration": 10,
    "start_time": "2022-04-14T10:47:19.696Z"
   },
   {
    "duration": 13,
    "start_time": "2022-04-14T10:47:24.989Z"
   },
   {
    "duration": 12,
    "start_time": "2022-04-14T10:48:44.027Z"
   },
   {
    "duration": 13,
    "start_time": "2022-04-14T10:48:45.143Z"
   },
   {
    "duration": 405,
    "start_time": "2022-04-14T10:49:32.211Z"
   },
   {
    "duration": 402,
    "start_time": "2022-04-14T10:50:00.699Z"
   },
   {
    "duration": 399,
    "start_time": "2022-04-14T10:50:31.524Z"
   },
   {
    "duration": 845,
    "start_time": "2022-04-24T09:31:48.647Z"
   },
   {
    "duration": 1783,
    "start_time": "2022-04-24T09:31:49.494Z"
   },
   {
    "duration": 5,
    "start_time": "2022-04-24T09:31:51.279Z"
   },
   {
    "duration": 36,
    "start_time": "2022-04-24T09:31:51.287Z"
   },
   {
    "duration": 91,
    "start_time": "2022-04-24T09:31:51.327Z"
   },
   {
    "duration": 449,
    "start_time": "2022-04-24T09:31:51.420Z"
   },
   {
    "duration": 34,
    "start_time": "2022-04-24T09:31:51.871Z"
   },
   {
    "duration": 396,
    "start_time": "2022-04-24T09:31:51.907Z"
   },
   {
    "duration": 50,
    "start_time": "2022-04-24T09:31:52.305Z"
   },
   {
    "duration": 30,
    "start_time": "2022-04-24T09:31:56.174Z"
   },
   {
    "duration": 778,
    "start_time": "2022-04-24T12:09:09.546Z"
   },
   {
    "duration": 769,
    "start_time": "2022-04-24T12:09:10.326Z"
   },
   {
    "duration": 6,
    "start_time": "2022-04-24T12:09:11.102Z"
   },
   {
    "duration": 28,
    "start_time": "2022-04-24T12:09:11.110Z"
   },
   {
    "duration": 78,
    "start_time": "2022-04-24T12:09:11.140Z"
   },
   {
    "duration": 326,
    "start_time": "2022-04-24T12:09:11.220Z"
   },
   {
    "duration": 36,
    "start_time": "2022-04-24T12:09:11.548Z"
   },
   {
    "duration": 481,
    "start_time": "2022-04-24T12:09:11.588Z"
   },
   {
    "duration": 49,
    "start_time": "2022-04-24T12:09:12.072Z"
   },
   {
    "duration": 35,
    "start_time": "2022-04-24T12:09:12.125Z"
   },
   {
    "duration": 24,
    "start_time": "2022-04-24T12:09:12.164Z"
   },
   {
    "duration": 84,
    "start_time": "2022-04-24T12:09:12.191Z"
   },
   {
    "duration": 37,
    "start_time": "2022-04-24T12:09:12.278Z"
   },
   {
    "duration": 5,
    "start_time": "2022-04-24T12:09:12.317Z"
   },
   {
    "duration": 9,
    "start_time": "2022-04-24T12:09:12.324Z"
   },
   {
    "duration": 13,
    "start_time": "2022-04-24T12:09:12.335Z"
   },
   {
    "duration": 49,
    "start_time": "2022-04-24T12:09:12.350Z"
   },
   {
    "duration": 15,
    "start_time": "2022-04-24T12:09:12.401Z"
   },
   {
    "duration": 11,
    "start_time": "2022-04-24T12:09:12.419Z"
   },
   {
    "duration": 9,
    "start_time": "2022-04-24T12:09:12.432Z"
   },
   {
    "duration": 17,
    "start_time": "2022-04-24T12:09:12.443Z"
   },
   {
    "duration": 34,
    "start_time": "2022-04-24T12:09:12.466Z"
   },
   {
    "duration": 4,
    "start_time": "2022-04-24T12:09:12.503Z"
   },
   {
    "duration": 9,
    "start_time": "2022-04-24T12:09:12.509Z"
   },
   {
    "duration": 18,
    "start_time": "2022-04-24T12:09:12.519Z"
   },
   {
    "duration": 27,
    "start_time": "2022-04-24T12:09:12.539Z"
   },
   {
    "duration": 47,
    "start_time": "2022-04-24T12:09:12.567Z"
   },
   {
    "duration": 7,
    "start_time": "2022-04-24T12:09:12.620Z"
   },
   {
    "duration": 12,
    "start_time": "2022-04-24T12:09:12.630Z"
   },
   {
    "duration": 17,
    "start_time": "2022-04-24T12:09:12.644Z"
   },
   {
    "duration": 47,
    "start_time": "2022-04-24T12:09:12.665Z"
   },
   {
    "duration": 360,
    "start_time": "2022-04-24T12:09:12.714Z"
   },
   {
    "duration": 278,
    "start_time": "2022-04-24T12:09:13.076Z"
   },
   {
    "duration": 6,
    "start_time": "2022-04-24T12:09:13.356Z"
   },
   {
    "duration": 355,
    "start_time": "2022-04-24T12:09:13.363Z"
   },
   {
    "duration": 367,
    "start_time": "2022-04-24T12:09:13.719Z"
   },
   {
    "duration": 400,
    "start_time": "2022-04-24T12:09:14.089Z"
   },
   {
    "duration": 383,
    "start_time": "2022-04-24T12:09:14.492Z"
   },
   {
    "duration": 417,
    "start_time": "2022-04-24T12:09:14.877Z"
   },
   {
    "duration": 366,
    "start_time": "2022-04-24T12:09:15.296Z"
   },
   {
    "duration": 729,
    "start_time": "2022-04-24T12:09:57.123Z"
   },
   {
    "duration": 712,
    "start_time": "2022-04-24T12:09:57.853Z"
   },
   {
    "duration": 4,
    "start_time": "2022-04-24T12:09:58.568Z"
   },
   {
    "duration": 23,
    "start_time": "2022-04-24T12:09:58.576Z"
   },
   {
    "duration": 94,
    "start_time": "2022-04-24T12:09:58.601Z"
   },
   {
    "duration": 318,
    "start_time": "2022-04-24T12:09:58.697Z"
   },
   {
    "duration": 45,
    "start_time": "2022-04-24T12:09:59.017Z"
   },
   {
    "duration": 630,
    "start_time": "2022-04-24T12:09:59.066Z"
   },
   {
    "duration": 29,
    "start_time": "2022-04-24T12:09:59.698Z"
   },
   {
    "duration": 36,
    "start_time": "2022-04-24T12:09:59.730Z"
   },
   {
    "duration": 44,
    "start_time": "2022-04-24T12:10:22.235Z"
   },
   {
    "duration": 26,
    "start_time": "2022-04-24T12:10:33.797Z"
   },
   {
    "duration": 22,
    "start_time": "2022-04-24T12:10:38.568Z"
   },
   {
    "duration": 63,
    "start_time": "2022-04-24T12:11:20.308Z"
   },
   {
    "duration": 40,
    "start_time": "2022-04-24T12:11:21.141Z"
   },
   {
    "duration": 22,
    "start_time": "2022-04-24T12:11:25.451Z"
   },
   {
    "duration": 6,
    "start_time": "2022-04-24T12:11:31.805Z"
   },
   {
    "duration": 8,
    "start_time": "2022-04-24T12:11:39.380Z"
   },
   {
    "duration": 9,
    "start_time": "2022-04-24T12:11:40.348Z"
   },
   {
    "duration": 5,
    "start_time": "2022-04-24T12:11:44.710Z"
   },
   {
    "duration": 3,
    "start_time": "2022-04-24T12:11:45.437Z"
   },
   {
    "duration": 8,
    "start_time": "2022-04-24T12:11:46.249Z"
   },
   {
    "duration": 7,
    "start_time": "2022-04-24T12:11:46.620Z"
   },
   {
    "duration": 8,
    "start_time": "2022-04-24T12:11:47.938Z"
   },
   {
    "duration": 8,
    "start_time": "2022-04-24T12:11:49.852Z"
   },
   {
    "duration": 19,
    "start_time": "2022-04-24T12:12:03.323Z"
   },
   {
    "duration": 675,
    "start_time": "2022-04-24T12:13:11.828Z"
   },
   {
    "duration": 686,
    "start_time": "2022-04-24T12:13:12.505Z"
   },
   {
    "duration": 4,
    "start_time": "2022-04-24T12:13:13.193Z"
   },
   {
    "duration": 20,
    "start_time": "2022-04-24T12:13:13.199Z"
   },
   {
    "duration": 64,
    "start_time": "2022-04-24T12:13:13.221Z"
   },
   {
    "duration": 296,
    "start_time": "2022-04-24T12:13:13.286Z"
   },
   {
    "duration": 21,
    "start_time": "2022-04-24T12:13:13.584Z"
   },
   {
    "duration": 412,
    "start_time": "2022-04-24T12:13:13.607Z"
   },
   {
    "duration": 40,
    "start_time": "2022-04-24T12:13:14.021Z"
   },
   {
    "duration": 18,
    "start_time": "2022-04-24T12:13:14.064Z"
   },
   {
    "duration": 27,
    "start_time": "2022-04-24T12:13:14.083Z"
   },
   {
    "duration": 67,
    "start_time": "2022-04-24T12:13:14.111Z"
   },
   {
    "duration": 31,
    "start_time": "2022-04-24T12:13:14.180Z"
   },
   {
    "duration": 5,
    "start_time": "2022-04-24T12:13:14.213Z"
   },
   {
    "duration": 8,
    "start_time": "2022-04-24T12:13:14.219Z"
   },
   {
    "duration": 28,
    "start_time": "2022-04-24T12:13:14.229Z"
   },
   {
    "duration": 6,
    "start_time": "2022-04-24T12:13:14.259Z"
   },
   {
    "duration": 22,
    "start_time": "2022-04-24T12:13:14.266Z"
   },
   {
    "duration": 10,
    "start_time": "2022-04-24T12:13:14.290Z"
   },
   {
    "duration": 8,
    "start_time": "2022-04-24T12:13:14.302Z"
   },
   {
    "duration": 10,
    "start_time": "2022-04-24T12:13:14.312Z"
   },
   {
    "duration": 7,
    "start_time": "2022-04-24T12:13:20.021Z"
   },
   {
    "duration": 17,
    "start_time": "2022-04-24T12:13:23.530Z"
   },
   {
    "duration": 7,
    "start_time": "2022-04-24T12:13:27.642Z"
   },
   {
    "duration": 9,
    "start_time": "2022-04-24T12:13:43.764Z"
   },
   {
    "duration": 7,
    "start_time": "2022-04-24T12:13:53.539Z"
   },
   {
    "duration": 19,
    "start_time": "2022-04-24T12:13:56.401Z"
   },
   {
    "duration": 20,
    "start_time": "2022-04-24T12:13:57.353Z"
   },
   {
    "duration": 8,
    "start_time": "2022-04-24T12:14:20.579Z"
   },
   {
    "duration": 18,
    "start_time": "2022-04-24T12:29:20.275Z"
   },
   {
    "duration": 21,
    "start_time": "2022-04-24T12:30:58.715Z"
   },
   {
    "duration": 9,
    "start_time": "2022-04-24T12:31:07.435Z"
   },
   {
    "duration": 8,
    "start_time": "2022-04-24T12:31:15.678Z"
   },
   {
    "duration": 9,
    "start_time": "2022-04-24T12:31:18.564Z"
   },
   {
    "duration": 12,
    "start_time": "2022-04-24T12:31:45.727Z"
   },
   {
    "duration": 23,
    "start_time": "2022-04-24T12:32:01.711Z"
   },
   {
    "duration": 26,
    "start_time": "2022-04-24T12:33:05.883Z"
   },
   {
    "duration": 15,
    "start_time": "2022-04-24T12:33:10.007Z"
   },
   {
    "duration": 13,
    "start_time": "2022-04-24T12:34:47.901Z"
   },
   {
    "duration": 14,
    "start_time": "2022-04-24T12:34:59.236Z"
   },
   {
    "duration": 16,
    "start_time": "2022-04-24T12:35:34.029Z"
   },
   {
    "duration": 20,
    "start_time": "2022-04-24T12:36:08.346Z"
   },
   {
    "duration": 17,
    "start_time": "2022-04-24T12:36:27.976Z"
   },
   {
    "duration": 700,
    "start_time": "2022-04-24T12:37:39.268Z"
   },
   {
    "duration": 791,
    "start_time": "2022-04-24T12:37:39.971Z"
   },
   {
    "duration": 14,
    "start_time": "2022-04-24T12:37:40.765Z"
   },
   {
    "duration": 35,
    "start_time": "2022-04-24T12:37:40.784Z"
   },
   {
    "duration": 76,
    "start_time": "2022-04-24T12:37:40.822Z"
   },
   {
    "duration": 330,
    "start_time": "2022-04-24T12:37:40.901Z"
   },
   {
    "duration": 50,
    "start_time": "2022-04-24T12:37:41.233Z"
   },
   {
    "duration": 482,
    "start_time": "2022-04-24T12:37:41.285Z"
   },
   {
    "duration": 42,
    "start_time": "2022-04-24T12:37:41.769Z"
   },
   {
    "duration": 15,
    "start_time": "2022-04-24T12:37:41.814Z"
   },
   {
    "duration": 34,
    "start_time": "2022-04-24T12:37:41.831Z"
   },
   {
    "duration": 67,
    "start_time": "2022-04-24T12:37:41.866Z"
   },
   {
    "duration": 51,
    "start_time": "2022-04-24T12:37:41.935Z"
   },
   {
    "duration": 6,
    "start_time": "2022-04-24T12:37:41.988Z"
   },
   {
    "duration": 19,
    "start_time": "2022-04-24T12:37:41.996Z"
   },
   {
    "duration": 12,
    "start_time": "2022-04-24T12:37:42.017Z"
   },
   {
    "duration": 5,
    "start_time": "2022-04-24T12:37:42.031Z"
   },
   {
    "duration": 6,
    "start_time": "2022-04-24T12:37:42.038Z"
   },
   {
    "duration": 50,
    "start_time": "2022-04-24T12:37:42.046Z"
   },
   {
    "duration": 6,
    "start_time": "2022-04-24T12:37:42.098Z"
   },
   {
    "duration": 14,
    "start_time": "2022-04-24T12:37:42.107Z"
   },
   {
    "duration": 5,
    "start_time": "2022-04-24T12:37:42.123Z"
   },
   {
    "duration": 4,
    "start_time": "2022-04-24T12:37:42.130Z"
   },
   {
    "duration": 7,
    "start_time": "2022-04-24T12:37:42.135Z"
   },
   {
    "duration": 25,
    "start_time": "2022-04-24T12:37:42.144Z"
   },
   {
    "duration": 44,
    "start_time": "2022-04-24T12:37:42.170Z"
   },
   {
    "duration": 23,
    "start_time": "2022-04-24T12:37:42.216Z"
   },
   {
    "duration": 6,
    "start_time": "2022-04-24T12:37:42.243Z"
   },
   {
    "duration": 44,
    "start_time": "2022-04-24T12:37:42.251Z"
   },
   {
    "duration": 16,
    "start_time": "2022-04-24T12:37:42.297Z"
   },
   {
    "duration": 16,
    "start_time": "2022-04-24T12:37:46.713Z"
   },
   {
    "duration": 28,
    "start_time": "2022-04-24T12:38:48.600Z"
   },
   {
    "duration": 20,
    "start_time": "2022-04-24T12:39:24.941Z"
   },
   {
    "duration": 17,
    "start_time": "2022-04-24T12:40:00.980Z"
   },
   {
    "duration": 19,
    "start_time": "2022-04-24T12:40:07.903Z"
   },
   {
    "duration": 29,
    "start_time": "2022-04-24T12:40:48.264Z"
   },
   {
    "duration": 15,
    "start_time": "2022-04-24T12:41:24.050Z"
   },
   {
    "duration": 24,
    "start_time": "2022-04-24T12:41:27.837Z"
   },
   {
    "duration": 339,
    "start_time": "2022-04-24T12:42:09.280Z"
   },
   {
    "duration": 275,
    "start_time": "2022-04-24T12:42:13.666Z"
   },
   {
    "duration": 277,
    "start_time": "2022-04-24T12:42:14.435Z"
   },
   {
    "duration": 5,
    "start_time": "2022-04-24T12:42:23.197Z"
   },
   {
    "duration": 349,
    "start_time": "2022-04-24T12:42:24.281Z"
   },
   {
    "duration": 385,
    "start_time": "2022-04-24T12:42:25.929Z"
   },
   {
    "duration": 254,
    "start_time": "2022-04-24T12:42:27.305Z"
   },
   {
    "duration": 271,
    "start_time": "2022-04-24T12:42:28.180Z"
   },
   {
    "duration": 280,
    "start_time": "2022-04-24T12:42:58.823Z"
   },
   {
    "duration": 18,
    "start_time": "2022-04-24T12:43:46.423Z"
   },
   {
    "duration": 355,
    "start_time": "2022-04-24T12:44:22.771Z"
   },
   {
    "duration": 481,
    "start_time": "2022-04-24T12:49:40.366Z"
   },
   {
    "duration": 353,
    "start_time": "2022-04-24T12:49:44.107Z"
   },
   {
    "duration": 19,
    "start_time": "2022-04-24T12:52:55.806Z"
   },
   {
    "duration": 24,
    "start_time": "2022-04-24T12:52:56.470Z"
   },
   {
    "duration": 2140,
    "start_time": "2022-04-24T12:54:31.162Z"
   },
   {
    "duration": 2812,
    "start_time": "2022-04-24T12:54:39.439Z"
   },
   {
    "duration": 2311,
    "start_time": "2022-04-24T12:54:43.243Z"
   },
   {
    "duration": 6,
    "start_time": "2022-04-24T12:54:53.090Z"
   },
   {
    "duration": 16,
    "start_time": "2022-04-24T12:56:59.748Z"
   },
   {
    "duration": 490,
    "start_time": "2022-04-24T12:57:16.391Z"
   },
   {
    "duration": 1312,
    "start_time": "2022-04-24T12:57:22.451Z"
   },
   {
    "duration": 848,
    "start_time": "2022-04-24T12:57:23.771Z"
   },
   {
    "duration": 5,
    "start_time": "2022-04-24T12:57:24.621Z"
   },
   {
    "duration": 17,
    "start_time": "2022-04-24T12:57:24.629Z"
   },
   {
    "duration": 73,
    "start_time": "2022-04-24T12:57:24.648Z"
   },
   {
    "duration": 446,
    "start_time": "2022-04-24T12:57:24.723Z"
   },
   {
    "duration": 38,
    "start_time": "2022-04-24T12:57:25.171Z"
   },
   {
    "duration": 428,
    "start_time": "2022-04-24T12:57:25.210Z"
   },
   {
    "duration": 49,
    "start_time": "2022-04-24T12:57:25.640Z"
   },
   {
    "duration": 27,
    "start_time": "2022-04-24T12:57:25.691Z"
   },
   {
    "duration": 19,
    "start_time": "2022-04-24T12:57:25.720Z"
   },
   {
    "duration": 82,
    "start_time": "2022-04-24T12:57:25.740Z"
   },
   {
    "duration": 40,
    "start_time": "2022-04-24T12:57:25.824Z"
   },
   {
    "duration": 5,
    "start_time": "2022-04-24T12:57:25.866Z"
   },
   {
    "duration": 33,
    "start_time": "2022-04-24T12:57:25.874Z"
   },
   {
    "duration": 10,
    "start_time": "2022-04-24T12:57:25.909Z"
   },
   {
    "duration": 3,
    "start_time": "2022-04-24T12:57:25.921Z"
   },
   {
    "duration": 9,
    "start_time": "2022-04-24T12:57:25.925Z"
   },
   {
    "duration": 12,
    "start_time": "2022-04-24T12:57:25.936Z"
   },
   {
    "duration": 35,
    "start_time": "2022-04-24T12:57:25.950Z"
   },
   {
    "duration": 24,
    "start_time": "2022-04-24T12:57:25.987Z"
   },
   {
    "duration": 8,
    "start_time": "2022-04-24T12:57:26.013Z"
   },
   {
    "duration": 4,
    "start_time": "2022-04-24T12:57:26.023Z"
   },
   {
    "duration": 9,
    "start_time": "2022-04-24T12:57:26.029Z"
   },
   {
    "duration": 32,
    "start_time": "2022-04-24T12:57:26.040Z"
   },
   {
    "duration": 56,
    "start_time": "2022-04-24T12:57:26.074Z"
   },
   {
    "duration": 40,
    "start_time": "2022-04-24T12:57:26.132Z"
   },
   {
    "duration": 9,
    "start_time": "2022-04-24T12:57:26.181Z"
   },
   {
    "duration": 25,
    "start_time": "2022-04-24T12:57:26.191Z"
   },
   {
    "duration": 9,
    "start_time": "2022-04-24T12:57:26.219Z"
   },
   {
    "duration": 13,
    "start_time": "2022-04-24T12:57:26.230Z"
   },
   {
    "duration": 350,
    "start_time": "2022-04-24T12:57:26.245Z"
   },
   {
    "duration": 411,
    "start_time": "2022-04-24T12:57:26.603Z"
   },
   {
    "duration": 307,
    "start_time": "2022-04-24T12:57:27.016Z"
   },
   {
    "duration": 5,
    "start_time": "2022-04-24T12:57:27.324Z"
   },
   {
    "duration": 352,
    "start_time": "2022-04-24T12:57:27.331Z"
   },
   {
    "duration": 298,
    "start_time": "2022-04-24T12:57:27.684Z"
   },
   {
    "duration": 294,
    "start_time": "2022-04-24T12:57:27.983Z"
   },
   {
    "duration": 386,
    "start_time": "2022-04-24T12:57:28.281Z"
   },
   {
    "duration": 360,
    "start_time": "2022-04-24T12:57:28.673Z"
   },
   {
    "duration": 399,
    "start_time": "2022-04-24T12:57:29.035Z"
   },
   {
    "duration": 123,
    "start_time": "2022-04-24T12:57:29.437Z"
   },
   {
    "duration": 25,
    "start_time": "2022-04-24T12:57:29.564Z"
   },
   {
    "duration": 25,
    "start_time": "2022-04-24T12:57:29.592Z"
   },
   {
    "duration": 27,
    "start_time": "2022-04-24T12:57:29.619Z"
   },
   {
    "duration": 17,
    "start_time": "2022-04-24T13:15:39.501Z"
   },
   {
    "duration": 9,
    "start_time": "2022-04-24T13:16:31.229Z"
   },
   {
    "duration": 12,
    "start_time": "2022-04-24T13:17:22.688Z"
   },
   {
    "duration": 18,
    "start_time": "2022-04-24T17:52:49.632Z"
   },
   {
    "duration": 4,
    "start_time": "2022-04-24T17:54:15.090Z"
   },
   {
    "duration": 238,
    "start_time": "2022-04-24T17:54:16.120Z"
   },
   {
    "duration": 1419,
    "start_time": "2022-04-26T11:56:19.001Z"
   },
   {
    "duration": 1751,
    "start_time": "2022-04-26T11:56:20.422Z"
   },
   {
    "duration": 5,
    "start_time": "2022-04-26T11:56:22.176Z"
   },
   {
    "duration": 24,
    "start_time": "2022-04-26T11:56:22.183Z"
   },
   {
    "duration": 82,
    "start_time": "2022-04-26T11:56:22.209Z"
   },
   {
    "duration": 352,
    "start_time": "2022-04-26T11:56:22.292Z"
   },
   {
    "duration": 32,
    "start_time": "2022-04-26T11:56:22.655Z"
   },
   {
    "duration": 599,
    "start_time": "2022-04-26T11:56:22.690Z"
   },
   {
    "duration": 32,
    "start_time": "2022-04-26T11:56:23.291Z"
   },
   {
    "duration": 34,
    "start_time": "2022-04-26T11:56:23.326Z"
   },
   {
    "duration": 20,
    "start_time": "2022-04-26T11:56:23.362Z"
   },
   {
    "duration": 80,
    "start_time": "2022-04-26T11:56:23.384Z"
   },
   {
    "duration": 34,
    "start_time": "2022-04-26T11:56:23.466Z"
   },
   {
    "duration": 6,
    "start_time": "2022-04-26T11:56:23.501Z"
   },
   {
    "duration": 9,
    "start_time": "2022-04-26T11:56:23.509Z"
   },
   {
    "duration": 11,
    "start_time": "2022-04-26T11:56:23.520Z"
   },
   {
    "duration": 5,
    "start_time": "2022-04-26T11:56:23.555Z"
   },
   {
    "duration": 6,
    "start_time": "2022-04-26T11:56:23.562Z"
   },
   {
    "duration": 18,
    "start_time": "2022-04-26T11:56:23.570Z"
   },
   {
    "duration": 8,
    "start_time": "2022-04-26T11:56:23.589Z"
   },
   {
    "duration": 14,
    "start_time": "2022-04-26T11:56:23.598Z"
   },
   {
    "duration": 7,
    "start_time": "2022-04-26T11:56:23.613Z"
   },
   {
    "duration": 6,
    "start_time": "2022-04-26T11:56:23.621Z"
   },
   {
    "duration": 31,
    "start_time": "2022-04-26T11:56:23.629Z"
   },
   {
    "duration": 19,
    "start_time": "2022-04-26T11:56:26.303Z"
   },
   {
    "duration": 30,
    "start_time": "2022-04-26T11:57:10.313Z"
   },
   {
    "duration": 11,
    "start_time": "2022-04-26T11:57:14.890Z"
   },
   {
    "duration": 11,
    "start_time": "2022-04-26T11:58:48.304Z"
   },
   {
    "duration": 4,
    "start_time": "2022-04-26T12:03:01.409Z"
   },
   {
    "duration": 4,
    "start_time": "2022-04-26T12:04:25.032Z"
   },
   {
    "duration": 99,
    "start_time": "2022-04-26T12:05:39.997Z"
   },
   {
    "duration": 13,
    "start_time": "2022-04-26T12:05:46.528Z"
   },
   {
    "duration": 10,
    "start_time": "2022-04-26T12:06:22.334Z"
   },
   {
    "duration": 3,
    "start_time": "2022-04-26T12:07:05.280Z"
   },
   {
    "duration": 18,
    "start_time": "2022-04-26T12:07:05.854Z"
   },
   {
    "duration": 3,
    "start_time": "2022-04-26T12:07:22.694Z"
   },
   {
    "duration": 6,
    "start_time": "2022-04-26T12:07:23.230Z"
   },
   {
    "duration": 3,
    "start_time": "2022-04-26T12:07:27.649Z"
   },
   {
    "duration": 4,
    "start_time": "2022-04-26T12:07:41.132Z"
   },
   {
    "duration": 6,
    "start_time": "2022-04-26T12:07:41.608Z"
   },
   {
    "duration": 11,
    "start_time": "2022-04-26T12:07:42.033Z"
   },
   {
    "duration": 4,
    "start_time": "2022-04-26T12:08:47.147Z"
   },
   {
    "duration": 8,
    "start_time": "2022-04-26T12:08:47.793Z"
   },
   {
    "duration": 10,
    "start_time": "2022-04-26T12:08:48.824Z"
   },
   {
    "duration": 3,
    "start_time": "2022-04-26T12:09:47.447Z"
   },
   {
    "duration": 8,
    "start_time": "2022-04-26T12:09:54.774Z"
   },
   {
    "duration": 5,
    "start_time": "2022-04-26T12:10:04.434Z"
   },
   {
    "duration": 11,
    "start_time": "2022-04-26T12:10:05.251Z"
   },
   {
    "duration": 8,
    "start_time": "2022-04-26T12:10:05.713Z"
   },
   {
    "duration": 3,
    "start_time": "2022-04-26T12:10:10.747Z"
   },
   {
    "duration": 9,
    "start_time": "2022-04-26T12:10:11.186Z"
   },
   {
    "duration": 1109,
    "start_time": "2022-04-26T12:10:33.798Z"
   },
   {
    "duration": 667,
    "start_time": "2022-04-26T12:10:34.909Z"
   },
   {
    "duration": 4,
    "start_time": "2022-04-26T12:10:35.578Z"
   },
   {
    "duration": 19,
    "start_time": "2022-04-26T12:10:35.584Z"
   },
   {
    "duration": 65,
    "start_time": "2022-04-26T12:10:35.605Z"
   },
   {
    "duration": 283,
    "start_time": "2022-04-26T12:10:35.672Z"
   },
   {
    "duration": 23,
    "start_time": "2022-04-26T12:10:35.957Z"
   },
   {
    "duration": 403,
    "start_time": "2022-04-26T12:10:35.981Z"
   },
   {
    "duration": 31,
    "start_time": "2022-04-26T12:10:36.385Z"
   },
   {
    "duration": 16,
    "start_time": "2022-04-26T12:10:36.418Z"
   },
   {
    "duration": 38,
    "start_time": "2022-04-26T12:10:36.436Z"
   },
   {
    "duration": 54,
    "start_time": "2022-04-26T12:10:36.476Z"
   },
   {
    "duration": 59,
    "start_time": "2022-04-26T12:10:36.532Z"
   },
   {
    "duration": 6,
    "start_time": "2022-04-26T12:10:36.593Z"
   },
   {
    "duration": 15,
    "start_time": "2022-04-26T12:10:36.601Z"
   },
   {
    "duration": 16,
    "start_time": "2022-04-26T12:10:36.618Z"
   },
   {
    "duration": 19,
    "start_time": "2022-04-26T12:10:36.636Z"
   },
   {
    "duration": 9,
    "start_time": "2022-04-26T12:10:36.657Z"
   },
   {
    "duration": 15,
    "start_time": "2022-04-26T12:10:36.668Z"
   },
   {
    "duration": 10,
    "start_time": "2022-04-26T12:10:36.684Z"
   },
   {
    "duration": 11,
    "start_time": "2022-04-26T12:10:36.696Z"
   },
   {
    "duration": 7,
    "start_time": "2022-04-26T12:10:36.709Z"
   },
   {
    "duration": 10,
    "start_time": "2022-04-26T12:10:36.717Z"
   },
   {
    "duration": 28,
    "start_time": "2022-04-26T12:10:36.729Z"
   },
   {
    "duration": 4,
    "start_time": "2022-04-26T12:10:48.196Z"
   },
   {
    "duration": 99,
    "start_time": "2022-04-26T12:10:48.967Z"
   },
   {
    "duration": 9,
    "start_time": "2022-04-26T12:10:56.115Z"
   },
   {
    "duration": 6,
    "start_time": "2022-04-26T12:10:59.524Z"
   },
   {
    "duration": 12,
    "start_time": "2022-04-26T12:11:00.885Z"
   },
   {
    "duration": 4,
    "start_time": "2022-04-26T12:11:24.133Z"
   },
   {
    "duration": 8,
    "start_time": "2022-04-26T12:11:24.828Z"
   },
   {
    "duration": 10,
    "start_time": "2022-04-26T12:11:25.734Z"
   },
   {
    "duration": 3,
    "start_time": "2022-04-26T12:11:44.471Z"
   },
   {
    "duration": 8,
    "start_time": "2022-04-26T12:11:45.340Z"
   },
   {
    "duration": 8,
    "start_time": "2022-04-26T12:11:46.341Z"
   },
   {
    "duration": 3,
    "start_time": "2022-04-26T12:11:53.829Z"
   },
   {
    "duration": 6,
    "start_time": "2022-04-26T12:11:54.605Z"
   },
   {
    "duration": 8,
    "start_time": "2022-04-26T12:11:54.958Z"
   },
   {
    "duration": 165,
    "start_time": "2022-04-26T12:12:00.118Z"
   },
   {
    "duration": 3,
    "start_time": "2022-04-26T12:12:03.878Z"
   },
   {
    "duration": 7,
    "start_time": "2022-04-26T12:12:04.525Z"
   },
   {
    "duration": 9,
    "start_time": "2022-04-26T12:12:04.724Z"
   },
   {
    "duration": 4,
    "start_time": "2022-04-26T12:12:09.605Z"
   },
   {
    "duration": 6,
    "start_time": "2022-04-26T12:12:10.049Z"
   },
   {
    "duration": 8,
    "start_time": "2022-04-26T12:12:10.451Z"
   },
   {
    "duration": 5,
    "start_time": "2022-04-26T12:13:42.568Z"
   },
   {
    "duration": 7,
    "start_time": "2022-04-26T12:13:43.391Z"
   },
   {
    "duration": 8,
    "start_time": "2022-04-26T12:13:44.281Z"
   },
   {
    "duration": 13,
    "start_time": "2022-04-26T12:14:11.314Z"
   },
   {
    "duration": 146,
    "start_time": "2022-04-26T12:19:55.354Z"
   },
   {
    "duration": 4,
    "start_time": "2022-04-26T12:20:00.164Z"
   },
   {
    "duration": 15,
    "start_time": "2022-04-26T12:20:07.981Z"
   },
   {
    "duration": 5,
    "start_time": "2022-04-26T12:20:14.163Z"
   },
   {
    "duration": 19,
    "start_time": "2022-04-26T12:20:15.115Z"
   },
   {
    "duration": 4,
    "start_time": "2022-04-26T12:21:55.399Z"
   },
   {
    "duration": 10,
    "start_time": "2022-04-26T12:21:56.160Z"
   },
   {
    "duration": 9,
    "start_time": "2022-04-26T12:22:00.362Z"
   },
   {
    "duration": 5,
    "start_time": "2022-04-26T12:22:24.901Z"
   },
   {
    "duration": 10,
    "start_time": "2022-04-26T12:22:25.467Z"
   },
   {
    "duration": 13,
    "start_time": "2022-04-26T12:22:31.533Z"
   },
   {
    "duration": 5,
    "start_time": "2022-04-26T12:22:40.118Z"
   },
   {
    "duration": 8,
    "start_time": "2022-04-26T12:22:40.716Z"
   },
   {
    "duration": 9,
    "start_time": "2022-04-26T12:22:41.258Z"
   },
   {
    "duration": 21,
    "start_time": "2022-04-26T12:24:03.794Z"
   },
   {
    "duration": 5,
    "start_time": "2022-04-26T12:24:06.630Z"
   },
   {
    "duration": 18,
    "start_time": "2022-04-26T12:24:07.396Z"
   },
   {
    "duration": 10,
    "start_time": "2022-04-26T12:24:13.647Z"
   },
   {
    "duration": 19,
    "start_time": "2022-04-26T12:24:32.151Z"
   },
   {
    "duration": 10,
    "start_time": "2022-04-26T12:24:33.191Z"
   },
   {
    "duration": 10,
    "start_time": "2022-04-26T12:24:50.430Z"
   },
   {
    "duration": 18,
    "start_time": "2022-04-26T12:25:23.749Z"
   },
   {
    "duration": 1168,
    "start_time": "2022-04-26T12:25:37.343Z"
   },
   {
    "duration": 733,
    "start_time": "2022-04-26T12:25:38.513Z"
   },
   {
    "duration": 7,
    "start_time": "2022-04-26T12:25:39.249Z"
   },
   {
    "duration": 83,
    "start_time": "2022-04-26T12:25:39.258Z"
   },
   {
    "duration": 77,
    "start_time": "2022-04-26T12:25:39.345Z"
   },
   {
    "duration": 296,
    "start_time": "2022-04-26T12:25:39.424Z"
   },
   {
    "duration": 43,
    "start_time": "2022-04-26T12:25:39.722Z"
   },
   {
    "duration": 406,
    "start_time": "2022-04-26T12:25:39.767Z"
   },
   {
    "duration": 32,
    "start_time": "2022-04-26T12:25:40.174Z"
   },
   {
    "duration": 23,
    "start_time": "2022-04-26T12:25:40.208Z"
   },
   {
    "duration": 57,
    "start_time": "2022-04-26T12:25:40.235Z"
   },
   {
    "duration": 73,
    "start_time": "2022-04-26T12:25:40.294Z"
   },
   {
    "duration": 48,
    "start_time": "2022-04-26T12:25:40.368Z"
   },
   {
    "duration": 6,
    "start_time": "2022-04-26T12:25:40.419Z"
   },
   {
    "duration": 83,
    "start_time": "2022-04-26T12:25:40.427Z"
   },
   {
    "duration": 20,
    "start_time": "2022-04-26T12:25:40.512Z"
   },
   {
    "duration": 130,
    "start_time": "2022-04-26T12:25:40.534Z"
   },
   {
    "duration": 33,
    "start_time": "2022-04-26T12:25:40.666Z"
   },
   {
    "duration": 39,
    "start_time": "2022-04-26T12:25:40.700Z"
   },
   {
    "duration": 34,
    "start_time": "2022-04-26T12:25:40.741Z"
   },
   {
    "duration": 23,
    "start_time": "2022-04-26T12:25:40.777Z"
   },
   {
    "duration": 22,
    "start_time": "2022-04-26T12:25:40.802Z"
   },
   {
    "duration": 37,
    "start_time": "2022-04-26T12:25:40.826Z"
   },
   {
    "duration": 23,
    "start_time": "2022-04-26T12:25:40.865Z"
   },
   {
    "duration": 16,
    "start_time": "2022-04-26T12:25:40.889Z"
   },
   {
    "duration": 55,
    "start_time": "2022-04-26T12:25:40.906Z"
   },
   {
    "duration": 26,
    "start_time": "2022-04-26T12:25:40.963Z"
   },
   {
    "duration": 29,
    "start_time": "2022-04-26T12:25:40.991Z"
   },
   {
    "duration": 2453,
    "start_time": "2022-04-26T12:25:41.022Z"
   },
   {
    "duration": 0,
    "start_time": "2022-04-26T12:25:43.477Z"
   },
   {
    "duration": 0,
    "start_time": "2022-04-26T12:25:43.478Z"
   },
   {
    "duration": 0,
    "start_time": "2022-04-26T12:25:43.479Z"
   },
   {
    "duration": 0,
    "start_time": "2022-04-26T12:25:43.480Z"
   },
   {
    "duration": 0,
    "start_time": "2022-04-26T12:25:43.482Z"
   },
   {
    "duration": 0,
    "start_time": "2022-04-26T12:25:43.483Z"
   },
   {
    "duration": 0,
    "start_time": "2022-04-26T12:25:43.484Z"
   },
   {
    "duration": 0,
    "start_time": "2022-04-26T12:25:43.485Z"
   },
   {
    "duration": 0,
    "start_time": "2022-04-26T12:25:43.486Z"
   },
   {
    "duration": 0,
    "start_time": "2022-04-26T12:25:43.487Z"
   },
   {
    "duration": 0,
    "start_time": "2022-04-26T12:25:43.488Z"
   },
   {
    "duration": 0,
    "start_time": "2022-04-26T12:25:43.489Z"
   },
   {
    "duration": 0,
    "start_time": "2022-04-26T12:25:43.490Z"
   },
   {
    "duration": 0,
    "start_time": "2022-04-26T12:25:43.492Z"
   },
   {
    "duration": 0,
    "start_time": "2022-04-26T12:25:43.493Z"
   },
   {
    "duration": 0,
    "start_time": "2022-04-26T12:25:43.494Z"
   },
   {
    "duration": 13,
    "start_time": "2022-04-26T12:26:05.899Z"
   },
   {
    "duration": 1155,
    "start_time": "2022-04-26T12:26:20.300Z"
   },
   {
    "duration": 665,
    "start_time": "2022-04-26T12:26:21.457Z"
   },
   {
    "duration": 4,
    "start_time": "2022-04-26T12:26:22.123Z"
   },
   {
    "duration": 25,
    "start_time": "2022-04-26T12:26:22.129Z"
   },
   {
    "duration": 52,
    "start_time": "2022-04-26T12:26:22.157Z"
   },
   {
    "duration": 356,
    "start_time": "2022-04-26T12:26:22.211Z"
   },
   {
    "duration": 31,
    "start_time": "2022-04-26T12:26:22.569Z"
   },
   {
    "duration": 610,
    "start_time": "2022-04-26T12:26:22.603Z"
   },
   {
    "duration": 48,
    "start_time": "2022-04-26T12:26:23.216Z"
   },
   {
    "duration": 22,
    "start_time": "2022-04-26T12:26:23.266Z"
   },
   {
    "duration": 25,
    "start_time": "2022-04-26T12:26:23.290Z"
   },
   {
    "duration": 97,
    "start_time": "2022-04-26T12:26:23.317Z"
   },
   {
    "duration": 58,
    "start_time": "2022-04-26T12:26:23.416Z"
   },
   {
    "duration": 7,
    "start_time": "2022-04-26T12:26:23.479Z"
   },
   {
    "duration": 11,
    "start_time": "2022-04-26T12:26:23.488Z"
   },
   {
    "duration": 14,
    "start_time": "2022-04-26T12:26:23.501Z"
   },
   {
    "duration": 4,
    "start_time": "2022-04-26T12:26:23.517Z"
   },
   {
    "duration": 16,
    "start_time": "2022-04-26T12:26:23.522Z"
   },
   {
    "duration": 17,
    "start_time": "2022-04-26T12:26:23.540Z"
   },
   {
    "duration": 6,
    "start_time": "2022-04-26T12:26:23.559Z"
   },
   {
    "duration": 12,
    "start_time": "2022-04-26T12:26:23.567Z"
   },
   {
    "duration": 7,
    "start_time": "2022-04-26T12:26:23.581Z"
   },
   {
    "duration": 4,
    "start_time": "2022-04-26T12:26:23.589Z"
   },
   {
    "duration": 10,
    "start_time": "2022-04-26T12:26:23.595Z"
   },
   {
    "duration": 6,
    "start_time": "2022-04-26T12:26:23.607Z"
   },
   {
    "duration": 56,
    "start_time": "2022-04-26T12:26:23.615Z"
   },
   {
    "duration": 18,
    "start_time": "2022-04-26T12:26:23.673Z"
   },
   {
    "duration": 25,
    "start_time": "2022-04-26T12:26:23.692Z"
   },
   {
    "duration": 16,
    "start_time": "2022-04-26T12:26:26.264Z"
   },
   {
    "duration": 1190,
    "start_time": "2022-04-26T12:27:25.429Z"
   },
   {
    "duration": 647,
    "start_time": "2022-04-26T12:27:26.621Z"
   },
   {
    "duration": 4,
    "start_time": "2022-04-26T12:27:27.270Z"
   },
   {
    "duration": 22,
    "start_time": "2022-04-26T12:27:27.277Z"
   },
   {
    "duration": 58,
    "start_time": "2022-04-26T12:27:27.301Z"
   },
   {
    "duration": 294,
    "start_time": "2022-04-26T12:27:27.361Z"
   },
   {
    "duration": 23,
    "start_time": "2022-04-26T12:27:27.657Z"
   },
   {
    "duration": 400,
    "start_time": "2022-04-26T12:27:27.682Z"
   },
   {
    "duration": 30,
    "start_time": "2022-04-26T12:27:28.083Z"
   },
   {
    "duration": 17,
    "start_time": "2022-04-26T12:27:28.116Z"
   },
   {
    "duration": 37,
    "start_time": "2022-04-26T12:27:28.134Z"
   },
   {
    "duration": 54,
    "start_time": "2022-04-26T12:27:28.173Z"
   },
   {
    "duration": 45,
    "start_time": "2022-04-26T12:27:28.229Z"
   },
   {
    "duration": 6,
    "start_time": "2022-04-26T12:27:28.275Z"
   },
   {
    "duration": 24,
    "start_time": "2022-04-26T12:27:28.283Z"
   },
   {
    "duration": 18,
    "start_time": "2022-04-26T12:27:28.308Z"
   },
   {
    "duration": 15,
    "start_time": "2022-04-26T12:27:28.327Z"
   },
   {
    "duration": 8,
    "start_time": "2022-04-26T12:27:28.344Z"
   },
   {
    "duration": 10,
    "start_time": "2022-04-26T12:27:28.354Z"
   },
   {
    "duration": 7,
    "start_time": "2022-04-26T12:27:28.366Z"
   },
   {
    "duration": 13,
    "start_time": "2022-04-26T12:27:28.375Z"
   },
   {
    "duration": 8,
    "start_time": "2022-04-26T12:27:28.389Z"
   },
   {
    "duration": 4,
    "start_time": "2022-04-26T12:27:28.399Z"
   },
   {
    "duration": 10,
    "start_time": "2022-04-26T12:27:28.405Z"
   },
   {
    "duration": 5,
    "start_time": "2022-04-26T12:27:28.417Z"
   },
   {
    "duration": 52,
    "start_time": "2022-04-26T12:27:28.424Z"
   },
   {
    "duration": 24,
    "start_time": "2022-04-26T12:27:28.478Z"
   },
   {
    "duration": 8,
    "start_time": "2022-04-26T12:27:34.962Z"
   },
   {
    "duration": 9,
    "start_time": "2022-04-26T12:27:48.267Z"
   },
   {
    "duration": 10,
    "start_time": "2022-04-26T12:28:42.930Z"
   },
   {
    "duration": 6,
    "start_time": "2022-04-26T12:30:27.114Z"
   },
   {
    "duration": 24,
    "start_time": "2022-04-26T12:30:29.205Z"
   },
   {
    "duration": 14,
    "start_time": "2022-04-26T12:30:35.031Z"
   },
   {
    "duration": 25,
    "start_time": "2022-04-26T12:30:37.532Z"
   },
   {
    "duration": 2380,
    "start_time": "2022-04-26T12:30:41.646Z"
   },
   {
    "duration": 17,
    "start_time": "2022-04-26T12:31:04.281Z"
   },
   {
    "duration": 6,
    "start_time": "2022-04-26T12:31:09.975Z"
   },
   {
    "duration": 17,
    "start_time": "2022-04-26T12:31:10.615Z"
   },
   {
    "duration": 17,
    "start_time": "2022-04-26T12:31:11.246Z"
   },
   {
    "duration": 9,
    "start_time": "2022-04-26T12:31:13.698Z"
   },
   {
    "duration": 10,
    "start_time": "2022-04-26T12:31:16.722Z"
   },
   {
    "duration": 22,
    "start_time": "2022-04-26T12:31:23.338Z"
   },
   {
    "duration": 6,
    "start_time": "2022-04-26T12:31:26.919Z"
   },
   {
    "duration": 13,
    "start_time": "2022-04-26T12:31:32.162Z"
   },
   {
    "duration": 5,
    "start_time": "2022-04-26T12:33:02.288Z"
   },
   {
    "duration": 13,
    "start_time": "2022-04-26T12:33:02.992Z"
   },
   {
    "duration": 1223,
    "start_time": "2022-04-26T12:52:31.231Z"
   },
   {
    "duration": 796,
    "start_time": "2022-04-26T12:52:32.457Z"
   },
   {
    "duration": 5,
    "start_time": "2022-04-26T12:52:33.255Z"
   },
   {
    "duration": 20,
    "start_time": "2022-04-26T12:52:33.262Z"
   },
   {
    "duration": 51,
    "start_time": "2022-04-26T12:52:33.284Z"
   },
   {
    "duration": 306,
    "start_time": "2022-04-26T12:52:33.337Z"
   },
   {
    "duration": 32,
    "start_time": "2022-04-26T12:52:33.644Z"
   },
   {
    "duration": 399,
    "start_time": "2022-04-26T12:52:33.678Z"
   },
   {
    "duration": 30,
    "start_time": "2022-04-26T12:52:34.079Z"
   },
   {
    "duration": 17,
    "start_time": "2022-04-26T12:52:34.112Z"
   },
   {
    "duration": 42,
    "start_time": "2022-04-26T12:52:34.130Z"
   },
   {
    "duration": 58,
    "start_time": "2022-04-26T12:52:34.174Z"
   },
   {
    "duration": 44,
    "start_time": "2022-04-26T12:52:34.234Z"
   },
   {
    "duration": 6,
    "start_time": "2022-04-26T12:52:34.280Z"
   },
   {
    "duration": 7,
    "start_time": "2022-04-26T12:52:34.287Z"
   },
   {
    "duration": 10,
    "start_time": "2022-04-26T12:52:34.296Z"
   },
   {
    "duration": 4,
    "start_time": "2022-04-26T12:52:34.308Z"
   },
   {
    "duration": 5,
    "start_time": "2022-04-26T12:52:34.314Z"
   },
   {
    "duration": 34,
    "start_time": "2022-04-26T12:52:34.321Z"
   },
   {
    "duration": 7,
    "start_time": "2022-04-26T12:52:34.356Z"
   },
   {
    "duration": 15,
    "start_time": "2022-04-26T12:52:34.364Z"
   },
   {
    "duration": 6,
    "start_time": "2022-04-26T12:52:34.381Z"
   },
   {
    "duration": 6,
    "start_time": "2022-04-26T12:52:34.389Z"
   },
   {
    "duration": 11,
    "start_time": "2022-04-26T12:52:34.396Z"
   },
   {
    "duration": 6,
    "start_time": "2022-04-26T12:52:34.408Z"
   },
   {
    "duration": 10,
    "start_time": "2022-04-26T12:52:34.415Z"
   },
   {
    "duration": 94,
    "start_time": "2022-04-26T12:52:39.444Z"
   },
   {
    "duration": 10,
    "start_time": "2022-04-26T12:52:42.932Z"
   },
   {
    "duration": 10,
    "start_time": "2022-04-26T12:53:24.950Z"
   },
   {
    "duration": 3,
    "start_time": "2022-04-26T12:53:47.955Z"
   },
   {
    "duration": 947,
    "start_time": "2022-04-26T12:53:47.960Z"
   },
   {
    "duration": 5,
    "start_time": "2022-04-26T12:53:48.910Z"
   },
   {
    "duration": 41,
    "start_time": "2022-04-26T12:53:48.917Z"
   },
   {
    "duration": 58,
    "start_time": "2022-04-26T12:53:48.961Z"
   },
   {
    "duration": 280,
    "start_time": "2022-04-26T12:53:49.020Z"
   },
   {
    "duration": 20,
    "start_time": "2022-04-26T12:53:49.302Z"
   },
   {
    "duration": 414,
    "start_time": "2022-04-26T12:53:49.324Z"
   },
   {
    "duration": 38,
    "start_time": "2022-04-26T12:53:49.740Z"
   },
   {
    "duration": 23,
    "start_time": "2022-04-26T12:53:49.780Z"
   },
   {
    "duration": 28,
    "start_time": "2022-04-26T12:53:49.804Z"
   },
   {
    "duration": 71,
    "start_time": "2022-04-26T12:53:49.834Z"
   },
   {
    "duration": 30,
    "start_time": "2022-04-26T12:53:49.906Z"
   },
   {
    "duration": 21,
    "start_time": "2022-04-26T12:53:49.938Z"
   },
   {
    "duration": 13,
    "start_time": "2022-04-26T12:53:49.961Z"
   },
   {
    "duration": 9,
    "start_time": "2022-04-26T12:53:49.976Z"
   },
   {
    "duration": 16,
    "start_time": "2022-04-26T12:53:49.986Z"
   },
   {
    "duration": 6,
    "start_time": "2022-04-26T12:53:50.004Z"
   },
   {
    "duration": 22,
    "start_time": "2022-04-26T12:53:50.012Z"
   },
   {
    "duration": 21,
    "start_time": "2022-04-26T12:53:50.036Z"
   },
   {
    "duration": 36,
    "start_time": "2022-04-26T12:53:50.059Z"
   },
   {
    "duration": 13,
    "start_time": "2022-04-26T12:53:50.097Z"
   },
   {
    "duration": 18,
    "start_time": "2022-04-26T12:53:50.112Z"
   },
   {
    "duration": 17,
    "start_time": "2022-04-26T12:53:50.132Z"
   },
   {
    "duration": 15,
    "start_time": "2022-04-26T12:53:50.151Z"
   },
   {
    "duration": 21,
    "start_time": "2022-04-26T12:53:50.167Z"
   },
   {
    "duration": 9,
    "start_time": "2022-04-26T12:53:51.710Z"
   },
   {
    "duration": 15,
    "start_time": "2022-04-26T12:54:03.710Z"
   },
   {
    "duration": 6,
    "start_time": "2022-04-26T12:54:50.886Z"
   },
   {
    "duration": 607,
    "start_time": "2022-04-26T12:54:51.404Z"
   },
   {
    "duration": 3,
    "start_time": "2022-04-26T12:55:29.418Z"
   },
   {
    "duration": 5,
    "start_time": "2022-04-26T12:55:32.677Z"
   },
   {
    "duration": 8,
    "start_time": "2022-04-26T12:55:45.791Z"
   },
   {
    "duration": 9,
    "start_time": "2022-04-26T12:55:51.456Z"
   },
   {
    "duration": 1280,
    "start_time": "2022-04-26T12:56:05.457Z"
   },
   {
    "duration": 858,
    "start_time": "2022-04-26T12:56:06.740Z"
   },
   {
    "duration": 5,
    "start_time": "2022-04-26T12:56:07.600Z"
   },
   {
    "duration": 17,
    "start_time": "2022-04-26T12:56:07.607Z"
   },
   {
    "duration": 67,
    "start_time": "2022-04-26T12:56:07.626Z"
   },
   {
    "duration": 294,
    "start_time": "2022-04-26T12:56:07.695Z"
   },
   {
    "duration": 23,
    "start_time": "2022-04-26T12:56:07.991Z"
   },
   {
    "duration": 420,
    "start_time": "2022-04-26T12:56:08.016Z"
   },
   {
    "duration": 39,
    "start_time": "2022-04-26T12:56:08.438Z"
   },
   {
    "duration": 16,
    "start_time": "2022-04-26T12:56:08.481Z"
   },
   {
    "duration": 21,
    "start_time": "2022-04-26T12:56:08.499Z"
   },
   {
    "duration": 76,
    "start_time": "2022-04-26T12:56:08.522Z"
   },
   {
    "duration": 33,
    "start_time": "2022-04-26T12:56:08.600Z"
   },
   {
    "duration": 24,
    "start_time": "2022-04-26T12:56:08.635Z"
   },
   {
    "duration": 8,
    "start_time": "2022-04-26T12:56:08.661Z"
   },
   {
    "duration": 15,
    "start_time": "2022-04-26T12:56:08.671Z"
   },
   {
    "duration": 5,
    "start_time": "2022-04-26T12:56:08.688Z"
   },
   {
    "duration": 6,
    "start_time": "2022-04-26T12:56:08.695Z"
   },
   {
    "duration": 9,
    "start_time": "2022-04-26T12:56:08.703Z"
   },
   {
    "duration": 7,
    "start_time": "2022-04-26T12:56:08.714Z"
   },
   {
    "duration": 39,
    "start_time": "2022-04-26T12:56:08.723Z"
   },
   {
    "duration": 14,
    "start_time": "2022-04-26T12:56:08.764Z"
   },
   {
    "duration": 11,
    "start_time": "2022-04-26T12:56:08.780Z"
   },
   {
    "duration": 9,
    "start_time": "2022-04-26T12:56:08.792Z"
   },
   {
    "duration": 5,
    "start_time": "2022-04-26T12:56:08.803Z"
   },
   {
    "duration": 8,
    "start_time": "2022-04-26T12:56:08.809Z"
   },
   {
    "duration": 93,
    "start_time": "2022-04-26T12:56:10.221Z"
   },
   {
    "duration": 10,
    "start_time": "2022-04-26T12:56:15.656Z"
   },
   {
    "duration": 9,
    "start_time": "2022-04-26T12:56:40.360Z"
   },
   {
    "duration": 3,
    "start_time": "2022-04-26T12:56:51.476Z"
   },
   {
    "duration": 12,
    "start_time": "2022-04-26T12:56:52.141Z"
   },
   {
    "duration": 5,
    "start_time": "2022-04-26T12:56:58.998Z"
   },
   {
    "duration": 7,
    "start_time": "2022-04-26T12:58:48.956Z"
   },
   {
    "duration": 19,
    "start_time": "2022-04-26T12:58:50.249Z"
   },
   {
    "duration": 7,
    "start_time": "2022-04-26T12:59:02.258Z"
   },
   {
    "duration": 29,
    "start_time": "2022-04-26T12:59:02.873Z"
   },
   {
    "duration": 4,
    "start_time": "2022-04-26T12:59:19.575Z"
   },
   {
    "duration": 13,
    "start_time": "2022-04-26T12:59:20.105Z"
   },
   {
    "duration": 5,
    "start_time": "2022-04-26T12:59:25.842Z"
   },
   {
    "duration": 26,
    "start_time": "2022-04-26T12:59:26.355Z"
   },
   {
    "duration": 5,
    "start_time": "2022-04-26T13:00:53.377Z"
   },
   {
    "duration": 17,
    "start_time": "2022-04-26T13:00:54.138Z"
   },
   {
    "duration": 6,
    "start_time": "2022-04-26T13:01:56.337Z"
   },
   {
    "duration": 12,
    "start_time": "2022-04-26T13:01:56.924Z"
   },
   {
    "duration": 5,
    "start_time": "2022-04-26T13:02:01.691Z"
   },
   {
    "duration": 12,
    "start_time": "2022-04-26T13:02:02.096Z"
   },
   {
    "duration": 6,
    "start_time": "2022-04-26T13:02:23.490Z"
   },
   {
    "duration": 36,
    "start_time": "2022-04-26T13:02:23.680Z"
   },
   {
    "duration": 3,
    "start_time": "2022-04-26T13:02:47.898Z"
   },
   {
    "duration": 4,
    "start_time": "2022-04-26T13:02:48.666Z"
   },
   {
    "duration": 4,
    "start_time": "2022-04-26T13:03:03.954Z"
   },
   {
    "duration": 3,
    "start_time": "2022-04-26T13:03:04.334Z"
   },
   {
    "duration": 4,
    "start_time": "2022-04-26T13:03:08.730Z"
   },
   {
    "duration": 3,
    "start_time": "2022-04-26T13:03:09.265Z"
   },
   {
    "duration": 4,
    "start_time": "2022-04-26T13:03:11.789Z"
   },
   {
    "duration": 3,
    "start_time": "2022-04-26T13:03:12.842Z"
   },
   {
    "duration": 4,
    "start_time": "2022-04-26T13:03:36.667Z"
   },
   {
    "duration": 3,
    "start_time": "2022-04-26T13:03:37.817Z"
   },
   {
    "duration": 3,
    "start_time": "2022-04-26T13:03:46.786Z"
   },
   {
    "duration": 4,
    "start_time": "2022-04-26T13:03:47.152Z"
   },
   {
    "duration": 4,
    "start_time": "2022-04-26T13:04:00.730Z"
   },
   {
    "duration": 3,
    "start_time": "2022-04-26T13:04:01.131Z"
   },
   {
    "duration": 4,
    "start_time": "2022-04-26T13:04:23.565Z"
   },
   {
    "duration": 4,
    "start_time": "2022-04-26T13:04:24.115Z"
   },
   {
    "duration": 5,
    "start_time": "2022-04-26T13:04:32.669Z"
   },
   {
    "duration": 5,
    "start_time": "2022-04-26T13:04:33.105Z"
   },
   {
    "duration": 4,
    "start_time": "2022-04-26T13:05:29.629Z"
   },
   {
    "duration": 5,
    "start_time": "2022-04-26T13:05:30.654Z"
   },
   {
    "duration": 4,
    "start_time": "2022-04-26T13:05:39.319Z"
   },
   {
    "duration": 4,
    "start_time": "2022-04-26T13:05:39.911Z"
   },
   {
    "duration": 5,
    "start_time": "2022-04-26T13:05:45.982Z"
   },
   {
    "duration": 6,
    "start_time": "2022-04-26T13:05:46.615Z"
   },
   {
    "duration": 4,
    "start_time": "2022-04-26T13:06:02.319Z"
   },
   {
    "duration": 5,
    "start_time": "2022-04-26T13:06:02.693Z"
   },
   {
    "duration": 4,
    "start_time": "2022-04-26T13:06:17.667Z"
   },
   {
    "duration": 5,
    "start_time": "2022-04-26T13:06:18.160Z"
   },
   {
    "duration": 4,
    "start_time": "2022-04-26T13:06:26.359Z"
   },
   {
    "duration": 6,
    "start_time": "2022-04-26T13:06:45.131Z"
   },
   {
    "duration": 24,
    "start_time": "2022-04-26T13:06:45.759Z"
   },
   {
    "duration": 4,
    "start_time": "2022-04-26T13:07:05.291Z"
   },
   {
    "duration": 13,
    "start_time": "2022-04-26T13:07:05.811Z"
   },
   {
    "duration": 9,
    "start_time": "2022-04-26T13:07:16.542Z"
   },
   {
    "duration": 5,
    "start_time": "2022-04-26T13:07:27.890Z"
   },
   {
    "duration": 6,
    "start_time": "2022-04-26T13:07:31.806Z"
   },
   {
    "duration": 8,
    "start_time": "2022-04-26T13:07:33.583Z"
   },
   {
    "duration": 16,
    "start_time": "2022-04-26T13:07:52.967Z"
   },
   {
    "duration": 8,
    "start_time": "2022-04-26T13:07:57.279Z"
   },
   {
    "duration": 6,
    "start_time": "2022-04-26T13:08:15.073Z"
   },
   {
    "duration": 24,
    "start_time": "2022-04-26T13:08:16.273Z"
   },
   {
    "duration": 5,
    "start_time": "2022-04-26T13:09:26.339Z"
   },
   {
    "duration": 38,
    "start_time": "2022-04-26T13:09:27.023Z"
   },
   {
    "duration": 5,
    "start_time": "2022-04-26T13:10:52.693Z"
   },
   {
    "duration": 25,
    "start_time": "2022-04-26T13:10:53.186Z"
   },
   {
    "duration": 5,
    "start_time": "2022-04-26T13:11:21.709Z"
   },
   {
    "duration": 18,
    "start_time": "2022-04-26T13:11:22.363Z"
   },
   {
    "duration": 5,
    "start_time": "2022-04-26T13:11:42.598Z"
   },
   {
    "duration": 37,
    "start_time": "2022-04-26T13:11:43.142Z"
   },
   {
    "duration": 4,
    "start_time": "2022-04-26T13:11:54.003Z"
   },
   {
    "duration": 9,
    "start_time": "2022-04-26T13:11:54.508Z"
   },
   {
    "duration": 8,
    "start_time": "2022-04-26T13:11:57.131Z"
   },
   {
    "duration": 4,
    "start_time": "2022-04-26T13:12:29.564Z"
   },
   {
    "duration": 6,
    "start_time": "2022-04-26T13:12:30.093Z"
   },
   {
    "duration": 8,
    "start_time": "2022-04-26T13:12:30.491Z"
   },
   {
    "duration": 5,
    "start_time": "2022-04-26T13:12:57.055Z"
   },
   {
    "duration": 27,
    "start_time": "2022-04-26T13:12:57.555Z"
   },
   {
    "duration": 7,
    "start_time": "2022-04-26T13:13:45.222Z"
   },
   {
    "duration": 8,
    "start_time": "2022-04-26T13:13:45.588Z"
   },
   {
    "duration": 8,
    "start_time": "2022-04-26T13:13:47.930Z"
   },
   {
    "duration": 5,
    "start_time": "2022-04-26T13:14:03.207Z"
   },
   {
    "duration": 7,
    "start_time": "2022-04-26T13:14:03.578Z"
   },
   {
    "duration": 7,
    "start_time": "2022-04-26T13:14:04.020Z"
   },
   {
    "duration": 6,
    "start_time": "2022-04-26T13:14:56.702Z"
   },
   {
    "duration": 8,
    "start_time": "2022-04-26T13:14:57.283Z"
   },
   {
    "duration": 5,
    "start_time": "2022-04-26T13:14:57.796Z"
   },
   {
    "duration": 5,
    "start_time": "2022-04-26T13:15:03.806Z"
   },
   {
    "duration": 7,
    "start_time": "2022-04-26T13:15:04.237Z"
   },
   {
    "duration": 8,
    "start_time": "2022-04-26T13:15:04.551Z"
   },
   {
    "duration": 8,
    "start_time": "2022-04-26T13:15:30.206Z"
   },
   {
    "duration": 9,
    "start_time": "2022-04-26T13:15:31.323Z"
   },
   {
    "duration": 12,
    "start_time": "2022-04-26T13:15:31.788Z"
   },
   {
    "duration": 6,
    "start_time": "2022-04-26T13:16:11.245Z"
   },
   {
    "duration": 8,
    "start_time": "2022-04-26T13:16:11.784Z"
   },
   {
    "duration": 5,
    "start_time": "2022-04-26T13:16:32.487Z"
   },
   {
    "duration": 27,
    "start_time": "2022-04-26T13:16:33.162Z"
   },
   {
    "duration": 8,
    "start_time": "2022-04-26T13:16:48.214Z"
   },
   {
    "duration": 30,
    "start_time": "2022-04-26T13:16:49.060Z"
   },
   {
    "duration": 6,
    "start_time": "2022-04-26T13:16:56.813Z"
   },
   {
    "duration": 23,
    "start_time": "2022-04-26T13:16:57.308Z"
   },
   {
    "duration": 6,
    "start_time": "2022-04-26T13:17:30.956Z"
   },
   {
    "duration": 16,
    "start_time": "2022-04-26T13:17:31.284Z"
   },
   {
    "duration": 2,
    "start_time": "2022-04-26T13:17:33.577Z"
   },
   {
    "duration": 8,
    "start_time": "2022-04-26T13:17:42.629Z"
   },
   {
    "duration": 21,
    "start_time": "2022-04-26T13:17:43.114Z"
   },
   {
    "duration": 8,
    "start_time": "2022-04-26T13:20:26.937Z"
   },
   {
    "duration": 8,
    "start_time": "2022-04-26T13:20:33.221Z"
   },
   {
    "duration": 23,
    "start_time": "2022-04-26T13:20:33.712Z"
   },
   {
    "duration": 13,
    "start_time": "2022-04-26T13:20:51.617Z"
   },
   {
    "duration": 11,
    "start_time": "2022-04-26T13:21:12.561Z"
   },
   {
    "duration": 11,
    "start_time": "2022-04-26T13:21:18.769Z"
   },
   {
    "duration": 3,
    "start_time": "2022-04-26T13:21:59.052Z"
   },
   {
    "duration": 18,
    "start_time": "2022-04-26T13:22:06.192Z"
   },
   {
    "duration": 8,
    "start_time": "2022-04-26T13:22:13.318Z"
   },
   {
    "duration": 15,
    "start_time": "2022-04-26T13:22:14.404Z"
   },
   {
    "duration": 6,
    "start_time": "2022-04-26T13:22:25.684Z"
   },
   {
    "duration": 23,
    "start_time": "2022-04-26T13:22:26.889Z"
   },
   {
    "duration": 4,
    "start_time": "2022-04-26T13:22:27.497Z"
   },
   {
    "duration": 6,
    "start_time": "2022-04-26T13:22:35.489Z"
   },
   {
    "duration": 7,
    "start_time": "2022-04-26T13:22:35.801Z"
   },
   {
    "duration": 8,
    "start_time": "2022-04-26T13:22:36.241Z"
   },
   {
    "duration": 10,
    "start_time": "2022-04-26T13:22:45.585Z"
   },
   {
    "duration": 4,
    "start_time": "2022-04-26T13:23:08.801Z"
   },
   {
    "duration": 7,
    "start_time": "2022-04-26T13:23:12.185Z"
   },
   {
    "duration": 9,
    "start_time": "2022-04-26T13:27:54.442Z"
   },
   {
    "duration": 7,
    "start_time": "2022-04-26T13:28:00.698Z"
   },
   {
    "duration": 8,
    "start_time": "2022-04-26T13:28:04.179Z"
   },
   {
    "duration": 4,
    "start_time": "2022-04-26T13:28:44.243Z"
   },
   {
    "duration": 5,
    "start_time": "2022-04-26T13:28:48.115Z"
   },
   {
    "duration": 4,
    "start_time": "2022-04-26T13:29:07.797Z"
   },
   {
    "duration": 12,
    "start_time": "2022-04-26T13:29:10.893Z"
   },
   {
    "duration": 10,
    "start_time": "2022-04-26T13:29:30.786Z"
   },
   {
    "duration": 149,
    "start_time": "2022-04-26T13:30:15.850Z"
   },
   {
    "duration": 5,
    "start_time": "2022-04-26T13:30:21.002Z"
   },
   {
    "duration": 10,
    "start_time": "2022-04-26T13:30:21.600Z"
   },
   {
    "duration": 5,
    "start_time": "2022-04-26T13:30:30.247Z"
   },
   {
    "duration": 13,
    "start_time": "2022-04-26T13:30:30.606Z"
   },
   {
    "duration": 13,
    "start_time": "2022-04-26T13:30:40.436Z"
   },
   {
    "duration": 6,
    "start_time": "2022-04-26T13:30:50.036Z"
   },
   {
    "duration": 10,
    "start_time": "2022-04-26T13:30:50.556Z"
   },
   {
    "duration": 9,
    "start_time": "2022-04-26T13:31:32.101Z"
   },
   {
    "duration": 11,
    "start_time": "2022-04-26T13:31:32.841Z"
   },
   {
    "duration": 8,
    "start_time": "2022-04-26T13:31:33.391Z"
   },
   {
    "duration": 138,
    "start_time": "2022-04-26T13:31:54.023Z"
   },
   {
    "duration": 9,
    "start_time": "2022-04-26T13:32:07.059Z"
   },
   {
    "duration": 27,
    "start_time": "2022-04-26T13:32:07.843Z"
   },
   {
    "duration": 7,
    "start_time": "2022-04-26T13:32:44.279Z"
   },
   {
    "duration": 46,
    "start_time": "2022-04-26T13:32:49.393Z"
   },
   {
    "duration": 17,
    "start_time": "2022-04-26T13:32:51.517Z"
   },
   {
    "duration": 1134,
    "start_time": "2022-04-26T13:33:21.007Z"
   },
   {
    "duration": 908,
    "start_time": "2022-04-26T13:33:22.143Z"
   },
   {
    "duration": 6,
    "start_time": "2022-04-26T13:33:23.053Z"
   },
   {
    "duration": 21,
    "start_time": "2022-04-26T13:33:23.061Z"
   },
   {
    "duration": 90,
    "start_time": "2022-04-26T13:33:23.084Z"
   },
   {
    "duration": 394,
    "start_time": "2022-04-26T13:33:23.176Z"
   },
   {
    "duration": 24,
    "start_time": "2022-04-26T13:33:23.572Z"
   },
   {
    "duration": 385,
    "start_time": "2022-04-26T13:33:23.598Z"
   },
   {
    "duration": 36,
    "start_time": "2022-04-26T13:33:23.986Z"
   },
   {
    "duration": 34,
    "start_time": "2022-04-26T13:33:24.025Z"
   },
   {
    "duration": 21,
    "start_time": "2022-04-26T13:33:24.060Z"
   },
   {
    "duration": 107,
    "start_time": "2022-04-26T13:33:24.083Z"
   },
   {
    "duration": 40,
    "start_time": "2022-04-26T13:33:24.192Z"
   },
   {
    "duration": 20,
    "start_time": "2022-04-26T13:33:24.234Z"
   },
   {
    "duration": 8,
    "start_time": "2022-04-26T13:33:24.256Z"
   },
   {
    "duration": 19,
    "start_time": "2022-04-26T13:33:24.266Z"
   },
   {
    "duration": 12,
    "start_time": "2022-04-26T13:33:24.286Z"
   },
   {
    "duration": 6,
    "start_time": "2022-04-26T13:33:24.300Z"
   },
   {
    "duration": 15,
    "start_time": "2022-04-26T13:33:24.308Z"
   },
   {
    "duration": 7,
    "start_time": "2022-04-26T13:33:24.325Z"
   },
   {
    "duration": 12,
    "start_time": "2022-04-26T13:33:24.353Z"
   },
   {
    "duration": 13,
    "start_time": "2022-04-26T13:33:24.367Z"
   },
   {
    "duration": 4,
    "start_time": "2022-04-26T13:33:24.382Z"
   },
   {
    "duration": 8,
    "start_time": "2022-04-26T13:33:24.388Z"
   },
   {
    "duration": 7,
    "start_time": "2022-04-26T13:33:24.397Z"
   },
   {
    "duration": 12,
    "start_time": "2022-04-26T13:33:24.405Z"
   },
   {
    "duration": 122,
    "start_time": "2022-04-26T13:33:24.419Z"
   },
   {
    "duration": 0,
    "start_time": "2022-04-26T13:33:24.543Z"
   },
   {
    "duration": 9,
    "start_time": "2022-04-26T13:33:42.195Z"
   },
   {
    "duration": 47,
    "start_time": "2022-04-26T13:33:45.110Z"
   },
   {
    "duration": 14,
    "start_time": "2022-04-26T13:33:45.893Z"
   },
   {
    "duration": 8,
    "start_time": "2022-04-26T13:34:09.152Z"
   },
   {
    "duration": 28,
    "start_time": "2022-04-26T13:34:09.997Z"
   },
   {
    "duration": 10,
    "start_time": "2022-04-26T13:34:10.709Z"
   },
   {
    "duration": 9,
    "start_time": "2022-04-26T13:34:21.816Z"
   },
   {
    "duration": 23,
    "start_time": "2022-04-26T13:34:22.391Z"
   },
   {
    "duration": 8,
    "start_time": "2022-04-26T13:34:22.948Z"
   },
   {
    "duration": 6,
    "start_time": "2022-04-26T13:34:33.270Z"
   },
   {
    "duration": 21,
    "start_time": "2022-04-26T13:34:33.627Z"
   },
   {
    "duration": 8,
    "start_time": "2022-04-26T13:34:34.229Z"
   },
   {
    "duration": 10,
    "start_time": "2022-04-26T13:35:01.415Z"
   },
   {
    "duration": 35,
    "start_time": "2022-04-26T13:35:01.947Z"
   },
   {
    "duration": 17,
    "start_time": "2022-04-26T13:35:02.524Z"
   },
   {
    "duration": 9,
    "start_time": "2022-04-26T13:35:22.329Z"
   },
   {
    "duration": 25,
    "start_time": "2022-04-26T13:35:23.089Z"
   },
   {
    "duration": 12,
    "start_time": "2022-04-26T13:35:23.753Z"
   },
   {
    "duration": 8,
    "start_time": "2022-04-26T13:36:22.450Z"
   },
   {
    "duration": 24,
    "start_time": "2022-04-26T13:36:23.006Z"
   },
   {
    "duration": 13,
    "start_time": "2022-04-26T13:36:23.583Z"
   },
   {
    "duration": 11,
    "start_time": "2022-04-26T13:37:07.456Z"
   },
   {
    "duration": 10,
    "start_time": "2022-04-26T13:37:11.449Z"
   },
   {
    "duration": 50,
    "start_time": "2022-04-26T13:37:11.974Z"
   },
   {
    "duration": 20,
    "start_time": "2022-04-26T13:37:12.577Z"
   },
   {
    "duration": 1951,
    "start_time": "2022-04-26T13:37:30.343Z"
   },
   {
    "duration": 1167,
    "start_time": "2022-04-26T13:37:32.302Z"
   },
   {
    "duration": 6,
    "start_time": "2022-04-26T13:37:33.475Z"
   },
   {
    "duration": 79,
    "start_time": "2022-04-26T13:37:33.488Z"
   },
   {
    "duration": 88,
    "start_time": "2022-04-26T13:37:33.579Z"
   },
   {
    "duration": 498,
    "start_time": "2022-04-26T13:37:33.670Z"
   },
   {
    "duration": 42,
    "start_time": "2022-04-26T13:37:34.170Z"
   },
   {
    "duration": 740,
    "start_time": "2022-04-26T13:37:34.215Z"
   },
   {
    "duration": 55,
    "start_time": "2022-04-26T13:37:34.963Z"
   },
   {
    "duration": 74,
    "start_time": "2022-04-26T13:37:35.026Z"
   },
   {
    "duration": 64,
    "start_time": "2022-04-26T13:37:35.107Z"
   },
   {
    "duration": 155,
    "start_time": "2022-04-26T13:37:35.177Z"
   },
   {
    "duration": 105,
    "start_time": "2022-04-26T13:37:35.338Z"
   },
   {
    "duration": 58,
    "start_time": "2022-04-26T13:37:35.449Z"
   },
   {
    "duration": 44,
    "start_time": "2022-04-26T13:37:35.515Z"
   },
   {
    "duration": 32,
    "start_time": "2022-04-26T13:37:35.561Z"
   },
   {
    "duration": 115,
    "start_time": "2022-04-26T13:37:35.596Z"
   },
   {
    "duration": 110,
    "start_time": "2022-04-26T13:37:35.714Z"
   },
   {
    "duration": 30,
    "start_time": "2022-04-26T13:37:35.827Z"
   },
   {
    "duration": 84,
    "start_time": "2022-04-26T13:37:35.863Z"
   },
   {
    "duration": 66,
    "start_time": "2022-04-26T13:37:35.949Z"
   },
   {
    "duration": 16,
    "start_time": "2022-04-26T13:37:36.022Z"
   },
   {
    "duration": 64,
    "start_time": "2022-04-26T13:37:36.042Z"
   },
   {
    "duration": 14,
    "start_time": "2022-04-26T13:37:36.116Z"
   },
   {
    "duration": 86,
    "start_time": "2022-04-26T13:37:36.135Z"
   },
   {
    "duration": 69,
    "start_time": "2022-04-26T13:37:36.228Z"
   },
   {
    "duration": 27,
    "start_time": "2022-04-26T13:37:36.299Z"
   },
   {
    "duration": 64,
    "start_time": "2022-04-26T13:37:36.334Z"
   },
   {
    "duration": 43,
    "start_time": "2022-04-26T13:37:36.405Z"
   },
   {
    "duration": 11,
    "start_time": "2022-04-26T13:38:34.574Z"
   },
   {
    "duration": 132,
    "start_time": "2022-04-26T13:38:35.206Z"
   },
   {
    "duration": 22,
    "start_time": "2022-04-26T13:38:36.269Z"
   },
   {
    "duration": 9,
    "start_time": "2022-04-26T13:38:51.343Z"
   },
   {
    "duration": 40,
    "start_time": "2022-04-26T13:38:51.792Z"
   },
   {
    "duration": 10,
    "start_time": "2022-04-26T13:38:58.947Z"
   },
   {
    "duration": 50,
    "start_time": "2022-04-26T13:38:59.331Z"
   },
   {
    "duration": 9,
    "start_time": "2022-04-26T13:40:18.404Z"
   },
   {
    "duration": 53,
    "start_time": "2022-04-26T13:40:18.923Z"
   },
   {
    "duration": 18,
    "start_time": "2022-04-26T13:40:21.093Z"
   },
   {
    "duration": 10,
    "start_time": "2022-04-26T13:40:35.925Z"
   },
   {
    "duration": 61,
    "start_time": "2022-04-26T13:40:36.523Z"
   },
   {
    "duration": 22,
    "start_time": "2022-04-26T13:40:37.082Z"
   },
   {
    "duration": 22,
    "start_time": "2022-04-26T13:40:48.495Z"
   },
   {
    "duration": 25,
    "start_time": "2022-04-26T13:40:49.242Z"
   },
   {
    "duration": 41,
    "start_time": "2022-04-26T13:40:52.744Z"
   },
   {
    "duration": 14,
    "start_time": "2022-04-26T13:40:59.412Z"
   },
   {
    "duration": 84,
    "start_time": "2022-04-26T13:41:27.507Z"
   },
   {
    "duration": 17,
    "start_time": "2022-04-26T13:41:31.531Z"
   },
   {
    "duration": 1407,
    "start_time": "2022-04-26T13:43:42.147Z"
   },
   {
    "duration": 840,
    "start_time": "2022-04-26T13:43:43.557Z"
   },
   {
    "duration": 5,
    "start_time": "2022-04-26T13:43:44.399Z"
   },
   {
    "duration": 22,
    "start_time": "2022-04-26T13:43:44.407Z"
   },
   {
    "duration": 93,
    "start_time": "2022-04-26T13:43:44.431Z"
   },
   {
    "duration": 453,
    "start_time": "2022-04-26T13:43:44.526Z"
   },
   {
    "duration": 24,
    "start_time": "2022-04-26T13:43:44.981Z"
   },
   {
    "duration": 481,
    "start_time": "2022-04-26T13:43:45.006Z"
   },
   {
    "duration": 33,
    "start_time": "2022-04-26T13:43:45.489Z"
   },
   {
    "duration": 45,
    "start_time": "2022-04-26T13:43:45.525Z"
   },
   {
    "duration": 31,
    "start_time": "2022-04-26T13:43:45.573Z"
   },
   {
    "duration": 64,
    "start_time": "2022-04-26T13:43:45.606Z"
   },
   {
    "duration": 36,
    "start_time": "2022-04-26T13:43:45.673Z"
   },
   {
    "duration": 7,
    "start_time": "2022-04-26T13:43:45.711Z"
   },
   {
    "duration": 10,
    "start_time": "2022-04-26T13:43:45.720Z"
   },
   {
    "duration": 46,
    "start_time": "2022-04-26T13:43:45.732Z"
   },
   {
    "duration": 11,
    "start_time": "2022-04-26T13:43:45.780Z"
   },
   {
    "duration": 9,
    "start_time": "2022-04-26T13:43:45.793Z"
   },
   {
    "duration": 11,
    "start_time": "2022-04-26T13:43:45.804Z"
   },
   {
    "duration": 8,
    "start_time": "2022-04-26T13:43:45.817Z"
   },
   {
    "duration": 9,
    "start_time": "2022-04-26T13:43:45.827Z"
   },
   {
    "duration": 28,
    "start_time": "2022-04-26T13:43:45.838Z"
   },
   {
    "duration": 13,
    "start_time": "2022-04-26T13:43:45.874Z"
   },
   {
    "duration": 11,
    "start_time": "2022-04-26T13:43:45.889Z"
   },
   {
    "duration": 6,
    "start_time": "2022-04-26T13:43:45.902Z"
   },
   {
    "duration": 16,
    "start_time": "2022-04-26T13:43:45.910Z"
   },
   {
    "duration": 8,
    "start_time": "2022-04-26T13:43:45.928Z"
   },
   {
    "duration": 84,
    "start_time": "2022-04-26T13:43:45.940Z"
   },
   {
    "duration": 16,
    "start_time": "2022-04-26T13:43:46.026Z"
   },
   {
    "duration": 10,
    "start_time": "2022-04-26T13:46:31.325Z"
   },
   {
    "duration": 2577,
    "start_time": "2022-04-26T13:46:32.200Z"
   },
   {
    "duration": 11,
    "start_time": "2022-04-26T13:46:42.777Z"
   },
   {
    "duration": 52,
    "start_time": "2022-04-26T13:46:43.273Z"
   },
   {
    "duration": 24,
    "start_time": "2022-04-26T13:46:47.388Z"
   },
   {
    "duration": 23,
    "start_time": "2022-04-26T13:49:13.493Z"
   },
   {
    "duration": 94,
    "start_time": "2022-04-26T13:49:14.827Z"
   },
   {
    "duration": 18,
    "start_time": "2022-04-26T13:49:18.809Z"
   },
   {
    "duration": 9,
    "start_time": "2022-04-26T13:52:20.684Z"
   },
   {
    "duration": 53,
    "start_time": "2022-04-26T13:52:21.353Z"
   },
   {
    "duration": 18,
    "start_time": "2022-04-26T13:52:25.204Z"
   },
   {
    "duration": 10,
    "start_time": "2022-04-26T13:53:14.679Z"
   },
   {
    "duration": 424,
    "start_time": "2022-04-26T13:53:15.363Z"
   },
   {
    "duration": 386,
    "start_time": "2022-04-26T13:53:18.772Z"
   },
   {
    "duration": 413,
    "start_time": "2022-04-26T13:53:19.426Z"
   },
   {
    "duration": 2261,
    "start_time": "2022-04-26T13:53:20.021Z"
   },
   {
    "duration": 8,
    "start_time": "2022-04-26T13:54:42.788Z"
   },
   {
    "duration": 57,
    "start_time": "2022-04-26T13:54:43.338Z"
   },
   {
    "duration": 13,
    "start_time": "2022-04-26T13:54:45.488Z"
   },
   {
    "duration": 276,
    "start_time": "2022-04-26T13:54:46.038Z"
   },
   {
    "duration": 270,
    "start_time": "2022-04-26T13:54:46.620Z"
   },
   {
    "duration": 267,
    "start_time": "2022-04-26T13:54:47.047Z"
   },
   {
    "duration": 2383,
    "start_time": "2022-04-26T13:54:50.181Z"
   },
   {
    "duration": 390,
    "start_time": "2022-04-26T13:54:57.802Z"
   },
   {
    "duration": 274,
    "start_time": "2022-04-26T13:55:10.029Z"
   },
   {
    "duration": 252,
    "start_time": "2022-04-26T13:55:14.530Z"
   },
   {
    "duration": 336,
    "start_time": "2022-04-26T13:55:14.798Z"
   },
   {
    "duration": 1330,
    "start_time": "2022-04-26T13:57:00.664Z"
   },
   {
    "duration": 767,
    "start_time": "2022-04-26T13:57:01.999Z"
   },
   {
    "duration": 5,
    "start_time": "2022-04-26T13:57:02.767Z"
   },
   {
    "duration": 32,
    "start_time": "2022-04-26T13:57:02.775Z"
   },
   {
    "duration": 103,
    "start_time": "2022-04-26T13:57:02.809Z"
   },
   {
    "duration": 329,
    "start_time": "2022-04-26T13:57:02.915Z"
   },
   {
    "duration": 28,
    "start_time": "2022-04-26T13:57:03.246Z"
   },
   {
    "duration": 440,
    "start_time": "2022-04-26T13:57:03.276Z"
   },
   {
    "duration": 46,
    "start_time": "2022-04-26T13:57:03.718Z"
   },
   {
    "duration": 19,
    "start_time": "2022-04-26T13:57:03.767Z"
   },
   {
    "duration": 21,
    "start_time": "2022-04-26T13:57:03.790Z"
   },
   {
    "duration": 84,
    "start_time": "2022-04-26T13:57:03.814Z"
   },
   {
    "duration": 37,
    "start_time": "2022-04-26T13:57:03.901Z"
   },
   {
    "duration": 18,
    "start_time": "2022-04-26T13:57:03.940Z"
   },
   {
    "duration": 11,
    "start_time": "2022-04-26T13:57:03.961Z"
   },
   {
    "duration": 14,
    "start_time": "2022-04-26T13:57:03.974Z"
   },
   {
    "duration": 32,
    "start_time": "2022-04-26T13:57:03.990Z"
   },
   {
    "duration": 9,
    "start_time": "2022-04-26T13:57:04.024Z"
   },
   {
    "duration": 22,
    "start_time": "2022-04-26T13:57:04.035Z"
   },
   {
    "duration": 18,
    "start_time": "2022-04-26T13:57:04.059Z"
   },
   {
    "duration": 20,
    "start_time": "2022-04-26T13:57:04.079Z"
   },
   {
    "duration": 8,
    "start_time": "2022-04-26T13:57:04.102Z"
   },
   {
    "duration": 16,
    "start_time": "2022-04-26T13:57:04.112Z"
   },
   {
    "duration": 17,
    "start_time": "2022-04-26T13:57:04.132Z"
   },
   {
    "duration": 7,
    "start_time": "2022-04-26T13:57:04.152Z"
   },
   {
    "duration": 13,
    "start_time": "2022-04-26T13:57:04.161Z"
   },
   {
    "duration": 37,
    "start_time": "2022-04-26T13:57:04.177Z"
   },
   {
    "duration": 101,
    "start_time": "2022-04-26T13:57:04.219Z"
   },
   {
    "duration": 481,
    "start_time": "2022-04-26T13:57:04.322Z"
   },
   {
    "duration": 444,
    "start_time": "2022-04-26T13:57:04.806Z"
   },
   {
    "duration": 427,
    "start_time": "2022-04-26T13:57:05.255Z"
   },
   {
    "duration": 406,
    "start_time": "2022-04-26T13:57:05.685Z"
   },
   {
    "duration": 276,
    "start_time": "2022-04-26T13:57:06.094Z"
   },
   {
    "duration": 410,
    "start_time": "2022-04-26T13:57:06.372Z"
   },
   {
    "duration": 281,
    "start_time": "2022-04-26T13:57:06.784Z"
   },
   {
    "duration": 11,
    "start_time": "2022-04-26T13:57:07.067Z"
   },
   {
    "duration": 399,
    "start_time": "2022-04-26T13:57:07.080Z"
   },
   {
    "duration": 359,
    "start_time": "2022-04-26T13:57:07.481Z"
   },
   {
    "duration": 2688,
    "start_time": "2022-04-26T13:57:07.842Z"
   },
   {
    "duration": 0,
    "start_time": "2022-04-26T13:57:10.531Z"
   },
   {
    "duration": 0,
    "start_time": "2022-04-26T13:57:10.533Z"
   },
   {
    "duration": 1244,
    "start_time": "2022-04-26T13:57:31.851Z"
   },
   {
    "duration": 934,
    "start_time": "2022-04-26T13:57:33.098Z"
   },
   {
    "duration": 5,
    "start_time": "2022-04-26T13:57:34.034Z"
   },
   {
    "duration": 20,
    "start_time": "2022-04-26T13:57:34.041Z"
   },
   {
    "duration": 52,
    "start_time": "2022-04-26T13:57:34.064Z"
   },
   {
    "duration": 310,
    "start_time": "2022-04-26T13:57:34.118Z"
   },
   {
    "duration": 39,
    "start_time": "2022-04-26T13:57:34.430Z"
   },
   {
    "duration": 376,
    "start_time": "2022-04-26T13:57:34.471Z"
   },
   {
    "duration": 32,
    "start_time": "2022-04-26T13:57:34.849Z"
   },
   {
    "duration": 15,
    "start_time": "2022-04-26T13:57:34.883Z"
   },
   {
    "duration": 18,
    "start_time": "2022-04-26T13:57:34.900Z"
   },
   {
    "duration": 73,
    "start_time": "2022-04-26T13:57:34.920Z"
   },
   {
    "duration": 39,
    "start_time": "2022-04-26T13:57:34.995Z"
   },
   {
    "duration": 8,
    "start_time": "2022-04-26T13:57:35.056Z"
   },
   {
    "duration": 10,
    "start_time": "2022-04-26T13:57:35.067Z"
   },
   {
    "duration": 25,
    "start_time": "2022-04-26T13:57:35.079Z"
   },
   {
    "duration": 5,
    "start_time": "2022-04-26T13:57:35.106Z"
   },
   {
    "duration": 8,
    "start_time": "2022-04-26T13:57:35.113Z"
   },
   {
    "duration": 11,
    "start_time": "2022-04-26T13:57:35.123Z"
   },
   {
    "duration": 24,
    "start_time": "2022-04-26T13:57:35.136Z"
   },
   {
    "duration": 13,
    "start_time": "2022-04-26T13:57:35.162Z"
   },
   {
    "duration": 7,
    "start_time": "2022-04-26T13:57:35.177Z"
   },
   {
    "duration": 9,
    "start_time": "2022-04-26T13:57:35.186Z"
   },
   {
    "duration": 13,
    "start_time": "2022-04-26T13:57:35.197Z"
   },
   {
    "duration": 6,
    "start_time": "2022-04-26T13:57:35.211Z"
   },
   {
    "duration": 12,
    "start_time": "2022-04-26T13:57:35.218Z"
   },
   {
    "duration": 29,
    "start_time": "2022-04-26T13:57:35.231Z"
   },
   {
    "duration": 162,
    "start_time": "2022-04-26T13:57:35.263Z"
   },
   {
    "duration": 0,
    "start_time": "2022-04-26T13:57:35.427Z"
   },
   {
    "duration": 0,
    "start_time": "2022-04-26T13:57:35.428Z"
   },
   {
    "duration": 1,
    "start_time": "2022-04-26T13:57:35.429Z"
   },
   {
    "duration": 0,
    "start_time": "2022-04-26T13:57:35.431Z"
   },
   {
    "duration": 0,
    "start_time": "2022-04-26T13:57:35.432Z"
   },
   {
    "duration": 0,
    "start_time": "2022-04-26T13:57:35.434Z"
   },
   {
    "duration": 0,
    "start_time": "2022-04-26T13:57:35.435Z"
   },
   {
    "duration": 0,
    "start_time": "2022-04-26T13:57:35.436Z"
   },
   {
    "duration": 0,
    "start_time": "2022-04-26T13:57:35.438Z"
   },
   {
    "duration": 0,
    "start_time": "2022-04-26T13:57:35.439Z"
   },
   {
    "duration": 0,
    "start_time": "2022-04-26T13:57:35.441Z"
   },
   {
    "duration": 0,
    "start_time": "2022-04-26T13:57:35.442Z"
   },
   {
    "duration": 0,
    "start_time": "2022-04-26T13:57:35.444Z"
   },
   {
    "duration": 61,
    "start_time": "2022-04-26T13:58:58.844Z"
   },
   {
    "duration": 5,
    "start_time": "2022-04-26T13:59:02.666Z"
   },
   {
    "duration": 62,
    "start_time": "2022-04-26T13:59:06.256Z"
   },
   {
    "duration": 5,
    "start_time": "2022-04-26T13:59:06.791Z"
   },
   {
    "duration": 79,
    "start_time": "2022-04-26T13:59:10.745Z"
   },
   {
    "duration": 7,
    "start_time": "2022-04-26T13:59:11.280Z"
   },
   {
    "duration": 5,
    "start_time": "2022-04-26T14:09:53.117Z"
   },
   {
    "duration": 313,
    "start_time": "2022-04-26T14:10:28.754Z"
   },
   {
    "duration": 307,
    "start_time": "2022-04-26T14:10:32.763Z"
   },
   {
    "duration": 371,
    "start_time": "2022-04-26T14:11:04.715Z"
   },
   {
    "duration": 430,
    "start_time": "2022-04-26T14:11:05.101Z"
   },
   {
    "duration": 6,
    "start_time": "2022-04-26T14:11:35.978Z"
   },
   {
    "duration": 367,
    "start_time": "2022-04-26T14:11:36.458Z"
   },
   {
    "duration": 398,
    "start_time": "2022-04-26T14:11:39.816Z"
   },
   {
    "duration": 101,
    "start_time": "2022-04-26T14:12:08.587Z"
   },
   {
    "duration": 261,
    "start_time": "2022-04-26T14:12:36.034Z"
   },
   {
    "duration": 264,
    "start_time": "2022-04-26T14:12:37.266Z"
   },
   {
    "duration": 403,
    "start_time": "2022-04-26T14:13:49.056Z"
   },
   {
    "duration": 520,
    "start_time": "2022-04-26T14:13:52.725Z"
   },
   {
    "duration": 375,
    "start_time": "2022-04-26T14:14:16.593Z"
   },
   {
    "duration": 400,
    "start_time": "2022-04-26T14:14:16.970Z"
   },
   {
    "duration": 248,
    "start_time": "2022-04-26T14:14:43.851Z"
   },
   {
    "duration": 258,
    "start_time": "2022-04-26T14:14:44.827Z"
   },
   {
    "duration": 252,
    "start_time": "2022-04-26T14:15:15.386Z"
   },
   {
    "duration": 268,
    "start_time": "2022-04-26T14:15:15.640Z"
   },
   {
    "duration": 5,
    "start_time": "2022-04-26T14:16:29.009Z"
   },
   {
    "duration": 7,
    "start_time": "2022-04-26T14:16:36.508Z"
   },
   {
    "duration": 10,
    "start_time": "2022-04-26T14:16:42.772Z"
   },
   {
    "duration": 1514,
    "start_time": "2022-04-27T09:54:11.018Z"
   },
   {
    "duration": 732,
    "start_time": "2022-04-27T09:54:12.534Z"
   },
   {
    "duration": 9,
    "start_time": "2022-04-27T09:54:13.268Z"
   },
   {
    "duration": 28,
    "start_time": "2022-04-27T09:54:13.279Z"
   },
   {
    "duration": 56,
    "start_time": "2022-04-27T09:54:13.308Z"
   },
   {
    "duration": 409,
    "start_time": "2022-04-27T09:54:13.366Z"
   },
   {
    "duration": 23,
    "start_time": "2022-04-27T09:54:13.777Z"
   },
   {
    "duration": 463,
    "start_time": "2022-04-27T09:54:13.802Z"
   },
   {
    "duration": 41,
    "start_time": "2022-04-27T09:54:14.273Z"
   },
   {
    "duration": 84,
    "start_time": "2022-04-27T09:54:14.317Z"
   },
   {
    "duration": 23,
    "start_time": "2022-04-27T09:54:14.403Z"
   },
   {
    "duration": 90,
    "start_time": "2022-04-27T09:54:14.428Z"
   },
   {
    "duration": 60,
    "start_time": "2022-04-27T09:54:14.520Z"
   },
   {
    "duration": 7,
    "start_time": "2022-04-27T09:54:14.582Z"
   },
   {
    "duration": 11,
    "start_time": "2022-04-27T09:54:14.591Z"
   },
   {
    "duration": 13,
    "start_time": "2022-04-27T09:54:14.604Z"
   },
   {
    "duration": 4,
    "start_time": "2022-04-27T09:54:14.619Z"
   },
   {
    "duration": 9,
    "start_time": "2022-04-27T09:54:14.625Z"
   },
   {
    "duration": 35,
    "start_time": "2022-04-27T09:54:14.635Z"
   },
   {
    "duration": 10,
    "start_time": "2022-04-27T09:54:14.672Z"
   },
   {
    "duration": 14,
    "start_time": "2022-04-27T09:54:14.683Z"
   },
   {
    "duration": 7,
    "start_time": "2022-04-27T09:54:14.698Z"
   },
   {
    "duration": 6,
    "start_time": "2022-04-27T09:54:14.706Z"
   },
   {
    "duration": 10,
    "start_time": "2022-04-27T09:54:14.714Z"
   },
   {
    "duration": 8,
    "start_time": "2022-04-27T09:54:14.725Z"
   },
   {
    "duration": 104,
    "start_time": "2022-04-27T09:54:14.735Z"
   },
   {
    "duration": 6,
    "start_time": "2022-04-27T09:54:14.841Z"
   },
   {
    "duration": 324,
    "start_time": "2022-04-27T09:54:14.851Z"
   },
   {
    "duration": 424,
    "start_time": "2022-04-27T09:54:15.177Z"
   },
   {
    "duration": 426,
    "start_time": "2022-04-27T09:54:15.603Z"
   },
   {
    "duration": 373,
    "start_time": "2022-04-27T09:54:16.031Z"
   },
   {
    "duration": 367,
    "start_time": "2022-04-27T09:54:16.407Z"
   },
   {
    "duration": 412,
    "start_time": "2022-04-27T09:54:16.775Z"
   },
   {
    "duration": 518,
    "start_time": "2022-04-27T09:54:17.189Z"
   },
   {
    "duration": 13,
    "start_time": "2022-04-27T09:54:17.708Z"
   },
   {
    "duration": 526,
    "start_time": "2022-04-27T09:54:17.723Z"
   },
   {
    "duration": 458,
    "start_time": "2022-04-27T09:54:18.255Z"
   },
   {
    "duration": 2663,
    "start_time": "2022-04-27T09:54:18.715Z"
   },
   {
    "duration": 0,
    "start_time": "2022-04-27T09:54:21.382Z"
   },
   {
    "duration": 0,
    "start_time": "2022-04-27T09:54:21.383Z"
   },
   {
    "duration": 1180,
    "start_time": "2022-04-27T12:32:59.612Z"
   },
   {
    "duration": 629,
    "start_time": "2022-04-27T12:33:00.794Z"
   },
   {
    "duration": 4,
    "start_time": "2022-04-27T12:33:01.425Z"
   },
   {
    "duration": 28,
    "start_time": "2022-04-27T12:33:01.432Z"
   },
   {
    "duration": 52,
    "start_time": "2022-04-27T12:33:01.462Z"
   },
   {
    "duration": 272,
    "start_time": "2022-04-27T12:33:01.517Z"
   },
   {
    "duration": 22,
    "start_time": "2022-04-27T12:33:01.790Z"
   },
   {
    "duration": 426,
    "start_time": "2022-04-27T12:33:01.814Z"
   },
   {
    "duration": 31,
    "start_time": "2022-04-27T12:33:02.242Z"
   },
   {
    "duration": 45,
    "start_time": "2022-04-27T12:33:02.275Z"
   },
   {
    "duration": 21,
    "start_time": "2022-04-27T12:33:02.322Z"
   },
   {
    "duration": 68,
    "start_time": "2022-04-27T12:33:02.344Z"
   },
   {
    "duration": 90,
    "start_time": "2022-04-27T12:33:02.414Z"
   },
   {
    "duration": 7,
    "start_time": "2022-04-27T12:33:02.505Z"
   },
   {
    "duration": 11,
    "start_time": "2022-04-27T12:33:02.513Z"
   },
   {
    "duration": 16,
    "start_time": "2022-04-27T12:33:02.526Z"
   },
   {
    "duration": 6,
    "start_time": "2022-04-27T12:33:02.544Z"
   },
   {
    "duration": 14,
    "start_time": "2022-04-27T12:33:02.552Z"
   },
   {
    "duration": 23,
    "start_time": "2022-04-27T12:33:02.568Z"
   },
   {
    "duration": 11,
    "start_time": "2022-04-27T12:33:02.593Z"
   },
   {
    "duration": 19,
    "start_time": "2022-04-27T12:33:02.606Z"
   },
   {
    "duration": 26,
    "start_time": "2022-04-27T12:33:02.627Z"
   },
   {
    "duration": 20,
    "start_time": "2022-04-27T12:33:02.655Z"
   },
   {
    "duration": 35,
    "start_time": "2022-04-27T12:33:02.677Z"
   },
   {
    "duration": 25,
    "start_time": "2022-04-27T12:33:02.714Z"
   },
   {
    "duration": 67,
    "start_time": "2022-04-27T12:33:02.741Z"
   },
   {
    "duration": 4,
    "start_time": "2022-04-27T12:33:02.810Z"
   },
   {
    "duration": 293,
    "start_time": "2022-04-27T12:33:02.818Z"
   },
   {
    "duration": 255,
    "start_time": "2022-04-27T12:33:03.114Z"
   },
   {
    "duration": 267,
    "start_time": "2022-04-27T12:33:03.371Z"
   },
   {
    "duration": 262,
    "start_time": "2022-04-27T12:33:03.640Z"
   },
   {
    "duration": 380,
    "start_time": "2022-04-27T12:33:03.903Z"
   },
   {
    "duration": 369,
    "start_time": "2022-04-27T12:33:04.285Z"
   },
   {
    "duration": 315,
    "start_time": "2022-04-27T12:33:04.656Z"
   },
   {
    "duration": 13,
    "start_time": "2022-04-27T12:33:04.973Z"
   },
   {
    "duration": 379,
    "start_time": "2022-04-27T12:33:04.987Z"
   },
   {
    "duration": 364,
    "start_time": "2022-04-27T12:33:05.368Z"
   },
   {
    "duration": 19,
    "start_time": "2022-04-27T12:33:10.521Z"
   },
   {
    "duration": 2372,
    "start_time": "2022-04-27T12:34:23.762Z"
   },
   {
    "duration": 8,
    "start_time": "2022-04-27T12:38:13.096Z"
   },
   {
    "duration": 2503,
    "start_time": "2022-04-27T12:38:17.361Z"
   },
   {
    "duration": 9,
    "start_time": "2022-04-27T12:39:03.799Z"
   },
   {
    "duration": 2419,
    "start_time": "2022-04-27T12:39:05.596Z"
   },
   {
    "duration": 2245,
    "start_time": "2022-04-27T12:39:23.476Z"
   },
   {
    "duration": 8,
    "start_time": "2022-04-27T12:39:34.611Z"
   },
   {
    "duration": 1470,
    "start_time": "2022-04-27T12:40:11.290Z"
   },
   {
    "duration": 793,
    "start_time": "2022-04-27T12:40:12.763Z"
   },
   {
    "duration": 4,
    "start_time": "2022-04-27T12:40:13.557Z"
   },
   {
    "duration": 48,
    "start_time": "2022-04-27T12:40:13.563Z"
   },
   {
    "duration": 59,
    "start_time": "2022-04-27T12:40:13.612Z"
   },
   {
    "duration": 283,
    "start_time": "2022-04-27T12:40:13.672Z"
   },
   {
    "duration": 19,
    "start_time": "2022-04-27T12:40:13.957Z"
   },
   {
    "duration": 371,
    "start_time": "2022-04-27T12:40:13.978Z"
   },
   {
    "duration": 28,
    "start_time": "2022-04-27T12:40:14.355Z"
   },
   {
    "duration": 43,
    "start_time": "2022-04-27T12:40:14.387Z"
   },
   {
    "duration": 49,
    "start_time": "2022-04-27T12:40:14.432Z"
   },
   {
    "duration": 65,
    "start_time": "2022-04-27T12:40:14.483Z"
   },
   {
    "duration": 33,
    "start_time": "2022-04-27T12:40:14.550Z"
   },
   {
    "duration": 17,
    "start_time": "2022-04-27T12:40:14.585Z"
   },
   {
    "duration": 27,
    "start_time": "2022-04-27T12:40:14.604Z"
   },
   {
    "duration": 29,
    "start_time": "2022-04-27T12:40:14.633Z"
   },
   {
    "duration": 15,
    "start_time": "2022-04-27T12:40:14.663Z"
   },
   {
    "duration": 21,
    "start_time": "2022-04-27T12:40:14.681Z"
   },
   {
    "duration": 39,
    "start_time": "2022-04-27T12:40:14.704Z"
   },
   {
    "duration": 32,
    "start_time": "2022-04-27T12:40:14.745Z"
   },
   {
    "duration": 30,
    "start_time": "2022-04-27T12:40:14.779Z"
   },
   {
    "duration": 38,
    "start_time": "2022-04-27T12:40:14.811Z"
   },
   {
    "duration": 34,
    "start_time": "2022-04-27T12:40:14.851Z"
   },
   {
    "duration": 25,
    "start_time": "2022-04-27T12:40:14.886Z"
   },
   {
    "duration": 46,
    "start_time": "2022-04-27T12:40:14.913Z"
   },
   {
    "duration": 171,
    "start_time": "2022-04-27T12:40:14.961Z"
   },
   {
    "duration": 4,
    "start_time": "2022-04-27T12:40:15.134Z"
   },
   {
    "duration": 395,
    "start_time": "2022-04-27T12:40:15.140Z"
   },
   {
    "duration": 284,
    "start_time": "2022-04-27T12:40:15.537Z"
   },
   {
    "duration": 287,
    "start_time": "2022-04-27T12:40:15.823Z"
   },
   {
    "duration": 420,
    "start_time": "2022-04-27T12:40:16.111Z"
   },
   {
    "duration": 388,
    "start_time": "2022-04-27T12:40:16.533Z"
   },
   {
    "duration": 255,
    "start_time": "2022-04-27T12:40:16.923Z"
   },
   {
    "duration": 261,
    "start_time": "2022-04-27T12:40:17.180Z"
   },
   {
    "duration": 19,
    "start_time": "2022-04-27T12:40:17.443Z"
   },
   {
    "duration": 373,
    "start_time": "2022-04-27T12:40:17.463Z"
   },
   {
    "duration": 369,
    "start_time": "2022-04-27T12:40:17.838Z"
   },
   {
    "duration": 99,
    "start_time": "2022-04-27T12:40:18.210Z"
   },
   {
    "duration": 40,
    "start_time": "2022-04-27T12:40:18.311Z"
   },
   {
    "duration": 47,
    "start_time": "2022-04-27T12:40:18.353Z"
   },
   {
    "duration": 5,
    "start_time": "2022-04-27T12:44:27.407Z"
   },
   {
    "duration": 6,
    "start_time": "2022-04-27T12:44:42.337Z"
   },
   {
    "duration": 6,
    "start_time": "2022-04-27T12:45:25.133Z"
   },
   {
    "duration": 5,
    "start_time": "2022-04-27T12:46:05.543Z"
   },
   {
    "duration": 5,
    "start_time": "2022-04-27T12:46:39.095Z"
   },
   {
    "duration": 18,
    "start_time": "2022-04-27T12:53:43.414Z"
   },
   {
    "duration": 5,
    "start_time": "2022-04-27T13:01:01.925Z"
   },
   {
    "duration": 19,
    "start_time": "2022-04-27T13:05:08.974Z"
   },
   {
    "duration": 18,
    "start_time": "2022-04-27T13:05:26.125Z"
   },
   {
    "duration": 19,
    "start_time": "2022-04-27T13:05:42.829Z"
   },
   {
    "duration": 6,
    "start_time": "2022-04-27T13:06:21.573Z"
   },
   {
    "duration": 6,
    "start_time": "2022-04-27T13:06:25.941Z"
   },
   {
    "duration": 17,
    "start_time": "2022-04-27T13:06:28.758Z"
   },
   {
    "duration": 5,
    "start_time": "2022-04-27T13:09:04.570Z"
   },
   {
    "duration": 3,
    "start_time": "2022-04-27T13:09:08.514Z"
   },
   {
    "duration": 4,
    "start_time": "2022-04-27T13:09:30.307Z"
   },
   {
    "duration": 8,
    "start_time": "2022-04-27T13:09:32.298Z"
   },
   {
    "duration": 5,
    "start_time": "2022-04-27T13:09:41.115Z"
   },
   {
    "duration": 17,
    "start_time": "2022-04-27T13:09:41.870Z"
   },
   {
    "duration": 5,
    "start_time": "2022-04-27T13:10:06.076Z"
   },
   {
    "duration": 17,
    "start_time": "2022-04-27T13:10:06.843Z"
   },
   {
    "duration": 5,
    "start_time": "2022-04-27T13:10:13.246Z"
   },
   {
    "duration": 4,
    "start_time": "2022-04-27T13:10:13.728Z"
   },
   {
    "duration": 7,
    "start_time": "2022-04-27T13:11:24.344Z"
   },
   {
    "duration": 3,
    "start_time": "2022-04-27T13:11:41.039Z"
   },
   {
    "duration": 7,
    "start_time": "2022-04-27T13:12:07.413Z"
   },
   {
    "duration": 3,
    "start_time": "2022-04-27T13:12:18.519Z"
   },
   {
    "duration": 11,
    "start_time": "2022-04-27T13:29:30.529Z"
   },
   {
    "duration": 18,
    "start_time": "2022-04-27T13:29:53.227Z"
   },
   {
    "duration": 14,
    "start_time": "2022-04-27T13:31:09.336Z"
   },
   {
    "duration": 140,
    "start_time": "2022-04-27T13:32:29.745Z"
   },
   {
    "duration": 2554,
    "start_time": "2022-04-27T13:32:42.042Z"
   },
   {
    "duration": 12,
    "start_time": "2022-04-27T13:32:49.215Z"
   },
   {
    "duration": 398,
    "start_time": "2022-04-27T13:32:49.823Z"
   },
   {
    "duration": 353,
    "start_time": "2022-04-27T13:32:53.829Z"
   },
   {
    "duration": 370,
    "start_time": "2022-04-27T13:33:00.521Z"
   },
   {
    "duration": 6,
    "start_time": "2022-04-27T13:34:57.988Z"
   },
   {
    "duration": 6,
    "start_time": "2022-04-27T13:34:58.755Z"
   },
   {
    "duration": 5,
    "start_time": "2022-04-27T13:34:59.519Z"
   },
   {
    "duration": 5,
    "start_time": "2022-04-27T13:35:00.528Z"
   },
   {
    "duration": 15,
    "start_time": "2022-04-27T13:54:43.588Z"
   },
   {
    "duration": 12,
    "start_time": "2022-04-27T13:59:06.211Z"
   },
   {
    "duration": 490,
    "start_time": "2022-04-27T13:59:06.917Z"
   },
   {
    "duration": 15,
    "start_time": "2022-04-27T13:59:38.984Z"
   },
   {
    "duration": 11,
    "start_time": "2022-04-27T14:00:03.666Z"
   },
   {
    "duration": 341,
    "start_time": "2022-04-27T14:00:04.184Z"
   },
   {
    "duration": 12,
    "start_time": "2022-04-27T14:00:28.643Z"
   },
   {
    "duration": 356,
    "start_time": "2022-04-27T14:00:29.153Z"
   },
   {
    "duration": 369,
    "start_time": "2022-04-27T14:00:29.511Z"
   },
   {
    "duration": 335,
    "start_time": "2022-04-27T14:00:29.882Z"
   },
   {
    "duration": 16,
    "start_time": "2022-04-27T14:01:01.367Z"
   },
   {
    "duration": 1104,
    "start_time": "2022-04-27T14:09:10.798Z"
   },
   {
    "duration": 1673,
    "start_time": "2022-04-27T14:09:11.904Z"
   },
   {
    "duration": 6,
    "start_time": "2022-04-27T14:09:13.579Z"
   },
   {
    "duration": 37,
    "start_time": "2022-04-27T14:09:13.587Z"
   },
   {
    "duration": 87,
    "start_time": "2022-04-27T14:09:13.626Z"
   },
   {
    "duration": 429,
    "start_time": "2022-04-27T14:09:13.715Z"
   },
   {
    "duration": 31,
    "start_time": "2022-04-27T14:09:14.154Z"
   },
   {
    "duration": 408,
    "start_time": "2022-04-27T14:09:14.188Z"
   },
   {
    "duration": 30,
    "start_time": "2022-04-27T14:09:14.598Z"
   },
   {
    "duration": 29,
    "start_time": "2022-04-27T14:09:14.631Z"
   },
   {
    "duration": 19,
    "start_time": "2022-04-27T14:09:14.661Z"
   },
   {
    "duration": 74,
    "start_time": "2022-04-27T14:09:14.681Z"
   },
   {
    "duration": 31,
    "start_time": "2022-04-27T14:09:14.756Z"
   },
   {
    "duration": 6,
    "start_time": "2022-04-27T14:09:14.789Z"
   },
   {
    "duration": 8,
    "start_time": "2022-04-27T14:09:14.797Z"
   },
   {
    "duration": 15,
    "start_time": "2022-04-27T14:09:14.807Z"
   },
   {
    "duration": 4,
    "start_time": "2022-04-27T14:09:14.854Z"
   },
   {
    "duration": 6,
    "start_time": "2022-04-27T14:09:14.860Z"
   },
   {
    "duration": 14,
    "start_time": "2022-04-27T14:09:14.868Z"
   },
   {
    "duration": 9,
    "start_time": "2022-04-27T14:09:14.883Z"
   },
   {
    "duration": 10,
    "start_time": "2022-04-27T14:09:14.894Z"
   },
   {
    "duration": 11,
    "start_time": "2022-04-27T14:09:14.905Z"
   },
   {
    "duration": 8,
    "start_time": "2022-04-27T14:09:14.917Z"
   },
   {
    "duration": 27,
    "start_time": "2022-04-27T14:09:14.927Z"
   },
   {
    "duration": 9,
    "start_time": "2022-04-27T14:09:14.956Z"
   },
   {
    "duration": 64,
    "start_time": "2022-04-27T14:09:14.966Z"
   },
   {
    "duration": 6,
    "start_time": "2022-04-27T14:09:15.032Z"
   },
   {
    "duration": 280,
    "start_time": "2022-04-27T14:09:15.056Z"
   },
   {
    "duration": 344,
    "start_time": "2022-04-27T14:09:15.338Z"
   },
   {
    "duration": 381,
    "start_time": "2022-04-27T14:09:15.684Z"
   },
   {
    "duration": 378,
    "start_time": "2022-04-27T14:09:16.067Z"
   },
   {
    "duration": 470,
    "start_time": "2022-04-27T14:09:16.447Z"
   },
   {
    "duration": 268,
    "start_time": "2022-04-27T14:09:16.919Z"
   },
   {
    "duration": 252,
    "start_time": "2022-04-27T14:09:17.189Z"
   },
   {
    "duration": 21,
    "start_time": "2022-04-27T14:09:17.444Z"
   },
   {
    "duration": 325,
    "start_time": "2022-04-27T14:09:17.467Z"
   },
   {
    "duration": 477,
    "start_time": "2022-04-27T14:09:17.793Z"
   },
   {
    "duration": 428,
    "start_time": "2022-04-27T14:09:18.272Z"
   },
   {
    "duration": 5,
    "start_time": "2022-04-27T14:09:18.702Z"
   },
   {
    "duration": 11,
    "start_time": "2022-04-27T14:09:18.709Z"
   },
   {
    "duration": 7,
    "start_time": "2022-04-27T14:09:18.722Z"
   },
   {
    "duration": 7,
    "start_time": "2022-04-27T14:09:18.755Z"
   },
   {
    "duration": 43,
    "start_time": "2022-04-28T09:51:46.323Z"
   },
   {
    "duration": 1410,
    "start_time": "2022-04-28T09:51:52.655Z"
   },
   {
    "duration": 2866,
    "start_time": "2022-04-28T09:51:54.068Z"
   },
   {
    "duration": 4,
    "start_time": "2022-04-28T09:51:56.936Z"
   },
   {
    "duration": 16,
    "start_time": "2022-04-28T09:51:56.942Z"
   },
   {
    "duration": 57,
    "start_time": "2022-04-28T09:51:56.960Z"
   },
   {
    "duration": 276,
    "start_time": "2022-04-28T09:51:57.018Z"
   },
   {
    "duration": 30,
    "start_time": "2022-04-28T09:51:57.296Z"
   },
   {
    "duration": 349,
    "start_time": "2022-04-28T09:51:57.328Z"
   },
   {
    "duration": 22,
    "start_time": "2022-04-28T09:51:57.679Z"
   },
   {
    "duration": 46,
    "start_time": "2022-04-28T09:51:57.705Z"
   },
   {
    "duration": 16,
    "start_time": "2022-04-28T09:51:57.753Z"
   },
   {
    "duration": 18,
    "start_time": "2022-04-28T09:51:57.771Z"
   },
   {
    "duration": 73,
    "start_time": "2022-04-28T09:51:57.791Z"
   },
   {
    "duration": 29,
    "start_time": "2022-04-28T09:51:57.866Z"
   },
   {
    "duration": 5,
    "start_time": "2022-04-28T09:51:57.897Z"
   },
   {
    "duration": 6,
    "start_time": "2022-04-28T09:51:57.904Z"
   },
   {
    "duration": 7,
    "start_time": "2022-04-28T09:51:57.912Z"
   },
   {
    "duration": 4,
    "start_time": "2022-04-28T09:51:57.948Z"
   },
   {
    "duration": 6,
    "start_time": "2022-04-28T09:51:57.954Z"
   },
   {
    "duration": 12,
    "start_time": "2022-04-28T09:51:57.961Z"
   },
   {
    "duration": 7,
    "start_time": "2022-04-28T09:51:57.974Z"
   },
   {
    "duration": 8,
    "start_time": "2022-04-28T09:51:57.983Z"
   },
   {
    "duration": 6,
    "start_time": "2022-04-28T09:51:57.993Z"
   },
   {
    "duration": 8,
    "start_time": "2022-04-28T09:51:58.001Z"
   },
   {
    "duration": 6,
    "start_time": "2022-04-28T09:51:58.011Z"
   },
   {
    "duration": 9,
    "start_time": "2022-04-28T09:51:58.047Z"
   },
   {
    "duration": 56,
    "start_time": "2022-04-28T09:51:58.057Z"
   },
   {
    "duration": 4,
    "start_time": "2022-04-28T09:51:58.116Z"
   },
   {
    "duration": 391,
    "start_time": "2022-04-28T09:51:58.122Z"
   },
   {
    "duration": 368,
    "start_time": "2022-04-28T09:51:58.515Z"
   },
   {
    "duration": 380,
    "start_time": "2022-04-28T09:51:58.884Z"
   },
   {
    "duration": 356,
    "start_time": "2022-04-28T09:51:59.266Z"
   },
   {
    "duration": 377,
    "start_time": "2022-04-28T09:51:59.624Z"
   },
   {
    "duration": 358,
    "start_time": "2022-04-28T09:52:00.004Z"
   },
   {
    "duration": 392,
    "start_time": "2022-04-28T09:52:00.364Z"
   },
   {
    "duration": 13,
    "start_time": "2022-04-28T09:52:00.758Z"
   },
   {
    "duration": 336,
    "start_time": "2022-04-28T09:52:00.773Z"
   },
   {
    "duration": 359,
    "start_time": "2022-04-28T09:52:01.111Z"
   },
   {
    "duration": 413,
    "start_time": "2022-04-28T09:52:01.471Z"
   },
   {
    "duration": 5,
    "start_time": "2022-04-28T09:52:01.885Z"
   },
   {
    "duration": 9,
    "start_time": "2022-04-28T09:52:01.892Z"
   },
   {
    "duration": 7,
    "start_time": "2022-04-28T09:52:01.903Z"
   },
   {
    "duration": 7,
    "start_time": "2022-04-28T09:52:01.911Z"
   },
   {
    "duration": 15,
    "start_time": "2022-04-28T10:01:38.677Z"
   },
   {
    "duration": 18,
    "start_time": "2022-04-28T10:03:33.182Z"
   },
   {
    "duration": 15,
    "start_time": "2022-04-28T10:12:35.878Z"
   },
   {
    "duration": 16,
    "start_time": "2022-04-28T10:13:30.272Z"
   },
   {
    "duration": 7,
    "start_time": "2022-04-28T10:14:05.984Z"
   },
   {
    "duration": 16,
    "start_time": "2022-04-28T10:15:11.961Z"
   },
   {
    "duration": 113,
    "start_time": "2022-04-28T10:21:30.711Z"
   },
   {
    "duration": 88,
    "start_time": "2022-04-28T10:21:41.666Z"
   },
   {
    "duration": 16,
    "start_time": "2022-04-28T10:21:47.462Z"
   },
   {
    "duration": 18,
    "start_time": "2022-04-28T10:22:46.585Z"
   },
   {
    "duration": 1712,
    "start_time": "2022-04-28T10:24:27.898Z"
   },
   {
    "duration": 18,
    "start_time": "2022-04-28T10:24:43.742Z"
   },
   {
    "duration": 1754,
    "start_time": "2022-04-28T10:24:52.927Z"
   },
   {
    "duration": 221,
    "start_time": "2022-04-28T10:24:56.103Z"
   },
   {
    "duration": 234,
    "start_time": "2022-04-28T10:25:52.519Z"
   },
   {
    "duration": 228,
    "start_time": "2022-04-28T10:26:09.360Z"
   },
   {
    "duration": 5,
    "start_time": "2022-04-28T11:07:02.195Z"
   },
   {
    "duration": 5,
    "start_time": "2022-04-28T11:07:04.473Z"
   },
   {
    "duration": 6,
    "start_time": "2022-04-28T11:07:09.296Z"
   },
   {
    "duration": 5,
    "start_time": "2022-04-28T11:07:11.397Z"
   },
   {
    "duration": 5,
    "start_time": "2022-04-28T11:07:17.881Z"
   },
   {
    "duration": 16,
    "start_time": "2022-04-28T11:08:21.218Z"
   },
   {
    "duration": 2027,
    "start_time": "2022-04-28T11:08:30.909Z"
   },
   {
    "duration": 17,
    "start_time": "2022-04-28T11:08:46.740Z"
   },
   {
    "duration": 2025,
    "start_time": "2022-04-28T11:09:00.329Z"
   },
   {
    "duration": 5,
    "start_time": "2022-04-28T11:09:13.132Z"
   },
   {
    "duration": 5,
    "start_time": "2022-04-28T11:09:16.793Z"
   },
   {
    "duration": 1292,
    "start_time": "2022-04-28T12:01:08.061Z"
   },
   {
    "duration": 9979,
    "start_time": "2022-04-28T12:01:09.355Z"
   },
   {
    "duration": 4,
    "start_time": "2022-04-28T12:01:19.336Z"
   },
   {
    "duration": 17,
    "start_time": "2022-04-28T12:01:19.342Z"
   },
   {
    "duration": 46,
    "start_time": "2022-04-28T12:01:19.361Z"
   },
   {
    "duration": 258,
    "start_time": "2022-04-28T12:01:19.408Z"
   },
   {
    "duration": 36,
    "start_time": "2022-04-28T12:01:19.667Z"
   },
   {
    "duration": 352,
    "start_time": "2022-04-28T12:01:19.705Z"
   },
   {
    "duration": 31,
    "start_time": "2022-04-28T12:01:20.059Z"
   },
   {
    "duration": 15,
    "start_time": "2022-04-28T12:01:20.101Z"
   },
   {
    "duration": 24,
    "start_time": "2022-04-28T12:01:20.117Z"
   },
   {
    "duration": 108,
    "start_time": "2022-04-28T12:01:20.143Z"
   },
   {
    "duration": 53,
    "start_time": "2022-04-28T12:01:20.253Z"
   },
   {
    "duration": 6,
    "start_time": "2022-04-28T12:01:20.308Z"
   },
   {
    "duration": 8,
    "start_time": "2022-04-28T12:01:20.316Z"
   },
   {
    "duration": 11,
    "start_time": "2022-04-28T12:01:20.325Z"
   },
   {
    "duration": 3,
    "start_time": "2022-04-28T12:01:20.338Z"
   },
   {
    "duration": 7,
    "start_time": "2022-04-28T12:01:20.342Z"
   },
   {
    "duration": 9,
    "start_time": "2022-04-28T12:01:20.350Z"
   },
   {
    "duration": 7,
    "start_time": "2022-04-28T12:01:20.360Z"
   },
   {
    "duration": 32,
    "start_time": "2022-04-28T12:01:20.368Z"
   },
   {
    "duration": 6,
    "start_time": "2022-04-28T12:01:20.401Z"
   },
   {
    "duration": 4,
    "start_time": "2022-04-28T12:01:20.409Z"
   },
   {
    "duration": 7,
    "start_time": "2022-04-28T12:01:20.414Z"
   },
   {
    "duration": 8,
    "start_time": "2022-04-28T12:01:20.422Z"
   },
   {
    "duration": 72,
    "start_time": "2022-04-28T12:01:20.432Z"
   },
   {
    "duration": 24,
    "start_time": "2022-04-28T12:01:20.506Z"
   },
   {
    "duration": 132,
    "start_time": "2022-04-28T12:04:50.854Z"
   },
   {
    "duration": 9,
    "start_time": "2022-04-28T12:04:51.573Z"
   },
   {
    "duration": 4,
    "start_time": "2022-04-28T12:04:56.309Z"
   },
   {
    "duration": 442,
    "start_time": "2022-04-28T12:04:56.739Z"
   },
   {
    "duration": 397,
    "start_time": "2022-04-28T12:04:57.184Z"
   },
   {
    "duration": 405,
    "start_time": "2022-04-28T12:04:57.584Z"
   },
   {
    "duration": 251,
    "start_time": "2022-04-28T12:04:57.991Z"
   },
   {
    "duration": 248,
    "start_time": "2022-04-28T12:04:58.244Z"
   },
   {
    "duration": 238,
    "start_time": "2022-04-28T12:04:58.494Z"
   },
   {
    "duration": 237,
    "start_time": "2022-04-28T12:04:58.940Z"
   },
   {
    "duration": 17,
    "start_time": "2022-04-28T12:05:08.794Z"
   },
   {
    "duration": 12,
    "start_time": "2022-04-28T12:05:19.129Z"
   },
   {
    "duration": 238,
    "start_time": "2022-04-28T12:07:31.275Z"
   },
   {
    "duration": 186,
    "start_time": "2022-04-28T12:07:44.788Z"
   },
   {
    "duration": 214,
    "start_time": "2022-04-28T12:07:52.591Z"
   },
   {
    "duration": 187,
    "start_time": "2022-04-28T12:07:58.764Z"
   },
   {
    "duration": 383,
    "start_time": "2022-04-28T12:09:53.307Z"
   },
   {
    "duration": 18,
    "start_time": "2022-04-28T12:13:07.085Z"
   },
   {
    "duration": 20,
    "start_time": "2022-04-28T12:13:14.716Z"
   },
   {
    "duration": 8,
    "start_time": "2022-04-28T12:18:25.086Z"
   },
   {
    "duration": 16,
    "start_time": "2022-04-28T12:18:27.172Z"
   },
   {
    "duration": 3481,
    "start_time": "2022-04-28T12:18:33.181Z"
   },
   {
    "duration": 0,
    "start_time": "2022-04-28T12:18:36.664Z"
   },
   {
    "duration": 0,
    "start_time": "2022-04-28T12:18:36.666Z"
   },
   {
    "duration": 12,
    "start_time": "2022-04-28T12:18:56.421Z"
   },
   {
    "duration": 17,
    "start_time": "2022-04-28T12:18:57.073Z"
   },
   {
    "duration": 3168,
    "start_time": "2022-04-28T12:18:57.570Z"
   },
   {
    "duration": 0,
    "start_time": "2022-04-28T12:19:00.741Z"
   },
   {
    "duration": 10,
    "start_time": "2022-04-28T12:19:16.060Z"
   },
   {
    "duration": 11,
    "start_time": "2022-04-28T12:19:16.637Z"
   },
   {
    "duration": 10,
    "start_time": "2022-04-28T12:19:27.646Z"
   },
   {
    "duration": 20,
    "start_time": "2022-04-28T12:19:29.399Z"
   },
   {
    "duration": 4274,
    "start_time": "2022-04-28T12:19:39.893Z"
   },
   {
    "duration": 1508,
    "start_time": "2022-04-28T12:20:13.942Z"
   },
   {
    "duration": 949,
    "start_time": "2022-04-28T12:20:15.453Z"
   },
   {
    "duration": 4,
    "start_time": "2022-04-28T12:20:16.404Z"
   },
   {
    "duration": 22,
    "start_time": "2022-04-28T12:20:16.410Z"
   },
   {
    "duration": 81,
    "start_time": "2022-04-28T12:20:16.434Z"
   },
   {
    "duration": 374,
    "start_time": "2022-04-28T12:20:16.517Z"
   },
   {
    "duration": 32,
    "start_time": "2022-04-28T12:20:16.893Z"
   },
   {
    "duration": 346,
    "start_time": "2022-04-28T12:20:16.927Z"
   },
   {
    "duration": 38,
    "start_time": "2022-04-28T12:20:17.275Z"
   },
   {
    "duration": 16,
    "start_time": "2022-04-28T12:20:17.316Z"
   },
   {
    "duration": 21,
    "start_time": "2022-04-28T12:20:17.333Z"
   },
   {
    "duration": 69,
    "start_time": "2022-04-28T12:20:17.356Z"
   },
   {
    "duration": 32,
    "start_time": "2022-04-28T12:20:17.427Z"
   },
   {
    "duration": 7,
    "start_time": "2022-04-28T12:20:17.461Z"
   },
   {
    "duration": 11,
    "start_time": "2022-04-28T12:20:17.470Z"
   },
   {
    "duration": 15,
    "start_time": "2022-04-28T12:20:17.500Z"
   },
   {
    "duration": 5,
    "start_time": "2022-04-28T12:20:17.516Z"
   },
   {
    "duration": 9,
    "start_time": "2022-04-28T12:20:17.523Z"
   },
   {
    "duration": 10,
    "start_time": "2022-04-28T12:20:17.534Z"
   },
   {
    "duration": 15,
    "start_time": "2022-04-28T12:20:17.547Z"
   },
   {
    "duration": 14,
    "start_time": "2022-04-28T12:20:17.564Z"
   },
   {
    "duration": 7,
    "start_time": "2022-04-28T12:20:17.580Z"
   },
   {
    "duration": 4,
    "start_time": "2022-04-28T12:20:17.600Z"
   },
   {
    "duration": 8,
    "start_time": "2022-04-28T12:20:17.605Z"
   },
   {
    "duration": 7,
    "start_time": "2022-04-28T12:20:20.490Z"
   },
   {
    "duration": 90,
    "start_time": "2022-04-28T12:20:22.702Z"
   },
   {
    "duration": 3609,
    "start_time": "2022-04-28T12:20:26.819Z"
   },
   {
    "duration": 9,
    "start_time": "2022-04-28T12:20:55.088Z"
   },
   {
    "duration": 74,
    "start_time": "2022-04-28T12:20:58.169Z"
   },
   {
    "duration": 20,
    "start_time": "2022-04-28T12:21:01.129Z"
   },
   {
    "duration": 4,
    "start_time": "2022-04-28T12:21:03.914Z"
   },
   {
    "duration": 356,
    "start_time": "2022-04-28T12:21:05.994Z"
   },
   {
    "duration": 380,
    "start_time": "2022-04-28T12:21:08.763Z"
   },
   {
    "duration": 239,
    "start_time": "2022-04-28T12:21:09.603Z"
   },
   {
    "duration": 257,
    "start_time": "2022-04-28T12:21:10.260Z"
   },
   {
    "duration": 9,
    "start_time": "2022-04-28T12:48:45.728Z"
   },
   {
    "duration": 13,
    "start_time": "2022-04-28T12:49:23.651Z"
   },
   {
    "duration": 12,
    "start_time": "2022-04-28T12:50:09.138Z"
   },
   {
    "duration": 6,
    "start_time": "2022-04-28T12:51:21.474Z"
   },
   {
    "duration": 10,
    "start_time": "2022-04-28T12:51:36.428Z"
   },
   {
    "duration": 16,
    "start_time": "2022-04-28T12:52:53.481Z"
   },
   {
    "duration": 13,
    "start_time": "2022-04-28T12:53:43.205Z"
   },
   {
    "duration": 11,
    "start_time": "2022-04-28T12:57:57.034Z"
   },
   {
    "duration": 5,
    "start_time": "2022-04-28T12:58:07.350Z"
   },
   {
    "duration": 7,
    "start_time": "2022-04-28T12:58:09.354Z"
   },
   {
    "duration": 5,
    "start_time": "2022-04-28T12:58:10.266Z"
   },
   {
    "duration": 5,
    "start_time": "2022-04-28T12:58:11.183Z"
   },
   {
    "duration": 1148,
    "start_time": "2022-04-28T12:58:20.077Z"
   },
   {
    "duration": 672,
    "start_time": "2022-04-28T12:58:21.228Z"
   },
   {
    "duration": 4,
    "start_time": "2022-04-28T12:58:21.902Z"
   },
   {
    "duration": 21,
    "start_time": "2022-04-28T12:58:21.908Z"
   },
   {
    "duration": 56,
    "start_time": "2022-04-28T12:58:21.931Z"
   },
   {
    "duration": 271,
    "start_time": "2022-04-28T12:58:21.989Z"
   },
   {
    "duration": 22,
    "start_time": "2022-04-28T12:58:22.262Z"
   },
   {
    "duration": 426,
    "start_time": "2022-04-28T12:58:22.300Z"
   },
   {
    "duration": 31,
    "start_time": "2022-04-28T12:58:22.728Z"
   },
   {
    "duration": 16,
    "start_time": "2022-04-28T12:58:22.763Z"
   },
   {
    "duration": 40,
    "start_time": "2022-04-28T12:58:22.780Z"
   },
   {
    "duration": 63,
    "start_time": "2022-04-28T12:58:22.823Z"
   },
   {
    "duration": 56,
    "start_time": "2022-04-28T12:58:22.887Z"
   },
   {
    "duration": 5,
    "start_time": "2022-04-28T12:58:22.945Z"
   },
   {
    "duration": 8,
    "start_time": "2022-04-28T12:58:22.951Z"
   },
   {
    "duration": 11,
    "start_time": "2022-04-28T12:58:22.960Z"
   },
   {
    "duration": 3,
    "start_time": "2022-04-28T12:58:22.973Z"
   },
   {
    "duration": 25,
    "start_time": "2022-04-28T12:58:22.977Z"
   },
   {
    "duration": 11,
    "start_time": "2022-04-28T12:58:23.004Z"
   },
   {
    "duration": 9,
    "start_time": "2022-04-28T12:58:23.017Z"
   },
   {
    "duration": 14,
    "start_time": "2022-04-28T12:58:23.028Z"
   },
   {
    "duration": 9,
    "start_time": "2022-04-28T12:58:23.044Z"
   },
   {
    "duration": 5,
    "start_time": "2022-04-28T12:58:23.055Z"
   },
   {
    "duration": 14,
    "start_time": "2022-04-28T12:58:23.061Z"
   },
   {
    "duration": 38,
    "start_time": "2022-04-28T12:58:23.077Z"
   },
   {
    "duration": 10,
    "start_time": "2022-04-28T12:58:23.116Z"
   },
   {
    "duration": 9,
    "start_time": "2022-04-28T12:58:23.128Z"
   },
   {
    "duration": 11,
    "start_time": "2022-04-28T12:58:23.141Z"
   },
   {
    "duration": 142,
    "start_time": "2022-04-28T12:58:23.153Z"
   },
   {
    "duration": 0,
    "start_time": "2022-04-28T12:58:23.296Z"
   },
   {
    "duration": 0,
    "start_time": "2022-04-28T12:58:23.300Z"
   },
   {
    "duration": 0,
    "start_time": "2022-04-28T12:58:23.301Z"
   },
   {
    "duration": 0,
    "start_time": "2022-04-28T12:58:23.302Z"
   },
   {
    "duration": 0,
    "start_time": "2022-04-28T12:58:23.303Z"
   },
   {
    "duration": 0,
    "start_time": "2022-04-28T12:58:23.305Z"
   },
   {
    "duration": 0,
    "start_time": "2022-04-28T12:58:23.306Z"
   },
   {
    "duration": 0,
    "start_time": "2022-04-28T12:58:23.307Z"
   },
   {
    "duration": 0,
    "start_time": "2022-04-28T12:58:23.308Z"
   },
   {
    "duration": 0,
    "start_time": "2022-04-28T12:58:23.309Z"
   },
   {
    "duration": 0,
    "start_time": "2022-04-28T12:58:23.310Z"
   },
   {
    "duration": 0,
    "start_time": "2022-04-28T12:58:23.311Z"
   },
   {
    "duration": 0,
    "start_time": "2022-04-28T12:58:23.312Z"
   },
   {
    "duration": 0,
    "start_time": "2022-04-28T12:58:23.313Z"
   },
   {
    "duration": 0,
    "start_time": "2022-04-28T12:58:23.314Z"
   },
   {
    "duration": 0,
    "start_time": "2022-04-28T12:58:23.315Z"
   },
   {
    "duration": 0,
    "start_time": "2022-04-28T12:58:23.316Z"
   },
   {
    "duration": 0,
    "start_time": "2022-04-28T12:58:23.317Z"
   },
   {
    "duration": 95,
    "start_time": "2022-04-28T12:58:35.577Z"
   },
   {
    "duration": 7,
    "start_time": "2022-04-28T12:58:35.675Z"
   },
   {
    "duration": 305,
    "start_time": "2022-04-28T12:58:35.683Z"
   },
   {
    "duration": 237,
    "start_time": "2022-04-28T12:58:35.990Z"
   },
   {
    "duration": 246,
    "start_time": "2022-04-28T12:58:36.229Z"
   },
   {
    "duration": 424,
    "start_time": "2022-04-28T12:58:36.477Z"
   },
   {
    "duration": 393,
    "start_time": "2022-04-28T12:58:36.903Z"
   },
   {
    "duration": 374,
    "start_time": "2022-04-28T12:58:37.301Z"
   },
   {
    "duration": 409,
    "start_time": "2022-04-28T12:58:37.677Z"
   },
   {
    "duration": 394,
    "start_time": "2022-04-28T12:58:38.090Z"
   },
   {
    "duration": 18,
    "start_time": "2022-04-28T12:58:38.487Z"
   },
   {
    "duration": 361,
    "start_time": "2022-04-28T12:58:38.506Z"
   },
   {
    "duration": 434,
    "start_time": "2022-04-28T12:58:38.869Z"
   },
   {
    "duration": 342,
    "start_time": "2022-04-28T12:58:39.305Z"
   },
   {
    "duration": 5,
    "start_time": "2022-04-28T12:58:39.649Z"
   },
   {
    "duration": 21,
    "start_time": "2022-04-28T12:58:39.656Z"
   },
   {
    "duration": 20,
    "start_time": "2022-04-28T12:58:39.679Z"
   },
   {
    "duration": 28,
    "start_time": "2022-04-28T12:58:39.701Z"
   },
   {
    "duration": 13,
    "start_time": "2022-04-28T12:59:06.456Z"
   },
   {
    "duration": 16,
    "start_time": "2022-04-28T12:59:47.961Z"
   },
   {
    "duration": 15,
    "start_time": "2022-04-28T13:01:12.432Z"
   },
   {
    "duration": 19,
    "start_time": "2022-04-28T13:01:22.674Z"
   },
   {
    "duration": 17,
    "start_time": "2022-04-28T13:01:42.921Z"
   },
   {
    "duration": 18,
    "start_time": "2022-04-28T13:01:43.060Z"
   },
   {
    "duration": 10,
    "start_time": "2022-04-28T13:02:35.788Z"
   },
   {
    "duration": 15,
    "start_time": "2022-04-28T13:02:36.516Z"
   },
   {
    "duration": 335,
    "start_time": "2022-04-28T13:02:38.220Z"
   },
   {
    "duration": 363,
    "start_time": "2022-04-28T13:02:40.276Z"
   },
   {
    "duration": 322,
    "start_time": "2022-04-28T13:02:48.220Z"
   },
   {
    "duration": 9,
    "start_time": "2022-04-28T13:07:28.579Z"
   },
   {
    "duration": 58,
    "start_time": "2022-04-28T13:07:30.830Z"
   },
   {
    "duration": 14,
    "start_time": "2022-04-28T13:07:31.742Z"
   },
   {
    "duration": 15,
    "start_time": "2022-04-28T13:07:35.012Z"
   },
   {
    "duration": 4,
    "start_time": "2022-04-28T13:08:45.372Z"
   },
   {
    "duration": 236,
    "start_time": "2022-04-28T13:08:47.864Z"
   },
   {
    "duration": 268,
    "start_time": "2022-04-28T13:08:48.351Z"
   },
   {
    "duration": 236,
    "start_time": "2022-04-28T13:08:48.942Z"
   },
   {
    "duration": 231,
    "start_time": "2022-04-28T13:08:49.687Z"
   },
   {
    "duration": 232,
    "start_time": "2022-04-28T13:08:50.338Z"
   },
   {
    "duration": 18,
    "start_time": "2022-04-28T13:09:14.348Z"
   },
   {
    "duration": 5,
    "start_time": "2022-04-28T13:09:28.084Z"
   },
   {
    "duration": 5,
    "start_time": "2022-04-28T13:09:38.330Z"
   },
   {
    "duration": 68,
    "start_time": "2022-04-30T12:56:35.074Z"
   },
   {
    "duration": 66,
    "start_time": "2022-04-30T12:56:50.720Z"
   },
   {
    "duration": 115,
    "start_time": "2022-04-30T12:56:56.190Z"
   },
   {
    "duration": 85,
    "start_time": "2022-04-30T12:57:07.890Z"
   },
   {
    "duration": 82,
    "start_time": "2022-04-30T12:57:25.724Z"
   },
   {
    "duration": 69,
    "start_time": "2022-04-30T12:57:47.417Z"
   },
   {
    "duration": 68,
    "start_time": "2022-04-30T12:58:11.834Z"
   },
   {
    "duration": 75,
    "start_time": "2022-04-30T12:58:26.640Z"
   },
   {
    "duration": 82,
    "start_time": "2022-04-30T12:59:07.961Z"
   },
   {
    "duration": 65,
    "start_time": "2022-04-30T12:59:16.251Z"
   },
   {
    "duration": 50,
    "start_time": "2022-04-30T12:59:22.689Z"
   },
   {
    "duration": 3,
    "start_time": "2022-04-30T12:59:27.250Z"
   },
   {
    "duration": 69,
    "start_time": "2022-04-30T13:01:25.974Z"
   },
   {
    "duration": 73,
    "start_time": "2022-04-30T13:01:30.819Z"
   },
   {
    "duration": 68,
    "start_time": "2022-04-30T13:01:34.299Z"
   },
   {
    "duration": 64,
    "start_time": "2022-04-30T13:01:37.525Z"
   },
   {
    "duration": 73,
    "start_time": "2022-04-30T13:02:34.247Z"
   },
   {
    "duration": 70,
    "start_time": "2022-04-30T13:02:42.772Z"
   },
   {
    "duration": 1228,
    "start_time": "2022-04-30T13:02:57.051Z"
   },
   {
    "duration": 1029,
    "start_time": "2022-04-30T13:02:58.281Z"
   },
   {
    "duration": 4,
    "start_time": "2022-04-30T13:02:59.312Z"
   },
   {
    "duration": 19,
    "start_time": "2022-04-30T13:02:59.318Z"
   },
   {
    "duration": 51,
    "start_time": "2022-04-30T13:02:59.339Z"
   },
   {
    "duration": 285,
    "start_time": "2022-04-30T13:02:59.392Z"
   },
   {
    "duration": 31,
    "start_time": "2022-04-30T13:02:59.678Z"
   },
   {
    "duration": 378,
    "start_time": "2022-04-30T13:02:59.710Z"
   },
   {
    "duration": 39,
    "start_time": "2022-04-30T13:03:00.090Z"
   },
   {
    "duration": 17,
    "start_time": "2022-04-30T13:03:00.132Z"
   },
   {
    "duration": 19,
    "start_time": "2022-04-30T13:03:00.151Z"
   },
   {
    "duration": 77,
    "start_time": "2022-04-30T13:03:00.172Z"
   },
   {
    "duration": 30,
    "start_time": "2022-04-30T13:03:00.251Z"
   },
   {
    "duration": 25,
    "start_time": "2022-04-30T13:03:00.283Z"
   },
   {
    "duration": 7,
    "start_time": "2022-04-30T13:03:00.310Z"
   },
   {
    "duration": 10,
    "start_time": "2022-04-30T13:03:00.319Z"
   },
   {
    "duration": 4,
    "start_time": "2022-04-30T13:03:00.331Z"
   },
   {
    "duration": 5,
    "start_time": "2022-04-30T13:03:00.337Z"
   },
   {
    "duration": 8,
    "start_time": "2022-04-30T13:03:00.344Z"
   },
   {
    "duration": 12,
    "start_time": "2022-04-30T13:03:00.354Z"
   },
   {
    "duration": 10,
    "start_time": "2022-04-30T13:03:00.368Z"
   },
   {
    "duration": 32,
    "start_time": "2022-04-30T13:03:00.379Z"
   },
   {
    "duration": 3,
    "start_time": "2022-04-30T13:03:00.413Z"
   },
   {
    "duration": 7,
    "start_time": "2022-04-30T13:03:00.418Z"
   },
   {
    "duration": 9,
    "start_time": "2022-04-30T13:03:00.427Z"
   },
   {
    "duration": 15,
    "start_time": "2022-04-30T13:03:00.438Z"
   },
   {
    "duration": 81,
    "start_time": "2022-04-30T13:03:00.454Z"
   },
   {
    "duration": 4,
    "start_time": "2022-04-30T13:03:00.540Z"
   },
   {
    "duration": 296,
    "start_time": "2022-04-30T13:03:00.546Z"
   },
   {
    "duration": 271,
    "start_time": "2022-04-30T13:03:00.844Z"
   },
   {
    "duration": 282,
    "start_time": "2022-04-30T13:03:01.117Z"
   },
   {
    "duration": 270,
    "start_time": "2022-04-30T13:03:01.401Z"
   },
   {
    "duration": 273,
    "start_time": "2022-04-30T13:03:01.673Z"
   },
   {
    "duration": 272,
    "start_time": "2022-04-30T13:03:01.948Z"
   },
   {
    "duration": 289,
    "start_time": "2022-04-30T13:03:02.222Z"
   },
   {
    "duration": 281,
    "start_time": "2022-04-30T13:03:02.513Z"
   },
   {
    "duration": 20,
    "start_time": "2022-04-30T13:03:02.796Z"
   },
   {
    "duration": 452,
    "start_time": "2022-04-30T13:03:02.818Z"
   },
   {
    "duration": 453,
    "start_time": "2022-04-30T13:03:03.271Z"
   },
   {
    "duration": 353,
    "start_time": "2022-04-30T13:03:03.725Z"
   },
   {
    "duration": 5,
    "start_time": "2022-04-30T13:03:04.080Z"
   },
   {
    "duration": 22,
    "start_time": "2022-04-30T13:03:04.087Z"
   },
   {
    "duration": 7,
    "start_time": "2022-04-30T13:03:04.111Z"
   },
   {
    "duration": 7,
    "start_time": "2022-04-30T13:03:04.120Z"
   },
   {
    "duration": 67,
    "start_time": "2022-04-30T13:03:28.507Z"
   },
   {
    "duration": 76,
    "start_time": "2022-04-30T13:05:07.381Z"
   },
   {
    "duration": 64,
    "start_time": "2022-04-30T13:05:10.892Z"
   },
   {
    "duration": 65,
    "start_time": "2022-04-30T13:05:20.220Z"
   },
   {
    "duration": 1104,
    "start_time": "2022-04-30T13:12:18.761Z"
   },
   {
    "duration": 686,
    "start_time": "2022-04-30T13:12:19.867Z"
   },
   {
    "duration": 3,
    "start_time": "2022-04-30T13:12:20.555Z"
   },
   {
    "duration": 18,
    "start_time": "2022-04-30T13:12:20.560Z"
   },
   {
    "duration": 57,
    "start_time": "2022-04-30T13:12:20.580Z"
   },
   {
    "duration": 293,
    "start_time": "2022-04-30T13:12:20.639Z"
   },
   {
    "duration": 22,
    "start_time": "2022-04-30T13:12:20.934Z"
   },
   {
    "duration": 398,
    "start_time": "2022-04-30T13:12:20.958Z"
   },
   {
    "duration": 31,
    "start_time": "2022-04-30T13:12:21.358Z"
   },
   {
    "duration": 29,
    "start_time": "2022-04-30T13:12:21.392Z"
   },
   {
    "duration": 18,
    "start_time": "2022-04-30T13:12:21.423Z"
   },
   {
    "duration": 72,
    "start_time": "2022-04-30T13:12:21.443Z"
   },
   {
    "duration": 30,
    "start_time": "2022-04-30T13:12:21.517Z"
   },
   {
    "duration": 6,
    "start_time": "2022-04-30T13:12:21.548Z"
   },
   {
    "duration": 8,
    "start_time": "2022-04-30T13:12:21.555Z"
   },
   {
    "duration": 9,
    "start_time": "2022-04-30T13:12:21.565Z"
   },
   {
    "duration": 4,
    "start_time": "2022-04-30T13:12:21.576Z"
   },
   {
    "duration": 3,
    "start_time": "2022-04-30T13:12:21.608Z"
   },
   {
    "duration": 8,
    "start_time": "2022-04-30T13:12:21.613Z"
   },
   {
    "duration": 6,
    "start_time": "2022-04-30T13:12:21.622Z"
   },
   {
    "duration": 10,
    "start_time": "2022-04-30T13:12:21.630Z"
   },
   {
    "duration": 6,
    "start_time": "2022-04-30T13:12:21.642Z"
   },
   {
    "duration": 7,
    "start_time": "2022-04-30T13:12:21.649Z"
   },
   {
    "duration": 7,
    "start_time": "2022-04-30T13:12:21.658Z"
   },
   {
    "duration": 41,
    "start_time": "2022-04-30T13:12:21.666Z"
   },
   {
    "duration": 9,
    "start_time": "2022-04-30T13:12:21.709Z"
   },
   {
    "duration": 64,
    "start_time": "2022-04-30T13:12:21.720Z"
   },
   {
    "duration": 5,
    "start_time": "2022-04-30T13:12:21.787Z"
   },
   {
    "duration": 295,
    "start_time": "2022-04-30T13:12:21.807Z"
   },
   {
    "duration": 276,
    "start_time": "2022-04-30T13:12:22.104Z"
   },
   {
    "duration": 295,
    "start_time": "2022-04-30T13:12:22.381Z"
   },
   {
    "duration": 286,
    "start_time": "2022-04-30T13:12:22.678Z"
   },
   {
    "duration": 291,
    "start_time": "2022-04-30T13:12:22.967Z"
   },
   {
    "duration": 287,
    "start_time": "2022-04-30T13:12:23.260Z"
   },
   {
    "duration": 325,
    "start_time": "2022-04-30T13:12:23.550Z"
   },
   {
    "duration": 276,
    "start_time": "2022-04-30T13:12:23.877Z"
   },
   {
    "duration": 12,
    "start_time": "2022-04-30T13:12:24.155Z"
   },
   {
    "duration": 422,
    "start_time": "2022-04-30T13:12:24.169Z"
   },
   {
    "duration": 485,
    "start_time": "2022-04-30T13:12:24.593Z"
   },
   {
    "duration": 386,
    "start_time": "2022-04-30T13:12:25.080Z"
   },
   {
    "duration": 6,
    "start_time": "2022-04-30T13:12:25.467Z"
   },
   {
    "duration": 19,
    "start_time": "2022-04-30T13:12:25.476Z"
   },
   {
    "duration": 13,
    "start_time": "2022-04-30T13:12:25.496Z"
   },
   {
    "duration": 5,
    "start_time": "2022-04-30T13:12:25.511Z"
   },
   {
    "duration": 1098,
    "start_time": "2022-04-30T13:14:42.273Z"
   },
   {
    "duration": 678,
    "start_time": "2022-04-30T13:14:43.373Z"
   },
   {
    "duration": 4,
    "start_time": "2022-04-30T13:14:44.053Z"
   },
   {
    "duration": 18,
    "start_time": "2022-04-30T13:14:44.059Z"
   },
   {
    "duration": 63,
    "start_time": "2022-04-30T13:14:44.079Z"
   },
   {
    "duration": 268,
    "start_time": "2022-04-30T13:14:44.144Z"
   },
   {
    "duration": 22,
    "start_time": "2022-04-30T13:14:44.414Z"
   },
   {
    "duration": 390,
    "start_time": "2022-04-30T13:14:44.438Z"
   },
   {
    "duration": 31,
    "start_time": "2022-04-30T13:14:44.830Z"
   },
   {
    "duration": 15,
    "start_time": "2022-04-30T13:14:44.864Z"
   },
   {
    "duration": 35,
    "start_time": "2022-04-30T13:14:44.881Z"
   },
   {
    "duration": 53,
    "start_time": "2022-04-30T13:14:44.918Z"
   },
   {
    "duration": 44,
    "start_time": "2022-04-30T13:14:44.973Z"
   },
   {
    "duration": 6,
    "start_time": "2022-04-30T13:14:45.019Z"
   },
   {
    "duration": 10,
    "start_time": "2022-04-30T13:14:45.026Z"
   },
   {
    "duration": 10,
    "start_time": "2022-04-30T13:14:45.038Z"
   },
   {
    "duration": 5,
    "start_time": "2022-04-30T13:14:45.050Z"
   },
   {
    "duration": 9,
    "start_time": "2022-04-30T13:14:45.056Z"
   },
   {
    "duration": 23,
    "start_time": "2022-04-30T13:14:45.067Z"
   },
   {
    "duration": 17,
    "start_time": "2022-04-30T13:14:45.092Z"
   },
   {
    "duration": 10,
    "start_time": "2022-04-30T13:14:45.110Z"
   },
   {
    "duration": 6,
    "start_time": "2022-04-30T13:14:45.122Z"
   },
   {
    "duration": 5,
    "start_time": "2022-04-30T13:14:45.129Z"
   },
   {
    "duration": 8,
    "start_time": "2022-04-30T13:14:45.135Z"
   },
   {
    "duration": 8,
    "start_time": "2022-04-30T13:14:45.145Z"
   },
   {
    "duration": 10,
    "start_time": "2022-04-30T13:14:45.155Z"
   },
   {
    "duration": 99,
    "start_time": "2022-04-30T13:14:45.167Z"
   },
   {
    "duration": 5,
    "start_time": "2022-04-30T13:14:45.270Z"
   },
   {
    "duration": 300,
    "start_time": "2022-04-30T13:14:45.276Z"
   },
   {
    "duration": 280,
    "start_time": "2022-04-30T13:14:45.577Z"
   },
   {
    "duration": 291,
    "start_time": "2022-04-30T13:14:45.859Z"
   },
   {
    "duration": 280,
    "start_time": "2022-04-30T13:14:46.152Z"
   },
   {
    "duration": 280,
    "start_time": "2022-04-30T13:14:46.433Z"
   },
   {
    "duration": 265,
    "start_time": "2022-04-30T13:14:46.715Z"
   },
   {
    "duration": 298,
    "start_time": "2022-04-30T13:14:46.981Z"
   },
   {
    "duration": 275,
    "start_time": "2022-04-30T13:14:47.281Z"
   },
   {
    "duration": 13,
    "start_time": "2022-04-30T13:14:47.557Z"
   },
   {
    "duration": 401,
    "start_time": "2022-04-30T13:14:47.572Z"
   },
   {
    "duration": 433,
    "start_time": "2022-04-30T13:14:47.974Z"
   },
   {
    "duration": 349,
    "start_time": "2022-04-30T13:14:48.409Z"
   },
   {
    "duration": 6,
    "start_time": "2022-04-30T13:14:48.760Z"
   },
   {
    "duration": 11,
    "start_time": "2022-04-30T13:14:48.767Z"
   },
   {
    "duration": 9,
    "start_time": "2022-04-30T13:14:48.780Z"
   },
   {
    "duration": 21,
    "start_time": "2022-04-30T13:14:48.790Z"
   },
   {
    "duration": 890,
    "start_time": "2022-06-13T14:55:46.017Z"
   },
   {
    "duration": 1720,
    "start_time": "2022-06-13T14:55:46.916Z"
   },
   {
    "duration": 15,
    "start_time": "2022-06-13T14:55:53.304Z"
   },
   {
    "duration": 12,
    "start_time": "2022-06-13T14:57:29.550Z"
   },
   {
    "duration": 79,
    "start_time": "2022-06-13T14:57:58.072Z"
   },
   {
    "duration": 556,
    "start_time": "2022-06-13T14:58:01.926Z"
   },
   {
    "duration": 7,
    "start_time": "2022-06-13T14:58:03.035Z"
   },
   {
    "duration": 2,
    "start_time": "2022-06-13T14:58:11.769Z"
   },
   {
    "duration": 550,
    "start_time": "2022-06-13T14:58:12.572Z"
   },
   {
    "duration": 8,
    "start_time": "2022-06-13T14:58:18.667Z"
   },
   {
    "duration": 28,
    "start_time": "2022-06-13T14:58:24.163Z"
   },
   {
    "duration": 22,
    "start_time": "2022-06-13T14:58:31.603Z"
   },
   {
    "duration": 30,
    "start_time": "2022-06-13T14:58:36.516Z"
   },
   {
    "duration": 42,
    "start_time": "2022-06-13T14:58:59.082Z"
   },
   {
    "duration": 31,
    "start_time": "2022-06-13T14:59:07.337Z"
   },
   {
    "duration": 30,
    "start_time": "2022-06-13T14:59:14.637Z"
   },
   {
    "duration": 33,
    "start_time": "2022-06-13T15:02:14.236Z"
   },
   {
    "duration": 66,
    "start_time": "2022-06-13T15:03:21.158Z"
   },
   {
    "duration": 924,
    "start_time": "2022-06-13T15:03:28.881Z"
   },
   {
    "duration": 1605,
    "start_time": "2022-06-13T15:03:29.807Z"
   },
   {
    "duration": 34,
    "start_time": "2022-06-13T15:03:35.806Z"
   },
   {
    "duration": 42,
    "start_time": "2022-06-13T15:07:59.902Z"
   },
   {
    "duration": 84,
    "start_time": "2022-06-13T15:08:26.225Z"
   },
   {
    "duration": 32,
    "start_time": "2022-06-13T15:08:38.347Z"
   },
   {
    "duration": 41,
    "start_time": "2022-06-13T15:08:39.118Z"
   },
   {
    "duration": 37,
    "start_time": "2022-06-13T15:09:09.085Z"
   },
   {
    "duration": 33,
    "start_time": "2022-06-13T15:09:12.250Z"
   },
   {
    "duration": 38,
    "start_time": "2022-06-13T15:09:22.309Z"
   },
   {
    "duration": 3,
    "start_time": "2022-06-13T15:09:31.982Z"
   },
   {
    "duration": 844,
    "start_time": "2022-06-13T15:09:32.280Z"
   },
   {
    "duration": 3,
    "start_time": "2022-06-13T15:09:33.126Z"
   },
   {
    "duration": 16,
    "start_time": "2022-06-13T15:09:33.130Z"
   },
   {
    "duration": 37,
    "start_time": "2022-06-13T15:09:33.148Z"
   },
   {
    "duration": 207,
    "start_time": "2022-06-13T15:09:33.187Z"
   },
   {
    "duration": 18,
    "start_time": "2022-06-13T15:09:33.395Z"
   },
   {
    "duration": 334,
    "start_time": "2022-06-13T15:09:34.476Z"
   },
   {
    "duration": 31,
    "start_time": "2022-06-13T15:09:36.237Z"
   },
   {
    "duration": 38,
    "start_time": "2022-06-13T15:09:47.027Z"
   },
   {
    "duration": 38,
    "start_time": "2022-06-13T15:09:47.691Z"
   },
   {
    "duration": 36,
    "start_time": "2022-06-13T15:09:52.682Z"
   },
   {
    "duration": 29,
    "start_time": "2022-06-13T15:09:54.732Z"
   },
   {
    "duration": 39,
    "start_time": "2022-06-13T15:09:55.028Z"
   },
   {
    "duration": 43,
    "start_time": "2022-06-13T15:11:24.000Z"
   },
   {
    "duration": 44,
    "start_time": "2022-06-13T15:11:26.903Z"
   },
   {
    "duration": 14,
    "start_time": "2022-06-13T15:11:30.705Z"
   },
   {
    "duration": 11,
    "start_time": "2022-06-13T15:15:33.913Z"
   },
   {
    "duration": 42,
    "start_time": "2022-06-13T15:16:00.272Z"
   },
   {
    "duration": 42,
    "start_time": "2022-06-13T15:16:19.734Z"
   },
   {
    "duration": 40,
    "start_time": "2022-06-13T15:16:22.192Z"
   },
   {
    "duration": 47,
    "start_time": "2022-06-13T15:16:22.976Z"
   },
   {
    "duration": 27,
    "start_time": "2022-06-13T15:16:24.807Z"
   },
   {
    "duration": 10,
    "start_time": "2022-06-13T15:19:13.304Z"
   },
   {
    "duration": 30,
    "start_time": "2022-06-13T15:19:32.048Z"
   },
   {
    "duration": 38,
    "start_time": "2022-06-13T15:19:32.765Z"
   },
   {
    "duration": 27,
    "start_time": "2022-06-13T15:19:34.056Z"
   },
   {
    "duration": 13,
    "start_time": "2022-06-13T15:19:48.939Z"
   },
   {
    "duration": 9,
    "start_time": "2022-06-13T15:20:17.682Z"
   },
   {
    "duration": 10,
    "start_time": "2022-06-13T15:20:23.369Z"
   },
   {
    "duration": 51,
    "start_time": "2022-06-13T15:20:33.136Z"
   },
   {
    "duration": 44,
    "start_time": "2022-06-13T15:20:38.556Z"
   },
   {
    "duration": 50,
    "start_time": "2022-06-13T15:20:47.505Z"
   },
   {
    "duration": 55,
    "start_time": "2022-06-13T15:20:59.566Z"
   },
   {
    "duration": 3,
    "start_time": "2022-06-13T15:21:38.874Z"
   },
   {
    "duration": 13,
    "start_time": "2022-06-13T15:21:42.496Z"
   },
   {
    "duration": 12,
    "start_time": "2022-06-13T15:22:37.141Z"
   },
   {
    "duration": 17,
    "start_time": "2022-06-13T15:22:44.986Z"
   },
   {
    "duration": 9,
    "start_time": "2022-06-13T15:22:54.482Z"
   },
   {
    "duration": 3,
    "start_time": "2022-06-13T15:22:58.773Z"
   },
   {
    "duration": 13,
    "start_time": "2022-06-13T15:23:03.388Z"
   },
   {
    "duration": 20,
    "start_time": "2022-06-13T15:23:25.644Z"
   },
   {
    "duration": 29,
    "start_time": "2022-06-13T15:23:30.290Z"
   },
   {
    "duration": 31,
    "start_time": "2022-06-13T15:23:47.507Z"
   },
   {
    "duration": 37,
    "start_time": "2022-06-13T15:23:47.936Z"
   },
   {
    "duration": 41,
    "start_time": "2022-06-13T15:23:48.439Z"
   },
   {
    "duration": 14,
    "start_time": "2022-06-13T15:23:49.315Z"
   },
   {
    "duration": 105,
    "start_time": "2022-06-13T15:23:50.457Z"
   },
   {
    "duration": 90,
    "start_time": "2022-06-13T15:25:23.682Z"
   },
   {
    "duration": 38,
    "start_time": "2022-06-13T15:25:39.386Z"
   },
   {
    "duration": 40,
    "start_time": "2022-06-13T15:25:48.257Z"
   },
   {
    "duration": 118,
    "start_time": "2022-06-13T15:26:12.788Z"
   },
   {
    "duration": 38,
    "start_time": "2022-06-13T15:26:26.695Z"
   },
   {
    "duration": 34,
    "start_time": "2022-06-13T15:26:30.175Z"
   },
   {
    "duration": 36,
    "start_time": "2022-06-13T15:26:30.516Z"
   },
   {
    "duration": 40,
    "start_time": "2022-06-13T15:26:31.186Z"
   },
   {
    "duration": 98,
    "start_time": "2022-06-13T15:26:31.782Z"
   },
   {
    "duration": 25,
    "start_time": "2022-06-13T15:26:41.138Z"
   },
   {
    "duration": 3,
    "start_time": "2022-06-13T15:33:35.816Z"
   },
   {
    "duration": 741,
    "start_time": "2022-06-13T15:33:36.338Z"
   },
   {
    "duration": 5,
    "start_time": "2022-06-13T15:33:37.650Z"
   },
   {
    "duration": 12,
    "start_time": "2022-06-13T15:33:43.172Z"
   },
   {
    "duration": 34,
    "start_time": "2022-06-13T15:34:11.641Z"
   },
   {
    "duration": 24,
    "start_time": "2022-06-13T15:34:29.780Z"
   },
   {
    "duration": 36,
    "start_time": "2022-06-13T15:34:32.091Z"
   },
   {
    "duration": 31,
    "start_time": "2022-06-13T15:35:11.211Z"
   }
  ],
  "kernelspec": {
   "display_name": "Python 3 (ipykernel)",
   "language": "python",
   "name": "python3"
  },
  "language_info": {
   "codemirror_mode": {
    "name": "ipython",
    "version": 3
   },
   "file_extension": ".py",
   "mimetype": "text/x-python",
   "name": "python",
   "nbconvert_exporter": "python",
   "pygments_lexer": "ipython3",
   "version": "3.9.5"
  },
  "toc": {
   "base_numbering": 1,
   "nav_menu": {},
   "number_sections": true,
   "sideBar": true,
   "skip_h1_title": true,
   "title_cell": "Table of Contents",
   "title_sidebar": "Contents",
   "toc_cell": false,
   "toc_position": {},
   "toc_section_display": true,
   "toc_window_display": false
  }
 },
 "nbformat": 4,
 "nbformat_minor": 2
}
